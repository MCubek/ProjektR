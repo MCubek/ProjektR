{
 "cells": [
  {
   "cell_type": "code",
   "execution_count": 54,
   "metadata": {
    "collapsed": true
   },
   "outputs": [
    {
     "data": {
      "text/plain": "   movieId                               title  \\\n0        1                    Toy Story (1995)   \n1        2                      Jumanji (1995)   \n2        3             Grumpier Old Men (1995)   \n3        4            Waiting to Exhale (1995)   \n4        5  Father of the Bride Part II (1995)   \n\n                                        genres  \n0  Adventure|Animation|Children|Comedy|Fantasy  \n1                   Adventure|Children|Fantasy  \n2                               Comedy|Romance  \n3                         Comedy|Drama|Romance  \n4                                       Comedy  ",
      "text/html": "<div>\n<style scoped>\n    .dataframe tbody tr th:only-of-type {\n        vertical-align: middle;\n    }\n\n    .dataframe tbody tr th {\n        vertical-align: top;\n    }\n\n    .dataframe thead th {\n        text-align: right;\n    }\n</style>\n<table border=\"1\" class=\"dataframe\">\n  <thead>\n    <tr style=\"text-align: right;\">\n      <th></th>\n      <th>movieId</th>\n      <th>title</th>\n      <th>genres</th>\n    </tr>\n  </thead>\n  <tbody>\n    <tr>\n      <th>0</th>\n      <td>1</td>\n      <td>Toy Story (1995)</td>\n      <td>Adventure|Animation|Children|Comedy|Fantasy</td>\n    </tr>\n    <tr>\n      <th>1</th>\n      <td>2</td>\n      <td>Jumanji (1995)</td>\n      <td>Adventure|Children|Fantasy</td>\n    </tr>\n    <tr>\n      <th>2</th>\n      <td>3</td>\n      <td>Grumpier Old Men (1995)</td>\n      <td>Comedy|Romance</td>\n    </tr>\n    <tr>\n      <th>3</th>\n      <td>4</td>\n      <td>Waiting to Exhale (1995)</td>\n      <td>Comedy|Drama|Romance</td>\n    </tr>\n    <tr>\n      <th>4</th>\n      <td>5</td>\n      <td>Father of the Bride Part II (1995)</td>\n      <td>Comedy</td>\n    </tr>\n  </tbody>\n</table>\n</div>"
     },
     "execution_count": 54,
     "metadata": {},
     "output_type": "execute_result"
    },
    {
     "data": {
      "text/plain": "   userId  movieId  rating\n0       1        1     4.0\n1       1        3     4.0\n2       1        6     4.0\n3       1       47     5.0\n4       1       50     5.0",
      "text/html": "<div>\n<style scoped>\n    .dataframe tbody tr th:only-of-type {\n        vertical-align: middle;\n    }\n\n    .dataframe tbody tr th {\n        vertical-align: top;\n    }\n\n    .dataframe thead th {\n        text-align: right;\n    }\n</style>\n<table border=\"1\" class=\"dataframe\">\n  <thead>\n    <tr style=\"text-align: right;\">\n      <th></th>\n      <th>userId</th>\n      <th>movieId</th>\n      <th>rating</th>\n    </tr>\n  </thead>\n  <tbody>\n    <tr>\n      <th>0</th>\n      <td>1</td>\n      <td>1</td>\n      <td>4.0</td>\n    </tr>\n    <tr>\n      <th>1</th>\n      <td>1</td>\n      <td>3</td>\n      <td>4.0</td>\n    </tr>\n    <tr>\n      <th>2</th>\n      <td>1</td>\n      <td>6</td>\n      <td>4.0</td>\n    </tr>\n    <tr>\n      <th>3</th>\n      <td>1</td>\n      <td>47</td>\n      <td>5.0</td>\n    </tr>\n    <tr>\n      <th>4</th>\n      <td>1</td>\n      <td>50</td>\n      <td>5.0</td>\n    </tr>\n  </tbody>\n</table>\n</div>"
     },
     "execution_count": 54,
     "metadata": {},
     "output_type": "execute_result"
    },
    {
     "data": {
      "text/plain": "   movieId              tag\n0    60756            funny\n1    60756  Highly quotable\n2    60756     will ferrell\n3    89774     Boxing story\n4    89774              MMA",
      "text/html": "<div>\n<style scoped>\n    .dataframe tbody tr th:only-of-type {\n        vertical-align: middle;\n    }\n\n    .dataframe tbody tr th {\n        vertical-align: top;\n    }\n\n    .dataframe thead th {\n        text-align: right;\n    }\n</style>\n<table border=\"1\" class=\"dataframe\">\n  <thead>\n    <tr style=\"text-align: right;\">\n      <th></th>\n      <th>movieId</th>\n      <th>tag</th>\n    </tr>\n  </thead>\n  <tbody>\n    <tr>\n      <th>0</th>\n      <td>60756</td>\n      <td>funny</td>\n    </tr>\n    <tr>\n      <th>1</th>\n      <td>60756</td>\n      <td>Highly quotable</td>\n    </tr>\n    <tr>\n      <th>2</th>\n      <td>60756</td>\n      <td>will ferrell</td>\n    </tr>\n    <tr>\n      <th>3</th>\n      <td>89774</td>\n      <td>Boxing story</td>\n    </tr>\n    <tr>\n      <th>4</th>\n      <td>89774</td>\n      <td>MMA</td>\n    </tr>\n  </tbody>\n</table>\n</div>"
     },
     "execution_count": 54,
     "metadata": {},
     "output_type": "execute_result"
    }
   ],
   "source": [
    "import pandas as pd\n",
    "\n",
    "# Više izlaznih linija\n",
    "from IPython.core.interactiveshell import InteractiveShell\n",
    "from typing import List\n",
    "InteractiveShell.ast_node_interactivity = \"all\"\n",
    "\n",
    "movies = pd.read_csv('ml-latest-small/movies.csv')\n",
    "movies.head()\n",
    "\n",
    "ratings = pd.read_csv('ml-latest-small/ratings.csv',usecols=['userId','movieId','rating'])\n",
    "ratings.head()\n",
    "\n",
    "tags = pd.read_csv('ml-latest-small/tags.csv',usecols=['movieId','tag'])\n",
    "tags.head()"
   ]
  },
  {
   "cell_type": "markdown",
   "source": [
    "Računanje srednje ocjene i broja ocjena za svaki film i njihov upis u dataset."
   ],
   "metadata": {
    "collapsed": false,
    "pycharm": {
     "name": "#%% md\n"
    }
   }
  },
  {
   "cell_type": "code",
   "execution_count": 55,
   "outputs": [
    {
     "data": {
      "text/plain": "   movieId                               title  \\\n0        1                    Toy Story (1995)   \n1        2                      Jumanji (1995)   \n2        3             Grumpier Old Men (1995)   \n3        4            Waiting to Exhale (1995)   \n4        5  Father of the Bride Part II (1995)   \n\n                                        genres  avgRating  ratingCount  \n0  Adventure|Animation|Children|Comedy|Fantasy   3.920930          215  \n1                   Adventure|Children|Fantasy   3.431818          110  \n2                               Comedy|Romance   3.259615           52  \n3                         Comedy|Drama|Romance   2.357143            7  \n4                                       Comedy   3.071429           49  ",
      "text/html": "<div>\n<style scoped>\n    .dataframe tbody tr th:only-of-type {\n        vertical-align: middle;\n    }\n\n    .dataframe tbody tr th {\n        vertical-align: top;\n    }\n\n    .dataframe thead th {\n        text-align: right;\n    }\n</style>\n<table border=\"1\" class=\"dataframe\">\n  <thead>\n    <tr style=\"text-align: right;\">\n      <th></th>\n      <th>movieId</th>\n      <th>title</th>\n      <th>genres</th>\n      <th>avgRating</th>\n      <th>ratingCount</th>\n    </tr>\n  </thead>\n  <tbody>\n    <tr>\n      <th>0</th>\n      <td>1</td>\n      <td>Toy Story (1995)</td>\n      <td>Adventure|Animation|Children|Comedy|Fantasy</td>\n      <td>3.920930</td>\n      <td>215</td>\n    </tr>\n    <tr>\n      <th>1</th>\n      <td>2</td>\n      <td>Jumanji (1995)</td>\n      <td>Adventure|Children|Fantasy</td>\n      <td>3.431818</td>\n      <td>110</td>\n    </tr>\n    <tr>\n      <th>2</th>\n      <td>3</td>\n      <td>Grumpier Old Men (1995)</td>\n      <td>Comedy|Romance</td>\n      <td>3.259615</td>\n      <td>52</td>\n    </tr>\n    <tr>\n      <th>3</th>\n      <td>4</td>\n      <td>Waiting to Exhale (1995)</td>\n      <td>Comedy|Drama|Romance</td>\n      <td>2.357143</td>\n      <td>7</td>\n    </tr>\n    <tr>\n      <th>4</th>\n      <td>5</td>\n      <td>Father of the Bride Part II (1995)</td>\n      <td>Comedy</td>\n      <td>3.071429</td>\n      <td>49</td>\n    </tr>\n  </tbody>\n</table>\n</div>"
     },
     "execution_count": 55,
     "metadata": {},
     "output_type": "execute_result"
    }
   ],
   "source": [
    "movie_rating_temp_df = pd.merge(ratings,movies,how='inner',on='movieId')[['movieId','rating']]\n",
    "\n",
    "avg_rating_df = movie_rating_temp_df.groupby('movieId', as_index=False).mean().rename(columns={'rating': 'avgRating'})\n",
    "\n",
    "movie_rating_count = movie_rating_temp_df.groupby('movieId', as_index=False).count().rename(columns={'rating': 'ratingCount'})\n",
    "\n",
    "movies = pd.merge(pd.merge(movies,avg_rating_df,how='inner',on='movieId'),movie_rating_count,how='inner',on='movieId')\n",
    "\n",
    "movies.head()"
   ],
   "metadata": {
    "collapsed": false,
    "pycharm": {
     "name": "#%%\n"
    }
   }
  },
  {
   "cell_type": "code",
   "execution_count": 56,
   "outputs": [
    {
     "name": "stdout",
     "output_type": "stream",
     "text": [
      "3.501556983616962\n",
      "27.0\n"
     ]
    }
   ],
   "source": [
    "mean_rating = ratings['rating'].mean()\n",
    "print(mean_rating)\n",
    "\n",
    "low_vote_number = movies['ratingCount'].quantile(0.90)\n",
    "print(low_vote_number)"
   ],
   "metadata": {
    "collapsed": false,
    "pycharm": {
     "name": "#%%\n"
    }
   }
  },
  {
   "cell_type": "markdown",
   "source": [
    "Računanje filmova koji su su u top10% po broju ocjena."
   ],
   "metadata": {
    "collapsed": false,
    "pycharm": {
     "name": "#%% md\n"
    }
   }
  },
  {
   "cell_type": "code",
   "execution_count": 57,
   "outputs": [
    {
     "data": {
      "text/plain": "(976, 5)"
     },
     "execution_count": 57,
     "metadata": {},
     "output_type": "execute_result"
    },
    {
     "data": {
      "text/plain": "(9724, 5)"
     },
     "execution_count": 57,
     "metadata": {},
     "output_type": "execute_result"
    }
   ],
   "source": [
    "q_movies = movies.copy().loc[movies['ratingCount']>=low_vote_number]\n",
    "q_movies.shape\n",
    "\n",
    "movies.shape"
   ],
   "metadata": {
    "collapsed": false,
    "pycharm": {
     "name": "#%%\n"
    }
   }
  },
  {
   "cell_type": "code",
   "execution_count": 58,
   "outputs": [],
   "source": [
    "def weighed_rating(x, m=low_vote_number, C=mean_rating):\n",
    "    v = x['ratingCount']\n",
    "    R = x['avgRating']\n",
    "\n",
    "    return (v/(v+m) * R) + (m/(m+v) * C)\n",
    "\n",
    "q_movies['score'] = q_movies.apply(weighed_rating,axis=1)"
   ],
   "metadata": {
    "collapsed": false,
    "pycharm": {
     "name": "#%%\n"
    }
   }
  },
  {
   "cell_type": "code",
   "execution_count": 59,
   "outputs": [
    {
     "data": {
      "text/plain": "                                                  title  avgRating  \\\n277                    Shawshank Redemption, The (1994)   4.429022   \n659                               Godfather, The (1972)   4.289062   \n2224                                  Fight Club (1999)   4.272936   \n224           Star Wars: Episode IV - A New Hope (1977)   4.231076   \n46                           Usual Suspects, The (1995)   4.237745   \n461                             Schindler's List (1993)   4.225000   \n257                                 Pulp Fiction (1994)   4.197068   \n897   Star Wars: Episode V - The Empire Strikes Back...   4.215640   \n1938                                 Matrix, The (1999)   4.192446   \n921                      Godfather: Part II, The (1974)   4.259690   \n6693                            Dark Knight, The (2008)   4.238255   \n899   Raiders of the Lost Ark (Indiana Jones and the...   4.207500   \n913                                   Goodfellas (1990)   4.250000   \n898                          Princess Bride, The (1987)   4.232394   \n314                                 Forrest Gump (1994)   4.164134   \n510                    Silence of the Lambs, The (1991)   4.161290   \n602   Dr. Strangelove or: How I Learned to Stop Worr...   4.268041   \n6298                               Departed, The (2006)   4.252336   \n1733                          American History X (1998)   4.217054   \n895              One Flew Over the Cuckoo's Nest (1975)   4.203008   \n\n      ratingCount     score  \n277           317  4.356227  \n659           192  4.191973  \n2224          218  4.187927  \n224           251  4.160223  \n46            204  4.151697  \n461           220  4.145919  \n257           307  4.140844  \n897           211  4.134630  \n1938          278  4.131285  \n921           129  4.128475  \n6693          149  4.125239  \n899           200  4.123533  \n913           126  4.117922  \n898           142  4.115633  \n314           329  4.113882  \n510           279  4.103079  \n602            97  4.101145  \n6298          107  4.101060  \n1733          129  4.093218  \n895           133  4.084638  ",
      "text/html": "<div>\n<style scoped>\n    .dataframe tbody tr th:only-of-type {\n        vertical-align: middle;\n    }\n\n    .dataframe tbody tr th {\n        vertical-align: top;\n    }\n\n    .dataframe thead th {\n        text-align: right;\n    }\n</style>\n<table border=\"1\" class=\"dataframe\">\n  <thead>\n    <tr style=\"text-align: right;\">\n      <th></th>\n      <th>title</th>\n      <th>avgRating</th>\n      <th>ratingCount</th>\n      <th>score</th>\n    </tr>\n  </thead>\n  <tbody>\n    <tr>\n      <th>277</th>\n      <td>Shawshank Redemption, The (1994)</td>\n      <td>4.429022</td>\n      <td>317</td>\n      <td>4.356227</td>\n    </tr>\n    <tr>\n      <th>659</th>\n      <td>Godfather, The (1972)</td>\n      <td>4.289062</td>\n      <td>192</td>\n      <td>4.191973</td>\n    </tr>\n    <tr>\n      <th>2224</th>\n      <td>Fight Club (1999)</td>\n      <td>4.272936</td>\n      <td>218</td>\n      <td>4.187927</td>\n    </tr>\n    <tr>\n      <th>224</th>\n      <td>Star Wars: Episode IV - A New Hope (1977)</td>\n      <td>4.231076</td>\n      <td>251</td>\n      <td>4.160223</td>\n    </tr>\n    <tr>\n      <th>46</th>\n      <td>Usual Suspects, The (1995)</td>\n      <td>4.237745</td>\n      <td>204</td>\n      <td>4.151697</td>\n    </tr>\n    <tr>\n      <th>461</th>\n      <td>Schindler's List (1993)</td>\n      <td>4.225000</td>\n      <td>220</td>\n      <td>4.145919</td>\n    </tr>\n    <tr>\n      <th>257</th>\n      <td>Pulp Fiction (1994)</td>\n      <td>4.197068</td>\n      <td>307</td>\n      <td>4.140844</td>\n    </tr>\n    <tr>\n      <th>897</th>\n      <td>Star Wars: Episode V - The Empire Strikes Back...</td>\n      <td>4.215640</td>\n      <td>211</td>\n      <td>4.134630</td>\n    </tr>\n    <tr>\n      <th>1938</th>\n      <td>Matrix, The (1999)</td>\n      <td>4.192446</td>\n      <td>278</td>\n      <td>4.131285</td>\n    </tr>\n    <tr>\n      <th>921</th>\n      <td>Godfather: Part II, The (1974)</td>\n      <td>4.259690</td>\n      <td>129</td>\n      <td>4.128475</td>\n    </tr>\n    <tr>\n      <th>6693</th>\n      <td>Dark Knight, The (2008)</td>\n      <td>4.238255</td>\n      <td>149</td>\n      <td>4.125239</td>\n    </tr>\n    <tr>\n      <th>899</th>\n      <td>Raiders of the Lost Ark (Indiana Jones and the...</td>\n      <td>4.207500</td>\n      <td>200</td>\n      <td>4.123533</td>\n    </tr>\n    <tr>\n      <th>913</th>\n      <td>Goodfellas (1990)</td>\n      <td>4.250000</td>\n      <td>126</td>\n      <td>4.117922</td>\n    </tr>\n    <tr>\n      <th>898</th>\n      <td>Princess Bride, The (1987)</td>\n      <td>4.232394</td>\n      <td>142</td>\n      <td>4.115633</td>\n    </tr>\n    <tr>\n      <th>314</th>\n      <td>Forrest Gump (1994)</td>\n      <td>4.164134</td>\n      <td>329</td>\n      <td>4.113882</td>\n    </tr>\n    <tr>\n      <th>510</th>\n      <td>Silence of the Lambs, The (1991)</td>\n      <td>4.161290</td>\n      <td>279</td>\n      <td>4.103079</td>\n    </tr>\n    <tr>\n      <th>602</th>\n      <td>Dr. Strangelove or: How I Learned to Stop Worr...</td>\n      <td>4.268041</td>\n      <td>97</td>\n      <td>4.101145</td>\n    </tr>\n    <tr>\n      <th>6298</th>\n      <td>Departed, The (2006)</td>\n      <td>4.252336</td>\n      <td>107</td>\n      <td>4.101060</td>\n    </tr>\n    <tr>\n      <th>1733</th>\n      <td>American History X (1998)</td>\n      <td>4.217054</td>\n      <td>129</td>\n      <td>4.093218</td>\n    </tr>\n    <tr>\n      <th>895</th>\n      <td>One Flew Over the Cuckoo's Nest (1975)</td>\n      <td>4.203008</td>\n      <td>133</td>\n      <td>4.084638</td>\n    </tr>\n  </tbody>\n</table>\n</div>"
     },
     "execution_count": 59,
     "metadata": {},
     "output_type": "execute_result"
    }
   ],
   "source": [
    "q_movies = q_movies.sort_values(by='score',ascending=False)\n",
    "\n",
    "q_movies[['title', 'avgRating', 'ratingCount', 'score']].head(20)"
   ],
   "metadata": {
    "collapsed": false,
    "pycharm": {
     "name": "#%%\n"
    }
   }
  },
  {
   "cell_type": "code",
   "execution_count": 60,
   "outputs": [],
   "source": [
    "tags['tag'] = tags['tag'].apply(lambda x: str(x).replace(\" \",\"\").lower())\n",
    "\n",
    "movies = pd.merge(tags.groupby(['movieId'], as_index=False)['tag'].apply(lambda x: \" \".join(x)), movies,how='inner',on='movieId')"
   ],
   "metadata": {
    "collapsed": false,
    "pycharm": {
     "name": "#%%\n"
    }
   }
  },
  {
   "cell_type": "code",
   "execution_count": 61,
   "outputs": [
    {
     "data": {
      "text/plain": "   movieId                                        tag  \\\n0        1                            pixar pixar fun   \n1        2  fantasy magicboardgame robinwilliams game   \n2        3                                  moldy old   \n3        5                           pregnancy remake   \n4        7                                     remake   \n\n                                title  \\\n0                    Toy Story (1995)   \n1                      Jumanji (1995)   \n2             Grumpier Old Men (1995)   \n3  Father of the Bride Part II (1995)   \n4                      Sabrina (1995)   \n\n                                        genres  avgRating  ratingCount  \\\n0  Adventure|Animation|Children|Comedy|Fantasy   3.920930          215   \n1                   Adventure|Children|Fantasy   3.431818          110   \n2                               Comedy|Romance   3.259615           52   \n3                                       Comedy   3.071429           49   \n4                               Comedy|Romance   3.185185           54   \n\n                                                soup  \n0  fun pixar adventure animation children comedy ...  \n1  game fantasy magicboardgame robinwilliams adve...  \n2                           old moldy comedy romance  \n3                            pregnancy remake comedy  \n4                              remake comedy romance  ",
      "text/html": "<div>\n<style scoped>\n    .dataframe tbody tr th:only-of-type {\n        vertical-align: middle;\n    }\n\n    .dataframe tbody tr th {\n        vertical-align: top;\n    }\n\n    .dataframe thead th {\n        text-align: right;\n    }\n</style>\n<table border=\"1\" class=\"dataframe\">\n  <thead>\n    <tr style=\"text-align: right;\">\n      <th></th>\n      <th>movieId</th>\n      <th>tag</th>\n      <th>title</th>\n      <th>genres</th>\n      <th>avgRating</th>\n      <th>ratingCount</th>\n      <th>soup</th>\n    </tr>\n  </thead>\n  <tbody>\n    <tr>\n      <th>0</th>\n      <td>1</td>\n      <td>pixar pixar fun</td>\n      <td>Toy Story (1995)</td>\n      <td>Adventure|Animation|Children|Comedy|Fantasy</td>\n      <td>3.920930</td>\n      <td>215</td>\n      <td>fun pixar adventure animation children comedy ...</td>\n    </tr>\n    <tr>\n      <th>1</th>\n      <td>2</td>\n      <td>fantasy magicboardgame robinwilliams game</td>\n      <td>Jumanji (1995)</td>\n      <td>Adventure|Children|Fantasy</td>\n      <td>3.431818</td>\n      <td>110</td>\n      <td>game fantasy magicboardgame robinwilliams adve...</td>\n    </tr>\n    <tr>\n      <th>2</th>\n      <td>3</td>\n      <td>moldy old</td>\n      <td>Grumpier Old Men (1995)</td>\n      <td>Comedy|Romance</td>\n      <td>3.259615</td>\n      <td>52</td>\n      <td>old moldy comedy romance</td>\n    </tr>\n    <tr>\n      <th>3</th>\n      <td>5</td>\n      <td>pregnancy remake</td>\n      <td>Father of the Bride Part II (1995)</td>\n      <td>Comedy</td>\n      <td>3.071429</td>\n      <td>49</td>\n      <td>pregnancy remake comedy</td>\n    </tr>\n    <tr>\n      <th>4</th>\n      <td>7</td>\n      <td>remake</td>\n      <td>Sabrina (1995)</td>\n      <td>Comedy|Romance</td>\n      <td>3.185185</td>\n      <td>54</td>\n      <td>remake comedy romance</td>\n    </tr>\n  </tbody>\n</table>\n</div>"
     },
     "execution_count": 61,
     "metadata": {},
     "output_type": "execute_result"
    }
   ],
   "source": [
    "def createSoup(x):\n",
    "    infoSet = set(x['tag'].split(' '))\n",
    "\n",
    "    data = ' '.join(infoSet)\n",
    "\n",
    "    for genre in x['genres'].split('|'):\n",
    "        data+=(' ' + genre.lower())\n",
    "    return data\n",
    "\n",
    "movies['soup'] = movies.apply(createSoup,axis=1)\n",
    "\n",
    "movies.head()"
   ],
   "metadata": {
    "collapsed": false,
    "pycharm": {
     "name": "#%%\n"
    }
   }
  },
  {
   "cell_type": "code",
   "execution_count": 62,
   "outputs": [
    {
     "data": {
      "text/plain": "(1554, 1498)"
     },
     "execution_count": 62,
     "metadata": {},
     "output_type": "execute_result"
    },
    {
     "data": {
      "text/plain": "['pageant',\n 'painter',\n 'palahnuik',\n 'palmed',\n 'paranoia',\n 'paranoid',\n 'parenthood',\n 'paris',\n 'parody',\n 'parrots',\n 'passion',\n 'paulgiamatti',\n 'paulrudd',\n 'peacecorp',\n 'pearlsbuck',\n 'peeweeherman',\n 'personalsads',\n 'petawilson',\n 'peterpan',\n 'philipk']"
     },
     "execution_count": 62,
     "metadata": {},
     "output_type": "execute_result"
    }
   ],
   "source": [
    "from sklearn.feature_extraction.text import TfidfVectorizer\n",
    "\n",
    "tfidf = TfidfVectorizer(stop_words='english')\n",
    "\n",
    "movies['soup'] = movies['soup'].fillna('')\n",
    "\n",
    "tfidf_matrix = tfidf.fit_transform(movies['soup'])\n",
    "\n",
    "tfidf_matrix.shape\n",
    "\n",
    "tfidf.get_feature_names()[1000:1020]"
   ],
   "metadata": {
    "collapsed": false,
    "pycharm": {
     "name": "#%%\n"
    }
   }
  },
  {
   "cell_type": "code",
   "execution_count": 63,
   "outputs": [
    {
     "data": {
      "text/plain": "(1554, 1554)"
     },
     "execution_count": 63,
     "metadata": {},
     "output_type": "execute_result"
    },
    {
     "data": {
      "text/plain": "array([0.26144231, 1.        , 0.        , ..., 0.        , 0.11686964,\n       0.        ])"
     },
     "execution_count": 63,
     "metadata": {},
     "output_type": "execute_result"
    }
   ],
   "source": [
    "from sklearn.metrics.pairwise import linear_kernel\n",
    "\n",
    "cosin_sin = linear_kernel(tfidf_matrix,tfidf_matrix)\n",
    "\n",
    "cosin_sin.shape\n",
    "\n",
    "cosin_sin[1]"
   ],
   "metadata": {
    "collapsed": false,
    "pycharm": {
     "name": "#%%\n"
    }
   }
  },
  {
   "cell_type": "code",
   "execution_count": 64,
   "outputs": [
    {
     "data": {
      "text/plain": "title\nToy Story (1995)                      0\nJumanji (1995)                        1\nGrumpier Old Men (1995)               2\nFather of the Bride Part II (1995)    3\nSabrina (1995)                        4\nAmerican President, The (1995)        5\nNixon (1995)                          6\nCasino (1995)                         7\nSense and Sensibility (1995)          8\nGet Shorty (1995)                     9\ndtype: int64"
     },
     "execution_count": 64,
     "metadata": {},
     "output_type": "execute_result"
    }
   ],
   "source": [
    "indices = pd.Series(movies.index, index = movies['title']).drop_duplicates()\n",
    "\n",
    "indices[:10]"
   ],
   "metadata": {
    "collapsed": false,
    "pycharm": {
     "name": "#%%\n"
    }
   }
  },
  {
   "cell_type": "code",
   "execution_count": 65,
   "outputs": [
    {
     "data": {
      "text/plain": "543                                  Bug's Life, A (1998)\n1268           Cat Returns, The (Neko no ongaeshi) (2002)\n664                                    Toy Story 2 (1999)\n1427                                        Sintel (2010)\n1506                     Guardians of the Galaxy 2 (2017)\n1261    Kiki's Delivery Service (Majo no takkyûbin) (1...\n1263    Porco Rosso (Crimson Pig) (Kurenai no buta) (1...\n248                            Alice in Wonderland (1951)\n1027              Sinbad: Legend of the Seven Seas (2003)\n641                       Who Framed Roger Rabbit? (1988)\nName: title, dtype: object"
     },
     "execution_count": 65,
     "metadata": {},
     "output_type": "execute_result"
    }
   ],
   "source": [
    "def get_recommendations(title, cosine_sim=cosin_sin):\n",
    "\n",
    "    idx = indices[title]\n",
    "\n",
    "    sim_scores = list(enumerate(cosine_sim[idx]))\n",
    "\n",
    "    sim_scores = sorted(sim_scores, key = lambda x: x[1], reverse=True)\n",
    "\n",
    "    sim_scores = sim_scores[1:11]\n",
    "\n",
    "    movie_indices = [i[0] for i in sim_scores]\n",
    "\n",
    "    return movies['title'].iloc[movie_indices]\n",
    "\n",
    "get_recommendations('Toy Story (1995)')"
   ],
   "metadata": {
    "collapsed": false,
    "pycharm": {
     "name": "#%%\n"
    }
   }
  }
 ],
 "metadata": {
  "kernelspec": {
   "name": "projektr",
   "language": "python",
   "display_name": "Python (ProjektR)"
  },
  "language_info": {
   "codemirror_mode": {
    "name": "ipython",
    "version": 2
   },
   "file_extension": ".py",
   "mimetype": "text/x-python",
   "name": "python",
   "nbconvert_exporter": "python",
   "pygments_lexer": "ipython2",
   "version": "2.7.6"
  }
 },
 "nbformat": 4,
 "nbformat_minor": 0
}