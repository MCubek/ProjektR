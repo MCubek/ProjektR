{
 "cells": [
  {
   "cell_type": "markdown",
   "metadata": {
    "collapsed": true,
    "pycharm": {
     "name": "#%% md\n"
    }
   },
   "source": [
    "## Preporuke filmova pomoću liste najpopularnijih i content-based algoritma preporuke\n",
    "\n",
    "Preporuka filmova pomoću liste najpopularnijih svim korisnicima preporuča iste filmove poredane po izračunatom ratingu\n",
    "**IMDb-formule**\n",
    "\n",
    "\\begin{equation}\n",
    "\\text TežinskiRating (\\bf WR) = \\left({{\\bf v} \\over {\\bf v} + {\\bf m}} \\cdot R\\right) + \\left({{\\bf m} \\over {\\bf v} + {\\bf m}} \\cdot C\\right)\n",
    "\\end{equation}\n",
    "\n",
    "gdje je:\n",
    "v = broj ocjena filma ,\n",
    "m = minimalni broj ocjena da bi se prikazao u listi (*izračunat kao 90% kvantil*),\n",
    "R = prosjecna ocjena filma,\n",
    "C = prosječna ocjena svih filmova.\n",
    "\n",
    "Content based algoritam pomoću sličnosti između filmova traži filmove s sličnim atributima i te preporuča korisniku.\n",
    "\n",
    "Atributi koje ovdje koristimo su žanrovi iz movies.csv i svi tagovi koje su korisnici upisali u tags.csv za film.\n",
    "Što je više atributa dostupno za svaki film ovaj će algoritam bolje raditi i pravilnije preproručavati filmove.\n",
    "\n",
    "Kako bi odredili težinu (_važnost_) atributa koristimo **TF-IDF** score (*term frequency-inverted document frequency score*).\n",
    "\n",
    "\\begin{equation}\n",
    "\\text tfidf_{i,j} = tf_{i,j} \\cdot \\log (\\frac{N}{df_i})\n",
    "\\end{equation}\n",
    "\n",
    "where:\n",
    "Kada smo izračunali TF-IDF gradimo **Vector Space Model** uz **Cosine similarity**.\n",
    "\n",
    "Rezultat nam je kvadratna matrica veličine broja filmova gdje na svakom sjecištu leži ocjena njihove sličnosti."
   ]
  },
  {
   "cell_type": "code",
   "execution_count": 14,
   "outputs": [
    {
     "data": {
      "text/plain": "   movieId                               title  \\\n0        1                    Toy Story (1995)   \n1        2                      Jumanji (1995)   \n2        3             Grumpier Old Men (1995)   \n3        4            Waiting to Exhale (1995)   \n4        5  Father of the Bride Part II (1995)   \n\n                                        genres  \n0  Adventure|Animation|Children|Comedy|Fantasy  \n1                   Adventure|Children|Fantasy  \n2                               Comedy|Romance  \n3                         Comedy|Drama|Romance  \n4                                       Comedy  ",
      "text/html": "<div>\n<style scoped>\n    .dataframe tbody tr th:only-of-type {\n        vertical-align: middle;\n    }\n\n    .dataframe tbody tr th {\n        vertical-align: top;\n    }\n\n    .dataframe thead th {\n        text-align: right;\n    }\n</style>\n<table border=\"1\" class=\"dataframe\">\n  <thead>\n    <tr style=\"text-align: right;\">\n      <th></th>\n      <th>movieId</th>\n      <th>title</th>\n      <th>genres</th>\n    </tr>\n  </thead>\n  <tbody>\n    <tr>\n      <th>0</th>\n      <td>1</td>\n      <td>Toy Story (1995)</td>\n      <td>Adventure|Animation|Children|Comedy|Fantasy</td>\n    </tr>\n    <tr>\n      <th>1</th>\n      <td>2</td>\n      <td>Jumanji (1995)</td>\n      <td>Adventure|Children|Fantasy</td>\n    </tr>\n    <tr>\n      <th>2</th>\n      <td>3</td>\n      <td>Grumpier Old Men (1995)</td>\n      <td>Comedy|Romance</td>\n    </tr>\n    <tr>\n      <th>3</th>\n      <td>4</td>\n      <td>Waiting to Exhale (1995)</td>\n      <td>Comedy|Drama|Romance</td>\n    </tr>\n    <tr>\n      <th>4</th>\n      <td>5</td>\n      <td>Father of the Bride Part II (1995)</td>\n      <td>Comedy</td>\n    </tr>\n  </tbody>\n</table>\n</div>"
     },
     "execution_count": 14,
     "metadata": {},
     "output_type": "execute_result"
    },
    {
     "data": {
      "text/plain": "   userId  movieId  rating\n0       1      307     3.5\n1       1      481     3.5\n2       1     1091     1.5\n3       1     1257     4.5\n4       1     1449     4.5",
      "text/html": "<div>\n<style scoped>\n    .dataframe tbody tr th:only-of-type {\n        vertical-align: middle;\n    }\n\n    .dataframe tbody tr th {\n        vertical-align: top;\n    }\n\n    .dataframe thead th {\n        text-align: right;\n    }\n</style>\n<table border=\"1\" class=\"dataframe\">\n  <thead>\n    <tr style=\"text-align: right;\">\n      <th></th>\n      <th>userId</th>\n      <th>movieId</th>\n      <th>rating</th>\n    </tr>\n  </thead>\n  <tbody>\n    <tr>\n      <th>0</th>\n      <td>1</td>\n      <td>307</td>\n      <td>3.5</td>\n    </tr>\n    <tr>\n      <th>1</th>\n      <td>1</td>\n      <td>481</td>\n      <td>3.5</td>\n    </tr>\n    <tr>\n      <th>2</th>\n      <td>1</td>\n      <td>1091</td>\n      <td>1.5</td>\n    </tr>\n    <tr>\n      <th>3</th>\n      <td>1</td>\n      <td>1257</td>\n      <td>4.5</td>\n    </tr>\n    <tr>\n      <th>4</th>\n      <td>1</td>\n      <td>1449</td>\n      <td>4.5</td>\n    </tr>\n  </tbody>\n</table>\n</div>"
     },
     "execution_count": 14,
     "metadata": {},
     "output_type": "execute_result"
    },
    {
     "data": {
      "text/plain": "   movieId           tag\n0      110          epic\n1      110      Medieval\n2      260        sci-fi\n3      260  space action\n4      318  imdb top 250",
      "text/html": "<div>\n<style scoped>\n    .dataframe tbody tr th:only-of-type {\n        vertical-align: middle;\n    }\n\n    .dataframe tbody tr th {\n        vertical-align: top;\n    }\n\n    .dataframe thead th {\n        text-align: right;\n    }\n</style>\n<table border=\"1\" class=\"dataframe\">\n  <thead>\n    <tr style=\"text-align: right;\">\n      <th></th>\n      <th>movieId</th>\n      <th>tag</th>\n    </tr>\n  </thead>\n  <tbody>\n    <tr>\n      <th>0</th>\n      <td>110</td>\n      <td>epic</td>\n    </tr>\n    <tr>\n      <th>1</th>\n      <td>110</td>\n      <td>Medieval</td>\n    </tr>\n    <tr>\n      <th>2</th>\n      <td>260</td>\n      <td>sci-fi</td>\n    </tr>\n    <tr>\n      <th>3</th>\n      <td>260</td>\n      <td>space action</td>\n    </tr>\n    <tr>\n      <th>4</th>\n      <td>318</td>\n      <td>imdb top 250</td>\n    </tr>\n  </tbody>\n</table>\n</div>"
     },
     "execution_count": 14,
     "metadata": {},
     "output_type": "execute_result"
    }
   ],
   "source": [
    "import pandas as pd\n",
    "\n",
    "# Više izlaznih linija\n",
    "from IPython.core.interactiveshell import InteractiveShell\n",
    "from typing import List\n",
    "InteractiveShell.ast_node_interactivity = \"all\"\n",
    "\n",
    "movies = pd.read_csv('ml-latest/movies.csv')\n",
    "movies.head()\n",
    "\n",
    "ratings = pd.read_csv('ml-latest/ratings.csv',usecols=['userId','movieId','rating'])\n",
    "ratings.head()\n",
    "\n",
    "tags = pd.read_csv('ml-latest/tags.csv',usecols=['movieId','tag'])\n",
    "tags.head()"
   ],
   "metadata": {
    "collapsed": false,
    "pycharm": {
     "name": "#%%\n"
    }
   }
  },
  {
   "cell_type": "markdown",
   "source": [
    "## Najpopularniji preporučavanje\n",
    "\n",
    "Izračun srednje ocjene filma iz svih njegovih ocjena i zbrajanje koliko je puta ocjenjen.\n",
    "Ta dva podataka natrag upisujemo u dataset filma."
   ],
   "metadata": {
    "collapsed": false,
    "pycharm": {
     "name": "#%% md\n"
    }
   }
  },
  {
   "cell_type": "code",
   "execution_count": 15,
   "outputs": [
    {
     "data": {
      "text/plain": "   movieId                               title  \\\n0        1                    Toy Story (1995)   \n1        2                      Jumanji (1995)   \n2        3             Grumpier Old Men (1995)   \n3        4            Waiting to Exhale (1995)   \n4        5  Father of the Bride Part II (1995)   \n\n                                        genres  avgRating  ratingCount  \n0  Adventure|Animation|Children|Comedy|Fantasy   3.886649        68469  \n1                   Adventure|Children|Fantasy   3.246583        27143  \n2                               Comedy|Romance   3.173981        15585  \n3                         Comedy|Drama|Romance   2.874540         2989  \n4                                       Comedy   3.077291        15474  ",
      "text/html": "<div>\n<style scoped>\n    .dataframe tbody tr th:only-of-type {\n        vertical-align: middle;\n    }\n\n    .dataframe tbody tr th {\n        vertical-align: top;\n    }\n\n    .dataframe thead th {\n        text-align: right;\n    }\n</style>\n<table border=\"1\" class=\"dataframe\">\n  <thead>\n    <tr style=\"text-align: right;\">\n      <th></th>\n      <th>movieId</th>\n      <th>title</th>\n      <th>genres</th>\n      <th>avgRating</th>\n      <th>ratingCount</th>\n    </tr>\n  </thead>\n  <tbody>\n    <tr>\n      <th>0</th>\n      <td>1</td>\n      <td>Toy Story (1995)</td>\n      <td>Adventure|Animation|Children|Comedy|Fantasy</td>\n      <td>3.886649</td>\n      <td>68469</td>\n    </tr>\n    <tr>\n      <th>1</th>\n      <td>2</td>\n      <td>Jumanji (1995)</td>\n      <td>Adventure|Children|Fantasy</td>\n      <td>3.246583</td>\n      <td>27143</td>\n    </tr>\n    <tr>\n      <th>2</th>\n      <td>3</td>\n      <td>Grumpier Old Men (1995)</td>\n      <td>Comedy|Romance</td>\n      <td>3.173981</td>\n      <td>15585</td>\n    </tr>\n    <tr>\n      <th>3</th>\n      <td>4</td>\n      <td>Waiting to Exhale (1995)</td>\n      <td>Comedy|Drama|Romance</td>\n      <td>2.874540</td>\n      <td>2989</td>\n    </tr>\n    <tr>\n      <th>4</th>\n      <td>5</td>\n      <td>Father of the Bride Part II (1995)</td>\n      <td>Comedy</td>\n      <td>3.077291</td>\n      <td>15474</td>\n    </tr>\n  </tbody>\n</table>\n</div>"
     },
     "execution_count": 15,
     "metadata": {},
     "output_type": "execute_result"
    }
   ],
   "source": [
    "movie_rating_temp_df = pd.merge(ratings,movies,how='inner',on='movieId')[['movieId','rating']]\n",
    "\n",
    "avg_rating_df = movie_rating_temp_df.groupby('movieId', as_index=False).mean().rename(columns={'rating': 'avgRating'})\n",
    "\n",
    "movie_rating_count = movie_rating_temp_df.groupby('movieId', as_index=False).count().rename(columns={'rating': 'ratingCount'})\n",
    "\n",
    "movies = pd.merge(pd.merge(movies,avg_rating_df,how='inner',on='movieId'),movie_rating_count,how='inner',on='movieId')\n",
    "\n",
    "movies.head()"
   ],
   "metadata": {
    "collapsed": false,
    "pycharm": {
     "name": "#%%\n"
    }
   }
  },
  {
   "cell_type": "markdown",
   "source": [
    "Računanje srednje ocjene svih filmova i računanje granice 90% kvantila kao donje granice top filmova."
   ],
   "metadata": {
    "collapsed": false,
    "pycharm": {
     "name": "#%% md\n"
    }
   }
  },
  {
   "cell_type": "code",
   "execution_count": 16,
   "outputs": [
    {
     "name": "stdout",
     "output_type": "stream",
     "text": [
      "3.5304452124932677\n",
      "531.0\n"
     ]
    }
   ],
   "source": [
    "mean_rating = ratings['rating'].mean()\n",
    "print(mean_rating)\n",
    "\n",
    "low_vote_number = movies['ratingCount'].quantile(0.90)\n",
    "print(low_vote_number)"
   ],
   "metadata": {
    "collapsed": false,
    "pycharm": {
     "name": "#%%\n"
    }
   }
  },
  {
   "cell_type": "markdown",
   "source": [
    "Filtiriraje filmova koji su u top 10% po broju ocjena i njihovo pohranjivanje u novi dataset kvalificiranih filmova."
   ],
   "metadata": {
    "collapsed": false,
    "pycharm": {
     "name": "#%% md\n"
    }
   }
  },
  {
   "cell_type": "code",
   "execution_count": 17,
   "outputs": [
    {
     "data": {
      "text/plain": "(5392, 5)"
     },
     "execution_count": 17,
     "metadata": {},
     "output_type": "execute_result"
    },
    {
     "data": {
      "text/plain": "(53889, 5)"
     },
     "execution_count": 17,
     "metadata": {},
     "output_type": "execute_result"
    }
   ],
   "source": [
    "q_movies = movies.copy().loc[movies['ratingCount']>=low_vote_number]\n",
    "q_movies.shape\n",
    "\n",
    "movies.shape"
   ],
   "metadata": {
    "collapsed": false,
    "pycharm": {
     "name": "#%%\n"
    }
   }
  },
  {
   "cell_type": "markdown",
   "source": [
    "Fukncija za računanje težinskog rating pomoću **IMDb-formule**\n",
    "Upis u dataset kvalificiranih filmova njihov tezinski rating."
   ],
   "metadata": {
    "collapsed": false
   }
  },
  {
   "cell_type": "code",
   "execution_count": 18,
   "outputs": [],
   "source": [
    "def weighed_rating(x, m=low_vote_number, C=mean_rating):\n",
    "    v = x['ratingCount']\n",
    "    R = x['avgRating']\n",
    "\n",
    "    return (v/(v+m) * R) + (m/(m+v) * C)\n",
    "\n",
    "q_movies['score'] = q_movies.apply(weighed_rating,axis=1)"
   ],
   "metadata": {
    "collapsed": false,
    "pycharm": {
     "name": "#%%\n"
    }
   }
  },
  {
   "cell_type": "markdown",
   "source": [
    "Sortiranje filmova po izračunatom ratingu i ispis top 20 i najgorih 10."
   ],
   "metadata": {
    "collapsed": false
   }
  },
  {
   "cell_type": "code",
   "execution_count": 19,
   "outputs": [
    {
     "data": {
      "text/plain": "                                                   title  avgRating  \\\n315                     Shawshank Redemption, The (1994)   4.424188   \n843                                Godfather, The (1972)   4.332893   \n49                            Usual Suspects, The (1995)   4.291959   \n1195                      Godfather: Part II, The (1974)   4.263035   \n523                              Schindler's List (1993)   4.257502   \n1936         Seven Samurai (Shichinin no samurai) (1954)   4.254116   \n2874                                   Fight Club (1999)   4.230663   \n1178                                 12 Angry Men (1957)   4.237075   \n887                                   Rear Window (1954)   4.230799   \n1169              One Flew Over the Cuckoo's Nest (1975)   4.222920   \n40073                                Planet Earth (2006)   4.458092   \n895                                    Casablanca (1942)   4.210098   \n737    Dr. Strangelove or: How I Learned to Stop Worr...   4.208876   \n5520   Spirited Away (Sen to Chihiro no kamikakushi) ...   4.207668   \n891                            North by Northwest (1959)   4.201091   \n293                                  Pulp Fiction (1994)   4.173971   \n5918                 City of God (Cidade de Deus) (2002)   4.184897   \n1187                                   Goodfellas (1990)   4.177603   \n12552                            Dark Knight, The (2008)   4.173756   \n10927  Lives of Others, The (Das leben der Anderen) (...   4.199845   \n\n       ratingCount     score  \n315          97999  4.419371  \n843          60904  4.325957  \n49           62180  4.285511  \n1195         38875  4.253164  \n523          71516  4.252143  \n1936         14578  4.228683  \n2874         65678  4.225047  \n1178         17931  4.216752  \n887          22264  4.214484  \n1169         42181  4.214311  \n40073         1384  4.200870  \n895          31095  4.198687  \n737          29484  4.196874  \n5520         23227  4.192532  \n891          19613  4.183413  \n293          92406  4.170295  \n5918         21558  4.169164  \n1187         35934  4.168180  \n12552        44741  4.166210  \n10927         9670  4.165000  ",
      "text/html": "<div>\n<style scoped>\n    .dataframe tbody tr th:only-of-type {\n        vertical-align: middle;\n    }\n\n    .dataframe tbody tr th {\n        vertical-align: top;\n    }\n\n    .dataframe thead th {\n        text-align: right;\n    }\n</style>\n<table border=\"1\" class=\"dataframe\">\n  <thead>\n    <tr style=\"text-align: right;\">\n      <th></th>\n      <th>title</th>\n      <th>avgRating</th>\n      <th>ratingCount</th>\n      <th>score</th>\n    </tr>\n  </thead>\n  <tbody>\n    <tr>\n      <th>315</th>\n      <td>Shawshank Redemption, The (1994)</td>\n      <td>4.424188</td>\n      <td>97999</td>\n      <td>4.419371</td>\n    </tr>\n    <tr>\n      <th>843</th>\n      <td>Godfather, The (1972)</td>\n      <td>4.332893</td>\n      <td>60904</td>\n      <td>4.325957</td>\n    </tr>\n    <tr>\n      <th>49</th>\n      <td>Usual Suspects, The (1995)</td>\n      <td>4.291959</td>\n      <td>62180</td>\n      <td>4.285511</td>\n    </tr>\n    <tr>\n      <th>1195</th>\n      <td>Godfather: Part II, The (1974)</td>\n      <td>4.263035</td>\n      <td>38875</td>\n      <td>4.253164</td>\n    </tr>\n    <tr>\n      <th>523</th>\n      <td>Schindler's List (1993)</td>\n      <td>4.257502</td>\n      <td>71516</td>\n      <td>4.252143</td>\n    </tr>\n    <tr>\n      <th>1936</th>\n      <td>Seven Samurai (Shichinin no samurai) (1954)</td>\n      <td>4.254116</td>\n      <td>14578</td>\n      <td>4.228683</td>\n    </tr>\n    <tr>\n      <th>2874</th>\n      <td>Fight Club (1999)</td>\n      <td>4.230663</td>\n      <td>65678</td>\n      <td>4.225047</td>\n    </tr>\n    <tr>\n      <th>1178</th>\n      <td>12 Angry Men (1957)</td>\n      <td>4.237075</td>\n      <td>17931</td>\n      <td>4.216752</td>\n    </tr>\n    <tr>\n      <th>887</th>\n      <td>Rear Window (1954)</td>\n      <td>4.230799</td>\n      <td>22264</td>\n      <td>4.214484</td>\n    </tr>\n    <tr>\n      <th>1169</th>\n      <td>One Flew Over the Cuckoo's Nest (1975)</td>\n      <td>4.222920</td>\n      <td>42181</td>\n      <td>4.214311</td>\n    </tr>\n    <tr>\n      <th>40073</th>\n      <td>Planet Earth (2006)</td>\n      <td>4.458092</td>\n      <td>1384</td>\n      <td>4.200870</td>\n    </tr>\n    <tr>\n      <th>895</th>\n      <td>Casablanca (1942)</td>\n      <td>4.210098</td>\n      <td>31095</td>\n      <td>4.198687</td>\n    </tr>\n    <tr>\n      <th>737</th>\n      <td>Dr. Strangelove or: How I Learned to Stop Worr...</td>\n      <td>4.208876</td>\n      <td>29484</td>\n      <td>4.196874</td>\n    </tr>\n    <tr>\n      <th>5520</th>\n      <td>Spirited Away (Sen to Chihiro no kamikakushi) ...</td>\n      <td>4.207668</td>\n      <td>23227</td>\n      <td>4.192532</td>\n    </tr>\n    <tr>\n      <th>891</th>\n      <td>North by Northwest (1959)</td>\n      <td>4.201091</td>\n      <td>19613</td>\n      <td>4.183413</td>\n    </tr>\n    <tr>\n      <th>293</th>\n      <td>Pulp Fiction (1994)</td>\n      <td>4.173971</td>\n      <td>92406</td>\n      <td>4.170295</td>\n    </tr>\n    <tr>\n      <th>5918</th>\n      <td>City of God (Cidade de Deus) (2002)</td>\n      <td>4.184897</td>\n      <td>21558</td>\n      <td>4.169164</td>\n    </tr>\n    <tr>\n      <th>1187</th>\n      <td>Goodfellas (1990)</td>\n      <td>4.177603</td>\n      <td>35934</td>\n      <td>4.168180</td>\n    </tr>\n    <tr>\n      <th>12552</th>\n      <td>Dark Knight, The (2008)</td>\n      <td>4.173756</td>\n      <td>44741</td>\n      <td>4.166210</td>\n    </tr>\n    <tr>\n      <th>10927</th>\n      <td>Lives of Others, The (Das leben der Anderen) (...</td>\n      <td>4.199845</td>\n      <td>9670</td>\n      <td>4.165000</td>\n    </tr>\n  </tbody>\n</table>\n</div>"
     },
     "execution_count": 19,
     "metadata": {},
     "output_type": "execute_result"
    },
    {
     "data": {
      "text/plain": "                                                title  avgRating  ratingCount  \\\n1350                                  Grease 2 (1982)   1.991641         4247   \n3182                Stop! Or My Mom Will Shoot (1992)   1.811079         2067   \n4680                                   Glitter (2001)   1.141026          741   \n6373   Dumb and Dumberer: When Harry Met Lloyd (2003)   1.762450         2008   \n6478                                     Gigli (2003)   1.205556          810   \n1648                              Home Alone 3 (1997)   1.889405         3445   \n1506                   Speed 2: Cruise Control (1997)   1.957457         6276   \n11623                               Epic Movie (2007)   1.472287         1281   \n1694                               Spice World (1997)   1.826339         3193   \n3503                         Battlefield Earth (2000)   1.610675         4965   \n\n          score  \n1350   2.162655  \n3182   2.162497  \n4680   2.138496  \n6373   2.132204  \n6478   2.126149  \n1648   2.108568  \n1506   2.080163  \n11623  2.075423  \n1694   2.069325  \n3503   1.796155  ",
      "text/html": "<div>\n<style scoped>\n    .dataframe tbody tr th:only-of-type {\n        vertical-align: middle;\n    }\n\n    .dataframe tbody tr th {\n        vertical-align: top;\n    }\n\n    .dataframe thead th {\n        text-align: right;\n    }\n</style>\n<table border=\"1\" class=\"dataframe\">\n  <thead>\n    <tr style=\"text-align: right;\">\n      <th></th>\n      <th>title</th>\n      <th>avgRating</th>\n      <th>ratingCount</th>\n      <th>score</th>\n    </tr>\n  </thead>\n  <tbody>\n    <tr>\n      <th>1350</th>\n      <td>Grease 2 (1982)</td>\n      <td>1.991641</td>\n      <td>4247</td>\n      <td>2.162655</td>\n    </tr>\n    <tr>\n      <th>3182</th>\n      <td>Stop! Or My Mom Will Shoot (1992)</td>\n      <td>1.811079</td>\n      <td>2067</td>\n      <td>2.162497</td>\n    </tr>\n    <tr>\n      <th>4680</th>\n      <td>Glitter (2001)</td>\n      <td>1.141026</td>\n      <td>741</td>\n      <td>2.138496</td>\n    </tr>\n    <tr>\n      <th>6373</th>\n      <td>Dumb and Dumberer: When Harry Met Lloyd (2003)</td>\n      <td>1.762450</td>\n      <td>2008</td>\n      <td>2.132204</td>\n    </tr>\n    <tr>\n      <th>6478</th>\n      <td>Gigli (2003)</td>\n      <td>1.205556</td>\n      <td>810</td>\n      <td>2.126149</td>\n    </tr>\n    <tr>\n      <th>1648</th>\n      <td>Home Alone 3 (1997)</td>\n      <td>1.889405</td>\n      <td>3445</td>\n      <td>2.108568</td>\n    </tr>\n    <tr>\n      <th>1506</th>\n      <td>Speed 2: Cruise Control (1997)</td>\n      <td>1.957457</td>\n      <td>6276</td>\n      <td>2.080163</td>\n    </tr>\n    <tr>\n      <th>11623</th>\n      <td>Epic Movie (2007)</td>\n      <td>1.472287</td>\n      <td>1281</td>\n      <td>2.075423</td>\n    </tr>\n    <tr>\n      <th>1694</th>\n      <td>Spice World (1997)</td>\n      <td>1.826339</td>\n      <td>3193</td>\n      <td>2.069325</td>\n    </tr>\n    <tr>\n      <th>3503</th>\n      <td>Battlefield Earth (2000)</td>\n      <td>1.610675</td>\n      <td>4965</td>\n      <td>1.796155</td>\n    </tr>\n  </tbody>\n</table>\n</div>"
     },
     "execution_count": 19,
     "metadata": {},
     "output_type": "execute_result"
    }
   ],
   "source": [
    "q_movies = q_movies.sort_values(by='score',ascending=False)\n",
    "\n",
    "q_movies[['title', 'avgRating', 'ratingCount', 'score']].head(20)\n",
    "q_movies[['title', 'avgRating', 'ratingCount', 'score']].tail(10)"
   ],
   "metadata": {
    "collapsed": false,
    "pycharm": {
     "name": "#%%\n"
    }
   }
  },
  {
   "cell_type": "markdown",
   "source": [
    "## Content based preporučvanje\n",
    "\n",
    "Čistimo tag dataset tako da pretvaramo sve u mala slova i spajamo riječi s razmacima iz jednog taga.\n",
    "Mergamo sve tagove jednoga filma od različitih korisnika u dataset movie tako da spojimo sve rijeci u\n",
    "jednu konkatenacijom."
   ],
   "metadata": {
    "collapsed": false
   }
  },
  {
   "cell_type": "code",
   "execution_count": 20,
   "outputs": [],
   "source": [
    "tags['tag'] = tags['tag'].apply(lambda x: str(x).replace(\" \",\"\").lower())\n",
    "\n",
    "movies = pd.merge(tags.groupby(['movieId'], as_index=False)['tag'].apply(lambda x: \" \".join(x)), movies,how='inner',on='movieId')"
   ],
   "metadata": {
    "collapsed": false,
    "pycharm": {
     "name": "#%%\n"
    }
   }
  },
  {
   "cell_type": "markdown",
   "source": [
    "Funkcija koja izbacuje sve duplikate tagova iz jednoga filma i ubacuje imena žanrova te stvara novi stupac\n",
    "u movie datasetu, soup koji sadži sve te ključne riječi."
   ],
   "metadata": {
    "collapsed": false
   }
  },
  {
   "cell_type": "code",
   "execution_count": 21,
   "outputs": [
    {
     "data": {
      "text/plain": "   movieId                                                tag  \\\n0        1  animated buddymovie cartoon cgi comedy compute...   \n1        2  fantasy adaptedfrom:book animals badcgi basedo...   \n2        3  moldy old annmargaret burgessmeredith darylhan...   \n3        4  characters girlmovie characters chickflick bas...   \n4        5  stevemartin stevemartin pregnancy remake aging...   \n\n                                title  \\\n0                    Toy Story (1995)   \n1                      Jumanji (1995)   \n2             Grumpier Old Men (1995)   \n3            Waiting to Exhale (1995)   \n4  Father of the Bride Part II (1995)   \n\n                                        genres  avgRating  ratingCount  \\\n0  Adventure|Animation|Children|Comedy|Fantasy   3.886649        68469   \n1                   Adventure|Children|Fantasy   3.246583        27143   \n2                               Comedy|Romance   3.173981        15585   \n3                         Comedy|Drama|Romance   2.874540         2989   \n4                                       Comedy   3.077291        15474   \n\n                                                soup  \n0  goodtime greatmovie feel-good kids woody fanta...  \n1  timetravel animals kids dynamiccgiaction satur...  \n2  comedinhadevelhinhosengraãƒâ§ada oldpeoplethat...  \n3  revenge girlmovie divorce basedonnovelorbook s...  \n4  remake gynecologist childhoodclassics touching...  ",
      "text/html": "<div>\n<style scoped>\n    .dataframe tbody tr th:only-of-type {\n        vertical-align: middle;\n    }\n\n    .dataframe tbody tr th {\n        vertical-align: top;\n    }\n\n    .dataframe thead th {\n        text-align: right;\n    }\n</style>\n<table border=\"1\" class=\"dataframe\">\n  <thead>\n    <tr style=\"text-align: right;\">\n      <th></th>\n      <th>movieId</th>\n      <th>tag</th>\n      <th>title</th>\n      <th>genres</th>\n      <th>avgRating</th>\n      <th>ratingCount</th>\n      <th>soup</th>\n    </tr>\n  </thead>\n  <tbody>\n    <tr>\n      <th>0</th>\n      <td>1</td>\n      <td>animated buddymovie cartoon cgi comedy compute...</td>\n      <td>Toy Story (1995)</td>\n      <td>Adventure|Animation|Children|Comedy|Fantasy</td>\n      <td>3.886649</td>\n      <td>68469</td>\n      <td>goodtime greatmovie feel-good kids woody fanta...</td>\n    </tr>\n    <tr>\n      <th>1</th>\n      <td>2</td>\n      <td>fantasy adaptedfrom:book animals badcgi basedo...</td>\n      <td>Jumanji (1995)</td>\n      <td>Adventure|Children|Fantasy</td>\n      <td>3.246583</td>\n      <td>27143</td>\n      <td>timetravel animals kids dynamiccgiaction satur...</td>\n    </tr>\n    <tr>\n      <th>2</th>\n      <td>3</td>\n      <td>moldy old annmargaret burgessmeredith darylhan...</td>\n      <td>Grumpier Old Men (1995)</td>\n      <td>Comedy|Romance</td>\n      <td>3.173981</td>\n      <td>15585</td>\n      <td>comedinhadevelhinhosengraãƒâ§ada oldpeoplethat...</td>\n    </tr>\n    <tr>\n      <th>3</th>\n      <td>4</td>\n      <td>characters girlmovie characters chickflick bas...</td>\n      <td>Waiting to Exhale (1995)</td>\n      <td>Comedy|Drama|Romance</td>\n      <td>2.874540</td>\n      <td>2989</td>\n      <td>revenge girlmovie divorce basedonnovelorbook s...</td>\n    </tr>\n    <tr>\n      <th>4</th>\n      <td>5</td>\n      <td>stevemartin stevemartin pregnancy remake aging...</td>\n      <td>Father of the Bride Part II (1995)</td>\n      <td>Comedy</td>\n      <td>3.077291</td>\n      <td>15474</td>\n      <td>remake gynecologist childhoodclassics touching...</td>\n    </tr>\n  </tbody>\n</table>\n</div>"
     },
     "execution_count": 21,
     "metadata": {},
     "output_type": "execute_result"
    }
   ],
   "source": [
    "def createSoup(x):\n",
    "    infoSet = set(x['tag'].split(' '))\n",
    "\n",
    "    data = ' '.join(infoSet)\n",
    "\n",
    "    for genre in x['genres'].split('|'):\n",
    "        data+=(' ' + genre.lower())\n",
    "    return data\n",
    "\n",
    "movies['soup'] = movies.apply(createSoup,axis=1)\n",
    "\n",
    "movies.head()"
   ],
   "metadata": {
    "collapsed": false,
    "pycharm": {
     "name": "#%%\n"
    }
   }
  },
  {
   "cell_type": "markdown",
   "source": [
    "Stvaranje TF-IDF Vectorizera i slanje mu svih ključih riječi za filmove."
   ],
   "metadata": {
    "collapsed": false
   }
  },
  {
   "cell_type": "code",
   "execution_count": 22,
   "outputs": [
    {
     "data": {
      "text/plain": "(41772, 64065)"
     },
     "execution_count": 22,
     "metadata": {},
     "output_type": "execute_result"
    },
    {
     "data": {
      "text/plain": "['adolescentpsychology',\n 'adolescentrebellion',\n 'adolescents',\n 'adolfeichmann',\n 'adolfhitler',\n 'adolfomarsillach',\n 'adoorgopalakrishnan',\n 'adopted',\n 'adoptedbrother',\n 'adoptedchild',\n 'adopteddaughter',\n 'adoptedfrom',\n 'adoptedson',\n 'adoptee',\n 'adoption',\n 'adoptivefather',\n 'adoptivemother',\n 'adoptiveparents',\n 'adorable',\n 'adoration']"
     },
     "execution_count": 22,
     "metadata": {},
     "output_type": "execute_result"
    }
   ],
   "source": [
    "from sklearn.feature_extraction.text import TfidfVectorizer\n",
    "\n",
    "tfidf = TfidfVectorizer(stop_words='english')\n",
    "\n",
    "movies['soup'] = movies['soup'].fillna('')\n",
    "\n",
    "tfidf_matrix = tfidf.fit_transform(movies['soup'])\n",
    "\n",
    "tfidf_matrix.shape\n",
    "\n",
    "tfidf.get_feature_names()[1000:1020]"
   ],
   "metadata": {
    "collapsed": false,
    "pycharm": {
     "name": "#%%\n"
    }
   }
  },
  {
   "cell_type": "markdown",
   "source": [
    "Stvaranje linear_kernel objekta koji ce pomocu cosine similarity ocjene moći ocjenjivati filmove."
   ],
   "metadata": {
    "collapsed": false
   }
  },
  {
   "cell_type": "code",
   "execution_count": 23,
   "outputs": [
    {
     "data": {
      "text/plain": "(41772, 41772)"
     },
     "execution_count": 23,
     "metadata": {},
     "output_type": "execute_result"
    },
    {
     "data": {
      "text/plain": "array([0.07708015, 1.        , 0.01042336, ..., 0.        , 0.01620595,\n       0.0094338 ])"
     },
     "execution_count": 23,
     "metadata": {},
     "output_type": "execute_result"
    }
   ],
   "source": [
    "from sklearn.metrics.pairwise import linear_kernel\n",
    "\n",
    "cosin_sin = linear_kernel(tfidf_matrix,tfidf_matrix)\n",
    "\n",
    "cosin_sin.shape\n",
    "\n",
    "cosin_sin[1]"
   ],
   "metadata": {
    "collapsed": false,
    "pycharm": {
     "name": "#%%\n"
    }
   }
  },
  {
   "cell_type": "code",
   "execution_count": 24,
   "outputs": [
    {
     "data": {
      "text/plain": "title\nToy Story (1995)                      0\nJumanji (1995)                        1\nGrumpier Old Men (1995)               2\nWaiting to Exhale (1995)              3\nFather of the Bride Part II (1995)    4\nHeat (1995)                           5\nSabrina (1995)                        6\nTom and Huck (1995)                   7\nSudden Death (1995)                   8\nGoldenEye (1995)                      9\ndtype: int64"
     },
     "execution_count": 24,
     "metadata": {},
     "output_type": "execute_result"
    }
   ],
   "source": [
    "indices = pd.Series(movies.index, index = movies['title']).drop_duplicates()\n",
    "\n",
    "indices[:10]"
   ],
   "metadata": {
    "collapsed": false,
    "pycharm": {
     "name": "#%%\n"
    }
   }
  },
  {
   "cell_type": "markdown",
   "source": [
    "Funkcija koja za dano ime filma pomoću sličnosti s drugim filmovima ispisuje slične filmove."
   ],
   "metadata": {
    "collapsed": false
   }
  },
  {
   "cell_type": "code",
   "execution_count": 25,
   "outputs": [
    {
     "data": {
      "text/plain": "2866                            Toy Story 2 (1999)\n23824            Toy Story That Time Forgot (2014)\n10558                                  Cars (2006)\n2132                          Bug's Life, A (1998)\n22785    Toy Story Toons: Hawaiian Vacation (2011)\n5970                           Finding Nemo (2003)\n14686                           Toy Story 3 (2010)\n22787            Toy Story Toons: Small Fry (2011)\n4548                         Monsters, Inc. (2001)\n7904                       Incredibles, The (2004)\nName: title, dtype: object"
     },
     "execution_count": 25,
     "metadata": {},
     "output_type": "execute_result"
    }
   ],
   "source": [
    "def get_recommendations(title,n=10, cosine_sim=cosin_sin):\n",
    "\n",
    "    idx = indices[title]\n",
    "\n",
    "    sim_scores = list(enumerate(cosine_sim[idx]))\n",
    "\n",
    "    sim_scores = sorted(sim_scores, key = lambda x: x[1], reverse=True)\n",
    "\n",
    "    sim_scores = sim_scores[1:n+1]\n",
    "\n",
    "    movie_indices = [i[0] for i in sim_scores]\n",
    "\n",
    "    return movies['title'].iloc[movie_indices]\n",
    "\n",
    "get_recommendations('Toy Story (1995)')"
   ],
   "metadata": {
    "collapsed": false,
    "pycharm": {
     "name": "#%%\n"
    }
   }
  }
 ],
 "metadata": {
  "kernelspec": {
   "name": "projektr",
   "language": "python",
   "display_name": "Python (ProjektR)"
  },
  "language_info": {
   "codemirror_mode": {
    "name": "ipython",
    "version": 2
   },
   "file_extension": ".py",
   "mimetype": "text/x-python",
   "name": "python",
   "nbconvert_exporter": "python",
   "pygments_lexer": "ipython2",
   "version": "2.7.6"
  }
 },
 "nbformat": 4,
 "nbformat_minor": 0
}