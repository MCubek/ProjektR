{
 "cells": [
  {
   "cell_type": "markdown",
   "metadata": {
    "collapsed": true,
    "pycharm": {
     "name": "#%% md\n"
    }
   },
   "source": [
    "## Preporuke filmova pomoću liste najpopularnijih i content-based algoritma preporuke\n",
    "\n",
    "Preporuka filmova pomoću liste najpopularnijih svim korisnicima preporuča iste filmove poredane po izračunatom ratingu\n",
    "**IMDb-formule**\n",
    "\n",
    "\\begin{equation}\n",
    "\\text TežinskiRating (\\bf WR) = \\left({{\\bf v} \\over {\\bf v} + {\\bf m}} \\cdot R\\right) + \\left({{\\bf m} \\over {\\bf v} + {\\bf m}} \\cdot C\\right)\n",
    "\\end{equation}\n",
    "\n",
    "gdje je:\n",
    "v = broj ocjena filma ,\n",
    "m = minimalni broj ocjena da bi se prikazao u listi (*izračunat kao 90% kvantil*),\n",
    "R = prosjecna ocjena filma,\n",
    "C = prosječna ocjena svih filmova.\n",
    "\n",
    "Content based algoritam pomoću sličnosti između filmova traži filmove s sličnim atributima i te preporuča korisniku.\n",
    "\n",
    "Atributi koje ovdje koristimo su žanrovi iz movies.csv i svi tagovi koje su korisnici upisali u tags.csv za film.\n",
    "Što je više atributa dostupno za svaki film ovaj će algoritam bolje raditi i pravilnije preproručavati filmove.\n",
    "\n",
    "Kako bi odredili težinu (_važnost_) atributa koristimo **TF-IDF** score (*term frequency-inverted document frequency score*).\n",
    "\n",
    "\\begin{equation}\n",
    "\\text tfidf_{i,j} = tf_{i,j} \\cdot \\log (\\frac{N}{df_i})\n",
    "\\end{equation}\n",
    "\n",
    "where:\n",
    "Kada smo izračunali TF-IDF gradimo **Vector Space Model** uz **Cosine similarity**.\n",
    "\n",
    "Rezultat nam je kvadratna matrica veličine broja filmova gdje na svakom sjecištu leži ocjena njihove sličnosti."
   ]
  },
  {
   "cell_type": "code",
   "execution_count": 30,
   "outputs": [
    {
     "data": {
      "text/plain": "   movieId                               title  \\\n0        1                    Toy Story (1995)   \n1        2                      Jumanji (1995)   \n2        3             Grumpier Old Men (1995)   \n3        4            Waiting to Exhale (1995)   \n4        5  Father of the Bride Part II (1995)   \n\n                                        genres  \n0  Adventure|Animation|Children|Comedy|Fantasy  \n1                   Adventure|Children|Fantasy  \n2                               Comedy|Romance  \n3                         Comedy|Drama|Romance  \n4                                       Comedy  ",
      "text/html": "<div>\n<style scoped>\n    .dataframe tbody tr th:only-of-type {\n        vertical-align: middle;\n    }\n\n    .dataframe tbody tr th {\n        vertical-align: top;\n    }\n\n    .dataframe thead th {\n        text-align: right;\n    }\n</style>\n<table border=\"1\" class=\"dataframe\">\n  <thead>\n    <tr style=\"text-align: right;\">\n      <th></th>\n      <th>movieId</th>\n      <th>title</th>\n      <th>genres</th>\n    </tr>\n  </thead>\n  <tbody>\n    <tr>\n      <th>0</th>\n      <td>1</td>\n      <td>Toy Story (1995)</td>\n      <td>Adventure|Animation|Children|Comedy|Fantasy</td>\n    </tr>\n    <tr>\n      <th>1</th>\n      <td>2</td>\n      <td>Jumanji (1995)</td>\n      <td>Adventure|Children|Fantasy</td>\n    </tr>\n    <tr>\n      <th>2</th>\n      <td>3</td>\n      <td>Grumpier Old Men (1995)</td>\n      <td>Comedy|Romance</td>\n    </tr>\n    <tr>\n      <th>3</th>\n      <td>4</td>\n      <td>Waiting to Exhale (1995)</td>\n      <td>Comedy|Drama|Romance</td>\n    </tr>\n    <tr>\n      <th>4</th>\n      <td>5</td>\n      <td>Father of the Bride Part II (1995)</td>\n      <td>Comedy</td>\n    </tr>\n  </tbody>\n</table>\n</div>"
     },
     "execution_count": 30,
     "metadata": {},
     "output_type": "execute_result"
    },
    {
     "data": {
      "text/plain": "   userId  movieId  rating\n0       1      307     3.5\n1       1      481     3.5\n2       1     1091     1.5\n3       1     1257     4.5\n4       1     1449     4.5",
      "text/html": "<div>\n<style scoped>\n    .dataframe tbody tr th:only-of-type {\n        vertical-align: middle;\n    }\n\n    .dataframe tbody tr th {\n        vertical-align: top;\n    }\n\n    .dataframe thead th {\n        text-align: right;\n    }\n</style>\n<table border=\"1\" class=\"dataframe\">\n  <thead>\n    <tr style=\"text-align: right;\">\n      <th></th>\n      <th>userId</th>\n      <th>movieId</th>\n      <th>rating</th>\n    </tr>\n  </thead>\n  <tbody>\n    <tr>\n      <th>0</th>\n      <td>1</td>\n      <td>307</td>\n      <td>3.5</td>\n    </tr>\n    <tr>\n      <th>1</th>\n      <td>1</td>\n      <td>481</td>\n      <td>3.5</td>\n    </tr>\n    <tr>\n      <th>2</th>\n      <td>1</td>\n      <td>1091</td>\n      <td>1.5</td>\n    </tr>\n    <tr>\n      <th>3</th>\n      <td>1</td>\n      <td>1257</td>\n      <td>4.5</td>\n    </tr>\n    <tr>\n      <th>4</th>\n      <td>1</td>\n      <td>1449</td>\n      <td>4.5</td>\n    </tr>\n  </tbody>\n</table>\n</div>"
     },
     "execution_count": 30,
     "metadata": {},
     "output_type": "execute_result"
    },
    {
     "data": {
      "text/plain": "   movieId           tag\n0      110          epic\n1      110      Medieval\n2      260        sci-fi\n3      260  space action\n4      318  imdb top 250",
      "text/html": "<div>\n<style scoped>\n    .dataframe tbody tr th:only-of-type {\n        vertical-align: middle;\n    }\n\n    .dataframe tbody tr th {\n        vertical-align: top;\n    }\n\n    .dataframe thead th {\n        text-align: right;\n    }\n</style>\n<table border=\"1\" class=\"dataframe\">\n  <thead>\n    <tr style=\"text-align: right;\">\n      <th></th>\n      <th>movieId</th>\n      <th>tag</th>\n    </tr>\n  </thead>\n  <tbody>\n    <tr>\n      <th>0</th>\n      <td>110</td>\n      <td>epic</td>\n    </tr>\n    <tr>\n      <th>1</th>\n      <td>110</td>\n      <td>Medieval</td>\n    </tr>\n    <tr>\n      <th>2</th>\n      <td>260</td>\n      <td>sci-fi</td>\n    </tr>\n    <tr>\n      <th>3</th>\n      <td>260</td>\n      <td>space action</td>\n    </tr>\n    <tr>\n      <th>4</th>\n      <td>318</td>\n      <td>imdb top 250</td>\n    </tr>\n  </tbody>\n</table>\n</div>"
     },
     "execution_count": 30,
     "metadata": {},
     "output_type": "execute_result"
    }
   ],
   "source": [
    "import pandas as pd\n",
    "\n",
    "# Više izlaznih linija\n",
    "from IPython.core.interactiveshell import InteractiveShell\n",
    "from typing import List\n",
    "InteractiveShell.ast_node_interactivity = \"all\"\n",
    "\n",
    "movies = pd.read_csv('ml-latest/movies.csv')\n",
    "movies.head()\n",
    "\n",
    "ratings = pd.read_csv('ml-latest/ratings.csv',usecols=['userId','movieId','rating'])\n",
    "ratings.head()\n",
    "\n",
    "tags = pd.read_csv('ml-latest/tags.csv',usecols=['movieId','tag'])\n",
    "tags.head()"
   ],
   "metadata": {
    "collapsed": false,
    "pycharm": {
     "name": "#%%\n"
    }
   }
  },
  {
   "cell_type": "markdown",
   "source": [
    "## Najpopularniji preporučavanje\n",
    "\n",
    "Izračun srednje ocjene filma iz svih njegovih ocjena i zbrajanje koliko je puta ocjenjen.\n",
    "Ta dva podataka natrag upisujemo u dataset filma."
   ],
   "metadata": {
    "collapsed": false,
    "pycharm": {
     "name": "#%% md\n"
    }
   }
  },
  {
   "cell_type": "code",
   "execution_count": 31,
   "outputs": [
    {
     "data": {
      "text/plain": "   movieId                               title  \\\n0        1                    Toy Story (1995)   \n1        2                      Jumanji (1995)   \n2        3             Grumpier Old Men (1995)   \n3        4            Waiting to Exhale (1995)   \n4        5  Father of the Bride Part II (1995)   \n\n                                        genres  avgRating  ratingCount  \n0  Adventure|Animation|Children|Comedy|Fantasy   3.886649      68469.0  \n1                   Adventure|Children|Fantasy   3.246583      27143.0  \n2                               Comedy|Romance   3.173981      15585.0  \n3                         Comedy|Drama|Romance   2.874540       2989.0  \n4                                       Comedy   3.077291      15474.0  ",
      "text/html": "<div>\n<style scoped>\n    .dataframe tbody tr th:only-of-type {\n        vertical-align: middle;\n    }\n\n    .dataframe tbody tr th {\n        vertical-align: top;\n    }\n\n    .dataframe thead th {\n        text-align: right;\n    }\n</style>\n<table border=\"1\" class=\"dataframe\">\n  <thead>\n    <tr style=\"text-align: right;\">\n      <th></th>\n      <th>movieId</th>\n      <th>title</th>\n      <th>genres</th>\n      <th>avgRating</th>\n      <th>ratingCount</th>\n    </tr>\n  </thead>\n  <tbody>\n    <tr>\n      <th>0</th>\n      <td>1</td>\n      <td>Toy Story (1995)</td>\n      <td>Adventure|Animation|Children|Comedy|Fantasy</td>\n      <td>3.886649</td>\n      <td>68469.0</td>\n    </tr>\n    <tr>\n      <th>1</th>\n      <td>2</td>\n      <td>Jumanji (1995)</td>\n      <td>Adventure|Children|Fantasy</td>\n      <td>3.246583</td>\n      <td>27143.0</td>\n    </tr>\n    <tr>\n      <th>2</th>\n      <td>3</td>\n      <td>Grumpier Old Men (1995)</td>\n      <td>Comedy|Romance</td>\n      <td>3.173981</td>\n      <td>15585.0</td>\n    </tr>\n    <tr>\n      <th>3</th>\n      <td>4</td>\n      <td>Waiting to Exhale (1995)</td>\n      <td>Comedy|Drama|Romance</td>\n      <td>2.874540</td>\n      <td>2989.0</td>\n    </tr>\n    <tr>\n      <th>4</th>\n      <td>5</td>\n      <td>Father of the Bride Part II (1995)</td>\n      <td>Comedy</td>\n      <td>3.077291</td>\n      <td>15474.0</td>\n    </tr>\n  </tbody>\n</table>\n</div>"
     },
     "execution_count": 31,
     "metadata": {},
     "output_type": "execute_result"
    }
   ],
   "source": [
    "movie_rating_temp_df = pd.merge(movies,ratings,how='inner',on='movieId')[['movieId','rating']]\n",
    "\n",
    "avg_rating_df = movie_rating_temp_df.groupby('movieId', as_index=False).mean().rename(columns={'rating': 'avgRating'})\n",
    "\n",
    "movie_rating_count = movie_rating_temp_df.groupby('movieId', as_index=False).count().rename(columns={'rating': 'ratingCount'})\n",
    "\n",
    "movies = pd.merge(pd.merge(movies,avg_rating_df,how='left',on='movieId'),movie_rating_count,how='left',on='movieId')\n",
    "\n",
    "movies['avgRating'] = movies['avgRating'].fillna(0)\n",
    "movies['ratingCount'] = movies['ratingCount'].fillna(0)\n",
    "\n",
    "movies.head()"
   ],
   "metadata": {
    "collapsed": false,
    "pycharm": {
     "name": "#%%\n"
    }
   }
  },
  {
   "cell_type": "markdown",
   "source": [
    "Računanje srednje ocjene svih filmova i računanje granice 90% kvantila kao donje granice top filmova."
   ],
   "metadata": {
    "collapsed": false
   }
  },
  {
   "cell_type": "code",
   "execution_count": 32,
   "outputs": [
    {
     "name": "stdout",
     "output_type": "stream",
     "text": [
      "3.5304452124932677\n",
      "453.0\n"
     ]
    }
   ],
   "source": [
    "mean_rating = ratings['rating'].mean()\n",
    "print(mean_rating)\n",
    "\n",
    "low_vote_number = movies['ratingCount'].quantile(0.90)\n",
    "print(low_vote_number)"
   ],
   "metadata": {
    "collapsed": false,
    "pycharm": {
     "name": "#%%\n"
    }
   }
  },
  {
   "cell_type": "markdown",
   "source": [
    "Filtiriraje filmova koji su u top 10% po broju ocjena i njihovo pohranjivanje u novi dataset kvalificiranih filmova."
   ],
   "metadata": {
    "collapsed": false,
    "pycharm": {
     "name": "#%% md\n"
    }
   }
  },
  {
   "cell_type": "code",
   "execution_count": 33,
   "outputs": [
    {
     "data": {
      "text/plain": "(5813, 5)"
     },
     "execution_count": 33,
     "metadata": {},
     "output_type": "execute_result"
    },
    {
     "data": {
      "text/plain": "(58098, 5)"
     },
     "execution_count": 33,
     "metadata": {},
     "output_type": "execute_result"
    }
   ],
   "source": [
    "q_movies = movies.copy().loc[movies['ratingCount']>=low_vote_number]\n",
    "q_movies.shape\n",
    "\n",
    "movies.shape"
   ],
   "metadata": {
    "collapsed": false,
    "pycharm": {
     "name": "#%%\n"
    }
   }
  },
  {
   "cell_type": "markdown",
   "source": [
    "Fukncija za računanje težinskog rating pomoću **IMDb-formule**\n",
    "Upis u dataset kvalificiranih filmova njihov tezinski rating."
   ],
   "metadata": {
    "collapsed": false
   }
  },
  {
   "cell_type": "code",
   "execution_count": 34,
   "outputs": [],
   "source": [
    "def weighed_rating(x, m=low_vote_number, C=mean_rating):\n",
    "    v = x['ratingCount']\n",
    "    R = x['avgRating']\n",
    "\n",
    "    return (v/(v+m) * R) + (m/(m+v) * C)\n",
    "\n",
    "q_movies['score'] = q_movies.apply(weighed_rating,axis=1)"
   ],
   "metadata": {
    "collapsed": false,
    "pycharm": {
     "name": "#%%\n"
    }
   }
  },
  {
   "cell_type": "markdown",
   "source": [
    "Sortiranje filmova po izračunatom ratingu i ispis top 20 i najgorih 10."
   ],
   "metadata": {
    "collapsed": false
   }
  },
  {
   "cell_type": "code",
   "execution_count": 35,
   "outputs": [
    {
     "data": {
      "text/plain": "                                                   title  avgRating  \\\n315                     Shawshank Redemption, The (1994)   4.424188   \n843                                Godfather, The (1972)   4.332893   \n49                            Usual Suspects, The (1995)   4.291959   \n1195                      Godfather: Part II, The (1974)   4.263035   \n523                              Schindler's List (1993)   4.257502   \n1936         Seven Samurai (Shichinin no samurai) (1954)   4.254116   \n42845                                Planet Earth (2006)   4.458092   \n2874                                   Fight Club (1999)   4.230663   \n1178                                 12 Angry Men (1957)   4.237075   \n887                                   Rear Window (1954)   4.230799   \n1169              One Flew Over the Cuckoo's Nest (1975)   4.222920   \n895                                    Casablanca (1942)   4.210098   \n737    Dr. Strangelove or: How I Learned to Stop Worr...   4.208876   \n5520   Spirited Away (Sen to Chihiro no kamikakushi) ...   4.207668   \n891                            North by Northwest (1959)   4.201091   \n5918                 City of God (Cidade de Deus) (2002)   4.184897   \n293                                  Pulp Fiction (1994)   4.173971   \n10932  Lives of Others, The (Das leben der Anderen) (...   4.199845   \n1187                                   Goodfellas (1990)   4.177603   \n1186                               Third Man, The (1949)   4.203759   \n\n       ratingCount     score  \n315        97999.0  4.420076  \n843        60904.0  4.326968  \n49         62180.0  4.286451  \n1195       38875.0  4.254597  \n523        71516.0  4.252925  \n1936       14578.0  4.232306  \n42845       1384.0  4.229337  \n2874       65678.0  4.225867  \n1178       17931.0  4.219663  \n887        22264.0  4.216833  \n1169       42181.0  4.215563  \n895        31095.0  4.200339  \n737        29484.0  4.198610  \n5520       23227.0  4.194712  \n891        19613.0  4.185951  \n5918       21558.0  4.171428  \n293        92406.0  4.170832  \n10932       9670.0  4.169890  \n1187       35934.0  4.169547  \n1186        7980.0  4.167591  ",
      "text/html": "<div>\n<style scoped>\n    .dataframe tbody tr th:only-of-type {\n        vertical-align: middle;\n    }\n\n    .dataframe tbody tr th {\n        vertical-align: top;\n    }\n\n    .dataframe thead th {\n        text-align: right;\n    }\n</style>\n<table border=\"1\" class=\"dataframe\">\n  <thead>\n    <tr style=\"text-align: right;\">\n      <th></th>\n      <th>title</th>\n      <th>avgRating</th>\n      <th>ratingCount</th>\n      <th>score</th>\n    </tr>\n  </thead>\n  <tbody>\n    <tr>\n      <th>315</th>\n      <td>Shawshank Redemption, The (1994)</td>\n      <td>4.424188</td>\n      <td>97999.0</td>\n      <td>4.420076</td>\n    </tr>\n    <tr>\n      <th>843</th>\n      <td>Godfather, The (1972)</td>\n      <td>4.332893</td>\n      <td>60904.0</td>\n      <td>4.326968</td>\n    </tr>\n    <tr>\n      <th>49</th>\n      <td>Usual Suspects, The (1995)</td>\n      <td>4.291959</td>\n      <td>62180.0</td>\n      <td>4.286451</td>\n    </tr>\n    <tr>\n      <th>1195</th>\n      <td>Godfather: Part II, The (1974)</td>\n      <td>4.263035</td>\n      <td>38875.0</td>\n      <td>4.254597</td>\n    </tr>\n    <tr>\n      <th>523</th>\n      <td>Schindler's List (1993)</td>\n      <td>4.257502</td>\n      <td>71516.0</td>\n      <td>4.252925</td>\n    </tr>\n    <tr>\n      <th>1936</th>\n      <td>Seven Samurai (Shichinin no samurai) (1954)</td>\n      <td>4.254116</td>\n      <td>14578.0</td>\n      <td>4.232306</td>\n    </tr>\n    <tr>\n      <th>42845</th>\n      <td>Planet Earth (2006)</td>\n      <td>4.458092</td>\n      <td>1384.0</td>\n      <td>4.229337</td>\n    </tr>\n    <tr>\n      <th>2874</th>\n      <td>Fight Club (1999)</td>\n      <td>4.230663</td>\n      <td>65678.0</td>\n      <td>4.225867</td>\n    </tr>\n    <tr>\n      <th>1178</th>\n      <td>12 Angry Men (1957)</td>\n      <td>4.237075</td>\n      <td>17931.0</td>\n      <td>4.219663</td>\n    </tr>\n    <tr>\n      <th>887</th>\n      <td>Rear Window (1954)</td>\n      <td>4.230799</td>\n      <td>22264.0</td>\n      <td>4.216833</td>\n    </tr>\n    <tr>\n      <th>1169</th>\n      <td>One Flew Over the Cuckoo's Nest (1975)</td>\n      <td>4.222920</td>\n      <td>42181.0</td>\n      <td>4.215563</td>\n    </tr>\n    <tr>\n      <th>895</th>\n      <td>Casablanca (1942)</td>\n      <td>4.210098</td>\n      <td>31095.0</td>\n      <td>4.200339</td>\n    </tr>\n    <tr>\n      <th>737</th>\n      <td>Dr. Strangelove or: How I Learned to Stop Worr...</td>\n      <td>4.208876</td>\n      <td>29484.0</td>\n      <td>4.198610</td>\n    </tr>\n    <tr>\n      <th>5520</th>\n      <td>Spirited Away (Sen to Chihiro no kamikakushi) ...</td>\n      <td>4.207668</td>\n      <td>23227.0</td>\n      <td>4.194712</td>\n    </tr>\n    <tr>\n      <th>891</th>\n      <td>North by Northwest (1959)</td>\n      <td>4.201091</td>\n      <td>19613.0</td>\n      <td>4.185951</td>\n    </tr>\n    <tr>\n      <th>5918</th>\n      <td>City of God (Cidade de Deus) (2002)</td>\n      <td>4.184897</td>\n      <td>21558.0</td>\n      <td>4.171428</td>\n    </tr>\n    <tr>\n      <th>293</th>\n      <td>Pulp Fiction (1994)</td>\n      <td>4.173971</td>\n      <td>92406.0</td>\n      <td>4.170832</td>\n    </tr>\n    <tr>\n      <th>10932</th>\n      <td>Lives of Others, The (Das leben der Anderen) (...</td>\n      <td>4.199845</td>\n      <td>9670.0</td>\n      <td>4.169890</td>\n    </tr>\n    <tr>\n      <th>1187</th>\n      <td>Goodfellas (1990)</td>\n      <td>4.177603</td>\n      <td>35934.0</td>\n      <td>4.169547</td>\n    </tr>\n    <tr>\n      <th>1186</th>\n      <td>Third Man, The (1949)</td>\n      <td>4.203759</td>\n      <td>7980.0</td>\n      <td>4.167591</td>\n    </tr>\n  </tbody>\n</table>\n</div>"
     },
     "execution_count": 35,
     "metadata": {},
     "output_type": "execute_result"
    },
    {
     "data": {
      "text/plain": "                                                title  avgRating  ratingCount  \\\n7983                                  Catwoman (2004)   1.852258       2325.0   \n3182                Stop! Or My Mom Will Shoot (1992)   1.811079       2067.0   \n6373   Dumb and Dumberer: When Harry Met Lloyd (2003)   1.762450       2008.0   \n1648                              Home Alone 3 (1997)   1.889405       3445.0   \n1506                   Speed 2: Cruise Control (1997)   1.957457       6276.0   \n4680                                   Glitter (2001)   1.141026        741.0   \n6478                                     Gigli (2003)   1.205556        810.0   \n1694                               Spice World (1997)   1.826339       3193.0   \n11628                               Epic Movie (2007)   1.472287       1281.0   \n3503                         Battlefield Earth (2000)   1.610675       4965.0   \n\n          score  \n7983   2.125915  \n3182   2.120155  \n6373   2.087888  \n1648   2.080116  \n1506   2.063351  \n4680   2.047564  \n6478   2.039423  \n1694   2.038067  \n11628  2.009972  \n3503   1.771187  ",
      "text/html": "<div>\n<style scoped>\n    .dataframe tbody tr th:only-of-type {\n        vertical-align: middle;\n    }\n\n    .dataframe tbody tr th {\n        vertical-align: top;\n    }\n\n    .dataframe thead th {\n        text-align: right;\n    }\n</style>\n<table border=\"1\" class=\"dataframe\">\n  <thead>\n    <tr style=\"text-align: right;\">\n      <th></th>\n      <th>title</th>\n      <th>avgRating</th>\n      <th>ratingCount</th>\n      <th>score</th>\n    </tr>\n  </thead>\n  <tbody>\n    <tr>\n      <th>7983</th>\n      <td>Catwoman (2004)</td>\n      <td>1.852258</td>\n      <td>2325.0</td>\n      <td>2.125915</td>\n    </tr>\n    <tr>\n      <th>3182</th>\n      <td>Stop! Or My Mom Will Shoot (1992)</td>\n      <td>1.811079</td>\n      <td>2067.0</td>\n      <td>2.120155</td>\n    </tr>\n    <tr>\n      <th>6373</th>\n      <td>Dumb and Dumberer: When Harry Met Lloyd (2003)</td>\n      <td>1.762450</td>\n      <td>2008.0</td>\n      <td>2.087888</td>\n    </tr>\n    <tr>\n      <th>1648</th>\n      <td>Home Alone 3 (1997)</td>\n      <td>1.889405</td>\n      <td>3445.0</td>\n      <td>2.080116</td>\n    </tr>\n    <tr>\n      <th>1506</th>\n      <td>Speed 2: Cruise Control (1997)</td>\n      <td>1.957457</td>\n      <td>6276.0</td>\n      <td>2.063351</td>\n    </tr>\n    <tr>\n      <th>4680</th>\n      <td>Glitter (2001)</td>\n      <td>1.141026</td>\n      <td>741.0</td>\n      <td>2.047564</td>\n    </tr>\n    <tr>\n      <th>6478</th>\n      <td>Gigli (2003)</td>\n      <td>1.205556</td>\n      <td>810.0</td>\n      <td>2.039423</td>\n    </tr>\n    <tr>\n      <th>1694</th>\n      <td>Spice World (1997)</td>\n      <td>1.826339</td>\n      <td>3193.0</td>\n      <td>2.038067</td>\n    </tr>\n    <tr>\n      <th>11628</th>\n      <td>Epic Movie (2007)</td>\n      <td>1.472287</td>\n      <td>1281.0</td>\n      <td>2.009972</td>\n    </tr>\n    <tr>\n      <th>3503</th>\n      <td>Battlefield Earth (2000)</td>\n      <td>1.610675</td>\n      <td>4965.0</td>\n      <td>1.771187</td>\n    </tr>\n  </tbody>\n</table>\n</div>"
     },
     "execution_count": 35,
     "metadata": {},
     "output_type": "execute_result"
    }
   ],
   "source": [
    "q_movies = q_movies.sort_values(by='score',ascending=False)\n",
    "\n",
    "q_movies[['title', 'avgRating', 'ratingCount', 'score']].head(20)\n",
    "q_movies[['title', 'avgRating', 'ratingCount', 'score']].tail(10)"
   ],
   "metadata": {
    "collapsed": false,
    "pycharm": {
     "name": "#%%\n"
    }
   }
  },
  {
   "cell_type": "markdown",
   "source": [
    "## Content based preporučvanje\n",
    "\n",
    "Čistimo tag dataset tako da pretvaramo sve u mala slova i spajamo riječi s razmacima iz jednog taga.\n",
    "Mergamo sve tagove jednoga filma od različitih korisnika u dataset movie tako da spojimo sve rijeci u\n",
    "jednu konkatenacijom."
   ],
   "metadata": {
    "collapsed": false
   }
  },
  {
   "cell_type": "code",
   "execution_count": 36,
   "outputs": [],
   "source": [
    "tags['tag'] = tags['tag'].apply(lambda x: str(x).replace(\" \",\"\").lower())\n",
    "\n",
    "movies = pd.merge(tags.groupby(['movieId'], as_index=False)['tag'].apply(lambda x: \" \".join(x)), movies,how='right',on='movieId')\n",
    "\n",
    "movies['tag']=movies['tag'].fillna('')"
   ],
   "metadata": {
    "collapsed": false,
    "pycharm": {
     "name": "#%%\n"
    }
   }
  },
  {
   "cell_type": "markdown",
   "source": [
    "Funkcija koja izbacuje sve duplikate tagova iz jednoga filma i ubacuje imena žanrova te stvara novi stupac\n",
    "u movie datasetu, soup koji sadži sve te ključne riječi."
   ],
   "metadata": {
    "collapsed": false
   }
  },
  {
   "cell_type": "code",
   "execution_count": 37,
   "outputs": [
    {
     "data": {
      "text/plain": "   movieId                                                tag  \\\n0        1  animated buddymovie cartoon cgi comedy compute...   \n1        2  fantasy adaptedfrom:book animals badcgi basedo...   \n2        3  moldy old annmargaret burgessmeredith darylhan...   \n3        4  characters girlmovie characters chickflick bas...   \n4        5  stevemartin stevemartin pregnancy remake aging...   \n\n                                title  \\\n0                    Toy Story (1995)   \n1                      Jumanji (1995)   \n2             Grumpier Old Men (1995)   \n3            Waiting to Exhale (1995)   \n4  Father of the Bride Part II (1995)   \n\n                                        genres  avgRating  ratingCount  \\\n0  Adventure|Animation|Children|Comedy|Fantasy   3.886649      68469.0   \n1                   Adventure|Children|Fantasy   3.246583      27143.0   \n2                               Comedy|Romance   3.173981      15585.0   \n3                         Comedy|Drama|Romance   2.874540       2989.0   \n4                                       Comedy   3.077291      15474.0   \n\n                                                soup  \n0  childrencartoon toys dolls action classic toyc...  \n1  jungle family game basedonchildren'sbook time ...  \n2  comedinhadevelhinhosengraãƒâ§ada burgessmeredi...  \n3  basedonnovelorbook clv characters chickflick s...  \n4  family pregnancy worstmoviesever midlifecrisis...  ",
      "text/html": "<div>\n<style scoped>\n    .dataframe tbody tr th:only-of-type {\n        vertical-align: middle;\n    }\n\n    .dataframe tbody tr th {\n        vertical-align: top;\n    }\n\n    .dataframe thead th {\n        text-align: right;\n    }\n</style>\n<table border=\"1\" class=\"dataframe\">\n  <thead>\n    <tr style=\"text-align: right;\">\n      <th></th>\n      <th>movieId</th>\n      <th>tag</th>\n      <th>title</th>\n      <th>genres</th>\n      <th>avgRating</th>\n      <th>ratingCount</th>\n      <th>soup</th>\n    </tr>\n  </thead>\n  <tbody>\n    <tr>\n      <th>0</th>\n      <td>1</td>\n      <td>animated buddymovie cartoon cgi comedy compute...</td>\n      <td>Toy Story (1995)</td>\n      <td>Adventure|Animation|Children|Comedy|Fantasy</td>\n      <td>3.886649</td>\n      <td>68469.0</td>\n      <td>childrencartoon toys dolls action classic toyc...</td>\n    </tr>\n    <tr>\n      <th>1</th>\n      <td>2</td>\n      <td>fantasy adaptedfrom:book animals badcgi basedo...</td>\n      <td>Jumanji (1995)</td>\n      <td>Adventure|Children|Fantasy</td>\n      <td>3.246583</td>\n      <td>27143.0</td>\n      <td>jungle family game basedonchildren'sbook time ...</td>\n    </tr>\n    <tr>\n      <th>2</th>\n      <td>3</td>\n      <td>moldy old annmargaret burgessmeredith darylhan...</td>\n      <td>Grumpier Old Men (1995)</td>\n      <td>Comedy|Romance</td>\n      <td>3.173981</td>\n      <td>15585.0</td>\n      <td>comedinhadevelhinhosengraãƒâ§ada burgessmeredi...</td>\n    </tr>\n    <tr>\n      <th>3</th>\n      <td>4</td>\n      <td>characters girlmovie characters chickflick bas...</td>\n      <td>Waiting to Exhale (1995)</td>\n      <td>Comedy|Drama|Romance</td>\n      <td>2.874540</td>\n      <td>2989.0</td>\n      <td>basedonnovelorbook clv characters chickflick s...</td>\n    </tr>\n    <tr>\n      <th>4</th>\n      <td>5</td>\n      <td>stevemartin stevemartin pregnancy remake aging...</td>\n      <td>Father of the Bride Part II (1995)</td>\n      <td>Comedy</td>\n      <td>3.077291</td>\n      <td>15474.0</td>\n      <td>family pregnancy worstmoviesever midlifecrisis...</td>\n    </tr>\n  </tbody>\n</table>\n</div>"
     },
     "execution_count": 37,
     "metadata": {},
     "output_type": "execute_result"
    }
   ],
   "source": [
    "def createSoup(x):\n",
    "    infoSet = set(x['tag'].split(' '))\n",
    "\n",
    "    data = ' '.join(infoSet)\n",
    "\n",
    "    for genre in x['genres'].split('|'):\n",
    "        data+=(' ' + genre.lower())\n",
    "    return data\n",
    "\n",
    "movies['soup'] = movies.apply(createSoup,axis=1)\n",
    "\n",
    "movies.head()"
   ],
   "metadata": {
    "collapsed": false,
    "pycharm": {
     "name": "#%%\n"
    }
   }
  },
  {
   "cell_type": "markdown",
   "source": [
    "Stvaranje TF-IDF Vectorizera i slanje mu svih ključih riječi za filmove."
   ],
   "metadata": {
    "collapsed": false
   }
  },
  {
   "cell_type": "code",
   "execution_count": 38,
   "outputs": [
    {
     "data": {
      "text/plain": "(58098, 64665)"
     },
     "execution_count": 38,
     "metadata": {},
     "output_type": "execute_result"
    },
    {
     "data": {
      "text/plain": "['adolescent',\n 'adolescentdrama',\n 'adolescentfantasy',\n 'adolescentgays',\n 'adolescentphilosophy',\n 'adolescentpsychology',\n 'adolescentrebellion',\n 'adolescents',\n 'adolfeichmann',\n 'adolfhitler',\n 'adolfi',\n 'adolfomarsillach',\n 'adoorgopalakrishnan',\n 'adopted',\n 'adoptedbrother',\n 'adoptedchild',\n 'adopteddaughter',\n 'adoptedfrom',\n 'adoptedson',\n 'adoptee']"
     },
     "execution_count": 38,
     "metadata": {},
     "output_type": "execute_result"
    }
   ],
   "source": [
    "from sklearn.feature_extraction.text import TfidfVectorizer\n",
    "\n",
    "tfidf = TfidfVectorizer(stop_words='english')\n",
    "\n",
    "movies['soup'] = movies['soup'].fillna('')\n",
    "\n",
    "tfidf_matrix = tfidf.fit_transform(movies['soup'])\n",
    "\n",
    "tfidf_matrix.shape\n",
    "\n",
    "tfidf.get_feature_names()[1000:1020]"
   ],
   "metadata": {
    "collapsed": false,
    "pycharm": {
     "name": "#%%\n"
    }
   }
  },
  {
   "cell_type": "markdown",
   "source": [
    "Stvaranje linear_kernel objekta koji ce pomocu cosine similarity ocjene moći ocjenjivati filmove."
   ],
   "metadata": {
    "collapsed": false
   }
  },
  {
   "cell_type": "code",
   "execution_count": 39,
   "outputs": [
    {
     "data": {
      "text/plain": "(58098, 58098)"
     },
     "execution_count": 39,
     "metadata": {},
     "output_type": "execute_result"
    },
    {
     "data": {
      "text/plain": "array([0.07776567, 1.        , 0.01078806, ..., 0.        , 0.05633312,\n       0.        ])"
     },
     "execution_count": 39,
     "metadata": {},
     "output_type": "execute_result"
    }
   ],
   "source": [
    "from sklearn.metrics.pairwise import linear_kernel\n",
    "\n",
    "cosin_sin = linear_kernel(tfidf_matrix,tfidf_matrix)\n",
    "\n",
    "cosin_sin.shape\n",
    "\n",
    "cosin_sin[1]"
   ],
   "metadata": {
    "collapsed": false,
    "pycharm": {
     "name": "#%%\n"
    }
   }
  },
  {
   "cell_type": "code",
   "execution_count": 40,
   "outputs": [
    {
     "data": {
      "text/plain": "movieId\n1     0\n2     1\n3     2\n4     3\n5     4\n6     5\n7     6\n8     7\n9     8\n10    9\ndtype: int64"
     },
     "execution_count": 40,
     "metadata": {},
     "output_type": "execute_result"
    }
   ],
   "source": [
    "indices = pd.Series(movies.index, index = movies['movieId']).drop_duplicates()\n",
    "\n",
    "indices[:10]"
   ],
   "metadata": {
    "collapsed": false,
    "pycharm": {
     "name": "#%%\n"
    }
   }
  },
  {
   "cell_type": "markdown",
   "source": [
    "Funkcija koja za dan id filma pomoću sličnosti s drugim filmovima ispisuje slične filmove."
   ],
   "metadata": {
    "collapsed": false
   }
  },
  {
   "cell_type": "code",
   "execution_count": 41,
   "outputs": [
    {
     "data": {
      "text/plain": "       movieId                                                tag  \\\n2271      2355  animation disney pixar insects kevinspacey opp...   \n3028      3114  pixar sequelbetterthanoriginal abandonment ani...   \n4791      4886  funny pixar comedy funny pixar animated animat...   \n6272      6377  pixar funny pixar family father-sonrelationshi...   \n8278      8961  funny stylized super-hero animation powers ani...   \n11048    45517  redemption villainnonexistentornotneededforgoo...   \n15471    78499  boring overrated story pixar children adventur...   \n25071   115875  pixaranimation short toystory pixar short gary...   \n25073   115879  fastfood fastfoodrestaurant pixaranimation toy...   \n26550   120474  animation familyfriendly short computeranimati...   \n\n                                           title  \\\n2271                        Bug's Life, A (1998)   \n3028                          Toy Story 2 (1999)   \n4791                       Monsters, Inc. (2001)   \n6272                         Finding Nemo (2003)   \n8278                     Incredibles, The (2004)   \n11048                                Cars (2006)   \n15471                         Toy Story 3 (2010)   \n25071  Toy Story Toons: Hawaiian Vacation (2011)   \n25073          Toy Story Toons: Small Fry (2011)   \n26550          Toy Story That Time Forgot (2014)   \n\n                                                 genres  avgRating  \\\n2271                Adventure|Animation|Children|Comedy   3.575722   \n3028        Adventure|Animation|Children|Comedy|Fantasy   3.809977   \n4791        Adventure|Animation|Children|Comedy|Fantasy   3.853349   \n6272                Adventure|Animation|Children|Comedy   3.845176   \n8278         Action|Adventure|Animation|Children|Comedy   3.855338   \n11048                         Animation|Children|Comedy   3.347277   \n15471  Adventure|Animation|Children|Comedy|Fantasy|IMAX   3.870090   \n25071       Adventure|Animation|Children|Comedy|Fantasy   3.005882   \n25073       Adventure|Animation|Children|Comedy|Fantasy   3.205882   \n26550                                Animation|Children   3.229258   \n\n       ratingCount                                               soup  \n2271       25521.0  animation oscarnominee kevinspacey johnlassete...  \n3028       29820.0  toys dolls airplane daringrescues animation os...  \n4791       37112.0  billycrystal classic conveyorbelt dvd own cute...  \n6272       37000.0  memorylack aftercreditsstinger mydvds saturnaw...  \n8278       31857.0  harnoglemegetfineting.mendeterikkeheltitop.den...  \n11048       8391.0  aftercreditsstinger carrace instillsgoodmoralv...  \n15471      14841.0  toys dolls score sad boring toycomestolife bet...  \n25071         85.0  pixar garyrydstrom toystory short pixaranimati...  \n25073         68.0  toys short angusmaclane fastfoodrestaurant fun...  \n26550        229.0  cute toys animated pixar animation dinosaurs e...  ",
      "text/html": "<div>\n<style scoped>\n    .dataframe tbody tr th:only-of-type {\n        vertical-align: middle;\n    }\n\n    .dataframe tbody tr th {\n        vertical-align: top;\n    }\n\n    .dataframe thead th {\n        text-align: right;\n    }\n</style>\n<table border=\"1\" class=\"dataframe\">\n  <thead>\n    <tr style=\"text-align: right;\">\n      <th></th>\n      <th>movieId</th>\n      <th>tag</th>\n      <th>title</th>\n      <th>genres</th>\n      <th>avgRating</th>\n      <th>ratingCount</th>\n      <th>soup</th>\n    </tr>\n  </thead>\n  <tbody>\n    <tr>\n      <th>2271</th>\n      <td>2355</td>\n      <td>animation disney pixar insects kevinspacey opp...</td>\n      <td>Bug's Life, A (1998)</td>\n      <td>Adventure|Animation|Children|Comedy</td>\n      <td>3.575722</td>\n      <td>25521.0</td>\n      <td>animation oscarnominee kevinspacey johnlassete...</td>\n    </tr>\n    <tr>\n      <th>3028</th>\n      <td>3114</td>\n      <td>pixar sequelbetterthanoriginal abandonment ani...</td>\n      <td>Toy Story 2 (1999)</td>\n      <td>Adventure|Animation|Children|Comedy|Fantasy</td>\n      <td>3.809977</td>\n      <td>29820.0</td>\n      <td>toys dolls airplane daringrescues animation os...</td>\n    </tr>\n    <tr>\n      <th>4791</th>\n      <td>4886</td>\n      <td>funny pixar comedy funny pixar animated animat...</td>\n      <td>Monsters, Inc. (2001)</td>\n      <td>Adventure|Animation|Children|Comedy|Fantasy</td>\n      <td>3.853349</td>\n      <td>37112.0</td>\n      <td>billycrystal classic conveyorbelt dvd own cute...</td>\n    </tr>\n    <tr>\n      <th>6272</th>\n      <td>6377</td>\n      <td>pixar funny pixar family father-sonrelationshi...</td>\n      <td>Finding Nemo (2003)</td>\n      <td>Adventure|Animation|Children|Comedy</td>\n      <td>3.845176</td>\n      <td>37000.0</td>\n      <td>memorylack aftercreditsstinger mydvds saturnaw...</td>\n    </tr>\n    <tr>\n      <th>8278</th>\n      <td>8961</td>\n      <td>funny stylized super-hero animation powers ani...</td>\n      <td>Incredibles, The (2004)</td>\n      <td>Action|Adventure|Animation|Children|Comedy</td>\n      <td>3.855338</td>\n      <td>31857.0</td>\n      <td>harnoglemegetfineting.mendeterikkeheltitop.den...</td>\n    </tr>\n    <tr>\n      <th>11048</th>\n      <td>45517</td>\n      <td>redemption villainnonexistentornotneededforgoo...</td>\n      <td>Cars (2006)</td>\n      <td>Animation|Children|Comedy</td>\n      <td>3.347277</td>\n      <td>8391.0</td>\n      <td>aftercreditsstinger carrace instillsgoodmoralv...</td>\n    </tr>\n    <tr>\n      <th>15471</th>\n      <td>78499</td>\n      <td>boring overrated story pixar children adventur...</td>\n      <td>Toy Story 3 (2010)</td>\n      <td>Adventure|Animation|Children|Comedy|Fantasy|IMAX</td>\n      <td>3.870090</td>\n      <td>14841.0</td>\n      <td>toys dolls score sad boring toycomestolife bet...</td>\n    </tr>\n    <tr>\n      <th>25071</th>\n      <td>115875</td>\n      <td>pixaranimation short toystory pixar short gary...</td>\n      <td>Toy Story Toons: Hawaiian Vacation (2011)</td>\n      <td>Adventure|Animation|Children|Comedy|Fantasy</td>\n      <td>3.005882</td>\n      <td>85.0</td>\n      <td>pixar garyrydstrom toystory short pixaranimati...</td>\n    </tr>\n    <tr>\n      <th>25073</th>\n      <td>115879</td>\n      <td>fastfood fastfoodrestaurant pixaranimation toy...</td>\n      <td>Toy Story Toons: Small Fry (2011)</td>\n      <td>Adventure|Animation|Children|Comedy|Fantasy</td>\n      <td>3.205882</td>\n      <td>68.0</td>\n      <td>toys short angusmaclane fastfoodrestaurant fun...</td>\n    </tr>\n    <tr>\n      <th>26550</th>\n      <td>120474</td>\n      <td>animation familyfriendly short computeranimati...</td>\n      <td>Toy Story That Time Forgot (2014)</td>\n      <td>Animation|Children</td>\n      <td>3.229258</td>\n      <td>229.0</td>\n      <td>cute toys animated pixar animation dinosaurs e...</td>\n    </tr>\n  </tbody>\n</table>\n</div>"
     },
     "execution_count": 41,
     "metadata": {},
     "output_type": "execute_result"
    }
   ],
   "source": [
    "def get_recommendations_by_id(movieId,n=10, cosine_sim=cosin_sin):\n",
    "\n",
    "    idx = indices[movieId]\n",
    "\n",
    "    sim_scores = list(enumerate(cosine_sim[idx]))\n",
    "\n",
    "    sim_scores = sorted(sim_scores, key = lambda x: x[1], reverse=True)\n",
    "\n",
    "    sim_scores = sim_scores[1:n+1]\n",
    "\n",
    "    movie_indices = [i[0] for i in sim_scores]\n",
    "\n",
    "    return movies['movieId'].iloc[movie_indices]\n",
    "\n",
    "movies.loc[movies['movieId'].isin(get_recommendations_by_id(1))]"
   ],
   "metadata": {
    "collapsed": false,
    "pycharm": {
     "name": "#%%\n"
    }
   }
  },
  {
   "cell_type": "markdown",
   "source": [
    "Funkcija koja za dani id usera računa filmove koje bi se tom useru svidjeli."
   ],
   "metadata": {
    "collapsed": false
   }
  },
  {
   "cell_type": "code",
   "execution_count": 42,
   "outputs": [
    {
     "data": {
      "text/plain": "       movieId                                                tag  \\\n303        306  rewatch holes90s krzysztofkieslowski threecolo...   \n515        519  cyborgs franchise franchise badacting surreal ...   \n2061      2144  80'sclassic teenangst johnhughes 1980s 80'scla...   \n4422      4516      robertdowneyjr. sport robertdowneyjr. betamax   \n6783      6892  robertdowneyjr robertdowneyjr. robertdowneyjr ...   \n14018    70008                 highway hitchhike roadmovie writer   \n20573   100103                                             writer   \n26087   118782                                     pizza pizzeria   \n29707   128661                                             writer   \n47344   169700         blackout heatwave hip-hop newyorkcity punk   \n\n                                                  title  \\\n303    Three Colors: Red (Trois couleurs: Rouge) (1994)   \n515                                    RoboCop 3 (1993)   \n2061                             Sixteen Candles (1984)   \n4422                              Johnny Be Good (1988)   \n6783                      Singing Detective, The (2003)   \n14018                         Kill Your Darlings (2006)   \n20573         Day and Night (Le jour et la nuit) (1997)   \n26087                                  Fat Pizza (2003)   \n29707                   The Man Who Wouldn't Die (1994)   \n47344             NY77: The Coolest Year in Hell (2007)   \n\n                                       genres  avgRating  ratingCount  \\\n303                                     Drama   4.057025       8470.0   \n515        Action|Crime|Drama|Sci-Fi|Thriller   2.244411       5904.0   \n2061                           Comedy|Romance   3.618039      10721.0   \n4422                                   Comedy   2.279661        295.0   \n6783             Comedy|Drama|Musical|Mystery   2.783333        180.0   \n14018                            Comedy|Drama   2.571429          7.0   \n20573                                   Drama   0.500000          2.0   \n26087  Action|Adventure|Comedy|Crime|Thriller   3.100000         10.0   \n29707                    Crime|Drama|Thriller   4.500000          1.0   \n47344                             Documentary   3.833333          3.0   \n\n                                                    soup  \n303    mannequin french gentle bibliothek john geneva...  \n515    policeman dystopia cyborg crappysequel scifi c...  \n2061   highschool mysoginistic birthday farce nerds b...  \n4422                betamax sport robertdowneyjr. comedy  \n6783   melgibson robertdowneyjr robertdowneyjr. comed...  \n14018    roadmovie highway hitchhike writer comedy drama  \n20573                                       writer drama  \n26087  pizzeria pizza action adventure comedy crime t...  \n29707                        writer crime drama thriller  \n47344  blackout hip-hop newyorkcity punk heatwave doc...  ",
      "text/html": "<div>\n<style scoped>\n    .dataframe tbody tr th:only-of-type {\n        vertical-align: middle;\n    }\n\n    .dataframe tbody tr th {\n        vertical-align: top;\n    }\n\n    .dataframe thead th {\n        text-align: right;\n    }\n</style>\n<table border=\"1\" class=\"dataframe\">\n  <thead>\n    <tr style=\"text-align: right;\">\n      <th></th>\n      <th>movieId</th>\n      <th>tag</th>\n      <th>title</th>\n      <th>genres</th>\n      <th>avgRating</th>\n      <th>ratingCount</th>\n      <th>soup</th>\n    </tr>\n  </thead>\n  <tbody>\n    <tr>\n      <th>303</th>\n      <td>306</td>\n      <td>rewatch holes90s krzysztofkieslowski threecolo...</td>\n      <td>Three Colors: Red (Trois couleurs: Rouge) (1994)</td>\n      <td>Drama</td>\n      <td>4.057025</td>\n      <td>8470.0</td>\n      <td>mannequin french gentle bibliothek john geneva...</td>\n    </tr>\n    <tr>\n      <th>515</th>\n      <td>519</td>\n      <td>cyborgs franchise franchise badacting surreal ...</td>\n      <td>RoboCop 3 (1993)</td>\n      <td>Action|Crime|Drama|Sci-Fi|Thriller</td>\n      <td>2.244411</td>\n      <td>5904.0</td>\n      <td>policeman dystopia cyborg crappysequel scifi c...</td>\n    </tr>\n    <tr>\n      <th>2061</th>\n      <td>2144</td>\n      <td>80'sclassic teenangst johnhughes 1980s 80'scla...</td>\n      <td>Sixteen Candles (1984)</td>\n      <td>Comedy|Romance</td>\n      <td>3.618039</td>\n      <td>10721.0</td>\n      <td>highschool mysoginistic birthday farce nerds b...</td>\n    </tr>\n    <tr>\n      <th>4422</th>\n      <td>4516</td>\n      <td>robertdowneyjr. sport robertdowneyjr. betamax</td>\n      <td>Johnny Be Good (1988)</td>\n      <td>Comedy</td>\n      <td>2.279661</td>\n      <td>295.0</td>\n      <td>betamax sport robertdowneyjr. comedy</td>\n    </tr>\n    <tr>\n      <th>6783</th>\n      <td>6892</td>\n      <td>robertdowneyjr robertdowneyjr. robertdowneyjr ...</td>\n      <td>Singing Detective, The (2003)</td>\n      <td>Comedy|Drama|Musical|Mystery</td>\n      <td>2.783333</td>\n      <td>180.0</td>\n      <td>melgibson robertdowneyjr robertdowneyjr. comed...</td>\n    </tr>\n    <tr>\n      <th>14018</th>\n      <td>70008</td>\n      <td>highway hitchhike roadmovie writer</td>\n      <td>Kill Your Darlings (2006)</td>\n      <td>Comedy|Drama</td>\n      <td>2.571429</td>\n      <td>7.0</td>\n      <td>roadmovie highway hitchhike writer comedy drama</td>\n    </tr>\n    <tr>\n      <th>20573</th>\n      <td>100103</td>\n      <td>writer</td>\n      <td>Day and Night (Le jour et la nuit) (1997)</td>\n      <td>Drama</td>\n      <td>0.500000</td>\n      <td>2.0</td>\n      <td>writer drama</td>\n    </tr>\n    <tr>\n      <th>26087</th>\n      <td>118782</td>\n      <td>pizza pizzeria</td>\n      <td>Fat Pizza (2003)</td>\n      <td>Action|Adventure|Comedy|Crime|Thriller</td>\n      <td>3.100000</td>\n      <td>10.0</td>\n      <td>pizzeria pizza action adventure comedy crime t...</td>\n    </tr>\n    <tr>\n      <th>29707</th>\n      <td>128661</td>\n      <td>writer</td>\n      <td>The Man Who Wouldn't Die (1994)</td>\n      <td>Crime|Drama|Thriller</td>\n      <td>4.500000</td>\n      <td>1.0</td>\n      <td>writer crime drama thriller</td>\n    </tr>\n    <tr>\n      <th>47344</th>\n      <td>169700</td>\n      <td>blackout heatwave hip-hop newyorkcity punk</td>\n      <td>NY77: The Coolest Year in Hell (2007)</td>\n      <td>Documentary</td>\n      <td>3.833333</td>\n      <td>3.0</td>\n      <td>blackout hip-hop newyorkcity punk heatwave doc...</td>\n    </tr>\n  </tbody>\n</table>\n</div>"
     },
     "execution_count": 42,
     "metadata": {},
     "output_type": "execute_result"
    }
   ],
   "source": [
    "def get_recommendations_by_user(userId, n = 10, cosine_sim = cosin_sin):\n",
    "    userMovies = ratings.loc[ratings['userId']==userId]\n",
    "    watched = pd.Series(userMovies['movieId']).tolist()\n",
    "\n",
    "    scores=list()\n",
    "\n",
    "    for item in userMovies.itertuples():\n",
    "        movieId = item[2]\n",
    "        rating = item[3]\n",
    "\n",
    "        idx = indices[movieId]\n",
    "        sim_scores = list(enumerate(cosine_sim[idx]*rating))\n",
    "        sim_scores = sorted(sim_scores, key = lambda x: x[1], reverse=True)\n",
    "        sim_scores = sim_scores[1:n+1]\n",
    "\n",
    "        scores.extend(sim_scores)\n",
    "\n",
    "    scores = sorted(scores, key = lambda  x: x[1], reverse=True)\n",
    "\n",
    "    movie_recommendations = []\n",
    "\n",
    "    num=n\n",
    "    while True:\n",
    "        val = scores[num]\n",
    "        if not watched.__contains__(val[0]) and not movie_recommendations.__contains__(val[0]):\n",
    "            movie_recommendations.append(val[0])\n",
    "            num-=1\n",
    "        if num==0:\n",
    "            break\n",
    "\n",
    "    return movies['movieId'].iloc[movie_recommendations]\n",
    "\n",
    "movies.loc[movies['movieId'].isin(get_recommendations_by_user(1))]"
   ],
   "metadata": {
    "collapsed": false,
    "pycharm": {
     "name": "#%%\n"
    }
   }
  }
 ],
 "metadata": {
  "kernelspec": {
   "name": "projektr",
   "language": "python",
   "display_name": "Python (ProjektR)"
  },
  "language_info": {
   "codemirror_mode": {
    "name": "ipython",
    "version": 2
   },
   "file_extension": ".py",
   "mimetype": "text/x-python",
   "name": "python",
   "nbconvert_exporter": "python",
   "pygments_lexer": "ipython2",
   "version": "2.7.6"
  }
 },
 "nbformat": 4,
 "nbformat_minor": 0
}