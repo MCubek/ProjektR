{
 "cells": [
  {
   "cell_type": "markdown",
   "metadata": {
    "collapsed": true,
    "pycharm": {
     "name": "#%% md\n"
    }
   },
   "source": [
    "# Movie Recommendation System\n",
    "#### Bokšić Iva, Čubek Matej, Grbeša Tomislav\n",
    "### Stvaranje prediktivnog modela preporuke filma pomoću MovieLens dataseta.\n",
    "\n",
    "\n",
    "Cilj je eksploratorna analiza te razvijanje prediktivnog modela preporuke filma algoritmima strojnog učenja pomoću MovieLens dataseta.\n",
    "Model bi preporučivao nove filmove korisniku s obzirom na podatke koje ima o korisniku\n",
    "kao što su koje žanrove preferira, koje filmove je dobro ocijenio te koje loše  te s obzirom na\n",
    "podatke vrlo sličnih korisnika.\n",
    "\n",
    "[MovieLens dataset](https://grouplens.org/datasets/movielens/)\n",
    "\n",
    "U demonstraciji koristimo minimalnu verziju dataseta \"ml-latest-small\" i \"ml-latest\""
   ]
  },
  {
   "cell_type": "markdown",
   "metadata": {},
   "source": [
    "## Analiza podataka"
   ]
  },
  {
   "cell_type": "code",
   "execution_count": 9,
   "metadata": {
    "pycharm": {
     "name": "#%%\n"
    }
   },
   "outputs": [],
   "source": [
    "#Import paketa\n",
    "\n",
    "from math import sqrt\n",
    "import pandas as pd\n",
    "import numpy as np\n",
    "from matplotlib import pyplot as plt\n",
    "import itertools\n",
    "from sklearn.metrics.pairwise import cosine_similarity\n",
    "from sklearn.model_selection import train_test_split\n",
    "from sklearn.metrics import mean_squared_error\n",
    "\n",
    "# Više izlaznih linija\n",
    "from IPython.core.interactiveshell import InteractiveShell\n",
    "InteractiveShell.ast_node_interactivity = \"all\""
   ]
  },
  {
   "cell_type": "markdown",
   "metadata": {
    "pycharm": {
     "name": "#%% md\n"
    }
   },
   "source": [
    "Dataset sadrži podatke o filmovima u movies.csv-u.\n",
    "\n",
    "Svaki film sadrži svoj ID \"_movieId_\", naslov \"_title_\". Stupac \"_genres_\" sadrži\n",
    "žanrove pojedinog filma koji su spojeni u jedan string i međusobno odvojeni znakom \"|\"."
   ]
  },
  {
   "cell_type": "code",
   "execution_count": 4,
   "metadata": {
    "pycharm": {
     "name": "#%%\n"
    }
   },
   "outputs": [
    {
     "data": {
      "text/html": [
       "<div>\n",
       "<style scoped>\n",
       "    .dataframe tbody tr th:only-of-type {\n",
       "        vertical-align: middle;\n",
       "    }\n",
       "\n",
       "    .dataframe tbody tr th {\n",
       "        vertical-align: top;\n",
       "    }\n",
       "\n",
       "    .dataframe thead th {\n",
       "        text-align: right;\n",
       "    }\n",
       "</style>\n",
       "<table border=\"1\" class=\"dataframe\">\n",
       "  <thead>\n",
       "    <tr style=\"text-align: right;\">\n",
       "      <th></th>\n",
       "      <th>movieId</th>\n",
       "      <th>title</th>\n",
       "      <th>genres</th>\n",
       "    </tr>\n",
       "  </thead>\n",
       "  <tbody>\n",
       "    <tr>\n",
       "      <th>0</th>\n",
       "      <td>1</td>\n",
       "      <td>Toy Story (1995)</td>\n",
       "      <td>Adventure|Animation|Children|Comedy|Fantasy</td>\n",
       "    </tr>\n",
       "    <tr>\n",
       "      <th>1</th>\n",
       "      <td>2</td>\n",
       "      <td>Jumanji (1995)</td>\n",
       "      <td>Adventure|Children|Fantasy</td>\n",
       "    </tr>\n",
       "    <tr>\n",
       "      <th>2</th>\n",
       "      <td>3</td>\n",
       "      <td>Grumpier Old Men (1995)</td>\n",
       "      <td>Comedy|Romance</td>\n",
       "    </tr>\n",
       "    <tr>\n",
       "      <th>3</th>\n",
       "      <td>4</td>\n",
       "      <td>Waiting to Exhale (1995)</td>\n",
       "      <td>Comedy|Drama|Romance</td>\n",
       "    </tr>\n",
       "    <tr>\n",
       "      <th>4</th>\n",
       "      <td>5</td>\n",
       "      <td>Father of the Bride Part II (1995)</td>\n",
       "      <td>Comedy</td>\n",
       "    </tr>\n",
       "  </tbody>\n",
       "</table>\n",
       "</div>"
      ],
      "text/plain": [
       "   movieId                               title  \\\n",
       "0        1                    Toy Story (1995)   \n",
       "1        2                      Jumanji (1995)   \n",
       "2        3             Grumpier Old Men (1995)   \n",
       "3        4            Waiting to Exhale (1995)   \n",
       "4        5  Father of the Bride Part II (1995)   \n",
       "\n",
       "                                        genres  \n",
       "0  Adventure|Animation|Children|Comedy|Fantasy  \n",
       "1                   Adventure|Children|Fantasy  \n",
       "2                               Comedy|Romance  \n",
       "3                         Comedy|Drama|Romance  \n",
       "4                                       Comedy  "
      ]
     },
     "execution_count": 4,
     "metadata": {},
     "output_type": "execute_result"
    }
   ],
   "source": [
    "#Učitana csv file vezan za informacije o filmovima\n",
    "movies = pd.read_csv('ml-latest-small/movies.csv')\n",
    "movies.head()"
   ]
  },
  {
   "cell_type": "markdown",
   "metadata": {},
   "source": [
    "Broj filmova u datasetu."
   ]
  },
  {
   "cell_type": "code",
   "execution_count": 3,
   "metadata": {
    "pycharm": {
     "name": "#%%\n"
    }
   },
   "outputs": [
    {
     "data": {
      "text/plain": [
       "9742"
      ]
     },
     "execution_count": 3,
     "metadata": {},
     "output_type": "execute_result"
    }
   ],
   "source": [
    "movies['movieId'].count()\n"
   ]
  },
  {
   "cell_type": "markdown",
   "metadata": {},
   "source": [
    "Podaci o ocjenjivanju iz ratings.csv sadrže ID korisnika \"_userId_\" koji je pogledao film \"_movieId_\" i ocijenio ga s\n",
    "ocjenom prikazanom u \"_rating_\".\n"
   ]
  },
  {
   "cell_type": "code",
   "execution_count": 5,
   "metadata": {
    "pycharm": {
     "name": "#%%\n"
    }
   },
   "outputs": [
    {
     "data": {
      "text/html": [
       "<div>\n",
       "<style scoped>\n",
       "    .dataframe tbody tr th:only-of-type {\n",
       "        vertical-align: middle;\n",
       "    }\n",
       "\n",
       "    .dataframe tbody tr th {\n",
       "        vertical-align: top;\n",
       "    }\n",
       "\n",
       "    .dataframe thead th {\n",
       "        text-align: right;\n",
       "    }\n",
       "</style>\n",
       "<table border=\"1\" class=\"dataframe\">\n",
       "  <thead>\n",
       "    <tr style=\"text-align: right;\">\n",
       "      <th></th>\n",
       "      <th>userId</th>\n",
       "      <th>movieId</th>\n",
       "      <th>rating</th>\n",
       "    </tr>\n",
       "  </thead>\n",
       "  <tbody>\n",
       "    <tr>\n",
       "      <th>0</th>\n",
       "      <td>1</td>\n",
       "      <td>1</td>\n",
       "      <td>4.0</td>\n",
       "    </tr>\n",
       "    <tr>\n",
       "      <th>1</th>\n",
       "      <td>1</td>\n",
       "      <td>3</td>\n",
       "      <td>4.0</td>\n",
       "    </tr>\n",
       "    <tr>\n",
       "      <th>2</th>\n",
       "      <td>1</td>\n",
       "      <td>6</td>\n",
       "      <td>4.0</td>\n",
       "    </tr>\n",
       "    <tr>\n",
       "      <th>3</th>\n",
       "      <td>1</td>\n",
       "      <td>47</td>\n",
       "      <td>5.0</td>\n",
       "    </tr>\n",
       "    <tr>\n",
       "      <th>4</th>\n",
       "      <td>1</td>\n",
       "      <td>50</td>\n",
       "      <td>5.0</td>\n",
       "    </tr>\n",
       "  </tbody>\n",
       "</table>\n",
       "</div>"
      ],
      "text/plain": [
       "   userId  movieId  rating\n",
       "0       1        1     4.0\n",
       "1       1        3     4.0\n",
       "2       1        6     4.0\n",
       "3       1       47     5.0\n",
       "4       1       50     5.0"
      ]
     },
     "execution_count": 5,
     "metadata": {},
     "output_type": "execute_result"
    }
   ],
   "source": [
    "#Učitan csv file vezan za ocijenjivanje filmova\n",
    "ratings = pd.read_csv('ml-latest-small/ratings.csv',usecols=['userId','movieId','rating'])\n",
    "ratings.head()"
   ]
  },
  {
   "cell_type": "markdown",
   "metadata": {},
   "source": [
    "Komentari korisnika o pojedinom filmu nalaze se u tags.csv-u. Korisnik s ID-om \"_userId_\" za film s ID-om \"_movieId_\"\n",
    "ostavio je komentar \"_tag_\"."
   ]
  },
  {
   "cell_type": "code",
   "execution_count": 5,
   "metadata": {
    "pycharm": {
     "name": "#%%\n"
    }
   },
   "outputs": [
    {
     "data": {
      "text/html": [
       "<div>\n",
       "<style scoped>\n",
       "    .dataframe tbody tr th:only-of-type {\n",
       "        vertical-align: middle;\n",
       "    }\n",
       "\n",
       "    .dataframe tbody tr th {\n",
       "        vertical-align: top;\n",
       "    }\n",
       "\n",
       "    .dataframe thead th {\n",
       "        text-align: right;\n",
       "    }\n",
       "</style>\n",
       "<table border=\"1\" class=\"dataframe\">\n",
       "  <thead>\n",
       "    <tr style=\"text-align: right;\">\n",
       "      <th></th>\n",
       "      <th>userId</th>\n",
       "      <th>movieId</th>\n",
       "      <th>tag</th>\n",
       "    </tr>\n",
       "  </thead>\n",
       "  <tbody>\n",
       "    <tr>\n",
       "      <th>0</th>\n",
       "      <td>2</td>\n",
       "      <td>60756</td>\n",
       "      <td>funny</td>\n",
       "    </tr>\n",
       "    <tr>\n",
       "      <th>1</th>\n",
       "      <td>2</td>\n",
       "      <td>60756</td>\n",
       "      <td>Highly quotable</td>\n",
       "    </tr>\n",
       "    <tr>\n",
       "      <th>2</th>\n",
       "      <td>2</td>\n",
       "      <td>60756</td>\n",
       "      <td>will ferrell</td>\n",
       "    </tr>\n",
       "    <tr>\n",
       "      <th>3</th>\n",
       "      <td>2</td>\n",
       "      <td>89774</td>\n",
       "      <td>Boxing story</td>\n",
       "    </tr>\n",
       "    <tr>\n",
       "      <th>4</th>\n",
       "      <td>2</td>\n",
       "      <td>89774</td>\n",
       "      <td>MMA</td>\n",
       "    </tr>\n",
       "  </tbody>\n",
       "</table>\n",
       "</div>"
      ],
      "text/plain": [
       "   userId  movieId              tag\n",
       "0       2    60756            funny\n",
       "1       2    60756  Highly quotable\n",
       "2       2    60756     will ferrell\n",
       "3       2    89774     Boxing story\n",
       "4       2    89774              MMA"
      ]
     },
     "execution_count": 5,
     "metadata": {},
     "output_type": "execute_result"
    }
   ],
   "source": [
    "tags=pd.read_csv('ml-latest-small/tags.csv',usecols=['userId','movieId','tag'])\n",
    "tags.head()\n"
   ]
  },
  {
   "cell_type": "markdown",
   "metadata": {},
   "source": [
    "Statistika o ocjenama filmova."
   ]
  },
  {
   "cell_type": "code",
   "execution_count": 6,
   "metadata": {
    "pycharm": {
     "name": "#%%\n"
    }
   },
   "outputs": [
    {
     "data": {
      "text/plain": [
       "count    100836.000000\n",
       "mean          3.501557\n",
       "std           1.042529\n",
       "min           0.500000\n",
       "25%           3.000000\n",
       "50%           3.500000\n",
       "75%           4.000000\n",
       "max           5.000000\n",
       "Name: rating, dtype: float64"
      ]
     },
     "execution_count": 6,
     "metadata": {},
     "output_type": "execute_result"
    }
   ],
   "source": [
    "ratings['rating'].describe(include='all')\n"
   ]
  },
  {
   "cell_type": "markdown",
   "metadata": {},
   "source": [
    "**Histogram ocjena**\n",
    "\n",
    "Histogram prikazuje koliko je filmova ocijenjeno kojom ocjenom.\n",
    "Najviše filmova ima ocjenu između 3 i 4."
   ]
  },
  {
   "cell_type": "code",
   "execution_count": 7,
   "metadata": {
    "pycharm": {
     "name": "#%%\n"
    }
   },
   "outputs": [
    {
     "data": {
      "text/plain": [
       "rating\n",
       "0.5    1066\n",
       "1.0    1726\n",
       "1.5    1386\n",
       "2.0    3339\n",
       "2.5    2925\n",
       "3.0    4986\n",
       "3.5    4216\n",
       "4.0    5109\n",
       "4.5    2710\n",
       "5.0    2954\n",
       "Name: movieId, dtype: int64"
      ]
     },
     "execution_count": 7,
     "metadata": {},
     "output_type": "execute_result"
    },
    {
     "data": {
      "text/plain": [
       "array([[<AxesSubplot:title={'center':'rating'}>]], dtype=object)"
      ]
     },
     "execution_count": 7,
     "metadata": {},
     "output_type": "execute_result"
    },
    {
     "data": {
      "image/png": "[encoded data removed]",
      "text/plain": [
       "<Figure size 720x720 with 1 Axes>"
      ]
     },
     "metadata": {
      "needs_background": "light"
     },
     "output_type": "display_data"
    }
   ],
   "source": [
    "ratings.groupby('rating')['movieId'].nunique()\n",
    "\n",
    "ratings.hist(column='rating',figsize=(10,10),bins=5,grid=False)"
   ]
  },
  {
   "cell_type": "markdown",
   "metadata": {},
   "source": [
    "Izbacivanje filmova bez žanra i ispis broja filmova po žanru.\n",
    "\n",
    "Budući da su žanrovi spojeni u jedan string potrebno ih je razdvojiti i proći po svima kako bi se zabilježilo koji se sve\n",
    "žanrovi pojavljuju i koliko puta."
   ]
  },
  {
   "cell_type": "code",
   "execution_count": 8,
   "metadata": {
    "pycharm": {
     "name": "#%%\n"
    }
   },
   "outputs": [
    {
     "data": {
      "text/plain": [
       "{'Adventure': 1263,\n",
       " 'Animation': 611,\n",
       " 'Children': 664,\n",
       " 'Comedy': 3756,\n",
       " 'Fantasy': 779,\n",
       " 'Romance': 1596,\n",
       " 'Drama': 4361,\n",
       " 'Action': 1828,\n",
       " 'Crime': 1199,\n",
       " 'Thriller': 1894,\n",
       " 'Horror': 978,\n",
       " 'Mystery': 573,\n",
       " 'Sci-Fi': 980,\n",
       " 'War': 382,\n",
       " 'Musical': 334,\n",
       " 'Documentary': 440,\n",
       " 'IMAX': 158,\n",
       " 'Western': 167,\n",
       " 'Film-Noir': 87}"
      ]
     },
     "execution_count": 8,
     "metadata": {},
     "output_type": "execute_result"
    }
   ],
   "source": [
    "genre_filter = (movies['genres'] == '(no genres listed)')\n",
    "\n",
    "movies_filtre = movies[~genre_filter]\n",
    "movies_filtre=movies_filtre.reset_index(drop=True)\n",
    "\n",
    "genres_count = {}\n",
    "for row in range(movies_filtre['movieId'].count()):\n",
    "    for genre in movies_filtre['genres'][row].split(\"|\"):\n",
    "        if genre!='':\n",
    "            genres_count[genre]=genres_count.get(genre,0)+1\n",
    "\n",
    "genres_count"
   ]
  },
  {
   "cell_type": "markdown",
   "metadata": {},
   "source": [
    "**Histogram žanr**\n",
    "\n",
    "Histogram prikazuje zastupljenost žanrova u svim filmovima. Drama se ispostavila kao najzastupljeniji žanr."
   ]
  },
  {
   "cell_type": "code",
   "execution_count": 9,
   "metadata": {
    "pycharm": {
     "name": "#%%\n"
    }
   },
   "outputs": [
    {
     "data": {
      "text/plain": [
       "<BarContainer object of 19 artists>"
      ]
     },
     "execution_count": 9,
     "metadata": {},
     "output_type": "execute_result"
    },
    {
     "data": {
      "text/plain": [
       "([<matplotlib.axis.YTick at 0x2b3f503ddc0>,\n",
       "  <matplotlib.axis.YTick at 0x2b3f503d9a0>,\n",
       "  <matplotlib.axis.YTick at 0x2b3f50357f0>,\n",
       "  <matplotlib.axis.YTick at 0x2b3f50981f0>,\n",
       "  <matplotlib.axis.YTick at 0x2b3f5098700>,\n",
       "  <matplotlib.axis.YTick at 0x2b3f5098c10>,\n",
       "  <matplotlib.axis.YTick at 0x2b3f50a1160>,\n",
       "  <matplotlib.axis.YTick at 0x2b3f50a1670>,\n",
       "  <matplotlib.axis.YTick at 0x2b3f50a1b80>,\n",
       "  <matplotlib.axis.YTick at 0x2b3f50a70d0>,\n",
       "  <matplotlib.axis.YTick at 0x2b3f50a75e0>,\n",
       "  <matplotlib.axis.YTick at 0x2b3f50a16d0>,\n",
       "  <matplotlib.axis.YTick at 0x2b3f5098760>,\n",
       "  <matplotlib.axis.YTick at 0x2b3f50a72b0>,\n",
       "  <matplotlib.axis.YTick at 0x2b3f50a7ca0>,\n",
       "  <matplotlib.axis.YTick at 0x2b3f50af1f0>,\n",
       "  <matplotlib.axis.YTick at 0x2b3f50af700>,\n",
       "  <matplotlib.axis.YTick at 0x2b3f50afc10>,\n",
       "  <matplotlib.axis.YTick at 0x2b3f50b4160>],\n",
       " [Text(0, 0, 'Adventure'),\n",
       "  Text(0, 1, 'Animation'),\n",
       "  Text(0, 2, 'Children'),\n",
       "  Text(0, 3, 'Comedy'),\n",
       "  Text(0, 4, 'Fantasy'),\n",
       "  Text(0, 5, 'Romance'),\n",
       "  Text(0, 6, 'Drama'),\n",
       "  Text(0, 7, 'Action'),\n",
       "  Text(0, 8, 'Crime'),\n",
       "  Text(0, 9, 'Thriller'),\n",
       "  Text(0, 10, 'Horror'),\n",
       "  Text(0, 11, 'Mystery'),\n",
       "  Text(0, 12, 'Sci-Fi'),\n",
       "  Text(0, 13, 'War'),\n",
       "  Text(0, 14, 'Musical'),\n",
       "  Text(0, 15, 'Documentary'),\n",
       "  Text(0, 16, 'IMAX'),\n",
       "  Text(0, 17, 'Western'),\n",
       "  Text(0, 18, 'Film-Noir')])"
      ]
     },
     "execution_count": 9,
     "metadata": {},
     "output_type": "execute_result"
    },
    {
     "data": {
      "text/plain": [
       "Text(0.5, 0, 'Broj Filmova')"
      ]
     },
     "execution_count": 9,
     "metadata": {},
     "output_type": "execute_result"
    },
    {
     "data": {
      "text/plain": [
       "Text(0.5, 1.0, 'Popularnost žanrova')"
      ]
     },
     "execution_count": 9,
     "metadata": {},
     "output_type": "execute_result"
    },
    {
     "data": {
      "text/plain": [
       "Text(1283, 0.1, '1263')"
      ]
     },
     "execution_count": 9,
     "metadata": {},
     "output_type": "execute_result"
    },
    {
     "data": {
      "text/plain": [
       "Text(631, 1.1, '611')"
      ]
     },
     "execution_count": 9,
     "metadata": {},
     "output_type": "execute_result"
    },
    {
     "data": {
      "text/plain": [
       "Text(684, 2.1, '664')"
      ]
     },
     "execution_count": 9,
     "metadata": {},
     "output_type": "execute_result"
    },
    {
     "data": {
      "text/plain": [
       "Text(3776, 3.1, '3756')"
      ]
     },
     "execution_count": 9,
     "metadata": {},
     "output_type": "execute_result"
    },
    {
     "data": {
      "text/plain": [
       "Text(799, 4.1, '779')"
      ]
     },
     "execution_count": 9,
     "metadata": {},
     "output_type": "execute_result"
    },
    {
     "data": {
      "text/plain": [
       "Text(1616, 5.1, '1596')"
      ]
     },
     "execution_count": 9,
     "metadata": {},
     "output_type": "execute_result"
    },
    {
     "data": {
      "text/plain": [
       "Text(4381, 6.1, '4361')"
      ]
     },
     "execution_count": 9,
     "metadata": {},
     "output_type": "execute_result"
    },
    {
     "data": {
      "text/plain": [
       "Text(1848, 7.1, '1828')"
      ]
     },
     "execution_count": 9,
     "metadata": {},
     "output_type": "execute_result"
    },
    {
     "data": {
      "text/plain": [
       "Text(1219, 8.1, '1199')"
      ]
     },
     "execution_count": 9,
     "metadata": {},
     "output_type": "execute_result"
    },
    {
     "data": {
      "text/plain": [
       "Text(1914, 9.1, '1894')"
      ]
     },
     "execution_count": 9,
     "metadata": {},
     "output_type": "execute_result"
    },
    {
     "data": {
      "text/plain": [
       "Text(998, 10.1, '978')"
      ]
     },
     "execution_count": 9,
     "metadata": {},
     "output_type": "execute_result"
    },
    {
     "data": {
      "text/plain": [
       "Text(593, 11.1, '573')"
      ]
     },
     "execution_count": 9,
     "metadata": {},
     "output_type": "execute_result"
    },
    {
     "data": {
      "text/plain": [
       "Text(1000, 12.1, '980')"
      ]
     },
     "execution_count": 9,
     "metadata": {},
     "output_type": "execute_result"
    },
    {
     "data": {
      "text/plain": [
       "Text(402, 13.1, '382')"
      ]
     },
     "execution_count": 9,
     "metadata": {},
     "output_type": "execute_result"
    },
    {
     "data": {
      "text/plain": [
       "Text(354, 14.1, '334')"
      ]
     },
     "execution_count": 9,
     "metadata": {},
     "output_type": "execute_result"
    },
    {
     "data": {
      "text/plain": [
       "Text(460, 15.1, '440')"
      ]
     },
     "execution_count": 9,
     "metadata": {},
     "output_type": "execute_result"
    },
    {
     "data": {
      "text/plain": [
       "Text(178, 16.1, '158')"
      ]
     },
     "execution_count": 9,
     "metadata": {},
     "output_type": "execute_result"
    },
    {
     "data": {
      "text/plain": [
       "Text(187, 17.1, '167')"
      ]
     },
     "execution_count": 9,
     "metadata": {},
     "output_type": "execute_result"
    },
    {
     "data": {
      "text/plain": [
       "Text(107, 18.1, '87')"
      ]
     },
     "execution_count": 9,
     "metadata": {},
     "output_type": "execute_result"
    },
    {
     "data": {
      "image/png": "[encoded data removed]",
      "text/plain": [
       "<Figure size 1080x720 with 1 Axes>"
      ]
     },
     "metadata": {
      "needs_background": "light"
     },
     "output_type": "display_data"
    }
   ],
   "source": [
    "fig, ax = plt.subplots(figsize=(15,10))\n",
    "ax.barh(range(len(genres_count)),genres_count.values())\n",
    "plt.yticks(range(len(genres_count)),list(genres_count.keys()))\n",
    "plt.xlabel('Broj Filmova')\n",
    "plt.title(\"Popularnost žanrova\")\n",
    "for i, v in enumerate(genres_count.values()):\n",
    "    ax.text(v + 20, i + .10, v, color='green', fontweight='bold')\n"
   ]
  },
  {
   "cell_type": "markdown",
   "metadata": {},
   "source": [
    "## Razvoj prediktivnog modela preporuke filmova\n",
    "\n",
    "#### 1) _Najgledaniji filmovi_\n",
    "Početna ideja je predlagati korisnicima filmove\n",
    "koji su najviše puta  pregledani.\n",
    "\n",
    "Kako bi dobili te podatke tablice \"_movies_\" i \"_ratings_\" se spajaju s obzirom na\n",
    "atribut \"_movieId_\", koji se nalazi u obe tablice, u jednu talicu imena **movies_rating**.\n",
    "Dobivena tablica je grupirana po naslovu filma i izračunat je broj ponavljanja naslova\n",
    "što predstavlja broj pregleda filma i uzima se 15 najgledanijih filova kao prijedlog za gledanje."
   ]
  },
  {
   "cell_type": "code",
   "execution_count": 10,
   "metadata": {
    "pycharm": {
     "name": "#%%\n"
    }
   },
   "outputs": [
    {
     "data": {
      "text/plain": [
       "title\n",
       "Forrest Gump (1994)                                      329\n",
       "Shawshank Redemption, The (1994)                         317\n",
       "Pulp Fiction (1994)                                      307\n",
       "Silence of the Lambs, The (1991)                         279\n",
       "Matrix, The (1999)                                       278\n",
       "Star Wars: Episode IV - A New Hope (1977)                251\n",
       "Jurassic Park (1993)                                     238\n",
       "Braveheart (1995)                                        237\n",
       "Terminator 2: Judgment Day (1991)                        224\n",
       "Schindler's List (1993)                                  220\n",
       "Fight Club (1999)                                        218\n",
       "Toy Story (1995)                                         215\n",
       "Star Wars: Episode V - The Empire Strikes Back (1980)    211\n",
       "Usual Suspects, The (1995)                               204\n",
       "American Beauty (1999)                                   204\n",
       "dtype: int64"
      ]
     },
     "execution_count": 10,
     "metadata": {},
     "output_type": "execute_result"
    }
   ],
   "source": [
    "movies_rating = pd.merge(ratings, movies, on=['movieId'])\n",
    "\n",
    "movies_rating.groupby('title').size().sort_values(ascending=False)[:15]"
   ]
  },
  {
   "cell_type": "markdown",
   "metadata": {},
   "source": [
    "Problem ovog pristupa je što najviše pogledani filmovi ne\n",
    "garantiraju da su i najbolje ocijenjeni.\n",
    "\n",
    "#### 2) _Najbolje ocijenjeni_\n",
    "Novi prijedlog je predložiti filmove s najboljom ocjenom.\n",
    "Tablica **movies_rating** se grupira po naslovu filma i računa se prosječna ocjena.\n",
    "Kao prijedlog uzimaju se filmovi s najvećom ocjenom."
   ]
  },
  {
   "cell_type": "code",
   "execution_count": 11,
   "metadata": {
    "pycharm": {
     "name": "#%%\n"
    }
   },
   "outputs": [
    {
     "data": {
      "text/plain": [
       "title\n",
       "Karlson Returns (1970)                           5.0\n",
       "Winter in Prostokvashino (1984)                  5.0\n",
       "My Love (2006)                                   5.0\n",
       "Sorority House Massacre II (1990)                5.0\n",
       "Winnie the Pooh and the Day of Concern (1972)    5.0\n",
       "Sorority House Massacre (1986)                   5.0\n",
       "Bill Hicks: Revelations (1993)                   5.0\n",
       "My Man Godfrey (1957)                            5.0\n",
       "Hellbenders (2012)                               5.0\n",
       "In the blue sea, in the white foam. (1984)       5.0\n",
       "Won't You Be My Neighbor? (2018)                 5.0\n",
       "Red Sorghum (Hong gao liang) (1987)              5.0\n",
       "Love Exposure (Ai No Mukidashi) (2008)           5.0\n",
       "My Sassy Girl (Yeopgijeogin geunyeo) (2001)      5.0\n",
       "The Love Bug (1997)                              5.0\n",
       "Name: rating, dtype: float64"
      ]
     },
     "execution_count": 11,
     "metadata": {},
     "output_type": "execute_result"
    }
   ],
   "source": [
    "movies_rating.groupby('title')['rating'].mean().sort_values(ascending=False)[:15]\n",
    "\n"
   ]
  },
  {
   "cell_type": "markdown",
   "metadata": {},
   "source": [
    "Novi problem predstavljaju filmovi koji su pogledani od strane jednog ili\n",
    "malog broja korisnika, a ocijenjeni su visokom ocjenom jer se jednako\n",
    "tretiraju kao i oni koje je veliki broj korisnika visoko ocijenio."
   ]
  },
  {
   "cell_type": "markdown",
   "metadata": {},
   "source": [
    "#### 3) _Najbolje ocijenjeni s velikom gledanošću_\n",
    "\n",
    "Nova ideja je predlagati filmove s viskom ocjenom koji su pogledani i\n",
    "dobro ocijenjeni od većeg broja korisnika.\n",
    "\n",
    "\n",
    "Izračun srednje ocjene filma iz svih njegovih ocjena i zbrajanje koliko je puta ocijenjen.\n",
    "Ta dva podataka dodajemo u dataset filma."
   ]
  },
  {
   "cell_type": "code",
   "execution_count": 12,
   "metadata": {
    "pycharm": {
     "name": "#%%\n"
    }
   },
   "outputs": [
    {
     "data": {
      "text/html": [
       "<div>\n",
       "<style scoped>\n",
       "    .dataframe tbody tr th:only-of-type {\n",
       "        vertical-align: middle;\n",
       "    }\n",
       "\n",
       "    .dataframe tbody tr th {\n",
       "        vertical-align: top;\n",
       "    }\n",
       "\n",
       "    .dataframe thead th {\n",
       "        text-align: right;\n",
       "    }\n",
       "</style>\n",
       "<table border=\"1\" class=\"dataframe\">\n",
       "  <thead>\n",
       "    <tr style=\"text-align: right;\">\n",
       "      <th></th>\n",
       "      <th>movieId</th>\n",
       "      <th>title</th>\n",
       "      <th>genres</th>\n",
       "      <th>ratingCount</th>\n",
       "      <th>avgRating</th>\n",
       "    </tr>\n",
       "  </thead>\n",
       "  <tbody>\n",
       "    <tr>\n",
       "      <th>0</th>\n",
       "      <td>1</td>\n",
       "      <td>Toy Story (1995)</td>\n",
       "      <td>Adventure|Animation|Children|Comedy|Fantasy</td>\n",
       "      <td>215</td>\n",
       "      <td>3.920930</td>\n",
       "    </tr>\n",
       "    <tr>\n",
       "      <th>1</th>\n",
       "      <td>2</td>\n",
       "      <td>Jumanji (1995)</td>\n",
       "      <td>Adventure|Children|Fantasy</td>\n",
       "      <td>110</td>\n",
       "      <td>3.431818</td>\n",
       "    </tr>\n",
       "    <tr>\n",
       "      <th>2</th>\n",
       "      <td>3</td>\n",
       "      <td>Grumpier Old Men (1995)</td>\n",
       "      <td>Comedy|Romance</td>\n",
       "      <td>52</td>\n",
       "      <td>3.259615</td>\n",
       "    </tr>\n",
       "    <tr>\n",
       "      <th>3</th>\n",
       "      <td>4</td>\n",
       "      <td>Waiting to Exhale (1995)</td>\n",
       "      <td>Comedy|Drama|Romance</td>\n",
       "      <td>7</td>\n",
       "      <td>2.357143</td>\n",
       "    </tr>\n",
       "    <tr>\n",
       "      <th>4</th>\n",
       "      <td>5</td>\n",
       "      <td>Father of the Bride Part II (1995)</td>\n",
       "      <td>Comedy</td>\n",
       "      <td>49</td>\n",
       "      <td>3.071429</td>\n",
       "    </tr>\n",
       "  </tbody>\n",
       "</table>\n",
       "</div>"
      ],
      "text/plain": [
       "   movieId                               title  \\\n",
       "0        1                    Toy Story (1995)   \n",
       "1        2                      Jumanji (1995)   \n",
       "2        3             Grumpier Old Men (1995)   \n",
       "3        4            Waiting to Exhale (1995)   \n",
       "4        5  Father of the Bride Part II (1995)   \n",
       "\n",
       "                                        genres  ratingCount  avgRating  \n",
       "0  Adventure|Animation|Children|Comedy|Fantasy          215   3.920930  \n",
       "1                   Adventure|Children|Fantasy          110   3.431818  \n",
       "2                               Comedy|Romance           52   3.259615  \n",
       "3                         Comedy|Drama|Romance            7   2.357143  \n",
       "4                                       Comedy           49   3.071429  "
      ]
     },
     "execution_count": 12,
     "metadata": {},
     "output_type": "execute_result"
    }
   ],
   "source": [
    "movies_rating = movies_rating.groupby(['movieId','title','genres']) \\\n",
    "       .agg(ratingCount=('userId', 'size'), avgRating=('rating', 'mean')) \\\n",
    "       .reset_index()\n",
    "movies_rating.head()"
   ]
  },
  {
   "cell_type": "markdown",
   "metadata": {},
   "source": [
    "Ograničimo li se na filmove koji su pogledani barem 100 puta i sortiramo ih po ocjeni\n",
    "dobijemo sljedeće filmove."
   ]
  },
  {
   "cell_type": "code",
   "execution_count": 13,
   "metadata": {
    "pycharm": {
     "name": "#%%\n"
    }
   },
   "outputs": [
    {
     "data": {
      "text/html": [
       "<div>\n",
       "<style scoped>\n",
       "    .dataframe tbody tr th:only-of-type {\n",
       "        vertical-align: middle;\n",
       "    }\n",
       "\n",
       "    .dataframe tbody tr th {\n",
       "        vertical-align: top;\n",
       "    }\n",
       "\n",
       "    .dataframe thead th {\n",
       "        text-align: right;\n",
       "    }\n",
       "</style>\n",
       "<table border=\"1\" class=\"dataframe\">\n",
       "  <thead>\n",
       "    <tr style=\"text-align: right;\">\n",
       "      <th></th>\n",
       "      <th>movieId</th>\n",
       "      <th>title</th>\n",
       "      <th>genres</th>\n",
       "      <th>ratingCount</th>\n",
       "      <th>avgRating</th>\n",
       "    </tr>\n",
       "  </thead>\n",
       "  <tbody>\n",
       "    <tr>\n",
       "      <th>277</th>\n",
       "      <td>318</td>\n",
       "      <td>Shawshank Redemption, The (1994)</td>\n",
       "      <td>Crime|Drama</td>\n",
       "      <td>317</td>\n",
       "      <td>4.429022</td>\n",
       "    </tr>\n",
       "    <tr>\n",
       "      <th>659</th>\n",
       "      <td>858</td>\n",
       "      <td>Godfather, The (1972)</td>\n",
       "      <td>Crime|Drama</td>\n",
       "      <td>192</td>\n",
       "      <td>4.289062</td>\n",
       "    </tr>\n",
       "    <tr>\n",
       "      <th>2224</th>\n",
       "      <td>2959</td>\n",
       "      <td>Fight Club (1999)</td>\n",
       "      <td>Action|Crime|Drama|Thriller</td>\n",
       "      <td>218</td>\n",
       "      <td>4.272936</td>\n",
       "    </tr>\n",
       "    <tr>\n",
       "      <th>921</th>\n",
       "      <td>1221</td>\n",
       "      <td>Godfather: Part II, The (1974)</td>\n",
       "      <td>Crime|Drama</td>\n",
       "      <td>129</td>\n",
       "      <td>4.259690</td>\n",
       "    </tr>\n",
       "    <tr>\n",
       "      <th>6298</th>\n",
       "      <td>48516</td>\n",
       "      <td>Departed, The (2006)</td>\n",
       "      <td>Crime|Drama|Thriller</td>\n",
       "      <td>107</td>\n",
       "      <td>4.252336</td>\n",
       "    </tr>\n",
       "    <tr>\n",
       "      <th>913</th>\n",
       "      <td>1213</td>\n",
       "      <td>Goodfellas (1990)</td>\n",
       "      <td>Crime|Drama</td>\n",
       "      <td>126</td>\n",
       "      <td>4.250000</td>\n",
       "    </tr>\n",
       "    <tr>\n",
       "      <th>694</th>\n",
       "      <td>912</td>\n",
       "      <td>Casablanca (1942)</td>\n",
       "      <td>Drama|Romance</td>\n",
       "      <td>100</td>\n",
       "      <td>4.240000</td>\n",
       "    </tr>\n",
       "    <tr>\n",
       "      <th>6693</th>\n",
       "      <td>58559</td>\n",
       "      <td>Dark Knight, The (2008)</td>\n",
       "      <td>Action|Crime|Drama|IMAX</td>\n",
       "      <td>149</td>\n",
       "      <td>4.238255</td>\n",
       "    </tr>\n",
       "    <tr>\n",
       "      <th>46</th>\n",
       "      <td>50</td>\n",
       "      <td>Usual Suspects, The (1995)</td>\n",
       "      <td>Crime|Mystery|Thriller</td>\n",
       "      <td>204</td>\n",
       "      <td>4.237745</td>\n",
       "    </tr>\n",
       "    <tr>\n",
       "      <th>898</th>\n",
       "      <td>1197</td>\n",
       "      <td>Princess Bride, The (1987)</td>\n",
       "      <td>Action|Adventure|Comedy|Fantasy|Romance</td>\n",
       "      <td>142</td>\n",
       "      <td>4.232394</td>\n",
       "    </tr>\n",
       "    <tr>\n",
       "      <th>224</th>\n",
       "      <td>260</td>\n",
       "      <td>Star Wars: Episode IV - A New Hope (1977)</td>\n",
       "      <td>Action|Adventure|Sci-Fi</td>\n",
       "      <td>251</td>\n",
       "      <td>4.231076</td>\n",
       "    </tr>\n",
       "    <tr>\n",
       "      <th>461</th>\n",
       "      <td>527</td>\n",
       "      <td>Schindler's List (1993)</td>\n",
       "      <td>Drama|War</td>\n",
       "      <td>220</td>\n",
       "      <td>4.225000</td>\n",
       "    </tr>\n",
       "    <tr>\n",
       "      <th>908</th>\n",
       "      <td>1208</td>\n",
       "      <td>Apocalypse Now (1979)</td>\n",
       "      <td>Action|Drama|War</td>\n",
       "      <td>107</td>\n",
       "      <td>4.219626</td>\n",
       "    </tr>\n",
       "    <tr>\n",
       "      <th>1733</th>\n",
       "      <td>2329</td>\n",
       "      <td>American History X (1998)</td>\n",
       "      <td>Crime|Drama</td>\n",
       "      <td>129</td>\n",
       "      <td>4.217054</td>\n",
       "    </tr>\n",
       "    <tr>\n",
       "      <th>897</th>\n",
       "      <td>1196</td>\n",
       "      <td>Star Wars: Episode V - The Empire Strikes Back...</td>\n",
       "      <td>Action|Adventure|Sci-Fi</td>\n",
       "      <td>211</td>\n",
       "      <td>4.215640</td>\n",
       "    </tr>\n",
       "  </tbody>\n",
       "</table>\n",
       "</div>"
      ],
      "text/plain": [
       "      movieId                                              title  \\\n",
       "277       318                   Shawshank Redemption, The (1994)   \n",
       "659       858                              Godfather, The (1972)   \n",
       "2224     2959                                  Fight Club (1999)   \n",
       "921      1221                     Godfather: Part II, The (1974)   \n",
       "6298    48516                               Departed, The (2006)   \n",
       "913      1213                                  Goodfellas (1990)   \n",
       "694       912                                  Casablanca (1942)   \n",
       "6693    58559                            Dark Knight, The (2008)   \n",
       "46         50                         Usual Suspects, The (1995)   \n",
       "898      1197                         Princess Bride, The (1987)   \n",
       "224       260          Star Wars: Episode IV - A New Hope (1977)   \n",
       "461       527                            Schindler's List (1993)   \n",
       "908      1208                              Apocalypse Now (1979)   \n",
       "1733     2329                          American History X (1998)   \n",
       "897      1196  Star Wars: Episode V - The Empire Strikes Back...   \n",
       "\n",
       "                                       genres  ratingCount  avgRating  \n",
       "277                               Crime|Drama          317   4.429022  \n",
       "659                               Crime|Drama          192   4.289062  \n",
       "2224              Action|Crime|Drama|Thriller          218   4.272936  \n",
       "921                               Crime|Drama          129   4.259690  \n",
       "6298                     Crime|Drama|Thriller          107   4.252336  \n",
       "913                               Crime|Drama          126   4.250000  \n",
       "694                             Drama|Romance          100   4.240000  \n",
       "6693                  Action|Crime|Drama|IMAX          149   4.238255  \n",
       "46                     Crime|Mystery|Thriller          204   4.237745  \n",
       "898   Action|Adventure|Comedy|Fantasy|Romance          142   4.232394  \n",
       "224                   Action|Adventure|Sci-Fi          251   4.231076  \n",
       "461                                 Drama|War          220   4.225000  \n",
       "908                          Action|Drama|War          107   4.219626  \n",
       "1733                              Crime|Drama          129   4.217054  \n",
       "897                   Action|Adventure|Sci-Fi          211   4.215640  "
      ]
     },
     "execution_count": 13,
     "metadata": {},
     "output_type": "execute_result"
    }
   ],
   "source": [
    "movies_rating_100 = movies_rating.loc[(movies_rating['ratingCount'] >= 100)]\n",
    "movies_rating_100=movies_rating_100.sort_values(by=['avgRating', 'ratingCount'] ,ascending=False)\n",
    "movies_rating_100.head(15)"
   ]
  },
  {
   "cell_type": "markdown",
   "metadata": {},
   "source": [
    "Popis prvih petnaest filmova u tablici je:"
   ]
  },
  {
   "cell_type": "code",
   "execution_count": 14,
   "metadata": {
    "pycharm": {
     "name": "#%%\n"
    }
   },
   "outputs": [
    {
     "data": {
      "text/plain": [
       "277                      Shawshank Redemption, The (1994)\n",
       "659                                 Godfather, The (1972)\n",
       "2224                                    Fight Club (1999)\n",
       "921                        Godfather: Part II, The (1974)\n",
       "6298                                 Departed, The (2006)\n",
       "913                                     Goodfellas (1990)\n",
       "694                                     Casablanca (1942)\n",
       "6693                              Dark Knight, The (2008)\n",
       "46                             Usual Suspects, The (1995)\n",
       "898                            Princess Bride, The (1987)\n",
       "224             Star Wars: Episode IV - A New Hope (1977)\n",
       "461                               Schindler's List (1993)\n",
       "908                                 Apocalypse Now (1979)\n",
       "1733                            American History X (1998)\n",
       "897     Star Wars: Episode V - The Empire Strikes Back...\n",
       "Name: title, dtype: object"
      ]
     },
     "execution_count": 14,
     "metadata": {},
     "output_type": "execute_result"
    }
   ],
   "source": [
    "movies_rating_100['title'].head(15)"
   ]
  },
  {
   "cell_type": "markdown",
   "metadata": {},
   "source": [
    "Novi problem upravo predstavlju filmovi s visokom ocjenom i malim brojem pregleda koje sustav nikada ne bi predlagao."
   ]
  },
  {
   "cell_type": "markdown",
   "metadata": {},
   "source": [
    "#### 4) _Težinski prosjek ocjene_\n",
    "\n",
    "\n",
    "Preporuka filmova pomoću liste najpopularnijih svim korisnicima preporučuje iste filmove poredane po izračunatom ratingu\n",
    "**IMDb-formule**\n",
    "\n",
    "\\begin{equation}\n",
    "\\text Weighted Rating (\\bf WR) = \\left({{\\bf v} \\over {\\bf v} + {\\bf m}} \\cdot R\\right) + \\left({{\\bf m} \\over {\\bf v} + {\\bf m}} \\cdot C\\right)\n",
    "\\end{equation}\n",
    "\n",
    "gdje je:\n",
    "\n",
    "v = broj ocjena filma ,\n",
    "\n",
    "m = minimalni broj ocjena da bi se prikazao u listi (*izračunat kao 90% kvantil*),\n",
    "\n",
    "R = prosječna ocjena filma,\n",
    "\n",
    "C = prosječna ocjena svih filmova.\n",
    "\n",
    "WR = težinski prosjek\n",
    "\n"
   ]
  },
  {
   "cell_type": "markdown",
   "metadata": {},
   "source": [
    "Računanje srednje ocjene svih filmova i računanje granice 90% kvantila kao donje granice top filmova."
   ]
  },
  {
   "cell_type": "code",
   "execution_count": 15,
   "metadata": {
    "pycharm": {
     "name": "#%%\n"
    }
   },
   "outputs": [
    {
     "name": "stdout",
     "output_type": "stream",
     "text": [
      "mean: 3.501556983616962\n",
      "lowest num of votes: 27.0\n"
     ]
    }
   ],
   "source": [
    "mean_rating = ratings['rating'].mean()\n",
    "print('mean: '+ str(mean_rating))\n",
    "\n",
    "low_vote_number = movies_rating['ratingCount'].quantile(0.90)\n",
    "print('lowest num of votes: '+ str(low_vote_number))"
   ]
  },
  {
   "cell_type": "markdown",
   "metadata": {},
   "source": [
    "Filtriranje filmova koji su u top 10% po broju ocjena i njihovo pohranjivanje u novi dataset kvalificiranih filmova."
   ]
  },
  {
   "cell_type": "code",
   "execution_count": 16,
   "metadata": {
    "pycharm": {
     "name": "#%%\n"
    }
   },
   "outputs": [
    {
     "data": {
      "text/plain": [
       "(976, 5)"
      ]
     },
     "execution_count": 16,
     "metadata": {},
     "output_type": "execute_result"
    }
   ],
   "source": [
    "q_movies = movies_rating.copy().loc[movies_rating['ratingCount']>=low_vote_number]\n",
    "\n",
    "q_movies.shape"
   ]
  },
  {
   "cell_type": "markdown",
   "metadata": {},
   "source": [
    "Funkcija za računanje težinskog rating pomoću **IMDb-formule**\n",
    "Upis u dataset kvalificiranim filmovima njihov težinski prosjek ocjene u stupac \"_score_\"."
   ]
  },
  {
   "cell_type": "code",
   "execution_count": 17,
   "metadata": {
    "pycharm": {
     "name": "#%%\n"
    }
   },
   "outputs": [],
   "source": [
    "def weighed_rating(x, m=low_vote_number, C=mean_rating):\n",
    "    v = x['ratingCount']\n",
    "    R = x['avgRating']\n",
    "\n",
    "    return (v/(v+m) * R) + (m/(m+v) * C)\n",
    "\n",
    "q_movies['score'] = q_movies.apply(weighed_rating,axis=1)"
   ]
  },
  {
   "cell_type": "markdown",
   "metadata": {},
   "source": [
    "Sortiranje filmova po izračunatom težinskom prosjeku i ispis top 15 i najgorih 10."
   ]
  },
  {
   "cell_type": "code",
   "execution_count": 18,
   "metadata": {
    "pycharm": {
     "name": "#%%\n"
    }
   },
   "outputs": [
    {
     "data": {
      "text/html": [
       "<div>\n",
       "<style scoped>\n",
       "    .dataframe tbody tr th:only-of-type {\n",
       "        vertical-align: middle;\n",
       "    }\n",
       "\n",
       "    .dataframe tbody tr th {\n",
       "        vertical-align: top;\n",
       "    }\n",
       "\n",
       "    .dataframe thead th {\n",
       "        text-align: right;\n",
       "    }\n",
       "</style>\n",
       "<table border=\"1\" class=\"dataframe\">\n",
       "  <thead>\n",
       "    <tr style=\"text-align: right;\">\n",
       "      <th></th>\n",
       "      <th>title</th>\n",
       "      <th>avgRating</th>\n",
       "      <th>ratingCount</th>\n",
       "      <th>score</th>\n",
       "    </tr>\n",
       "  </thead>\n",
       "  <tbody>\n",
       "    <tr>\n",
       "      <th>277</th>\n",
       "      <td>Shawshank Redemption, The (1994)</td>\n",
       "      <td>4.429022</td>\n",
       "      <td>317</td>\n",
       "      <td>4.356227</td>\n",
       "    </tr>\n",
       "    <tr>\n",
       "      <th>659</th>\n",
       "      <td>Godfather, The (1972)</td>\n",
       "      <td>4.289062</td>\n",
       "      <td>192</td>\n",
       "      <td>4.191973</td>\n",
       "    </tr>\n",
       "    <tr>\n",
       "      <th>2224</th>\n",
       "      <td>Fight Club (1999)</td>\n",
       "      <td>4.272936</td>\n",
       "      <td>218</td>\n",
       "      <td>4.187927</td>\n",
       "    </tr>\n",
       "    <tr>\n",
       "      <th>224</th>\n",
       "      <td>Star Wars: Episode IV - A New Hope (1977)</td>\n",
       "      <td>4.231076</td>\n",
       "      <td>251</td>\n",
       "      <td>4.160223</td>\n",
       "    </tr>\n",
       "    <tr>\n",
       "      <th>46</th>\n",
       "      <td>Usual Suspects, The (1995)</td>\n",
       "      <td>4.237745</td>\n",
       "      <td>204</td>\n",
       "      <td>4.151697</td>\n",
       "    </tr>\n",
       "    <tr>\n",
       "      <th>461</th>\n",
       "      <td>Schindler's List (1993)</td>\n",
       "      <td>4.225000</td>\n",
       "      <td>220</td>\n",
       "      <td>4.145919</td>\n",
       "    </tr>\n",
       "    <tr>\n",
       "      <th>257</th>\n",
       "      <td>Pulp Fiction (1994)</td>\n",
       "      <td>4.197068</td>\n",
       "      <td>307</td>\n",
       "      <td>4.140844</td>\n",
       "    </tr>\n",
       "    <tr>\n",
       "      <th>897</th>\n",
       "      <td>Star Wars: Episode V - The Empire Strikes Back...</td>\n",
       "      <td>4.215640</td>\n",
       "      <td>211</td>\n",
       "      <td>4.134630</td>\n",
       "    </tr>\n",
       "    <tr>\n",
       "      <th>1938</th>\n",
       "      <td>Matrix, The (1999)</td>\n",
       "      <td>4.192446</td>\n",
       "      <td>278</td>\n",
       "      <td>4.131285</td>\n",
       "    </tr>\n",
       "    <tr>\n",
       "      <th>921</th>\n",
       "      <td>Godfather: Part II, The (1974)</td>\n",
       "      <td>4.259690</td>\n",
       "      <td>129</td>\n",
       "      <td>4.128475</td>\n",
       "    </tr>\n",
       "    <tr>\n",
       "      <th>6693</th>\n",
       "      <td>Dark Knight, The (2008)</td>\n",
       "      <td>4.238255</td>\n",
       "      <td>149</td>\n",
       "      <td>4.125239</td>\n",
       "    </tr>\n",
       "    <tr>\n",
       "      <th>899</th>\n",
       "      <td>Raiders of the Lost Ark (Indiana Jones and the...</td>\n",
       "      <td>4.207500</td>\n",
       "      <td>200</td>\n",
       "      <td>4.123533</td>\n",
       "    </tr>\n",
       "    <tr>\n",
       "      <th>913</th>\n",
       "      <td>Goodfellas (1990)</td>\n",
       "      <td>4.250000</td>\n",
       "      <td>126</td>\n",
       "      <td>4.117922</td>\n",
       "    </tr>\n",
       "    <tr>\n",
       "      <th>898</th>\n",
       "      <td>Princess Bride, The (1987)</td>\n",
       "      <td>4.232394</td>\n",
       "      <td>142</td>\n",
       "      <td>4.115633</td>\n",
       "    </tr>\n",
       "    <tr>\n",
       "      <th>314</th>\n",
       "      <td>Forrest Gump (1994)</td>\n",
       "      <td>4.164134</td>\n",
       "      <td>329</td>\n",
       "      <td>4.113882</td>\n",
       "    </tr>\n",
       "  </tbody>\n",
       "</table>\n",
       "</div>"
      ],
      "text/plain": [
       "                                                  title  avgRating  \\\n",
       "277                    Shawshank Redemption, The (1994)   4.429022   \n",
       "659                               Godfather, The (1972)   4.289062   \n",
       "2224                                  Fight Club (1999)   4.272936   \n",
       "224           Star Wars: Episode IV - A New Hope (1977)   4.231076   \n",
       "46                           Usual Suspects, The (1995)   4.237745   \n",
       "461                             Schindler's List (1993)   4.225000   \n",
       "257                                 Pulp Fiction (1994)   4.197068   \n",
       "897   Star Wars: Episode V - The Empire Strikes Back...   4.215640   \n",
       "1938                                 Matrix, The (1999)   4.192446   \n",
       "921                      Godfather: Part II, The (1974)   4.259690   \n",
       "6693                            Dark Knight, The (2008)   4.238255   \n",
       "899   Raiders of the Lost Ark (Indiana Jones and the...   4.207500   \n",
       "913                                   Goodfellas (1990)   4.250000   \n",
       "898                          Princess Bride, The (1987)   4.232394   \n",
       "314                                 Forrest Gump (1994)   4.164134   \n",
       "\n",
       "      ratingCount     score  \n",
       "277           317  4.356227  \n",
       "659           192  4.191973  \n",
       "2224          218  4.187927  \n",
       "224           251  4.160223  \n",
       "46            204  4.151697  \n",
       "461           220  4.145919  \n",
       "257           307  4.140844  \n",
       "897           211  4.134630  \n",
       "1938          278  4.131285  \n",
       "921           129  4.128475  \n",
       "6693          149  4.125239  \n",
       "899           200  4.123533  \n",
       "913           126  4.117922  \n",
       "898           142  4.115633  \n",
       "314           329  4.113882  "
      ]
     },
     "execution_count": 18,
     "metadata": {},
     "output_type": "execute_result"
    },
    {
     "data": {
      "text/html": [
       "<div>\n",
       "<style scoped>\n",
       "    .dataframe tbody tr th:only-of-type {\n",
       "        vertical-align: middle;\n",
       "    }\n",
       "\n",
       "    .dataframe tbody tr th {\n",
       "        vertical-align: top;\n",
       "    }\n",
       "\n",
       "    .dataframe thead th {\n",
       "        text-align: right;\n",
       "    }\n",
       "</style>\n",
       "<table border=\"1\" class=\"dataframe\">\n",
       "  <thead>\n",
       "    <tr style=\"text-align: right;\">\n",
       "      <th></th>\n",
       "      <th>title</th>\n",
       "      <th>avgRating</th>\n",
       "      <th>ratingCount</th>\n",
       "      <th>score</th>\n",
       "    </tr>\n",
       "  </thead>\n",
       "  <tbody>\n",
       "    <tr>\n",
       "      <th>396</th>\n",
       "      <td>Free Willy (1993)</td>\n",
       "      <td>2.391892</td>\n",
       "      <td>37</td>\n",
       "      <td>2.860032</td>\n",
       "    </tr>\n",
       "    <tr>\n",
       "      <th>607</th>\n",
       "      <td>Striptease (1996)</td>\n",
       "      <td>2.414634</td>\n",
       "      <td>41</td>\n",
       "      <td>2.846206</td>\n",
       "    </tr>\n",
       "    <tr>\n",
       "      <th>313</th>\n",
       "      <td>Flintstones, The (1994)</td>\n",
       "      <td>2.357143</td>\n",
       "      <td>42</td>\n",
       "      <td>2.804957</td>\n",
       "    </tr>\n",
       "    <tr>\n",
       "      <th>2856</th>\n",
       "      <td>Hollow Man (2000)</td>\n",
       "      <td>2.294872</td>\n",
       "      <td>39</td>\n",
       "      <td>2.788516</td>\n",
       "    </tr>\n",
       "    <tr>\n",
       "      <th>1234</th>\n",
       "      <td>I Know What You Did Last Summer (1997)</td>\n",
       "      <td>2.109375</td>\n",
       "      <td>32</td>\n",
       "      <td>2.746475</td>\n",
       "    </tr>\n",
       "    <tr>\n",
       "      <th>379</th>\n",
       "      <td>Coneheads (1993)</td>\n",
       "      <td>2.420635</td>\n",
       "      <td>63</td>\n",
       "      <td>2.744912</td>\n",
       "    </tr>\n",
       "    <tr>\n",
       "      <th>1173</th>\n",
       "      <td>Batman &amp; Robin (1997)</td>\n",
       "      <td>2.214286</td>\n",
       "      <td>42</td>\n",
       "      <td>2.718001</td>\n",
       "    </tr>\n",
       "    <tr>\n",
       "      <th>1144</th>\n",
       "      <td>Anaconda (1997)</td>\n",
       "      <td>1.925926</td>\n",
       "      <td>27</td>\n",
       "      <td>2.713741</td>\n",
       "    </tr>\n",
       "    <tr>\n",
       "      <th>1372</th>\n",
       "      <td>Godzilla (1998)</td>\n",
       "      <td>1.954545</td>\n",
       "      <td>33</td>\n",
       "      <td>2.650701</td>\n",
       "    </tr>\n",
       "    <tr>\n",
       "      <th>2028</th>\n",
       "      <td>Wild Wild West (1999)</td>\n",
       "      <td>2.207547</td>\n",
       "      <td>53</td>\n",
       "      <td>2.644275</td>\n",
       "    </tr>\n",
       "  </tbody>\n",
       "</table>\n",
       "</div>"
      ],
      "text/plain": [
       "                                       title  avgRating  ratingCount     score\n",
       "396                        Free Willy (1993)   2.391892           37  2.860032\n",
       "607                        Striptease (1996)   2.414634           41  2.846206\n",
       "313                  Flintstones, The (1994)   2.357143           42  2.804957\n",
       "2856                       Hollow Man (2000)   2.294872           39  2.788516\n",
       "1234  I Know What You Did Last Summer (1997)   2.109375           32  2.746475\n",
       "379                         Coneheads (1993)   2.420635           63  2.744912\n",
       "1173                   Batman & Robin (1997)   2.214286           42  2.718001\n",
       "1144                         Anaconda (1997)   1.925926           27  2.713741\n",
       "1372                         Godzilla (1998)   1.954545           33  2.650701\n",
       "2028                   Wild Wild West (1999)   2.207547           53  2.644275"
      ]
     },
     "execution_count": 18,
     "metadata": {},
     "output_type": "execute_result"
    }
   ],
   "source": [
    "q_movies = q_movies.sort_values(by='score',ascending=False)\n",
    "\n",
    "q_movies[['title', 'avgRating', 'ratingCount', 'score']].head(15)\n",
    "q_movies[['title', 'avgRating', 'ratingCount', 'score']].tail(10)\n"
   ]
  },
  {
   "cell_type": "markdown",
   "metadata": {
    "pycharm": {
     "name": "#%% md\n"
    }
   },
   "source": [
    "Novi problem je što visoka ocjena ne garantira da će se svim korisnicima svidjeti film.\n",
    "\n",
    "Prethodni pristupi svim korisnicima preporučuju iste filmove i ne uzimaju u obzir da\n",
    "korisnici imaju različite preference i različito ocjenjuju filmove.\n"
   ]
  },
  {
   "cell_type": "markdown",
   "metadata": {},
   "source": [
    "## Pametniji algoritmi preporuka\n",
    "Kod gradnje pametnijih sustava preporuke filmova nailazimo na nekoliko različitih pristupa.\n",
    "Jedan od popularnijih pristupa je Collaborative filtering, a drugi Content-based filtering, a često se koristi i njihova kombinacija.\n",
    "\n",
    "Collaborative filtering stvara model pomoću informacija o povijesti korisnika.\n",
    "Pristup pretpostavlja da će korisnike sa sličnim ukusima, one koji su slično filmove u svojoj povijesti ocjenjivali, zanimati slični filmovi.\n",
    "Model će izračunati sličnost pomoću ocjena iz dataseta za različite korisnike i filmove i tako korisniku preporučiti buduće filmove.\n",
    "Collaborative filtering pristup ima cold start i problem skaliranja, problem da s nedostatkom podataka ne može stvoriti dobre pretpostavke i problem kada s puno podataka je jako puno računanja potrebno.\n",
    "\n",
    "Content-based filtering stvara model pomoću opisa filma. Pristup stvara opis filma pomoću žanrova filma i svih tagova koje su mu korisnici dodijelili te zatim traži slične filmove tom filmu. Model će za najbolje ocijenjene korisnikove filmove pronaći slične i te njemu preporučiti.\n",
    "\n",
    "Ovi pristupi se u praksi koriste zajedno s još nekim manje popularnim pristupima kako bi korisnicima što preciznije preporučili upravo ono što ih zanima."
   ]
  },
  {
   "cell_type": "markdown",
   "metadata": {},
   "source": [
    "**COSINE SIMILARITY**\n",
    "\n",
    "Korištena mjera sličnosti je kosinusna sličnost (eng. cosine similarity).\n",
    "\n",
    "Kosinusna sličnost računa kosinus kuta između dva vektora.\n",
    "Formula je:\n",
    "    cos(α) = (x * y) / (|x| * |y|)\n",
    "    \n",
    "Brojnik je zapravo skalarni produkt vektora, a nazivnik je umnožak normi od vektora(korištena je norma 2).\n",
    "\n",
    "npr. x = [2, 2, 2, 2]\n",
    "     y = [1, 1, 1, 1]\n",
    "    \n",
    "cos(α) = 8 / (4 * 2) = 1\n"
   ]
  },
  {
   "cell_type": "markdown",
   "metadata": {},
   "source": [
    "#### 1) Content-based preporuke\n",
    "\n",
    "Kao što je prije napisano Content based algoritam pomoću sličnosti između filmova traži filmove sa sličnim atributima i te preporučuje korisniku.\n",
    "\n",
    "Algoritam se temelji na vađenju svih korisnih informacija o filmu koje sam sadrži i koje su\n",
    "mu korisnici pridijelili.\n",
    "Nakon što se prikupe sve informacije, za određenog korisnika odabere se već pogledani film\n",
    "i na osnovu njegove sličnosti u prikupljenim informacijama\n",
    "pokušava se pronaći sličan film i preporučuje se korisniku.\n",
    "\n",
    "\n",
    "\n",
    "Atributi koje ovdje koristimo su žanrovi iz movies.csv i svi tagovi koji se nalaze u tags.csv za zadani film.\n",
    "Što je više atributa dostupno za svaki film ovaj će algoritam bolje raditi i pravilnije preporučivati filmove.\n",
    "\n",
    "Kako bi odredili težinu (_važnost_) atributa koristimo **TF-IDF** score (*term frequency-inverted document frequency score*).\n",
    "\n",
    "\\begin{equation}\n",
    "\\text tfidf_{i,j} = tf_{i,j} \\cdot \\log (\\frac{N}{df_i})\n",
    "\\end{equation}\n",
    "\n",
    "gdje:\n",
    "Kada smo izračunali TF-IDF gradimo **Vector Space Model** uz **Cosine similarity**.\n",
    "\n",
    "Rezultat nam je kvadratna matrica veličine broja filmova gdje na svakom sjecištu leži ocjena njihove sličnosti.\n",
    "\n",
    "\n",
    "Pri analizi korišten je **ml-latest** dataset koji dodatno sadrži _tag_-ove o filmovima.\n",
    "U kodu ispod ćemo ga skinuti i extractati ukoliko već nije skinut."
   ]
  },
  {
   "cell_type": "code",
   "execution_count": 19,
   "metadata": {
    "pycharm": {
     "name": "#%%\n"
    }
   },
   "outputs": [],
   "source": [
    "import os.path as op\n",
    "\n",
    "from zipfile import ZipFile\n",
    "from urllib.request import urlretrieve\n",
    "\n",
    "folder = '.'\n",
    "\n",
    "ML_LATEST_URL = \"http://files.grouplens.org/datasets/movielens/ml-latest.zip\"\n",
    "ML_LATEST_FILENAME = op.join(folder,ML_LATEST_URL.rsplit('/', 1)[1])\n",
    "ML_LATEST_FOLDER = op.join(folder,'ml-latest')\n",
    "\n",
    "if not op.exists(ML_LATEST_FILENAME) or not op.exists(ML_LATEST_FOLDER):\n",
    "    print('Downloading %s to %s...' % (ML_LATEST_URL, ML_LATEST_FILENAME))\n",
    "    urlretrieve(ML_LATEST_URL, ML_LATEST_FILENAME)\n",
    "\n",
    "if not op.exists(ML_LATEST_FOLDER):\n",
    "    print('Extracting %s to %s...' % (ML_LATEST_FILENAME, ML_LATEST_FOLDER))\n",
    "    ZipFile(ML_LATEST_FILENAME).extractall(folder)"
   ]
  },
  {
   "cell_type": "code",
   "execution_count": 20,
   "metadata": {
    "pycharm": {
     "name": "#%%\n"
    }
   },
   "outputs": [
    {
     "data": {
      "text/html": [
       "<div>\n",
       "<style scoped>\n",
       "    .dataframe tbody tr th:only-of-type {\n",
       "        vertical-align: middle;\n",
       "    }\n",
       "\n",
       "    .dataframe tbody tr th {\n",
       "        vertical-align: top;\n",
       "    }\n",
       "\n",
       "    .dataframe thead th {\n",
       "        text-align: right;\n",
       "    }\n",
       "</style>\n",
       "<table border=\"1\" class=\"dataframe\">\n",
       "  <thead>\n",
       "    <tr style=\"text-align: right;\">\n",
       "      <th></th>\n",
       "      <th>movieId</th>\n",
       "      <th>title</th>\n",
       "      <th>genres</th>\n",
       "    </tr>\n",
       "  </thead>\n",
       "  <tbody>\n",
       "    <tr>\n",
       "      <th>0</th>\n",
       "      <td>1</td>\n",
       "      <td>Toy Story (1995)</td>\n",
       "      <td>Adventure|Animation|Children|Comedy|Fantasy</td>\n",
       "    </tr>\n",
       "    <tr>\n",
       "      <th>1</th>\n",
       "      <td>2</td>\n",
       "      <td>Jumanji (1995)</td>\n",
       "      <td>Adventure|Children|Fantasy</td>\n",
       "    </tr>\n",
       "    <tr>\n",
       "      <th>2</th>\n",
       "      <td>3</td>\n",
       "      <td>Grumpier Old Men (1995)</td>\n",
       "      <td>Comedy|Romance</td>\n",
       "    </tr>\n",
       "    <tr>\n",
       "      <th>3</th>\n",
       "      <td>4</td>\n",
       "      <td>Waiting to Exhale (1995)</td>\n",
       "      <td>Comedy|Drama|Romance</td>\n",
       "    </tr>\n",
       "    <tr>\n",
       "      <th>4</th>\n",
       "      <td>5</td>\n",
       "      <td>Father of the Bride Part II (1995)</td>\n",
       "      <td>Comedy</td>\n",
       "    </tr>\n",
       "  </tbody>\n",
       "</table>\n",
       "</div>"
      ],
      "text/plain": [
       "   movieId                               title  \\\n",
       "0        1                    Toy Story (1995)   \n",
       "1        2                      Jumanji (1995)   \n",
       "2        3             Grumpier Old Men (1995)   \n",
       "3        4            Waiting to Exhale (1995)   \n",
       "4        5  Father of the Bride Part II (1995)   \n",
       "\n",
       "                                        genres  \n",
       "0  Adventure|Animation|Children|Comedy|Fantasy  \n",
       "1                   Adventure|Children|Fantasy  \n",
       "2                               Comedy|Romance  \n",
       "3                         Comedy|Drama|Romance  \n",
       "4                                       Comedy  "
      ]
     },
     "execution_count": 20,
     "metadata": {},
     "output_type": "execute_result"
    },
    {
     "data": {
      "text/html": [
       "<div>\n",
       "<style scoped>\n",
       "    .dataframe tbody tr th:only-of-type {\n",
       "        vertical-align: middle;\n",
       "    }\n",
       "\n",
       "    .dataframe tbody tr th {\n",
       "        vertical-align: top;\n",
       "    }\n",
       "\n",
       "    .dataframe thead th {\n",
       "        text-align: right;\n",
       "    }\n",
       "</style>\n",
       "<table border=\"1\" class=\"dataframe\">\n",
       "  <thead>\n",
       "    <tr style=\"text-align: right;\">\n",
       "      <th></th>\n",
       "      <th>userId</th>\n",
       "      <th>movieId</th>\n",
       "      <th>rating</th>\n",
       "    </tr>\n",
       "  </thead>\n",
       "  <tbody>\n",
       "    <tr>\n",
       "      <th>0</th>\n",
       "      <td>1</td>\n",
       "      <td>307</td>\n",
       "      <td>3.5</td>\n",
       "    </tr>\n",
       "    <tr>\n",
       "      <th>1</th>\n",
       "      <td>1</td>\n",
       "      <td>481</td>\n",
       "      <td>3.5</td>\n",
       "    </tr>\n",
       "    <tr>\n",
       "      <th>2</th>\n",
       "      <td>1</td>\n",
       "      <td>1091</td>\n",
       "      <td>1.5</td>\n",
       "    </tr>\n",
       "    <tr>\n",
       "      <th>3</th>\n",
       "      <td>1</td>\n",
       "      <td>1257</td>\n",
       "      <td>4.5</td>\n",
       "    </tr>\n",
       "    <tr>\n",
       "      <th>4</th>\n",
       "      <td>1</td>\n",
       "      <td>1449</td>\n",
       "      <td>4.5</td>\n",
       "    </tr>\n",
       "  </tbody>\n",
       "</table>\n",
       "</div>"
      ],
      "text/plain": [
       "   userId  movieId  rating\n",
       "0       1      307     3.5\n",
       "1       1      481     3.5\n",
       "2       1     1091     1.5\n",
       "3       1     1257     4.5\n",
       "4       1     1449     4.5"
      ]
     },
     "execution_count": 20,
     "metadata": {},
     "output_type": "execute_result"
    },
    {
     "data": {
      "text/html": [
       "<div>\n",
       "<style scoped>\n",
       "    .dataframe tbody tr th:only-of-type {\n",
       "        vertical-align: middle;\n",
       "    }\n",
       "\n",
       "    .dataframe tbody tr th {\n",
       "        vertical-align: top;\n",
       "    }\n",
       "\n",
       "    .dataframe thead th {\n",
       "        text-align: right;\n",
       "    }\n",
       "</style>\n",
       "<table border=\"1\" class=\"dataframe\">\n",
       "  <thead>\n",
       "    <tr style=\"text-align: right;\">\n",
       "      <th></th>\n",
       "      <th>movieId</th>\n",
       "      <th>tag</th>\n",
       "    </tr>\n",
       "  </thead>\n",
       "  <tbody>\n",
       "    <tr>\n",
       "      <th>0</th>\n",
       "      <td>110</td>\n",
       "      <td>epic</td>\n",
       "    </tr>\n",
       "    <tr>\n",
       "      <th>1</th>\n",
       "      <td>110</td>\n",
       "      <td>Medieval</td>\n",
       "    </tr>\n",
       "    <tr>\n",
       "      <th>2</th>\n",
       "      <td>260</td>\n",
       "      <td>sci-fi</td>\n",
       "    </tr>\n",
       "    <tr>\n",
       "      <th>3</th>\n",
       "      <td>260</td>\n",
       "      <td>space action</td>\n",
       "    </tr>\n",
       "    <tr>\n",
       "      <th>4</th>\n",
       "      <td>318</td>\n",
       "      <td>imdb top 250</td>\n",
       "    </tr>\n",
       "  </tbody>\n",
       "</table>\n",
       "</div>"
      ],
      "text/plain": [
       "   movieId           tag\n",
       "0      110          epic\n",
       "1      110      Medieval\n",
       "2      260        sci-fi\n",
       "3      260  space action\n",
       "4      318  imdb top 250"
      ]
     },
     "execution_count": 20,
     "metadata": {},
     "output_type": "execute_result"
    }
   ],
   "source": [
    "moviesLatest = pd.read_csv('ml-latest/movies.csv')\n",
    "moviesLatest.head()\n",
    "\n",
    "ratingsLatest = pd.read_csv('ml-latest/ratings.csv',usecols=['userId','movieId','rating'])\n",
    "ratingsLatest.head()\n",
    "\n",
    "tagsLatest = pd.read_csv('ml-latest/tags.csv',usecols=['movieId','tag'])\n",
    "tagsLatest.head()"
   ]
  },
  {
   "cell_type": "markdown",
   "metadata": {},
   "source": [
    "Čisti se tag dataset tako da se pretvori sve u mala slova i spoje se riječi s razmacima iz jednog taga.\n",
    "Spajanjem svih tagove jednoga filma od različitih korisnika u dataset movieLates dodaje se\n",
    "novi atribut tag koji sadrži sve riječi u jednoj konkatenaciji."
   ]
  },
  {
   "cell_type": "code",
   "execution_count": 21,
   "metadata": {
    "pycharm": {
     "name": "#%%\n"
    }
   },
   "outputs": [],
   "source": [
    "tagsLatest['tag'] = tagsLatest['tag'].apply(lambda x: str(x).replace(\" \",\"\").lower())\n",
    "\n",
    "moviestagsLatest = pd.merge(tagsLatest.groupby(['movieId'], as_index=False)['tag'].apply(lambda x: \" \".join(x)), moviesLatest,how='right',on='movieId')\n",
    "\n",
    "moviestagsLatest['tag']=moviestagsLatest['tag'].fillna('')"
   ]
  },
  {
   "cell_type": "markdown",
   "metadata": {},
   "source": [
    "Sada svaki film sadrži tagove od strane različitih korisnika."
   ]
  },
  {
   "cell_type": "code",
   "execution_count": 22,
   "metadata": {
    "pycharm": {
     "name": "#%%\n"
    }
   },
   "outputs": [
    {
     "data": {
      "text/html": [
       "<div>\n",
       "<style scoped>\n",
       "    .dataframe tbody tr th:only-of-type {\n",
       "        vertical-align: middle;\n",
       "    }\n",
       "\n",
       "    .dataframe tbody tr th {\n",
       "        vertical-align: top;\n",
       "    }\n",
       "\n",
       "    .dataframe thead th {\n",
       "        text-align: right;\n",
       "    }\n",
       "</style>\n",
       "<table border=\"1\" class=\"dataframe\">\n",
       "  <thead>\n",
       "    <tr style=\"text-align: right;\">\n",
       "      <th></th>\n",
       "      <th>movieId</th>\n",
       "      <th>tag</th>\n",
       "      <th>title</th>\n",
       "      <th>genres</th>\n",
       "    </tr>\n",
       "  </thead>\n",
       "  <tbody>\n",
       "    <tr>\n",
       "      <th>0</th>\n",
       "      <td>1</td>\n",
       "      <td>animated buddymovie cartoon cgi comedy compute...</td>\n",
       "      <td>Toy Story (1995)</td>\n",
       "      <td>Adventure|Animation|Children|Comedy|Fantasy</td>\n",
       "    </tr>\n",
       "    <tr>\n",
       "      <th>1</th>\n",
       "      <td>2</td>\n",
       "      <td>fantasy adaptedfrom:book animals badcgi basedo...</td>\n",
       "      <td>Jumanji (1995)</td>\n",
       "      <td>Adventure|Children|Fantasy</td>\n",
       "    </tr>\n",
       "    <tr>\n",
       "      <th>2</th>\n",
       "      <td>3</td>\n",
       "      <td>moldy old annmargaret burgessmeredith darylhan...</td>\n",
       "      <td>Grumpier Old Men (1995)</td>\n",
       "      <td>Comedy|Romance</td>\n",
       "    </tr>\n",
       "    <tr>\n",
       "      <th>3</th>\n",
       "      <td>4</td>\n",
       "      <td>characters girlmovie characters chickflick bas...</td>\n",
       "      <td>Waiting to Exhale (1995)</td>\n",
       "      <td>Comedy|Drama|Romance</td>\n",
       "    </tr>\n",
       "    <tr>\n",
       "      <th>4</th>\n",
       "      <td>5</td>\n",
       "      <td>stevemartin stevemartin pregnancy remake aging...</td>\n",
       "      <td>Father of the Bride Part II (1995)</td>\n",
       "      <td>Comedy</td>\n",
       "    </tr>\n",
       "  </tbody>\n",
       "</table>\n",
       "</div>"
      ],
      "text/plain": [
       "   movieId                                                tag  \\\n",
       "0        1  animated buddymovie cartoon cgi comedy compute...   \n",
       "1        2  fantasy adaptedfrom:book animals badcgi basedo...   \n",
       "2        3  moldy old annmargaret burgessmeredith darylhan...   \n",
       "3        4  characters girlmovie characters chickflick bas...   \n",
       "4        5  stevemartin stevemartin pregnancy remake aging...   \n",
       "\n",
       "                                title  \\\n",
       "0                    Toy Story (1995)   \n",
       "1                      Jumanji (1995)   \n",
       "2             Grumpier Old Men (1995)   \n",
       "3            Waiting to Exhale (1995)   \n",
       "4  Father of the Bride Part II (1995)   \n",
       "\n",
       "                                        genres  \n",
       "0  Adventure|Animation|Children|Comedy|Fantasy  \n",
       "1                   Adventure|Children|Fantasy  \n",
       "2                               Comedy|Romance  \n",
       "3                         Comedy|Drama|Romance  \n",
       "4                                       Comedy  "
      ]
     },
     "execution_count": 22,
     "metadata": {},
     "output_type": "execute_result"
    }
   ],
   "source": [
    "moviestagsLatest.head()"
   ]
  },
  {
   "cell_type": "markdown",
   "metadata": {},
   "source": [
    "Funkcija **createSoup** izbacuje sve duplikate tagova iz jednoga filma i ubacuje imena žanrova te\n",
    "stvara novi stupac u movie datasetu, _soup_ koji sadrži sve te ključne riječi."
   ]
  },
  {
   "cell_type": "code",
   "execution_count": 23,
   "metadata": {
    "pycharm": {
     "name": "#%%\n"
    }
   },
   "outputs": [],
   "source": [
    "def createSoup(x):\n",
    "    infoSet = set(x['tag'].split(' '))\n",
    "\n",
    "    data = ' '.join(infoSet)\n",
    "\n",
    "    for genre in x['genres'].split('|'):\n",
    "        data+=(' ' + genre.lower())\n",
    "    return data"
   ]
  },
  {
   "cell_type": "markdown",
   "metadata": {},
   "source": [
    "Nakon poziva funkcije  **createSoup** moviestagsLates izgleda :"
   ]
  },
  {
   "cell_type": "code",
   "execution_count": 24,
   "metadata": {
    "pycharm": {
     "name": "#%%\n"
    }
   },
   "outputs": [
    {
     "data": {
      "text/html": [
       "<div>\n",
       "<style scoped>\n",
       "    .dataframe tbody tr th:only-of-type {\n",
       "        vertical-align: middle;\n",
       "    }\n",
       "\n",
       "    .dataframe tbody tr th {\n",
       "        vertical-align: top;\n",
       "    }\n",
       "\n",
       "    .dataframe thead th {\n",
       "        text-align: right;\n",
       "    }\n",
       "</style>\n",
       "<table border=\"1\" class=\"dataframe\">\n",
       "  <thead>\n",
       "    <tr style=\"text-align: right;\">\n",
       "      <th></th>\n",
       "      <th>movieId</th>\n",
       "      <th>tag</th>\n",
       "      <th>title</th>\n",
       "      <th>genres</th>\n",
       "      <th>soup</th>\n",
       "    </tr>\n",
       "  </thead>\n",
       "  <tbody>\n",
       "    <tr>\n",
       "      <th>0</th>\n",
       "      <td>1</td>\n",
       "      <td>animated buddymovie cartoon cgi comedy compute...</td>\n",
       "      <td>Toy Story (1995)</td>\n",
       "      <td>Adventure|Animation|Children|Comedy|Fantasy</td>\n",
       "      <td>excitingplot funnylines buzzlightyear yaboy fu...</td>\n",
       "    </tr>\n",
       "    <tr>\n",
       "      <th>1</th>\n",
       "      <td>2</td>\n",
       "      <td>fantasy adaptedfrom:book animals badcgi basedo...</td>\n",
       "      <td>Jumanji (1995)</td>\n",
       "      <td>Adventure|Children|Fantasy</td>\n",
       "      <td>herdsofcgianimals family notforkids childish l...</td>\n",
       "    </tr>\n",
       "    <tr>\n",
       "      <th>2</th>\n",
       "      <td>3</td>\n",
       "      <td>moldy old annmargaret burgessmeredith darylhan...</td>\n",
       "      <td>Grumpier Old Men (1995)</td>\n",
       "      <td>Comedy|Romance</td>\n",
       "      <td>oldman old funny sequelfever goodsoundtrack ol...</td>\n",
       "    </tr>\n",
       "    <tr>\n",
       "      <th>3</th>\n",
       "      <td>4</td>\n",
       "      <td>characters girlmovie characters chickflick bas...</td>\n",
       "      <td>Waiting to Exhale (1995)</td>\n",
       "      <td>Comedy|Drama|Romance</td>\n",
       "      <td>girlmovie divorce basedonnovelorbook character...</td>\n",
       "    </tr>\n",
       "    <tr>\n",
       "      <th>4</th>\n",
       "      <td>5</td>\n",
       "      <td>stevemartin stevemartin pregnancy remake aging...</td>\n",
       "      <td>Father of the Bride Part II (1995)</td>\n",
       "      <td>Comedy</td>\n",
       "      <td>watchedunderduress contraception family pregna...</td>\n",
       "    </tr>\n",
       "  </tbody>\n",
       "</table>\n",
       "</div>"
      ],
      "text/plain": [
       "   movieId                                                tag  \\\n",
       "0        1  animated buddymovie cartoon cgi comedy compute...   \n",
       "1        2  fantasy adaptedfrom:book animals badcgi basedo...   \n",
       "2        3  moldy old annmargaret burgessmeredith darylhan...   \n",
       "3        4  characters girlmovie characters chickflick bas...   \n",
       "4        5  stevemartin stevemartin pregnancy remake aging...   \n",
       "\n",
       "                                title  \\\n",
       "0                    Toy Story (1995)   \n",
       "1                      Jumanji (1995)   \n",
       "2             Grumpier Old Men (1995)   \n",
       "3            Waiting to Exhale (1995)   \n",
       "4  Father of the Bride Part II (1995)   \n",
       "\n",
       "                                        genres  \\\n",
       "0  Adventure|Animation|Children|Comedy|Fantasy   \n",
       "1                   Adventure|Children|Fantasy   \n",
       "2                               Comedy|Romance   \n",
       "3                         Comedy|Drama|Romance   \n",
       "4                                       Comedy   \n",
       "\n",
       "                                                soup  \n",
       "0  excitingplot funnylines buzzlightyear yaboy fu...  \n",
       "1  herdsofcgianimals family notforkids childish l...  \n",
       "2  oldman old funny sequelfever goodsoundtrack ol...  \n",
       "3  girlmovie divorce basedonnovelorbook character...  \n",
       "4  watchedunderduress contraception family pregna...  "
      ]
     },
     "execution_count": 24,
     "metadata": {},
     "output_type": "execute_result"
    }
   ],
   "source": [
    "moviestagsLatest['soup'] = moviestagsLatest.apply(createSoup,axis=1)\n",
    "moviestagsLatest.head()"
   ]
  },
  {
   "cell_type": "markdown",
   "metadata": {},
   "source": [
    "Stvara se **TF-IDF Vectorizer** i šalju mu se sve ključne riječi svih filmova.\n",
    "Stvara se matrica u kojoj redci predstavljaju filmove te se za strupce\n",
    "još dodaju sve ključne riječi koji sadržavaju IDF vrijednosti o ključnoj riječi."
   ]
  },
  {
   "cell_type": "code",
   "execution_count": 25,
   "metadata": {
    "pycharm": {
     "name": "#%%\n"
    }
   },
   "outputs": [
    {
     "data": {
      "text/plain": [
       "(58098, 64665)"
      ]
     },
     "execution_count": 25,
     "metadata": {},
     "output_type": "execute_result"
    },
    {
     "data": {
      "text/plain": [
       "['adolescent',\n",
       " 'adolescentdrama',\n",
       " 'adolescentfantasy',\n",
       " 'adolescentgays',\n",
       " 'adolescentphilosophy',\n",
       " 'adolescentpsychology',\n",
       " 'adolescentrebellion',\n",
       " 'adolescents',\n",
       " 'adolfeichmann',\n",
       " 'adolfhitler',\n",
       " 'adolfi',\n",
       " 'adolfomarsillach',\n",
       " 'adoorgopalakrishnan',\n",
       " 'adopted',\n",
       " 'adoptedbrother',\n",
       " 'adoptedchild',\n",
       " 'adopteddaughter',\n",
       " 'adoptedfrom',\n",
       " 'adoptedson',\n",
       " 'adoptee']"
      ]
     },
     "execution_count": 25,
     "metadata": {},
     "output_type": "execute_result"
    }
   ],
   "source": [
    "from sklearn.feature_extraction.text import TfidfVectorizer\n",
    "\n",
    "tfidf = TfidfVectorizer(stop_words='english')\n",
    "\n",
    "moviestagsLatest['soup'] = moviestagsLatest['soup'].fillna('')\n",
    "\n",
    "tfidf_matrix = tfidf.fit_transform(moviestagsLatest['soup'])\n",
    "\n",
    "tfidf_matrix.shape\n",
    "\n",
    "tfidf.get_feature_names()[1000:1020]"
   ]
  },
  {
   "cell_type": "markdown",
   "metadata": {},
   "source": [
    "Stvaranje linear_kernel objekta koji će pomoću cosine similarity ocjene moći ocjenjivati filmove.\n",
    "Redak _tfidf_ __matrix_ koji predstavlja vektor pojedinog filma množi se sa svim vektorima filmova\n",
    "i dobiva se matrica koja za svaki film sadrži informaciju koliko je on sličan u odnosu na drugi film."
   ]
  },
  {
   "cell_type": "code",
   "execution_count": 26,
   "metadata": {
    "pycharm": {
     "name": "#%%\n"
    }
   },
   "outputs": [
    {
     "data": {
      "text/plain": [
       "(58098, 58098)"
      ]
     },
     "execution_count": 26,
     "metadata": {},
     "output_type": "execute_result"
    },
    {
     "data": {
      "text/plain": [
       "array([0.07776567, 1.        , 0.01078806, ..., 0.        , 0.05633312,\n",
       "       0.        ])"
      ]
     },
     "execution_count": 26,
     "metadata": {},
     "output_type": "execute_result"
    }
   ],
   "source": [
    "from sklearn.metrics.pairwise import linear_kernel\n",
    "\n",
    "cosin_sin = linear_kernel(tfidf_matrix,tfidf_matrix)\n",
    "\n",
    "cosin_sin.shape\n",
    "\n",
    "cosin_sin[1]"
   ]
  },
  {
   "cell_type": "markdown",
   "metadata": {},
   "source": [
    "Objekt koji nam sluzi za indexiranje filmova."
   ]
  },
  {
   "cell_type": "code",
   "execution_count": 27,
   "metadata": {
    "pycharm": {
     "name": "#%%\n"
    }
   },
   "outputs": [
    {
     "data": {
      "text/plain": [
       "movieId\n",
       "1     0\n",
       "2     1\n",
       "3     2\n",
       "4     3\n",
       "5     4\n",
       "6     5\n",
       "7     6\n",
       "8     7\n",
       "9     8\n",
       "10    9\n",
       "dtype: int64"
      ]
     },
     "execution_count": 27,
     "metadata": {},
     "output_type": "execute_result"
    }
   ],
   "source": [
    "indices = pd.Series(moviesLatest.index, index = moviestagsLatest['movieId']).drop_duplicates()\n",
    "\n",
    "indices[:10]"
   ]
  },
  {
   "cell_type": "markdown",
   "metadata": {},
   "source": [
    "Funkcija koja za zadan id filma pomoću sličnosti s drugim filmovima ispisuje slične filmove.\n",
    "\n",
    "Funkcija prolazi kroz svoj vektor i za svaki drugi film gleda sličnost. Najsličnije filmove\n",
    "stavlja u listu i korisniku vraća n najsličnijih."
   ]
  },
  {
   "cell_type": "code",
   "execution_count": 28,
   "metadata": {
    "pycharm": {
     "name": "#%%\n"
    }
   },
   "outputs": [],
   "source": [
    "def get_recommendations_by_id(movieId,n=15, cosine_sim=cosin_sin):\n",
    "\n",
    "    idx = indices[movieId]\n",
    "\n",
    "    sim_scores = list(enumerate(cosine_sim[idx]))\n",
    "\n",
    "    sim_scores = sorted(sim_scores, key = lambda x: x[1], reverse=True)\n",
    "\n",
    "    sim_scores = sim_scores[1:n+1]\n",
    "\n",
    "    movie_indices = [i[0] for i in sim_scores]\n",
    "\n",
    "    return moviestagsLatest['movieId'].iloc[movie_indices]"
   ]
  },
  {
   "cell_type": "markdown",
   "metadata": {},
   "source": [
    "Poziv funkcije za film s id-om 1 koja će vratiti njemu 15 najsličnijih filmova."
   ]
  },
  {
   "cell_type": "code",
   "execution_count": 29,
   "metadata": {
    "pycharm": {
     "name": "#%%\n"
    }
   },
   "outputs": [
    {
     "data": {
      "text/html": [
       "<div>\n",
       "<style scoped>\n",
       "    .dataframe tbody tr th:only-of-type {\n",
       "        vertical-align: middle;\n",
       "    }\n",
       "\n",
       "    .dataframe tbody tr th {\n",
       "        vertical-align: top;\n",
       "    }\n",
       "\n",
       "    .dataframe thead th {\n",
       "        text-align: right;\n",
       "    }\n",
       "</style>\n",
       "<table border=\"1\" class=\"dataframe\">\n",
       "  <thead>\n",
       "    <tr style=\"text-align: right;\">\n",
       "      <th></th>\n",
       "      <th>movieId</th>\n",
       "      <th>tag</th>\n",
       "      <th>title</th>\n",
       "      <th>genres</th>\n",
       "      <th>soup</th>\n",
       "    </tr>\n",
       "  </thead>\n",
       "  <tbody>\n",
       "    <tr>\n",
       "      <th>589</th>\n",
       "      <td>595</td>\n",
       "      <td>disney kids redemption animation disney fairyt...</td>\n",
       "      <td>Beauty and the Beast (1991)</td>\n",
       "      <td>Animation|Children|Fantasy|Musical|Romance|IMAX</td>\n",
       "      <td>disneyclassics loyalty garytrousdale seenmoret...</td>\n",
       "    </tr>\n",
       "    <tr>\n",
       "      <th>2271</th>\n",
       "      <td>2355</td>\n",
       "      <td>animation disney pixar insects kevinspacey opp...</td>\n",
       "      <td>Bug's Life, A (1998)</td>\n",
       "      <td>Adventure|Animation|Children|Comedy</td>\n",
       "      <td>winter grass delights animation nature nadysku...</td>\n",
       "    </tr>\n",
       "    <tr>\n",
       "      <th>3028</th>\n",
       "      <td>3114</td>\n",
       "      <td>pixar sequelbetterthanoriginal abandonment ani...</td>\n",
       "      <td>Toy Story 2 (1999)</td>\n",
       "      <td>Adventure|Animation|Children|Comedy|Fantasy</td>\n",
       "      <td>imdbtop250 rescueteam toys animation childish ...</td>\n",
       "    </tr>\n",
       "    <tr>\n",
       "      <th>4791</th>\n",
       "      <td>4886</td>\n",
       "      <td>funny pixar comedy funny pixar animated animat...</td>\n",
       "      <td>Monsters, Inc. (2001)</td>\n",
       "      <td>Adventure|Animation|Children|Comedy|Fantasy</td>\n",
       "      <td>stevebuscemi subgenre:buddies 3 fun pixaranima...</td>\n",
       "    </tr>\n",
       "    <tr>\n",
       "      <th>6272</th>\n",
       "      <td>6377</td>\n",
       "      <td>pixar funny pixar family father-sonrelationshi...</td>\n",
       "      <td>Finding Nemo (2003)</td>\n",
       "      <td>Adventure|Animation|Children|Comedy</td>\n",
       "      <td>emotional myfav cutesy fun pixaranimation seen...</td>\n",
       "    </tr>\n",
       "    <tr>\n",
       "      <th>8278</th>\n",
       "      <td>8961</td>\n",
       "      <td>funny stylized super-hero animation powers ani...</td>\n",
       "      <td>Incredibles, The (2004)</td>\n",
       "      <td>Action|Adventure|Animation|Children|Comedy</td>\n",
       "      <td>super-power gfeiownit bond powers fun hero see...</td>\n",
       "    </tr>\n",
       "    <tr>\n",
       "      <th>11048</th>\n",
       "      <td>45517</td>\n",
       "      <td>redemption villainnonexistentornotneededforgoo...</td>\n",
       "      <td>Cars (2006)</td>\n",
       "      <td>Animation|Children|Comedy</td>\n",
       "      <td>emotional roadmovie animation emotionalfiretru...</td>\n",
       "    </tr>\n",
       "    <tr>\n",
       "      <th>15471</th>\n",
       "      <td>78499</td>\n",
       "      <td>boring overrated story pixar children adventur...</td>\n",
       "      <td>Toy Story 3 (2010)</td>\n",
       "      <td>Adventure|Animation|Children|Comedy|Fantasy|IMAX</td>\n",
       "      <td>emotional sad pixaranimation itaege teddybear ...</td>\n",
       "    </tr>\n",
       "    <tr>\n",
       "      <th>25071</th>\n",
       "      <td>115875</td>\n",
       "      <td>pixaranimation short toystory pixar short gary...</td>\n",
       "      <td>Toy Story Toons: Hawaiian Vacation (2011)</td>\n",
       "      <td>Adventure|Animation|Children|Comedy|Fantasy</td>\n",
       "      <td>short pixar garyrydstrom pixaranimation toysto...</td>\n",
       "    </tr>\n",
       "    <tr>\n",
       "      <th>25073</th>\n",
       "      <td>115879</td>\n",
       "      <td>fastfood fastfoodrestaurant pixaranimation toy...</td>\n",
       "      <td>Toy Story Toons: Small Fry (2011)</td>\n",
       "      <td>Adventure|Animation|Children|Comedy|Fantasy</td>\n",
       "      <td>toys short pixar funny pixaranimation fastfood...</td>\n",
       "    </tr>\n",
       "    <tr>\n",
       "      <th>26550</th>\n",
       "      <td>120474</td>\n",
       "      <td>animation familyfriendly short computeranimati...</td>\n",
       "      <td>Toy Story That Time Forgot (2014)</td>\n",
       "      <td>Animation|Children</td>\n",
       "      <td>computeranimation dinosaurs toys animation ste...</td>\n",
       "    </tr>\n",
       "    <tr>\n",
       "      <th>32912</th>\n",
       "      <td>136361</td>\n",
       "      <td></td>\n",
       "      <td>Scooby-Doo! Mask of the Blue Falcon (2012)</td>\n",
       "      <td>Adventure|Animation|Children|Comedy|Fantasy</td>\n",
       "      <td>adventure animation children comedy fantasy</td>\n",
       "    </tr>\n",
       "    <tr>\n",
       "      <th>35907</th>\n",
       "      <td>143353</td>\n",
       "      <td></td>\n",
       "      <td>The Croods 2 (2017)</td>\n",
       "      <td>Adventure|Animation|Children|Comedy|Fantasy</td>\n",
       "      <td>adventure animation children comedy fantasy</td>\n",
       "    </tr>\n",
       "    <tr>\n",
       "      <th>50097</th>\n",
       "      <td>175625</td>\n",
       "      <td></td>\n",
       "      <td>The Dragon Spell (2016)</td>\n",
       "      <td>Adventure|Animation|Children|Comedy|Fantasy</td>\n",
       "      <td>adventure animation children comedy fantasy</td>\n",
       "    </tr>\n",
       "    <tr>\n",
       "      <th>50764</th>\n",
       "      <td>177037</td>\n",
       "      <td></td>\n",
       "      <td>Puss in Book: Trapped in an Epic Tale (2017)</td>\n",
       "      <td>Adventure|Animation|Children|Comedy|Fantasy</td>\n",
       "      <td>adventure animation children comedy fantasy</td>\n",
       "    </tr>\n",
       "  </tbody>\n",
       "</table>\n",
       "</div>"
      ],
      "text/plain": [
       "       movieId                                                tag  \\\n",
       "589        595  disney kids redemption animation disney fairyt...   \n",
       "2271      2355  animation disney pixar insects kevinspacey opp...   \n",
       "3028      3114  pixar sequelbetterthanoriginal abandonment ani...   \n",
       "4791      4886  funny pixar comedy funny pixar animated animat...   \n",
       "6272      6377  pixar funny pixar family father-sonrelationshi...   \n",
       "8278      8961  funny stylized super-hero animation powers ani...   \n",
       "11048    45517  redemption villainnonexistentornotneededforgoo...   \n",
       "15471    78499  boring overrated story pixar children adventur...   \n",
       "25071   115875  pixaranimation short toystory pixar short gary...   \n",
       "25073   115879  fastfood fastfoodrestaurant pixaranimation toy...   \n",
       "26550   120474  animation familyfriendly short computeranimati...   \n",
       "32912   136361                                                      \n",
       "35907   143353                                                      \n",
       "50097   175625                                                      \n",
       "50764   177037                                                      \n",
       "\n",
       "                                              title  \\\n",
       "589                     Beauty and the Beast (1991)   \n",
       "2271                           Bug's Life, A (1998)   \n",
       "3028                             Toy Story 2 (1999)   \n",
       "4791                          Monsters, Inc. (2001)   \n",
       "6272                            Finding Nemo (2003)   \n",
       "8278                        Incredibles, The (2004)   \n",
       "11048                                   Cars (2006)   \n",
       "15471                            Toy Story 3 (2010)   \n",
       "25071     Toy Story Toons: Hawaiian Vacation (2011)   \n",
       "25073             Toy Story Toons: Small Fry (2011)   \n",
       "26550             Toy Story That Time Forgot (2014)   \n",
       "32912    Scooby-Doo! Mask of the Blue Falcon (2012)   \n",
       "35907                           The Croods 2 (2017)   \n",
       "50097                       The Dragon Spell (2016)   \n",
       "50764  Puss in Book: Trapped in an Epic Tale (2017)   \n",
       "\n",
       "                                                 genres  \\\n",
       "589     Animation|Children|Fantasy|Musical|Romance|IMAX   \n",
       "2271                Adventure|Animation|Children|Comedy   \n",
       "3028        Adventure|Animation|Children|Comedy|Fantasy   \n",
       "4791        Adventure|Animation|Children|Comedy|Fantasy   \n",
       "6272                Adventure|Animation|Children|Comedy   \n",
       "8278         Action|Adventure|Animation|Children|Comedy   \n",
       "11048                         Animation|Children|Comedy   \n",
       "15471  Adventure|Animation|Children|Comedy|Fantasy|IMAX   \n",
       "25071       Adventure|Animation|Children|Comedy|Fantasy   \n",
       "25073       Adventure|Animation|Children|Comedy|Fantasy   \n",
       "26550                                Animation|Children   \n",
       "32912       Adventure|Animation|Children|Comedy|Fantasy   \n",
       "35907       Adventure|Animation|Children|Comedy|Fantasy   \n",
       "50097       Adventure|Animation|Children|Comedy|Fantasy   \n",
       "50764       Adventure|Animation|Children|Comedy|Fantasy   \n",
       "\n",
       "                                                    soup  \n",
       "589    disneyclassics loyalty garytrousdale seenmoret...  \n",
       "2271   winter grass delights animation nature nadysku...  \n",
       "3028   imdbtop250 rescueteam toys animation childish ...  \n",
       "4791   stevebuscemi subgenre:buddies 3 fun pixaranima...  \n",
       "6272   emotional myfav cutesy fun pixaranimation seen...  \n",
       "8278   super-power gfeiownit bond powers fun hero see...  \n",
       "11048  emotional roadmovie animation emotionalfiretru...  \n",
       "15471  emotional sad pixaranimation itaege teddybear ...  \n",
       "25071  short pixar garyrydstrom pixaranimation toysto...  \n",
       "25073  toys short pixar funny pixaranimation fastfood...  \n",
       "26550  computeranimation dinosaurs toys animation ste...  \n",
       "32912        adventure animation children comedy fantasy  \n",
       "35907        adventure animation children comedy fantasy  \n",
       "50097        adventure animation children comedy fantasy  \n",
       "50764        adventure animation children comedy fantasy  "
      ]
     },
     "execution_count": 29,
     "metadata": {},
     "output_type": "execute_result"
    }
   ],
   "source": [
    "moviestagsLatest.loc[moviestagsLatest['movieId'].isin(get_recommendations_by_id(1))]"
   ]
  },
  {
   "cell_type": "markdown",
   "metadata": {},
   "source": [
    "Funkcija koja za dani id usera računa filmove koje bi se tom useru svidjeli.\n",
    "\n",
    "Funkcija prolazi kroz sve filmove koje je korisnik pogledao i ocijenio te za svaki od tih\n",
    "filmova trži njemu najsličnije i množi ih s korisnikovom ocjenom orginalnog filma kako bi izračunao njegovu težinsku vrijednost.\n",
    "\n",
    "Te najsličnije filmove i njihove ocjene sortira i vraća one koje bi prve preporučio korisniku."
   ]
  },
  {
   "cell_type": "code",
   "execution_count": 30,
   "metadata": {
    "pycharm": {
     "name": "#%%\n"
    }
   },
   "outputs": [],
   "source": [
    "def get_recommendations_by_user(userId, n = 15, cosine_sim = cosin_sin):\n",
    "    userMovies = ratingsLatest.loc[ratingsLatest['userId']==userId]\n",
    "    watched = pd.Series(userMovies['movieId']).tolist()\n",
    "\n",
    "    scores=list()\n",
    "\n",
    "    for item in userMovies.itertuples():\n",
    "        movieId = item[2]\n",
    "        rating = item[3]\n",
    "\n",
    "        idx = indices[movieId]\n",
    "        sim_scores = list(enumerate(cosine_sim[idx]*rating))\n",
    "        sim_scores = sorted(sim_scores, key = lambda x: x[1], reverse=True)\n",
    "        sim_scores = sim_scores[1:n+1]\n",
    "\n",
    "        scores.extend(sim_scores)\n",
    "\n",
    "    scores = sorted(scores, key = lambda  x: x[1], reverse=True)\n",
    "\n",
    "    movie_recommendations = []\n",
    "\n",
    "    num=n\n",
    "    while True:\n",
    "        val = scores[num]\n",
    "        if not watched.__contains__(val[0]) and not movie_recommendations.__contains__(val[0]):\n",
    "            movie_recommendations.append(val[0])\n",
    "            num-=1\n",
    "        if num==0:\n",
    "            break\n",
    "\n",
    "    return moviestagsLatest['movieId'].iloc[movie_recommendations]"
   ]
  },
  {
   "cell_type": "markdown",
   "metadata": {},
   "source": [
    "Poziv funkcije za korisnika s id-om 1 ispisuje 15 najsličnijih filmova koje korisnik još nije pogledao a smatra da bi mu se svidjeli."
   ]
  },
  {
   "cell_type": "code",
   "execution_count": 31,
   "metadata": {
    "pycharm": {
     "name": "#%%\n"
    }
   },
   "outputs": [
    {
     "data": {
      "text/html": [
       "<div>\n",
       "<style scoped>\n",
       "    .dataframe tbody tr th:only-of-type {\n",
       "        vertical-align: middle;\n",
       "    }\n",
       "\n",
       "    .dataframe tbody tr th {\n",
       "        vertical-align: top;\n",
       "    }\n",
       "\n",
       "    .dataframe thead th {\n",
       "        text-align: right;\n",
       "    }\n",
       "</style>\n",
       "<table border=\"1\" class=\"dataframe\">\n",
       "  <thead>\n",
       "    <tr style=\"text-align: right;\">\n",
       "      <th></th>\n",
       "      <th>movieId</th>\n",
       "      <th>tag</th>\n",
       "      <th>title</th>\n",
       "      <th>genres</th>\n",
       "      <th>soup</th>\n",
       "    </tr>\n",
       "  </thead>\n",
       "  <tbody>\n",
       "    <tr>\n",
       "      <th>303</th>\n",
       "      <td>306</td>\n",
       "      <td>rewatch holes90s krzysztofkieslowski threecolo...</td>\n",
       "      <td>Three Colors: Red (Trois couleurs: Rouge) (1994)</td>\n",
       "      <td>Drama</td>\n",
       "      <td>neighbors memasa'smovies dog geneva nadysku bi...</td>\n",
       "    </tr>\n",
       "    <tr>\n",
       "      <th>305</th>\n",
       "      <td>308</td>\n",
       "      <td>threecolorstrilogy rewatch threecolorstrilogy ...</td>\n",
       "      <td>Three Colors: White (Trzy kolory: Bialy) (1994)</td>\n",
       "      <td>Comedy|Drama</td>\n",
       "      <td>kieślowski memasa'smovies poland bibliothek on...</td>\n",
       "    </tr>\n",
       "    <tr>\n",
       "      <th>360</th>\n",
       "      <td>364</td>\n",
       "      <td>disney kids disney music animalcharacters anim...</td>\n",
       "      <td>Lion King, The (1994)</td>\n",
       "      <td>Adventure|Animation|Children|Drama|Musical|IMAX</td>\n",
       "      <td>writer:larryleker disneyclassics writer:joeran...</td>\n",
       "    </tr>\n",
       "    <tr>\n",
       "      <th>515</th>\n",
       "      <td>519</td>\n",
       "      <td>cyborgs franchise franchise badacting surreal ...</td>\n",
       "      <td>RoboCop 3 (1993)</td>\n",
       "      <td>Action|Crime|Drama|Sci-Fi|Thriller</td>\n",
       "      <td>policeman scifi nancyallen robertjohnburke fre...</td>\n",
       "    </tr>\n",
       "    <tr>\n",
       "      <th>2061</th>\n",
       "      <td>2144</td>\n",
       "      <td>80'sclassic teenangst johnhughes 1980s 80'scla...</td>\n",
       "      <td>Sixteen Candles (1984)</td>\n",
       "      <td>Comedy|Romance</td>\n",
       "      <td>nanaviu mysoginistic shallowcharacters farce h...</td>\n",
       "    </tr>\n",
       "    <tr>\n",
       "      <th>4422</th>\n",
       "      <td>4516</td>\n",
       "      <td>robertdowneyjr. sport robertdowneyjr. betamax</td>\n",
       "      <td>Johnny Be Good (1988)</td>\n",
       "      <td>Comedy</td>\n",
       "      <td>sport robertdowneyjr. betamax comedy</td>\n",
       "    </tr>\n",
       "    <tr>\n",
       "      <th>6198</th>\n",
       "      <td>6296</td>\n",
       "      <td>christopherguest mockumentary mockumentary the...</td>\n",
       "      <td>Mighty Wind, A (2003)</td>\n",
       "      <td>Comedy|Musical</td>\n",
       "      <td>they'realwaysspoton! musicians mockumentary tu...</td>\n",
       "    </tr>\n",
       "    <tr>\n",
       "      <th>6783</th>\n",
       "      <td>6892</td>\n",
       "      <td>robertdowneyjr robertdowneyjr. robertdowneyjr ...</td>\n",
       "      <td>Singing Detective, The (2003)</td>\n",
       "      <td>Comedy|Drama|Musical|Mystery</td>\n",
       "      <td>melgibson robertdowneyjr robertdowneyjr. comed...</td>\n",
       "    </tr>\n",
       "    <tr>\n",
       "      <th>12558</th>\n",
       "      <td>58554</td>\n",
       "      <td>bullying director:ilmarraag writer:ilmarraag w...</td>\n",
       "      <td>Class, The (Klass) (2007)</td>\n",
       "      <td>Drama</td>\n",
       "      <td>abuse 05/11 estonia 06/11 raw highschool bitte...</td>\n",
       "    </tr>\n",
       "    <tr>\n",
       "      <th>14018</th>\n",
       "      <td>70008</td>\n",
       "      <td>highway hitchhike roadmovie writer</td>\n",
       "      <td>Kill Your Darlings (2006)</td>\n",
       "      <td>Comedy|Drama</td>\n",
       "      <td>highway roadmovie hitchhike writer comedy drama</td>\n",
       "    </tr>\n",
       "    <tr>\n",
       "      <th>20573</th>\n",
       "      <td>100103</td>\n",
       "      <td>writer</td>\n",
       "      <td>Day and Night (Le jour et la nuit) (1997)</td>\n",
       "      <td>Drama</td>\n",
       "      <td>writer drama</td>\n",
       "    </tr>\n",
       "    <tr>\n",
       "      <th>26087</th>\n",
       "      <td>118782</td>\n",
       "      <td>pizza pizzeria</td>\n",
       "      <td>Fat Pizza (2003)</td>\n",
       "      <td>Action|Adventure|Comedy|Crime|Thriller</td>\n",
       "      <td>pizzeria pizza action adventure comedy crime t...</td>\n",
       "    </tr>\n",
       "    <tr>\n",
       "      <th>29707</th>\n",
       "      <td>128661</td>\n",
       "      <td>writer</td>\n",
       "      <td>The Man Who Wouldn't Die (1994)</td>\n",
       "      <td>Crime|Drama|Thriller</td>\n",
       "      <td>writer crime drama thriller</td>\n",
       "    </tr>\n",
       "    <tr>\n",
       "      <th>33157</th>\n",
       "      <td>136892</td>\n",
       "      <td>writer</td>\n",
       "      <td>Dreams with Sharp Teeth (2008)</td>\n",
       "      <td>Documentary</td>\n",
       "      <td>writer documentary</td>\n",
       "    </tr>\n",
       "    <tr>\n",
       "      <th>47344</th>\n",
       "      <td>169700</td>\n",
       "      <td>blackout heatwave hip-hop newyorkcity punk</td>\n",
       "      <td>NY77: The Coolest Year in Hell (2007)</td>\n",
       "      <td>Documentary</td>\n",
       "      <td>blackout heatwave punk hip-hop newyorkcity doc...</td>\n",
       "    </tr>\n",
       "  </tbody>\n",
       "</table>\n",
       "</div>"
      ],
      "text/plain": [
       "       movieId                                                tag  \\\n",
       "303        306  rewatch holes90s krzysztofkieslowski threecolo...   \n",
       "305        308  threecolorstrilogy rewatch threecolorstrilogy ...   \n",
       "360        364  disney kids disney music animalcharacters anim...   \n",
       "515        519  cyborgs franchise franchise badacting surreal ...   \n",
       "2061      2144  80'sclassic teenangst johnhughes 1980s 80'scla...   \n",
       "4422      4516      robertdowneyjr. sport robertdowneyjr. betamax   \n",
       "6198      6296  christopherguest mockumentary mockumentary the...   \n",
       "6783      6892  robertdowneyjr robertdowneyjr. robertdowneyjr ...   \n",
       "12558    58554  bullying director:ilmarraag writer:ilmarraag w...   \n",
       "14018    70008                 highway hitchhike roadmovie writer   \n",
       "20573   100103                                             writer   \n",
       "26087   118782                                     pizza pizzeria   \n",
       "29707   128661                                             writer   \n",
       "33157   136892                                             writer   \n",
       "47344   169700         blackout heatwave hip-hop newyorkcity punk   \n",
       "\n",
       "                                                  title  \\\n",
       "303    Three Colors: Red (Trois couleurs: Rouge) (1994)   \n",
       "305     Three Colors: White (Trzy kolory: Bialy) (1994)   \n",
       "360                               Lion King, The (1994)   \n",
       "515                                    RoboCop 3 (1993)   \n",
       "2061                             Sixteen Candles (1984)   \n",
       "4422                              Johnny Be Good (1988)   \n",
       "6198                              Mighty Wind, A (2003)   \n",
       "6783                      Singing Detective, The (2003)   \n",
       "12558                         Class, The (Klass) (2007)   \n",
       "14018                         Kill Your Darlings (2006)   \n",
       "20573         Day and Night (Le jour et la nuit) (1997)   \n",
       "26087                                  Fat Pizza (2003)   \n",
       "29707                   The Man Who Wouldn't Die (1994)   \n",
       "33157                    Dreams with Sharp Teeth (2008)   \n",
       "47344             NY77: The Coolest Year in Hell (2007)   \n",
       "\n",
       "                                                genres  \\\n",
       "303                                              Drama   \n",
       "305                                       Comedy|Drama   \n",
       "360    Adventure|Animation|Children|Drama|Musical|IMAX   \n",
       "515                 Action|Crime|Drama|Sci-Fi|Thriller   \n",
       "2061                                    Comedy|Romance   \n",
       "4422                                            Comedy   \n",
       "6198                                    Comedy|Musical   \n",
       "6783                      Comedy|Drama|Musical|Mystery   \n",
       "12558                                            Drama   \n",
       "14018                                     Comedy|Drama   \n",
       "20573                                            Drama   \n",
       "26087           Action|Adventure|Comedy|Crime|Thriller   \n",
       "29707                             Crime|Drama|Thriller   \n",
       "33157                                      Documentary   \n",
       "47344                                      Documentary   \n",
       "\n",
       "                                                    soup  \n",
       "303    neighbors memasa'smovies dog geneva nadysku bi...  \n",
       "305    kieślowski memasa'smovies poland bibliothek on...  \n",
       "360    writer:larryleker disneyclassics writer:joeran...  \n",
       "515    policeman scifi nancyallen robertjohnburke fre...  \n",
       "2061   nanaviu mysoginistic shallowcharacters farce h...  \n",
       "4422                sport robertdowneyjr. betamax comedy  \n",
       "6198   they'realwaysspoton! musicians mockumentary tu...  \n",
       "6783   melgibson robertdowneyjr robertdowneyjr. comed...  \n",
       "12558  abuse 05/11 estonia 06/11 raw highschool bitte...  \n",
       "14018    highway roadmovie hitchhike writer comedy drama  \n",
       "20573                                       writer drama  \n",
       "26087  pizzeria pizza action adventure comedy crime t...  \n",
       "29707                        writer crime drama thriller  \n",
       "33157                                 writer documentary  \n",
       "47344  blackout heatwave punk hip-hop newyorkcity doc...  "
      ]
     },
     "execution_count": 31,
     "metadata": {},
     "output_type": "execute_result"
    }
   ],
   "source": [
    "moviestagsLatest.loc[moviestagsLatest['movieId'].isin(get_recommendations_by_user(1))]"
   ]
  },
  {
   "cell_type": "markdown",
   "metadata": {},
   "source": [
    "**Testiranje** Content-based modela koristeći **precision and recall** metriku.\n",
    "\n",
    "\n",
    "Content-based model testirati ćemo tako da prvo podijelimo ocjene svakog korisnika na train i test skupove.\n",
    "Zatim ćemo za svaki film kojeg je korisnik ocijenio i koji se nalazi u train skupu zatražiti naš model da nam predloži n filmova\n",
    "koje bi preporučio korisniku na osnovi sličnosti s filmom iz train skupa.\n",
    "Sve te filmove ćemo pohraniti u jednu strukturu podataka i zatim ćemo gledati nalaze li se u test skupu.\n",
    "\n",
    "Ukoliko se film koji nam je model predložio nalazi u test skupu, možemo zaključiti da je on korisnika doista zanimao:\n",
    "Računamo sve potrebne varijable za korištenu metriku i vraćamo programu koji će predhodno ispitati za n korisnika.\n",
    "\n",
    "Naše testiranje ispisati će **precision** i **recall** te **F1** metriku za naš model."
   ]
  },
  {
   "cell_type": "code",
   "execution_count": 32,
   "metadata": {
    "pycharm": {
     "name": "#%%\n"
    }
   },
   "outputs": [],
   "source": [
    "from sklearn.model_selection import train_test_split\n",
    "\n",
    "def testForUser(x, n = 10):\n",
    "    userSet = set()\n",
    "    userRatings = ratingsLatest.loc[ratingsLatest['userId'] == x]\n",
    "    if len(userRatings) < 5:\n",
    "        return 0,0\n",
    "    userTrain, userTest = train_test_split(userRatings, test_size=0.3, random_state=42)\n",
    "\n",
    "    for index1, row1 in userTrain.iterrows():\n",
    "        bestForThisMovie = get_recommendations_by_id(row1['movieId'],n)\n",
    "\n",
    "        #Ne želimo spremati one koje su u train skupu\n",
    "        for j in bestForThisMovie:\n",
    "            val = userTrain.loc[userTrain['movieId'] == j]\n",
    "            if(len(val) == 0):\n",
    "                userSet.add(j)\n",
    "\n",
    "    precision1 = 0\n",
    "    for index2, row2 in userTest.iterrows():\n",
    "        if row2['movieId'] in userSet:\n",
    "            precision1 += 1\n",
    "\n",
    "    return (precision1 / len(userSet)), (precision1 / len(userTest))"
   ]
  },
  {
   "cell_type": "code",
   "execution_count": 47,
   "metadata": {
    "pycharm": {
     "name": "#%%\n"
    }
   },
   "outputs": [
    {
     "name": "stdout",
     "output_type": "stream",
     "text": [
      "Precision is 0.020420382237511372\n",
      "Recall is 0.11006030659249945\n",
      "F1 metric is 0.034449136495968716\n"
     ]
    }
   ],
   "source": [
    "import random\n",
    "\n",
    "precision = 0\n",
    "recall = 0\n",
    "\n",
    "globalUsers = len(ratingsLatest.movieId.unique())\n",
    "\n",
    "numberUsersToTest = 100\n",
    "\n",
    "\n",
    "for i in random.sample(range(1,globalUsers), numberUsersToTest):\n",
    "    pr, rc = testForUser(i,3)\n",
    "    precision += pr\n",
    "    recall += rc\n",
    "\n",
    "precision = precision / numberUsersToTest\n",
    "recall = recall / numberUsersToTest\n",
    "\n",
    "print(\"Precision is {}\".format(precision))\n",
    "print(\"Recall is {}\".format(recall))\n",
    "\n",
    "print(\"F1 metric is {}\".format(2 * (precision * recall) / (precision + recall)))"
   ]
  },
  {
   "cell_type": "markdown",
   "metadata": {},
   "source": [
    "Testiranje nam prikazuje prilično slabe rezultate. Pripisujemo ih nedostacima modela kod generiranja sličnosti\n",
    "zbog nemogućnosti razlikovanja težine pojedinih tagova koje smo koristili za izgradnju TF-IDF vectorizera i njegovog\n",
    "ne-korištenja sličnosti riječi.\n",
    "Tags dataset bi trebali zamijeniti nekim kvalitetnijim i konzistentnijim izvorom metapodataka o filmu.\n",
    "\n",
    "Također kao opći nedostatak Content-based pristupa samo se trenutne preferencije korisnika uzimaju u obzir, te model\n",
    "ne može predvidjeti korisnikove nove interese."
   ]
  },
  {
   "cell_type": "markdown",
   "metadata": {},
   "source": [
    "**COLLABORATIVE FILTERING**\n",
    "\n",
    "Postoje dva pristupa kod collaborative filteringa:\n",
    "1) Item-item:\n",
    "    Za neki film tražimo njemu najsličnije filmove na temelju kako su korisnici ocijenili taj film.\n",
    "    \n",
    "2) User-user:\n",
    "    Za nekog korisnika tražimo njemu najsličnije korisnike na temelju ocjena filmova koje je korisnik pogledao.\n",
    "    \n",
    "U implementiranim collaborative filtering algoritmima korištena metoda sličnosti je kosinusna sličnost.\n",
    "\n",
    "Za collaborative filtering algoritme radimo user-item i item-user matrice. Item-user je matrica čiji je i-ti redak film i sa distribucijom ocjena po korisnicima, a j-ti stupac je distribucija ocjena nekog korisnika po filmovima. Transponiramo li item-user matricu, dobiti ćemo user-item matricu. Zbog ovakve konstrukcije nailazimo na problem jer nam je veliki dio matrice prazan(ne postoji film koji su svi korisnici pogledali i ne postoji korisnik koji je pogledao sve filmove).\n",
    "\n",
    "Zbog toga, pri konstruiranju item-user matrice, i-ti redak, odnosno, ocjene i-tog filma, centriramo tj. od i-tog retka oduzimamo srednju vrijednost tog retka. Ovaj \"manevar\" nam omogućava da nepoznate vrijednosti postavimo na nulu jer nam je srednja vrijednost svakog retka sada nula. Isti postupak vrijedi i za user-item matricu, samo se u ovom slučaju oduzima prosječna ocjena koju je korisnik dao filmovima koje je pogledao.\n",
    "\n",
    "Ovaj postupak nam je potreban kako ne bi povećali pristranost u procjeni ocjena filmova koje korisnik nije pogledao.\n",
    "\n",
    "**Testiranje**\n",
    "\n",
    "Rezultate collaborative filtering algoritama ocjenjujemo srednjom kvadratnom pogreškom (eng. Root mean squared error ili RMSE)."
   ]
  },
  {
   "cell_type": "markdown",
   "metadata": {},
   "source": [
    "#### 2) _User-user Collaborative-filterning_\n",
    "\n",
    "Algoritam se zasniva samo na povijesti gledanja korisnika.\n",
    "\n",
    "User-user oblik temelji se na tome da se za korisnika pokuša pronaći što sličniji korisnik i preporuče mu se\n",
    "njegovi pogledani filmovi. Glavni nedostatak algoritma je njegova sporost te stoga smo se ograničili\n",
    "na **ml-lates-small** dateset.\n",
    "\n",
    "\n",
    "U ovom pristupu, radimo prema user-user collaborative filteringu. Pronalazimo najsličnijeg korisnika\n",
    "i predlažemo filmove koje je taj korisnik najbolje ocijenio, a da prvi korisnik još nije pogledao.\n",
    "\n"
   ]
  },
  {
   "cell_type": "code",
   "execution_count": 6,
   "metadata": {
    "pycharm": {
     "name": "#%%\n"
    }
   },
   "outputs": [
    {
     "data": {
      "text/html": [
       "<div>\n",
       "<style scoped>\n",
       "    .dataframe tbody tr th:only-of-type {\n",
       "        vertical-align: middle;\n",
       "    }\n",
       "\n",
       "    .dataframe tbody tr th {\n",
       "        vertical-align: top;\n",
       "    }\n",
       "\n",
       "    .dataframe thead th {\n",
       "        text-align: right;\n",
       "    }\n",
       "</style>\n",
       "<table border=\"1\" class=\"dataframe\">\n",
       "  <thead>\n",
       "    <tr style=\"text-align: right;\">\n",
       "      <th>movieId</th>\n",
       "      <th>1</th>\n",
       "      <th>2</th>\n",
       "      <th>3</th>\n",
       "      <th>4</th>\n",
       "      <th>5</th>\n",
       "      <th>6</th>\n",
       "      <th>7</th>\n",
       "      <th>8</th>\n",
       "      <th>9</th>\n",
       "      <th>10</th>\n",
       "      <th>...</th>\n",
       "      <th>193565</th>\n",
       "      <th>193567</th>\n",
       "      <th>193571</th>\n",
       "      <th>193573</th>\n",
       "      <th>193579</th>\n",
       "      <th>193581</th>\n",
       "      <th>193583</th>\n",
       "      <th>193585</th>\n",
       "      <th>193587</th>\n",
       "      <th>193609</th>\n",
       "    </tr>\n",
       "    <tr>\n",
       "      <th>userId</th>\n",
       "      <th></th>\n",
       "      <th></th>\n",
       "      <th></th>\n",
       "      <th></th>\n",
       "      <th></th>\n",
       "      <th></th>\n",
       "      <th></th>\n",
       "      <th></th>\n",
       "      <th></th>\n",
       "      <th></th>\n",
       "      <th></th>\n",
       "      <th></th>\n",
       "      <th></th>\n",
       "      <th></th>\n",
       "      <th></th>\n",
       "      <th></th>\n",
       "      <th></th>\n",
       "      <th></th>\n",
       "      <th></th>\n",
       "      <th></th>\n",
       "      <th></th>\n",
       "    </tr>\n",
       "  </thead>\n",
       "  <tbody>\n",
       "    <tr>\n",
       "      <th>1</th>\n",
       "      <td>4.0</td>\n",
       "      <td>NaN</td>\n",
       "      <td>4.0</td>\n",
       "      <td>NaN</td>\n",
       "      <td>NaN</td>\n",
       "      <td>4.0</td>\n",
       "      <td>NaN</td>\n",
       "      <td>NaN</td>\n",
       "      <td>NaN</td>\n",
       "      <td>NaN</td>\n",
       "      <td>...</td>\n",
       "      <td>NaN</td>\n",
       "      <td>NaN</td>\n",
       "      <td>NaN</td>\n",
       "      <td>NaN</td>\n",
       "      <td>NaN</td>\n",
       "      <td>NaN</td>\n",
       "      <td>NaN</td>\n",
       "      <td>NaN</td>\n",
       "      <td>NaN</td>\n",
       "      <td>NaN</td>\n",
       "    </tr>\n",
       "    <tr>\n",
       "      <th>2</th>\n",
       "      <td>NaN</td>\n",
       "      <td>NaN</td>\n",
       "      <td>NaN</td>\n",
       "      <td>NaN</td>\n",
       "      <td>NaN</td>\n",
       "      <td>NaN</td>\n",
       "      <td>NaN</td>\n",
       "      <td>NaN</td>\n",
       "      <td>NaN</td>\n",
       "      <td>NaN</td>\n",
       "      <td>...</td>\n",
       "      <td>NaN</td>\n",
       "      <td>NaN</td>\n",
       "      <td>NaN</td>\n",
       "      <td>NaN</td>\n",
       "      <td>NaN</td>\n",
       "      <td>NaN</td>\n",
       "      <td>NaN</td>\n",
       "      <td>NaN</td>\n",
       "      <td>NaN</td>\n",
       "      <td>NaN</td>\n",
       "    </tr>\n",
       "    <tr>\n",
       "      <th>3</th>\n",
       "      <td>NaN</td>\n",
       "      <td>NaN</td>\n",
       "      <td>NaN</td>\n",
       "      <td>NaN</td>\n",
       "      <td>NaN</td>\n",
       "      <td>NaN</td>\n",
       "      <td>NaN</td>\n",
       "      <td>NaN</td>\n",
       "      <td>NaN</td>\n",
       "      <td>NaN</td>\n",
       "      <td>...</td>\n",
       "      <td>NaN</td>\n",
       "      <td>NaN</td>\n",
       "      <td>NaN</td>\n",
       "      <td>NaN</td>\n",
       "      <td>NaN</td>\n",
       "      <td>NaN</td>\n",
       "      <td>NaN</td>\n",
       "      <td>NaN</td>\n",
       "      <td>NaN</td>\n",
       "      <td>NaN</td>\n",
       "    </tr>\n",
       "    <tr>\n",
       "      <th>4</th>\n",
       "      <td>NaN</td>\n",
       "      <td>NaN</td>\n",
       "      <td>NaN</td>\n",
       "      <td>NaN</td>\n",
       "      <td>NaN</td>\n",
       "      <td>NaN</td>\n",
       "      <td>NaN</td>\n",
       "      <td>NaN</td>\n",
       "      <td>NaN</td>\n",
       "      <td>NaN</td>\n",
       "      <td>...</td>\n",
       "      <td>NaN</td>\n",
       "      <td>NaN</td>\n",
       "      <td>NaN</td>\n",
       "      <td>NaN</td>\n",
       "      <td>NaN</td>\n",
       "      <td>NaN</td>\n",
       "      <td>NaN</td>\n",
       "      <td>NaN</td>\n",
       "      <td>NaN</td>\n",
       "      <td>NaN</td>\n",
       "    </tr>\n",
       "    <tr>\n",
       "      <th>5</th>\n",
       "      <td>4.0</td>\n",
       "      <td>NaN</td>\n",
       "      <td>NaN</td>\n",
       "      <td>NaN</td>\n",
       "      <td>NaN</td>\n",
       "      <td>NaN</td>\n",
       "      <td>NaN</td>\n",
       "      <td>NaN</td>\n",
       "      <td>NaN</td>\n",
       "      <td>NaN</td>\n",
       "      <td>...</td>\n",
       "      <td>NaN</td>\n",
       "      <td>NaN</td>\n",
       "      <td>NaN</td>\n",
       "      <td>NaN</td>\n",
       "      <td>NaN</td>\n",
       "      <td>NaN</td>\n",
       "      <td>NaN</td>\n",
       "      <td>NaN</td>\n",
       "      <td>NaN</td>\n",
       "      <td>NaN</td>\n",
       "    </tr>\n",
       "    <tr>\n",
       "      <th>...</th>\n",
       "      <td>...</td>\n",
       "      <td>...</td>\n",
       "      <td>...</td>\n",
       "      <td>...</td>\n",
       "      <td>...</td>\n",
       "      <td>...</td>\n",
       "      <td>...</td>\n",
       "      <td>...</td>\n",
       "      <td>...</td>\n",
       "      <td>...</td>\n",
       "      <td>...</td>\n",
       "      <td>...</td>\n",
       "      <td>...</td>\n",
       "      <td>...</td>\n",
       "      <td>...</td>\n",
       "      <td>...</td>\n",
       "      <td>...</td>\n",
       "      <td>...</td>\n",
       "      <td>...</td>\n",
       "      <td>...</td>\n",
       "      <td>...</td>\n",
       "    </tr>\n",
       "    <tr>\n",
       "      <th>606</th>\n",
       "      <td>2.5</td>\n",
       "      <td>NaN</td>\n",
       "      <td>NaN</td>\n",
       "      <td>NaN</td>\n",
       "      <td>NaN</td>\n",
       "      <td>NaN</td>\n",
       "      <td>2.5</td>\n",
       "      <td>NaN</td>\n",
       "      <td>NaN</td>\n",
       "      <td>NaN</td>\n",
       "      <td>...</td>\n",
       "      <td>NaN</td>\n",
       "      <td>NaN</td>\n",
       "      <td>NaN</td>\n",
       "      <td>NaN</td>\n",
       "      <td>NaN</td>\n",
       "      <td>NaN</td>\n",
       "      <td>NaN</td>\n",
       "      <td>NaN</td>\n",
       "      <td>NaN</td>\n",
       "      <td>NaN</td>\n",
       "    </tr>\n",
       "    <tr>\n",
       "      <th>607</th>\n",
       "      <td>4.0</td>\n",
       "      <td>NaN</td>\n",
       "      <td>NaN</td>\n",
       "      <td>NaN</td>\n",
       "      <td>NaN</td>\n",
       "      <td>NaN</td>\n",
       "      <td>NaN</td>\n",
       "      <td>NaN</td>\n",
       "      <td>NaN</td>\n",
       "      <td>NaN</td>\n",
       "      <td>...</td>\n",
       "      <td>NaN</td>\n",
       "      <td>NaN</td>\n",
       "      <td>NaN</td>\n",
       "      <td>NaN</td>\n",
       "      <td>NaN</td>\n",
       "      <td>NaN</td>\n",
       "      <td>NaN</td>\n",
       "      <td>NaN</td>\n",
       "      <td>NaN</td>\n",
       "      <td>NaN</td>\n",
       "    </tr>\n",
       "    <tr>\n",
       "      <th>608</th>\n",
       "      <td>2.5</td>\n",
       "      <td>2.0</td>\n",
       "      <td>2.0</td>\n",
       "      <td>NaN</td>\n",
       "      <td>NaN</td>\n",
       "      <td>NaN</td>\n",
       "      <td>NaN</td>\n",
       "      <td>NaN</td>\n",
       "      <td>NaN</td>\n",
       "      <td>4.0</td>\n",
       "      <td>...</td>\n",
       "      <td>NaN</td>\n",
       "      <td>NaN</td>\n",
       "      <td>NaN</td>\n",
       "      <td>NaN</td>\n",
       "      <td>NaN</td>\n",
       "      <td>NaN</td>\n",
       "      <td>NaN</td>\n",
       "      <td>NaN</td>\n",
       "      <td>NaN</td>\n",
       "      <td>NaN</td>\n",
       "    </tr>\n",
       "    <tr>\n",
       "      <th>609</th>\n",
       "      <td>3.0</td>\n",
       "      <td>NaN</td>\n",
       "      <td>NaN</td>\n",
       "      <td>NaN</td>\n",
       "      <td>NaN</td>\n",
       "      <td>NaN</td>\n",
       "      <td>NaN</td>\n",
       "      <td>NaN</td>\n",
       "      <td>NaN</td>\n",
       "      <td>4.0</td>\n",
       "      <td>...</td>\n",
       "      <td>NaN</td>\n",
       "      <td>NaN</td>\n",
       "      <td>NaN</td>\n",
       "      <td>NaN</td>\n",
       "      <td>NaN</td>\n",
       "      <td>NaN</td>\n",
       "      <td>NaN</td>\n",
       "      <td>NaN</td>\n",
       "      <td>NaN</td>\n",
       "      <td>NaN</td>\n",
       "    </tr>\n",
       "    <tr>\n",
       "      <th>610</th>\n",
       "      <td>5.0</td>\n",
       "      <td>NaN</td>\n",
       "      <td>NaN</td>\n",
       "      <td>NaN</td>\n",
       "      <td>NaN</td>\n",
       "      <td>5.0</td>\n",
       "      <td>NaN</td>\n",
       "      <td>NaN</td>\n",
       "      <td>NaN</td>\n",
       "      <td>NaN</td>\n",
       "      <td>...</td>\n",
       "      <td>NaN</td>\n",
       "      <td>NaN</td>\n",
       "      <td>NaN</td>\n",
       "      <td>NaN</td>\n",
       "      <td>NaN</td>\n",
       "      <td>NaN</td>\n",
       "      <td>NaN</td>\n",
       "      <td>NaN</td>\n",
       "      <td>NaN</td>\n",
       "      <td>NaN</td>\n",
       "    </tr>\n",
       "  </tbody>\n",
       "</table>\n",
       "<p>610 rows × 9724 columns</p>\n",
       "</div>"
      ],
      "text/plain": [
       "movieId  1       2       3       4       5       6       7       8       \\\n",
       "userId                                                                    \n",
       "1           4.0     NaN     4.0     NaN     NaN     4.0     NaN     NaN   \n",
       "2           NaN     NaN     NaN     NaN     NaN     NaN     NaN     NaN   \n",
       "3           NaN     NaN     NaN     NaN     NaN     NaN     NaN     NaN   \n",
       "4           NaN     NaN     NaN     NaN     NaN     NaN     NaN     NaN   \n",
       "5           4.0     NaN     NaN     NaN     NaN     NaN     NaN     NaN   \n",
       "...         ...     ...     ...     ...     ...     ...     ...     ...   \n",
       "606         2.5     NaN     NaN     NaN     NaN     NaN     2.5     NaN   \n",
       "607         4.0     NaN     NaN     NaN     NaN     NaN     NaN     NaN   \n",
       "608         2.5     2.0     2.0     NaN     NaN     NaN     NaN     NaN   \n",
       "609         3.0     NaN     NaN     NaN     NaN     NaN     NaN     NaN   \n",
       "610         5.0     NaN     NaN     NaN     NaN     5.0     NaN     NaN   \n",
       "\n",
       "movieId  9       10      ...  193565  193567  193571  193573  193579  193581  \\\n",
       "userId                   ...                                                   \n",
       "1           NaN     NaN  ...     NaN     NaN     NaN     NaN     NaN     NaN   \n",
       "2           NaN     NaN  ...     NaN     NaN     NaN     NaN     NaN     NaN   \n",
       "3           NaN     NaN  ...     NaN     NaN     NaN     NaN     NaN     NaN   \n",
       "4           NaN     NaN  ...     NaN     NaN     NaN     NaN     NaN     NaN   \n",
       "5           NaN     NaN  ...     NaN     NaN     NaN     NaN     NaN     NaN   \n",
       "...         ...     ...  ...     ...     ...     ...     ...     ...     ...   \n",
       "606         NaN     NaN  ...     NaN     NaN     NaN     NaN     NaN     NaN   \n",
       "607         NaN     NaN  ...     NaN     NaN     NaN     NaN     NaN     NaN   \n",
       "608         NaN     4.0  ...     NaN     NaN     NaN     NaN     NaN     NaN   \n",
       "609         NaN     4.0  ...     NaN     NaN     NaN     NaN     NaN     NaN   \n",
       "610         NaN     NaN  ...     NaN     NaN     NaN     NaN     NaN     NaN   \n",
       "\n",
       "movieId  193583  193585  193587  193609  \n",
       "userId                                   \n",
       "1           NaN     NaN     NaN     NaN  \n",
       "2           NaN     NaN     NaN     NaN  \n",
       "3           NaN     NaN     NaN     NaN  \n",
       "4           NaN     NaN     NaN     NaN  \n",
       "5           NaN     NaN     NaN     NaN  \n",
       "...         ...     ...     ...     ...  \n",
       "606         NaN     NaN     NaN     NaN  \n",
       "607         NaN     NaN     NaN     NaN  \n",
       "608         NaN     NaN     NaN     NaN  \n",
       "609         NaN     NaN     NaN     NaN  \n",
       "610         NaN     NaN     NaN     NaN  \n",
       "\n",
       "[610 rows x 9724 columns]"
      ]
     },
     "execution_count": 6,
     "metadata": {},
     "output_type": "execute_result"
    }
   ],
   "source": [
    "df = pd.merge(left=movies, right=ratings, left_on='movieId', right_on='movieId')\n",
    "df = df.pivot_table(index='userId', columns='movieId', values='rating')\n",
    "df"
   ]
  },
  {
   "cell_type": "markdown",
   "metadata": {},
   "source": [
    "Sada slijedi gore navedeni postupak: centriranje i zamjena NaN vrijednosti s nulom."
   ]
  },
  {
   "cell_type": "code",
   "execution_count": 7,
   "metadata": {
    "pycharm": {
     "name": "#%%\n"
    }
   },
   "outputs": [
    {
     "data": {
      "text/html": [
       "<div>\n",
       "<style scoped>\n",
       "    .dataframe tbody tr th:only-of-type {\n",
       "        vertical-align: middle;\n",
       "    }\n",
       "\n",
       "    .dataframe tbody tr th {\n",
       "        vertical-align: top;\n",
       "    }\n",
       "\n",
       "    .dataframe thead th {\n",
       "        text-align: right;\n",
       "    }\n",
       "</style>\n",
       "<table border=\"1\" class=\"dataframe\">\n",
       "  <thead>\n",
       "    <tr style=\"text-align: right;\">\n",
       "      <th>movieId</th>\n",
       "      <th>1</th>\n",
       "      <th>2</th>\n",
       "      <th>3</th>\n",
       "      <th>4</th>\n",
       "      <th>5</th>\n",
       "      <th>6</th>\n",
       "      <th>7</th>\n",
       "      <th>8</th>\n",
       "      <th>9</th>\n",
       "      <th>10</th>\n",
       "      <th>...</th>\n",
       "      <th>193565</th>\n",
       "      <th>193567</th>\n",
       "      <th>193571</th>\n",
       "      <th>193573</th>\n",
       "      <th>193579</th>\n",
       "      <th>193581</th>\n",
       "      <th>193583</th>\n",
       "      <th>193585</th>\n",
       "      <th>193587</th>\n",
       "      <th>193609</th>\n",
       "    </tr>\n",
       "    <tr>\n",
       "      <th>userId</th>\n",
       "      <th></th>\n",
       "      <th></th>\n",
       "      <th></th>\n",
       "      <th></th>\n",
       "      <th></th>\n",
       "      <th></th>\n",
       "      <th></th>\n",
       "      <th></th>\n",
       "      <th></th>\n",
       "      <th></th>\n",
       "      <th></th>\n",
       "      <th></th>\n",
       "      <th></th>\n",
       "      <th></th>\n",
       "      <th></th>\n",
       "      <th></th>\n",
       "      <th></th>\n",
       "      <th></th>\n",
       "      <th></th>\n",
       "      <th></th>\n",
       "      <th></th>\n",
       "    </tr>\n",
       "  </thead>\n",
       "  <tbody>\n",
       "    <tr>\n",
       "      <th>1</th>\n",
       "      <td>-0.366379</td>\n",
       "      <td>0.0</td>\n",
       "      <td>-0.366379</td>\n",
       "      <td>0.0</td>\n",
       "      <td>0.0</td>\n",
       "      <td>-0.366379</td>\n",
       "      <td>0.0</td>\n",
       "      <td>0.0</td>\n",
       "      <td>0.0</td>\n",
       "      <td>0.0</td>\n",
       "      <td>...</td>\n",
       "      <td>0.0</td>\n",
       "      <td>0.0</td>\n",
       "      <td>0.0</td>\n",
       "      <td>0.0</td>\n",
       "      <td>0.0</td>\n",
       "      <td>0.0</td>\n",
       "      <td>0.0</td>\n",
       "      <td>0.0</td>\n",
       "      <td>0.0</td>\n",
       "      <td>0.0</td>\n",
       "    </tr>\n",
       "    <tr>\n",
       "      <th>2</th>\n",
       "      <td>0.000000</td>\n",
       "      <td>0.0</td>\n",
       "      <td>0.000000</td>\n",
       "      <td>0.0</td>\n",
       "      <td>0.0</td>\n",
       "      <td>0.000000</td>\n",
       "      <td>0.0</td>\n",
       "      <td>0.0</td>\n",
       "      <td>0.0</td>\n",
       "      <td>0.0</td>\n",
       "      <td>...</td>\n",
       "      <td>0.0</td>\n",
       "      <td>0.0</td>\n",
       "      <td>0.0</td>\n",
       "      <td>0.0</td>\n",
       "      <td>0.0</td>\n",
       "      <td>0.0</td>\n",
       "      <td>0.0</td>\n",
       "      <td>0.0</td>\n",
       "      <td>0.0</td>\n",
       "      <td>0.0</td>\n",
       "    </tr>\n",
       "    <tr>\n",
       "      <th>3</th>\n",
       "      <td>0.000000</td>\n",
       "      <td>0.0</td>\n",
       "      <td>0.000000</td>\n",
       "      <td>0.0</td>\n",
       "      <td>0.0</td>\n",
       "      <td>0.000000</td>\n",
       "      <td>0.0</td>\n",
       "      <td>0.0</td>\n",
       "      <td>0.0</td>\n",
       "      <td>0.0</td>\n",
       "      <td>...</td>\n",
       "      <td>0.0</td>\n",
       "      <td>0.0</td>\n",
       "      <td>0.0</td>\n",
       "      <td>0.0</td>\n",
       "      <td>0.0</td>\n",
       "      <td>0.0</td>\n",
       "      <td>0.0</td>\n",
       "      <td>0.0</td>\n",
       "      <td>0.0</td>\n",
       "      <td>0.0</td>\n",
       "    </tr>\n",
       "    <tr>\n",
       "      <th>4</th>\n",
       "      <td>0.000000</td>\n",
       "      <td>0.0</td>\n",
       "      <td>0.000000</td>\n",
       "      <td>0.0</td>\n",
       "      <td>0.0</td>\n",
       "      <td>0.000000</td>\n",
       "      <td>0.0</td>\n",
       "      <td>0.0</td>\n",
       "      <td>0.0</td>\n",
       "      <td>0.0</td>\n",
       "      <td>...</td>\n",
       "      <td>0.0</td>\n",
       "      <td>0.0</td>\n",
       "      <td>0.0</td>\n",
       "      <td>0.0</td>\n",
       "      <td>0.0</td>\n",
       "      <td>0.0</td>\n",
       "      <td>0.0</td>\n",
       "      <td>0.0</td>\n",
       "      <td>0.0</td>\n",
       "      <td>0.0</td>\n",
       "    </tr>\n",
       "    <tr>\n",
       "      <th>5</th>\n",
       "      <td>0.363636</td>\n",
       "      <td>0.0</td>\n",
       "      <td>0.000000</td>\n",
       "      <td>0.0</td>\n",
       "      <td>0.0</td>\n",
       "      <td>0.000000</td>\n",
       "      <td>0.0</td>\n",
       "      <td>0.0</td>\n",
       "      <td>0.0</td>\n",
       "      <td>0.0</td>\n",
       "      <td>...</td>\n",
       "      <td>0.0</td>\n",
       "      <td>0.0</td>\n",
       "      <td>0.0</td>\n",
       "      <td>0.0</td>\n",
       "      <td>0.0</td>\n",
       "      <td>0.0</td>\n",
       "      <td>0.0</td>\n",
       "      <td>0.0</td>\n",
       "      <td>0.0</td>\n",
       "      <td>0.0</td>\n",
       "    </tr>\n",
       "  </tbody>\n",
       "</table>\n",
       "<p>5 rows × 9724 columns</p>\n",
       "</div>"
      ],
      "text/plain": [
       "movieId    1       2         3       4       5         6       7       8       \\\n",
       "userId                                                                          \n",
       "1       -0.366379     0.0 -0.366379     0.0     0.0 -0.366379     0.0     0.0   \n",
       "2        0.000000     0.0  0.000000     0.0     0.0  0.000000     0.0     0.0   \n",
       "3        0.000000     0.0  0.000000     0.0     0.0  0.000000     0.0     0.0   \n",
       "4        0.000000     0.0  0.000000     0.0     0.0  0.000000     0.0     0.0   \n",
       "5        0.363636     0.0  0.000000     0.0     0.0  0.000000     0.0     0.0   \n",
       "\n",
       "movieId  9       10      ...  193565  193567  193571  193573  193579  193581  \\\n",
       "userId                   ...                                                   \n",
       "1           0.0     0.0  ...     0.0     0.0     0.0     0.0     0.0     0.0   \n",
       "2           0.0     0.0  ...     0.0     0.0     0.0     0.0     0.0     0.0   \n",
       "3           0.0     0.0  ...     0.0     0.0     0.0     0.0     0.0     0.0   \n",
       "4           0.0     0.0  ...     0.0     0.0     0.0     0.0     0.0     0.0   \n",
       "5           0.0     0.0  ...     0.0     0.0     0.0     0.0     0.0     0.0   \n",
       "\n",
       "movieId  193583  193585  193587  193609  \n",
       "userId                                   \n",
       "1           0.0     0.0     0.0     0.0  \n",
       "2           0.0     0.0     0.0     0.0  \n",
       "3           0.0     0.0     0.0     0.0  \n",
       "4           0.0     0.0     0.0     0.0  \n",
       "5           0.0     0.0     0.0     0.0  \n",
       "\n",
       "[5 rows x 9724 columns]"
      ]
     },
     "execution_count": 7,
     "metadata": {},
     "output_type": "execute_result"
    }
   ],
   "source": [
    "#Making centered user-item matrix\n",
    "for index, row in ratings.groupby('userId').count().iterrows():\n",
    "    tmp = ratings.query(\"userId == {}\".format(index))\n",
    "    mean = tmp['rating'].mean()\n",
    "    for i, r in tmp.iterrows():\n",
    "        df.loc[index, r['movieId']] = r['rating'] - mean\n",
    "\n",
    "df = df.fillna(0)\n",
    "df.head()"
   ]
  },
  {
   "cell_type": "markdown",
   "metadata": {},
   "source": [
    "Funkcija predictScoreForUserOnMovie predviđa koliku će ocjenu dati korisnik filmu na temelju njemu\n",
    "najsličnijih korisnika(varijabla noOfScores je broj najsličnijih korisnika koji će se razmatrati)."
   ]
  },
  {
   "cell_type": "code",
   "execution_count": 8,
   "metadata": {
    "pycharm": {
     "name": "#%%\n"
    }
   },
   "outputs": [
    {
     "data": {
      "text/plain": [
       "4.2"
      ]
     },
     "execution_count": 8,
     "metadata": {},
     "output_type": "execute_result"
    }
   ],
   "source": [
    "from sklearn.metrics.pairwise import cosine_similarity\n",
    "\n",
    "\n",
    "def predictScoreForUserOnMovie(userVector, idOfUser, predictedMovieId, noOfScores):\n",
    "    userVector = np.array(userVector)\n",
    "    userVector = np.array([userVector])\n",
    "    \n",
    "    dictionary = {}\n",
    "    #Iterates through user-item matrix and finds the most similiar users that watched predictedMovieId\n",
    "    for index, row in df.iterrows():\n",
    "        if(index == idOfUser): continue\n",
    "        if(df.loc[index, predictedMovieId] == 0): continue\n",
    "        \n",
    "        otherRating = np.array(row)\n",
    "        otherRating = np.array([otherRating])\n",
    "       \n",
    "        result = cosine_similarity(userVector, otherRating)\n",
    "        dictionary[index] = result\n",
    "        \n",
    "    sorted_dict = {}\n",
    "    sorted_keys = sorted(dictionary, key=dictionary.get)\n",
    "    sorted_keys = reversed(sorted_keys)\n",
    "    for w in sorted_keys:\n",
    "        sorted_dict[w] = dictionary[w]\n",
    "        \n",
    "    x = itertools.islice(sorted_dict.items(), 0, noOfScores)\n",
    "    combine_score = 0\n",
    "    for key, value in x:\n",
    "        tmp = []\n",
    "        tmp.append(ratings.query(\"userId == {} & movieId == {}\".format(key, predictedMovieId)))\n",
    "        combine_score += tmp[0].values[0, 2]\n",
    "        \n",
    "    return combine_score / noOfScores\n",
    "    \n",
    "        \n",
    "        \n",
    "predictScoreForUserOnMovie(df.loc[index, :], 1, 1, 5)\n",
    "    "
   ]
  },
  {
   "cell_type": "markdown",
   "metadata": {},
   "source": [
    "Rezultat pokazuje da je predviđena ocjena za korisnika s id-om 1 i film s id-om 1 na temelju 5 najsličnijijh korisnika koji su pogledali film 4.2 dok je stvarna ocjena bila 4.0.\n",
    "\n",
    "\n",
    "\n",
    "**Testiramo**\n",
    "\n",
    "Testiramo user-user collaborative filtering algoritam. Testiramo tako da za korisnika, odvojimo 30% filmova koje je\n",
    "pogledao(test split) i probamo pretpostaviti koju je ocjenu dao filmu. U user-item matrici, za svaki film iz\n",
    "test splita, tražimo korisnike iz user-item matrice koji su pogledali film i koji su najsličniji našem korisniku\n",
    "po cosine similarity-u. Uzimamo prosjek ocjena od 4 najsličnija korisnika koji smo dobili ovim postupkom. Potom\n",
    "računamo grešku pomoću RMSEa. Algoritam troši puno procesorskog vremena i jako je spor pa smo računali grešku samo\n",
    "za prvih 100 korisnika."
   ]
  },
  {
   "cell_type": "code",
   "execution_count": 37,
   "metadata": {
    "pycharm": {
     "name": "#%%\n"
    }
   },
   "outputs": [
    {
     "name": "stdout",
     "output_type": "stream",
     "text": [
      "RMSE: 1.1787749016779392\n"
     ]
    }
   ],
   "source": [
    "\n",
    "\n",
    "def testingForUser(n):\n",
    "    userRating = ratings.query(\"userId == {}\".format(n))\n",
    "    user_train, user_test = train_test_split(userRating, test_size=0.3, random_state=42)\n",
    "    mean_train = user_train['rating'].mean()\n",
    "    \n",
    "    # We define new user-vector for training purposes\n",
    "    user_vector = df.loc[n, :]\n",
    "    \n",
    "    for index, row in user_test.iterrows():\n",
    "        user_vector[row['movieId']] = 0\n",
    "    \n",
    "    \n",
    "    user_test_ratings = []\n",
    "    other_user_ratings = []\n",
    "    \n",
    "    for index, row in user_test.iterrows():\n",
    "        user_test_ratings.append(row['rating'])\n",
    "        other_user_ratings.append(predictScoreForUserOnMovie(user_vector, n, row['movieId'], 4))\n",
    "        \n",
    "    return (mean_squared_error(user_test_ratings, other_user_ratings) ** 0.5)\n",
    "    \n",
    "    \n",
    "combined = 0\n",
    "for i in range(1, 101):\n",
    "    combined += testingForUser(i)\n",
    "\n",
    "print(\"RMSE: {}\".format(combined / 100))\n"
   ]
  },
  {
   "cell_type": "markdown",
   "metadata": {},
   "source": [
    "Dobili smo prosječnu pogrešku ocjene po korisniku 1.18 (srednja kvadratna pogreška ili RMSE).\n"
   ]
  },
  {
   "cell_type": "markdown",
   "metadata": {},
   "source": [
    "#### 3) _Item-item Collaborative-filtering_\n",
    "\n",
    "Collaborative filtering, ali koristeći item-user matricu.\n",
    "\n"
   ]
  },
  {
   "cell_type": "code",
   "execution_count": 10,
   "metadata": {
    "pycharm": {
     "name": "#%%\n"
    }
   },
   "outputs": [
    {
     "data": {
      "text/html": [
       "<div>\n",
       "<style scoped>\n",
       "    .dataframe tbody tr th:only-of-type {\n",
       "        vertical-align: middle;\n",
       "    }\n",
       "\n",
       "    .dataframe tbody tr th {\n",
       "        vertical-align: top;\n",
       "    }\n",
       "\n",
       "    .dataframe thead th {\n",
       "        text-align: right;\n",
       "    }\n",
       "</style>\n",
       "<table border=\"1\" class=\"dataframe\">\n",
       "  <thead>\n",
       "    <tr style=\"text-align: right;\">\n",
       "      <th>userId</th>\n",
       "      <th>1</th>\n",
       "      <th>2</th>\n",
       "      <th>3</th>\n",
       "      <th>4</th>\n",
       "      <th>5</th>\n",
       "      <th>6</th>\n",
       "      <th>7</th>\n",
       "      <th>8</th>\n",
       "      <th>9</th>\n",
       "      <th>10</th>\n",
       "      <th>...</th>\n",
       "      <th>601</th>\n",
       "      <th>602</th>\n",
       "      <th>603</th>\n",
       "      <th>604</th>\n",
       "      <th>605</th>\n",
       "      <th>606</th>\n",
       "      <th>607</th>\n",
       "      <th>608</th>\n",
       "      <th>609</th>\n",
       "      <th>610</th>\n",
       "    </tr>\n",
       "    <tr>\n",
       "      <th>movieId</th>\n",
       "      <th></th>\n",
       "      <th></th>\n",
       "      <th></th>\n",
       "      <th></th>\n",
       "      <th></th>\n",
       "      <th></th>\n",
       "      <th></th>\n",
       "      <th></th>\n",
       "      <th></th>\n",
       "      <th></th>\n",
       "      <th></th>\n",
       "      <th></th>\n",
       "      <th></th>\n",
       "      <th></th>\n",
       "      <th></th>\n",
       "      <th></th>\n",
       "      <th></th>\n",
       "      <th></th>\n",
       "      <th></th>\n",
       "      <th></th>\n",
       "      <th></th>\n",
       "    </tr>\n",
       "  </thead>\n",
       "  <tbody>\n",
       "    <tr>\n",
       "      <th>1</th>\n",
       "      <td>4.0</td>\n",
       "      <td>NaN</td>\n",
       "      <td>NaN</td>\n",
       "      <td>NaN</td>\n",
       "      <td>4.0</td>\n",
       "      <td>NaN</td>\n",
       "      <td>4.5</td>\n",
       "      <td>NaN</td>\n",
       "      <td>NaN</td>\n",
       "      <td>NaN</td>\n",
       "      <td>...</td>\n",
       "      <td>4.0</td>\n",
       "      <td>NaN</td>\n",
       "      <td>4.0</td>\n",
       "      <td>3.0</td>\n",
       "      <td>4.0</td>\n",
       "      <td>2.5</td>\n",
       "      <td>4.0</td>\n",
       "      <td>2.5</td>\n",
       "      <td>3.0</td>\n",
       "      <td>5.0</td>\n",
       "    </tr>\n",
       "    <tr>\n",
       "      <th>2</th>\n",
       "      <td>NaN</td>\n",
       "      <td>NaN</td>\n",
       "      <td>NaN</td>\n",
       "      <td>NaN</td>\n",
       "      <td>NaN</td>\n",
       "      <td>4.0</td>\n",
       "      <td>NaN</td>\n",
       "      <td>4.0</td>\n",
       "      <td>NaN</td>\n",
       "      <td>NaN</td>\n",
       "      <td>...</td>\n",
       "      <td>NaN</td>\n",
       "      <td>4.0</td>\n",
       "      <td>NaN</td>\n",
       "      <td>5.0</td>\n",
       "      <td>3.5</td>\n",
       "      <td>NaN</td>\n",
       "      <td>NaN</td>\n",
       "      <td>2.0</td>\n",
       "      <td>NaN</td>\n",
       "      <td>NaN</td>\n",
       "    </tr>\n",
       "    <tr>\n",
       "      <th>3</th>\n",
       "      <td>4.0</td>\n",
       "      <td>NaN</td>\n",
       "      <td>NaN</td>\n",
       "      <td>NaN</td>\n",
       "      <td>NaN</td>\n",
       "      <td>5.0</td>\n",
       "      <td>NaN</td>\n",
       "      <td>NaN</td>\n",
       "      <td>NaN</td>\n",
       "      <td>NaN</td>\n",
       "      <td>...</td>\n",
       "      <td>NaN</td>\n",
       "      <td>NaN</td>\n",
       "      <td>NaN</td>\n",
       "      <td>NaN</td>\n",
       "      <td>NaN</td>\n",
       "      <td>NaN</td>\n",
       "      <td>NaN</td>\n",
       "      <td>2.0</td>\n",
       "      <td>NaN</td>\n",
       "      <td>NaN</td>\n",
       "    </tr>\n",
       "    <tr>\n",
       "      <th>4</th>\n",
       "      <td>NaN</td>\n",
       "      <td>NaN</td>\n",
       "      <td>NaN</td>\n",
       "      <td>NaN</td>\n",
       "      <td>NaN</td>\n",
       "      <td>3.0</td>\n",
       "      <td>NaN</td>\n",
       "      <td>NaN</td>\n",
       "      <td>NaN</td>\n",
       "      <td>NaN</td>\n",
       "      <td>...</td>\n",
       "      <td>NaN</td>\n",
       "      <td>NaN</td>\n",
       "      <td>NaN</td>\n",
       "      <td>NaN</td>\n",
       "      <td>NaN</td>\n",
       "      <td>NaN</td>\n",
       "      <td>NaN</td>\n",
       "      <td>NaN</td>\n",
       "      <td>NaN</td>\n",
       "      <td>NaN</td>\n",
       "    </tr>\n",
       "    <tr>\n",
       "      <th>5</th>\n",
       "      <td>NaN</td>\n",
       "      <td>NaN</td>\n",
       "      <td>NaN</td>\n",
       "      <td>NaN</td>\n",
       "      <td>NaN</td>\n",
       "      <td>5.0</td>\n",
       "      <td>NaN</td>\n",
       "      <td>NaN</td>\n",
       "      <td>NaN</td>\n",
       "      <td>NaN</td>\n",
       "      <td>...</td>\n",
       "      <td>NaN</td>\n",
       "      <td>NaN</td>\n",
       "      <td>NaN</td>\n",
       "      <td>3.0</td>\n",
       "      <td>NaN</td>\n",
       "      <td>NaN</td>\n",
       "      <td>NaN</td>\n",
       "      <td>NaN</td>\n",
       "      <td>NaN</td>\n",
       "      <td>NaN</td>\n",
       "    </tr>\n",
       "    <tr>\n",
       "      <th>...</th>\n",
       "      <td>...</td>\n",
       "      <td>...</td>\n",
       "      <td>...</td>\n",
       "      <td>...</td>\n",
       "      <td>...</td>\n",
       "      <td>...</td>\n",
       "      <td>...</td>\n",
       "      <td>...</td>\n",
       "      <td>...</td>\n",
       "      <td>...</td>\n",
       "      <td>...</td>\n",
       "      <td>...</td>\n",
       "      <td>...</td>\n",
       "      <td>...</td>\n",
       "      <td>...</td>\n",
       "      <td>...</td>\n",
       "      <td>...</td>\n",
       "      <td>...</td>\n",
       "      <td>...</td>\n",
       "      <td>...</td>\n",
       "      <td>...</td>\n",
       "    </tr>\n",
       "    <tr>\n",
       "      <th>193581</th>\n",
       "      <td>NaN</td>\n",
       "      <td>NaN</td>\n",
       "      <td>NaN</td>\n",
       "      <td>NaN</td>\n",
       "      <td>NaN</td>\n",
       "      <td>NaN</td>\n",
       "      <td>NaN</td>\n",
       "      <td>NaN</td>\n",
       "      <td>NaN</td>\n",
       "      <td>NaN</td>\n",
       "      <td>...</td>\n",
       "      <td>NaN</td>\n",
       "      <td>NaN</td>\n",
       "      <td>NaN</td>\n",
       "      <td>NaN</td>\n",
       "      <td>NaN</td>\n",
       "      <td>NaN</td>\n",
       "      <td>NaN</td>\n",
       "      <td>NaN</td>\n",
       "      <td>NaN</td>\n",
       "      <td>NaN</td>\n",
       "    </tr>\n",
       "    <tr>\n",
       "      <th>193583</th>\n",
       "      <td>NaN</td>\n",
       "      <td>NaN</td>\n",
       "      <td>NaN</td>\n",
       "      <td>NaN</td>\n",
       "      <td>NaN</td>\n",
       "      <td>NaN</td>\n",
       "      <td>NaN</td>\n",
       "      <td>NaN</td>\n",
       "      <td>NaN</td>\n",
       "      <td>NaN</td>\n",
       "      <td>...</td>\n",
       "      <td>NaN</td>\n",
       "      <td>NaN</td>\n",
       "      <td>NaN</td>\n",
       "      <td>NaN</td>\n",
       "      <td>NaN</td>\n",
       "      <td>NaN</td>\n",
       "      <td>NaN</td>\n",
       "      <td>NaN</td>\n",
       "      <td>NaN</td>\n",
       "      <td>NaN</td>\n",
       "    </tr>\n",
       "    <tr>\n",
       "      <th>193585</th>\n",
       "      <td>NaN</td>\n",
       "      <td>NaN</td>\n",
       "      <td>NaN</td>\n",
       "      <td>NaN</td>\n",
       "      <td>NaN</td>\n",
       "      <td>NaN</td>\n",
       "      <td>NaN</td>\n",
       "      <td>NaN</td>\n",
       "      <td>NaN</td>\n",
       "      <td>NaN</td>\n",
       "      <td>...</td>\n",
       "      <td>NaN</td>\n",
       "      <td>NaN</td>\n",
       "      <td>NaN</td>\n",
       "      <td>NaN</td>\n",
       "      <td>NaN</td>\n",
       "      <td>NaN</td>\n",
       "      <td>NaN</td>\n",
       "      <td>NaN</td>\n",
       "      <td>NaN</td>\n",
       "      <td>NaN</td>\n",
       "    </tr>\n",
       "    <tr>\n",
       "      <th>193587</th>\n",
       "      <td>NaN</td>\n",
       "      <td>NaN</td>\n",
       "      <td>NaN</td>\n",
       "      <td>NaN</td>\n",
       "      <td>NaN</td>\n",
       "      <td>NaN</td>\n",
       "      <td>NaN</td>\n",
       "      <td>NaN</td>\n",
       "      <td>NaN</td>\n",
       "      <td>NaN</td>\n",
       "      <td>...</td>\n",
       "      <td>NaN</td>\n",
       "      <td>NaN</td>\n",
       "      <td>NaN</td>\n",
       "      <td>NaN</td>\n",
       "      <td>NaN</td>\n",
       "      <td>NaN</td>\n",
       "      <td>NaN</td>\n",
       "      <td>NaN</td>\n",
       "      <td>NaN</td>\n",
       "      <td>NaN</td>\n",
       "    </tr>\n",
       "    <tr>\n",
       "      <th>193609</th>\n",
       "      <td>NaN</td>\n",
       "      <td>NaN</td>\n",
       "      <td>NaN</td>\n",
       "      <td>NaN</td>\n",
       "      <td>NaN</td>\n",
       "      <td>NaN</td>\n",
       "      <td>NaN</td>\n",
       "      <td>NaN</td>\n",
       "      <td>NaN</td>\n",
       "      <td>NaN</td>\n",
       "      <td>...</td>\n",
       "      <td>NaN</td>\n",
       "      <td>NaN</td>\n",
       "      <td>NaN</td>\n",
       "      <td>NaN</td>\n",
       "      <td>NaN</td>\n",
       "      <td>NaN</td>\n",
       "      <td>NaN</td>\n",
       "      <td>NaN</td>\n",
       "      <td>NaN</td>\n",
       "      <td>NaN</td>\n",
       "    </tr>\n",
       "  </tbody>\n",
       "</table>\n",
       "<p>9724 rows × 610 columns</p>\n",
       "</div>"
      ],
      "text/plain": [
       "userId   1    2    3    4    5    6    7    8    9    10   ...  601  602  603  \\\n",
       "movieId                                                    ...                  \n",
       "1        4.0  NaN  NaN  NaN  4.0  NaN  4.5  NaN  NaN  NaN  ...  4.0  NaN  4.0   \n",
       "2        NaN  NaN  NaN  NaN  NaN  4.0  NaN  4.0  NaN  NaN  ...  NaN  4.0  NaN   \n",
       "3        4.0  NaN  NaN  NaN  NaN  5.0  NaN  NaN  NaN  NaN  ...  NaN  NaN  NaN   \n",
       "4        NaN  NaN  NaN  NaN  NaN  3.0  NaN  NaN  NaN  NaN  ...  NaN  NaN  NaN   \n",
       "5        NaN  NaN  NaN  NaN  NaN  5.0  NaN  NaN  NaN  NaN  ...  NaN  NaN  NaN   \n",
       "...      ...  ...  ...  ...  ...  ...  ...  ...  ...  ...  ...  ...  ...  ...   \n",
       "193581   NaN  NaN  NaN  NaN  NaN  NaN  NaN  NaN  NaN  NaN  ...  NaN  NaN  NaN   \n",
       "193583   NaN  NaN  NaN  NaN  NaN  NaN  NaN  NaN  NaN  NaN  ...  NaN  NaN  NaN   \n",
       "193585   NaN  NaN  NaN  NaN  NaN  NaN  NaN  NaN  NaN  NaN  ...  NaN  NaN  NaN   \n",
       "193587   NaN  NaN  NaN  NaN  NaN  NaN  NaN  NaN  NaN  NaN  ...  NaN  NaN  NaN   \n",
       "193609   NaN  NaN  NaN  NaN  NaN  NaN  NaN  NaN  NaN  NaN  ...  NaN  NaN  NaN   \n",
       "\n",
       "userId   604  605  606  607  608  609  610  \n",
       "movieId                                     \n",
       "1        3.0  4.0  2.5  4.0  2.5  3.0  5.0  \n",
       "2        5.0  3.5  NaN  NaN  2.0  NaN  NaN  \n",
       "3        NaN  NaN  NaN  NaN  2.0  NaN  NaN  \n",
       "4        NaN  NaN  NaN  NaN  NaN  NaN  NaN  \n",
       "5        3.0  NaN  NaN  NaN  NaN  NaN  NaN  \n",
       "...      ...  ...  ...  ...  ...  ...  ...  \n",
       "193581   NaN  NaN  NaN  NaN  NaN  NaN  NaN  \n",
       "193583   NaN  NaN  NaN  NaN  NaN  NaN  NaN  \n",
       "193585   NaN  NaN  NaN  NaN  NaN  NaN  NaN  \n",
       "193587   NaN  NaN  NaN  NaN  NaN  NaN  NaN  \n",
       "193609   NaN  NaN  NaN  NaN  NaN  NaN  NaN  \n",
       "\n",
       "[9724 rows x 610 columns]"
      ]
     },
     "execution_count": 10,
     "metadata": {},
     "output_type": "execute_result"
    }
   ],
   "source": [
    "df = pd.merge(left=movies, right=ratings, left_on='movieId', right_on='movieId')\n",
    "df = df.pivot_table(index='movieId', columns='userId', values='rating')\n",
    "df\n"
   ]
  },
  {
   "cell_type": "markdown",
   "metadata": {},
   "source": [
    "Slijedi isti postupak kao i kod user-user algoritma: centriranje i zamjena NaN vrijednosti nulom."
   ]
  },
  {
   "cell_type": "code",
   "execution_count": 11,
   "metadata": {},
   "outputs": [
    {
     "data": {
      "text/html": [
       "<div>\n",
       "<style scoped>\n",
       "    .dataframe tbody tr th:only-of-type {\n",
       "        vertical-align: middle;\n",
       "    }\n",
       "\n",
       "    .dataframe tbody tr th {\n",
       "        vertical-align: top;\n",
       "    }\n",
       "\n",
       "    .dataframe thead th {\n",
       "        text-align: right;\n",
       "    }\n",
       "</style>\n",
       "<table border=\"1\" class=\"dataframe\">\n",
       "  <thead>\n",
       "    <tr style=\"text-align: right;\">\n",
       "      <th>userId</th>\n",
       "      <th>1</th>\n",
       "      <th>2</th>\n",
       "      <th>3</th>\n",
       "      <th>4</th>\n",
       "      <th>5</th>\n",
       "      <th>6</th>\n",
       "      <th>7</th>\n",
       "      <th>8</th>\n",
       "      <th>9</th>\n",
       "      <th>10</th>\n",
       "      <th>...</th>\n",
       "      <th>601</th>\n",
       "      <th>602</th>\n",
       "      <th>603</th>\n",
       "      <th>604</th>\n",
       "      <th>605</th>\n",
       "      <th>606</th>\n",
       "      <th>607</th>\n",
       "      <th>608</th>\n",
       "      <th>609</th>\n",
       "      <th>610</th>\n",
       "    </tr>\n",
       "    <tr>\n",
       "      <th>movieId</th>\n",
       "      <th></th>\n",
       "      <th></th>\n",
       "      <th></th>\n",
       "      <th></th>\n",
       "      <th></th>\n",
       "      <th></th>\n",
       "      <th></th>\n",
       "      <th></th>\n",
       "      <th></th>\n",
       "      <th></th>\n",
       "      <th></th>\n",
       "      <th></th>\n",
       "      <th></th>\n",
       "      <th></th>\n",
       "      <th></th>\n",
       "      <th></th>\n",
       "      <th></th>\n",
       "      <th></th>\n",
       "      <th></th>\n",
       "      <th></th>\n",
       "      <th></th>\n",
       "    </tr>\n",
       "  </thead>\n",
       "  <tbody>\n",
       "    <tr>\n",
       "      <th>1</th>\n",
       "      <td>0.079070</td>\n",
       "      <td>0.0</td>\n",
       "      <td>0.0</td>\n",
       "      <td>0.0</td>\n",
       "      <td>0.07907</td>\n",
       "      <td>0.000000</td>\n",
       "      <td>0.57907</td>\n",
       "      <td>0.000000</td>\n",
       "      <td>0.0</td>\n",
       "      <td>0.0</td>\n",
       "      <td>...</td>\n",
       "      <td>0.07907</td>\n",
       "      <td>0.000000</td>\n",
       "      <td>0.07907</td>\n",
       "      <td>-0.920930</td>\n",
       "      <td>0.079070</td>\n",
       "      <td>-1.42093</td>\n",
       "      <td>0.07907</td>\n",
       "      <td>-1.420930</td>\n",
       "      <td>-0.92093</td>\n",
       "      <td>1.07907</td>\n",
       "    </tr>\n",
       "    <tr>\n",
       "      <th>2</th>\n",
       "      <td>0.000000</td>\n",
       "      <td>0.0</td>\n",
       "      <td>0.0</td>\n",
       "      <td>0.0</td>\n",
       "      <td>0.00000</td>\n",
       "      <td>0.568182</td>\n",
       "      <td>0.00000</td>\n",
       "      <td>0.568182</td>\n",
       "      <td>0.0</td>\n",
       "      <td>0.0</td>\n",
       "      <td>...</td>\n",
       "      <td>0.00000</td>\n",
       "      <td>0.568182</td>\n",
       "      <td>0.00000</td>\n",
       "      <td>1.568182</td>\n",
       "      <td>0.068182</td>\n",
       "      <td>0.00000</td>\n",
       "      <td>0.00000</td>\n",
       "      <td>-1.431818</td>\n",
       "      <td>0.00000</td>\n",
       "      <td>0.00000</td>\n",
       "    </tr>\n",
       "    <tr>\n",
       "      <th>3</th>\n",
       "      <td>0.740385</td>\n",
       "      <td>0.0</td>\n",
       "      <td>0.0</td>\n",
       "      <td>0.0</td>\n",
       "      <td>0.00000</td>\n",
       "      <td>1.740385</td>\n",
       "      <td>0.00000</td>\n",
       "      <td>0.000000</td>\n",
       "      <td>0.0</td>\n",
       "      <td>0.0</td>\n",
       "      <td>...</td>\n",
       "      <td>0.00000</td>\n",
       "      <td>0.000000</td>\n",
       "      <td>0.00000</td>\n",
       "      <td>0.000000</td>\n",
       "      <td>0.000000</td>\n",
       "      <td>0.00000</td>\n",
       "      <td>0.00000</td>\n",
       "      <td>-1.259615</td>\n",
       "      <td>0.00000</td>\n",
       "      <td>0.00000</td>\n",
       "    </tr>\n",
       "    <tr>\n",
       "      <th>4</th>\n",
       "      <td>0.000000</td>\n",
       "      <td>0.0</td>\n",
       "      <td>0.0</td>\n",
       "      <td>0.0</td>\n",
       "      <td>0.00000</td>\n",
       "      <td>0.642857</td>\n",
       "      <td>0.00000</td>\n",
       "      <td>0.000000</td>\n",
       "      <td>0.0</td>\n",
       "      <td>0.0</td>\n",
       "      <td>...</td>\n",
       "      <td>0.00000</td>\n",
       "      <td>0.000000</td>\n",
       "      <td>0.00000</td>\n",
       "      <td>0.000000</td>\n",
       "      <td>0.000000</td>\n",
       "      <td>0.00000</td>\n",
       "      <td>0.00000</td>\n",
       "      <td>0.000000</td>\n",
       "      <td>0.00000</td>\n",
       "      <td>0.00000</td>\n",
       "    </tr>\n",
       "    <tr>\n",
       "      <th>5</th>\n",
       "      <td>0.000000</td>\n",
       "      <td>0.0</td>\n",
       "      <td>0.0</td>\n",
       "      <td>0.0</td>\n",
       "      <td>0.00000</td>\n",
       "      <td>1.928571</td>\n",
       "      <td>0.00000</td>\n",
       "      <td>0.000000</td>\n",
       "      <td>0.0</td>\n",
       "      <td>0.0</td>\n",
       "      <td>...</td>\n",
       "      <td>0.00000</td>\n",
       "      <td>0.000000</td>\n",
       "      <td>0.00000</td>\n",
       "      <td>-0.071429</td>\n",
       "      <td>0.000000</td>\n",
       "      <td>0.00000</td>\n",
       "      <td>0.00000</td>\n",
       "      <td>0.000000</td>\n",
       "      <td>0.00000</td>\n",
       "      <td>0.00000</td>\n",
       "    </tr>\n",
       "  </tbody>\n",
       "</table>\n",
       "<p>5 rows × 610 columns</p>\n",
       "</div>"
      ],
      "text/plain": [
       "userId        1    2    3    4        5         6        7         8    9    \\\n",
       "movieId                                                                       \n",
       "1        0.079070  0.0  0.0  0.0  0.07907  0.000000  0.57907  0.000000  0.0   \n",
       "2        0.000000  0.0  0.0  0.0  0.00000  0.568182  0.00000  0.568182  0.0   \n",
       "3        0.740385  0.0  0.0  0.0  0.00000  1.740385  0.00000  0.000000  0.0   \n",
       "4        0.000000  0.0  0.0  0.0  0.00000  0.642857  0.00000  0.000000  0.0   \n",
       "5        0.000000  0.0  0.0  0.0  0.00000  1.928571  0.00000  0.000000  0.0   \n",
       "\n",
       "userId   10   ...      601       602      603       604       605      606  \\\n",
       "movieId       ...                                                            \n",
       "1        0.0  ...  0.07907  0.000000  0.07907 -0.920930  0.079070 -1.42093   \n",
       "2        0.0  ...  0.00000  0.568182  0.00000  1.568182  0.068182  0.00000   \n",
       "3        0.0  ...  0.00000  0.000000  0.00000  0.000000  0.000000  0.00000   \n",
       "4        0.0  ...  0.00000  0.000000  0.00000  0.000000  0.000000  0.00000   \n",
       "5        0.0  ...  0.00000  0.000000  0.00000 -0.071429  0.000000  0.00000   \n",
       "\n",
       "userId       607       608      609      610  \n",
       "movieId                                       \n",
       "1        0.07907 -1.420930 -0.92093  1.07907  \n",
       "2        0.00000 -1.431818  0.00000  0.00000  \n",
       "3        0.00000 -1.259615  0.00000  0.00000  \n",
       "4        0.00000  0.000000  0.00000  0.00000  \n",
       "5        0.00000  0.000000  0.00000  0.00000  \n",
       "\n",
       "[5 rows x 610 columns]"
      ]
     },
     "execution_count": 11,
     "metadata": {},
     "output_type": "execute_result"
    }
   ],
   "source": [
    "#Making centered item-user matrix\n",
    "for index, row, in ratings.groupby('movieId').count().iterrows():\n",
    "\n",
    "    tmp = ratings.query(\"movieId == {}\".format(index))\n",
    "    mean = tmp['rating'].mean()\n",
    "    for i, r in tmp.iterrows():\n",
    "        df.loc[index, r['userId']] = r['rating'] - mean\n",
    "\n",
    "df = df.fillna(0)\n",
    "df.head()"
   ]
  },
  {
   "cell_type": "markdown",
   "metadata": {},
   "source": [
    "Funkcija za korisnika i određeni film pronalazi najsličnije filmove koje je korisnik pogledao. Određeni broj filmova (varijabla noOfMovies) se uzima i računa se prosječna ocjena koju je korisnik dao tim filmovima i to je prediktivna ocjena ovog algoritma."
   ]
  },
  {
   "cell_type": "code",
   "execution_count": 12,
   "metadata": {
    "pycharm": {
     "name": "#%%\n"
    }
   },
   "outputs": [
    {
     "name": "stdout",
     "output_type": "stream",
     "text": [
      "4.2\n"
     ]
    }
   ],
   "source": [
    "def findClosestMoviesAndPredictScore(movieVector, idOfMovie, idOfUser,user_ratings, noOfMovies):\n",
    "    movieVector = np.array(movieVector)\n",
    "    movieVector = np.array([movieVector])\n",
    "\n",
    "\n",
    "    dictionary_similarity = {}\n",
    "    for index, row in user_ratings.iterrows():\n",
    "        if(row['movieId'] == idOfMovie): continue\n",
    "        r_train = df.loc[row['movieId'], :]\n",
    "        r_train = np.array(r_train)\n",
    "        r_train = np.array([r_train])\n",
    "        \n",
    "        result = cosine_similarity(movieVector, r_train)\n",
    "        dictionary_similarity[row['movieId']] = result\n",
    "        \n",
    "        \n",
    "    sorted_dictionary_similarity = {}\n",
    "    sorted_keys = sorted(dictionary_similarity, key=dictionary_similarity.get)\n",
    "    sorted_keys = reversed(sorted_keys)\n",
    "    \n",
    "    for w in sorted_keys:\n",
    "        sorted_dictionary_similarity[w] = dictionary_similarity[w]\n",
    "    \n",
    "    x = itertools.islice(sorted_dictionary_similarity, 0, noOfMovies)\n",
    "    count_scores = 0\n",
    "\n",
    "    for key in x:\n",
    "        count_scores += np.float_(ratings.query(\"userId == {} & movieId == {}\".format(idOfUser, key)).loc[:, 'rating'])\n",
    "        \n",
    "        \n",
    "    return count_scores / noOfMovies\n",
    "\n",
    "print(findClosestMoviesAndPredictScore(df.loc[1, :], 1, 1, ratings.query(\"userId == {}\".format(1)), 10))\n",
    "        \n",
    "    \n",
    "        "
   ]
  },
  {
   "cell_type": "markdown",
   "metadata": {
    "pycharm": {
     "name": "#%% md\n"
    }
   },
   "source": [
    "Rezultat pokazuje da je predviđena ocjena za korisnika s id-om 1 i film s id-om 1 na temelju 10 najsličnijijh filmova koje je pogledao korisnik 1 4.2 dok je stvarna ocjena bila 4.0.\n",
    "\n",
    "\n",
    "**Testiramo** item-item collaborative filtering algoritam.\n",
    "\n",
    "Za svakog korisnika odvajamo 30% pogledanih filmova u test split. Za train i test split\n",
    " napravimo item-user matricu(item retci, user stupci) gdje su vrijednosti na križanju\n",
    "filma i korisnika njegova ocjena.\n",
    "\n",
    "Svaki item vektor odnosno film vektor centriramo\n",
    "tako da nepoznate vrijednosti možemo staviti na nulu. U iteraciji po test filmovima,\n",
    "za svaki film tražimo 25% najsličnijih filmova iz train splita(oni filmovi koje je\n",
    "korisnik pogledao).\n",
    "\n",
    "Sličnost se određuje s cosine similarity. Za pronađenih 25%\n",
    "najsličnijih filmova, računamo prosječnu ocjenu kojom ih je korisnik ocijenio(predviđena\n",
    " ocjena). Potom računamo pogrešku između predviđene ocjene filmova i stvarne ocjene\n",
    " koje je korisnik dao filmovima(RMSE). Zbog složenosti algoritma, ispisat ćemo prosjek\n",
    "  greške po korisnicima za prvih 100 korisnika."
   ]
  },
  {
   "cell_type": "code",
   "execution_count": 14,
   "metadata": {
    "pycharm": {
     "name": "#%%\n"
    }
   },
   "outputs": [
    {
     "name": "stdout",
     "output_type": "stream",
     "text": [
      "RMSE: 0.7323338121540123\n"
     ]
    }
   ],
   "source": [
    "\n",
    "def scoreForUser(n):\n",
    "    user_ratings = ratings.query(\"userId == {}\".format(n))\n",
    "    user_train, user_test = train_test_split(user_ratings, test_size=0.3, random_state=42)\n",
    "    \n",
    "    user_actual_scores = []\n",
    "    user_predict_scores = []\n",
    "    \n",
    "    for index, row in user_test.iterrows():\n",
    "        user_actual_scores.append(row['rating'])\n",
    "        predicted = findClosestMoviesAndPredictScore(df.loc[row['movieId'], :], row['movieId'], n, user_train, int(0.25 * len(user_train)))\n",
    "        user_predict_scores.append(predicted)\n",
    "        \n",
    "    return (mean_squared_error(user_actual_scores, user_predict_scores) ** 0.5)\n",
    "\n",
    "error_counter = 0\n",
    "for i in range(1, 101):\n",
    "    error_counter += scoreForUser(i)\n",
    "\n",
    "    \n",
    "print(\"RMSE: {}\".format(error_counter / 100))"
   ]
  },
  {
   "cell_type": "markdown",
   "metadata": {},
   "source": [
    "Srednja kvadratna greška je približno 0.73233 (RMSE)."
   ]
  },
  {
   "cell_type": "markdown",
   "metadata": {
    "pycharm": {
     "name": "#%% md\n"
    }
   },
   "source": [
    "## Zaključak\n",
    "\n",
    "Rezultati modela:\n",
    "\n",
    "Content based ->\n",
    "\n",
    "    Precision: 0.0204\n",
    "    Recall: 0.1100\n",
    "    F1 metric: 0.03445\n",
    "                 \n",
    "Collaborative filtering ->\n",
    "\n",
    "    User-user: RMSE = 1.18\n",
    "    Item-item: RMSE = 0.73\n",
    "    \n",
    "Teško je usporediti content based i collaborative filtering algoritme jer se drugačije mjeri pogreška. Content based test mjeri je li korisnik pogledao neki film ili nije, dok collaborative filtering mjeri pogrešku u ocjeni nekog filma.\n",
    "\n",
    "Item-item je bolji u procjeni za skoro jedan korak ocjene (0.45) što i ne čudi jer su filmovi \"jednostavniji\" nego korisnici. Korisnici imaju različite ukuse i npr. mogu im se sviđati totalno suprotni žanrovi filmova gdje je teško onda pronaći vezu.\n",
    "\n",
    "Prednosti content-based:\n",
    "\n",
    "    Nema problem hladnog početka (eng. cold start) -> Ne trebaju podaci o korisnicima i njihovom ocjenjivanju.\n",
    "    Pronalazi korisnike sa jedinstvenim ukusom.\n",
    "    Preporučuje nove proizvode koji još nisu ocjenjeni.\n",
    "    \n",
    "Mane content-based:\n",
    "\n",
    "    Pronalazak karakteristika proizvoda (itema) je teško.\n",
    "    Previše specijalizirani odabir.\n",
    "    Ne uzima u obzir mišljenja drugih korisnika.\n",
    "    \n",
    "Prednosti collaborative-filteringa:\n",
    "\n",
    "    Radi za bilo koji proizvod nevezano o karakteristikama proizvoda (npr. film, glazba, knjiga).\n",
    "    Nisu potrebni podaci o proizvodima.\n",
    "    Uzima u obzir mišljenja drugih korisnika.\n",
    "    \n",
    "Mane collaborative-filteringa:\n",
    "\n",
    "    Problem hladnog početka -> Potrebni su podaci o korisnicima.\n",
    "    Problem pristranosti jer preporučuje popularne proizvode, odnosno, ne preporučuje još neocijenjeni proizvodi.\n",
    "    Teško preporučuje proizvode korisnicima s jedinstvenim ukusom.\n",
    "    \n",
    "\n"
   ]
  },
  {
   "cell_type": "markdown",
   "metadata": {
    "pycharm": {
     "name": "#%% md\n"
    }
   },
   "source": [
    "## Izvori\n",
    "\n",
    "\n"
   ]
  }
 ],
 "metadata": {
  "kernelspec": {
   "name": "projektr",
   "language": "python",
   "display_name": "Python (ProjektR)"
  },
  "language_info": {
   "codemirror_mode": {
    "name": "ipython",
    "version": 3
   },
   "file_extension": ".py",
   "mimetype": "text/x-python",
   "name": "python",
   "nbconvert_exporter": "python",
   "pygments_lexer": "ipython3",
   "version": "3.8.3"
  }
 },
 "nbformat": 4,
 "nbformat_minor": 1
}