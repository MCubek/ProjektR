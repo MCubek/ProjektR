{
 "cells": [
  {
   "cell_type": "markdown",
   "metadata": {
    "collapsed": true,
    "pycharm": {
     "name": "#%% md\n"
    }
   },
   "source": [
    "# Movie Recommendation System\n",
    "### Stvaranje prediktivnog modela preporuke filma pomoću MovieLens dataseta.\n",
    "\n",
    "Cilj je eksploratorna analiza te razvijanje prediktivnog modela preporuke filma algoritmima strojnog učenja pomoću MovieLens dataseta.\n",
    "Model bi preporučivao nove filmove korisniku s obzirom na podatke koje ima o korisniku\n",
    "kao što su koje žanrove preferira, koje filmove je dobro ocijenio te koje loše  te s obzirom na\n",
    "podatke vrlo sličnih korisnika.\n",
    "\n",
    "[MovieLens dataset](https://grouplens.org/datasets/movielens/)\n",
    "\n",
    "U demonstraciji koristimo minimalnu verziju dataseta \"ml-latest-small\""
   ]
  },
  {
   "cell_type": "markdown",
   "source": [
    "## Analiza podataka"
   ],
   "metadata": {
    "collapsed": false
   }
  },
  {
   "cell_type": "code",
   "execution_count": 1,
   "outputs": [],
   "source": [
    "#Import paketa\n",
    "\n",
    "from math import sqrt\n",
    "import pandas as pd\n",
    "import numpy as np\n",
    "from matplotlib import pyplot as plt\n",
    "\n",
    "# Više izlaznih linija\n",
    "from IPython.core.interactiveshell import InteractiveShell\n",
    "InteractiveShell.ast_node_interactivity = \"all\""
   ],
   "metadata": {
    "collapsed": false,
    "pycharm": {
     "name": "#%%\n"
    }
   }
  },
  {
   "cell_type": "markdown",
   "source": [
    "Svaki film sadrži svoj ID \"_movieId_\", naslov \"_title_\" i kategorije žanrova kojima pripada \"_genres_\"."
   ],
   "metadata": {
    "collapsed": false,
    "pycharm": {
     "name": "#%% md\n"
    }
   },
   "outputs": [
    {
     "ename": "SyntaxError",
     "evalue": "invalid syntax (<ipython-input-8-b9bd1173db82>, line 1)",
     "output_type": "error",
     "traceback": [
      "\u001B[1;36m  File \u001B[1;32m\"<ipython-input-8-b9bd1173db82>\"\u001B[1;36m, line \u001B[1;32m1\u001B[0m\n\u001B[1;33m    Svaki film sadrži svoj ID, naslov i žanrove kojima pripada.\u001B[0m\n\u001B[1;37m          ^\u001B[0m\n\u001B[1;31mSyntaxError\u001B[0m\u001B[1;31m:\u001B[0m invalid syntax\n"
     ]
    }
   ]
  },
  {
   "cell_type": "code",
   "execution_count": 2,
   "outputs": [
    {
     "data": {
      "text/plain": "   movieId                               title  \\\n0        1                    Toy Story (1995)   \n1        2                      Jumanji (1995)   \n2        3             Grumpier Old Men (1995)   \n3        4            Waiting to Exhale (1995)   \n4        5  Father of the Bride Part II (1995)   \n\n                                        genres  \n0  Adventure|Animation|Children|Comedy|Fantasy  \n1                   Adventure|Children|Fantasy  \n2                               Comedy|Romance  \n3                         Comedy|Drama|Romance  \n4                                       Comedy  ",
      "text/html": "<div>\n<style scoped>\n    .dataframe tbody tr th:only-of-type {\n        vertical-align: middle;\n    }\n\n    .dataframe tbody tr th {\n        vertical-align: top;\n    }\n\n    .dataframe thead th {\n        text-align: right;\n    }\n</style>\n<table border=\"1\" class=\"dataframe\">\n  <thead>\n    <tr style=\"text-align: right;\">\n      <th></th>\n      <th>movieId</th>\n      <th>title</th>\n      <th>genres</th>\n    </tr>\n  </thead>\n  <tbody>\n    <tr>\n      <th>0</th>\n      <td>1</td>\n      <td>Toy Story (1995)</td>\n      <td>Adventure|Animation|Children|Comedy|Fantasy</td>\n    </tr>\n    <tr>\n      <th>1</th>\n      <td>2</td>\n      <td>Jumanji (1995)</td>\n      <td>Adventure|Children|Fantasy</td>\n    </tr>\n    <tr>\n      <th>2</th>\n      <td>3</td>\n      <td>Grumpier Old Men (1995)</td>\n      <td>Comedy|Romance</td>\n    </tr>\n    <tr>\n      <th>3</th>\n      <td>4</td>\n      <td>Waiting to Exhale (1995)</td>\n      <td>Comedy|Drama|Romance</td>\n    </tr>\n    <tr>\n      <th>4</th>\n      <td>5</td>\n      <td>Father of the Bride Part II (1995)</td>\n      <td>Comedy</td>\n    </tr>\n  </tbody>\n</table>\n</div>"
     },
     "execution_count": 2,
     "metadata": {},
     "output_type": "execute_result"
    }
   ],
   "source": [
    "#Učitana csv file vezan za informacije o filmovima\n",
    "movies = pd.read_csv('ml-latest-small/movies.csv')\n",
    "movies.head()"
   ],
   "metadata": {
    "collapsed": false,
    "pycharm": {
     "name": "#%%\n"
    }
   }
  },
  {
   "cell_type": "markdown",
   "source": [
    "Broj filmova u datasetu."
   ],
   "metadata": {
    "collapsed": false
   }
  },
  {
   "cell_type": "code",
   "execution_count": 3,
   "outputs": [
    {
     "data": {
      "text/plain": "9742"
     },
     "execution_count": 3,
     "metadata": {},
     "output_type": "execute_result"
    }
   ],
   "source": [
    "movies['movieId'].count()\n"
   ],
   "metadata": {
    "collapsed": false,
    "pycharm": {
     "name": "#%%\n"
    }
   }
  },
  {
   "cell_type": "markdown",
   "source": [
    "Podaci o ocjenjivanju sadrže ID korisnika \"_userId_\" koji je pogledao film \"_movieId_\" i ocijenio ga s\n",
    "ocjenom prikazanom u \"_rating_\".\n"
   ],
   "metadata": {
    "collapsed": false
   }
  },
  {
   "cell_type": "code",
   "execution_count": 4,
   "outputs": [
    {
     "data": {
      "text/plain": "   userId  movieId  rating\n0       1        1     4.0\n1       1        3     4.0\n2       1        6     4.0\n3       1       47     5.0\n4       1       50     5.0",
      "text/html": "<div>\n<style scoped>\n    .dataframe tbody tr th:only-of-type {\n        vertical-align: middle;\n    }\n\n    .dataframe tbody tr th {\n        vertical-align: top;\n    }\n\n    .dataframe thead th {\n        text-align: right;\n    }\n</style>\n<table border=\"1\" class=\"dataframe\">\n  <thead>\n    <tr style=\"text-align: right;\">\n      <th></th>\n      <th>userId</th>\n      <th>movieId</th>\n      <th>rating</th>\n    </tr>\n  </thead>\n  <tbody>\n    <tr>\n      <th>0</th>\n      <td>1</td>\n      <td>1</td>\n      <td>4.0</td>\n    </tr>\n    <tr>\n      <th>1</th>\n      <td>1</td>\n      <td>3</td>\n      <td>4.0</td>\n    </tr>\n    <tr>\n      <th>2</th>\n      <td>1</td>\n      <td>6</td>\n      <td>4.0</td>\n    </tr>\n    <tr>\n      <th>3</th>\n      <td>1</td>\n      <td>47</td>\n      <td>5.0</td>\n    </tr>\n    <tr>\n      <th>4</th>\n      <td>1</td>\n      <td>50</td>\n      <td>5.0</td>\n    </tr>\n  </tbody>\n</table>\n</div>"
     },
     "execution_count": 4,
     "metadata": {},
     "output_type": "execute_result"
    }
   ],
   "source": [
    "#Učitan csv file vezan za ocijenjivanje filmova\n",
    "ratings = pd.read_csv('ml-latest-small/ratings.csv',usecols=['userId','movieId','rating'])\n",
    "ratings.head()"
   ],
   "metadata": {
    "collapsed": false,
    "pycharm": {
     "name": "#%%\n"
    }
   }
  },
  {
   "cell_type": "markdown",
   "source": [
    "Statistika o ocjenama filmova."
   ],
   "metadata": {
    "collapsed": false
   }
  },
  {
   "cell_type": "code",
   "execution_count": 5,
   "outputs": [
    {
     "data": {
      "text/plain": "count    100836.000000\nmean          3.501557\nstd           1.042529\nmin           0.500000\n25%           3.000000\n50%           3.500000\n75%           4.000000\nmax           5.000000\nName: rating, dtype: float64"
     },
     "execution_count": 5,
     "metadata": {},
     "output_type": "execute_result"
    }
   ],
   "source": [
    "ratings['rating'].describe(include='all')\n"
   ],
   "metadata": {
    "collapsed": false,
    "pycharm": {
     "name": "#%%\n"
    }
   }
  },
  {
   "cell_type": "markdown",
   "source": [
    "Histogram ocjena i njihovog broja u datasetu."
   ],
   "metadata": {
    "collapsed": false
   }
  },
  {
   "cell_type": "code",
   "execution_count": 6,
   "outputs": [
    {
     "data": {
      "text/plain": "rating\n0.5    1066\n1.0    1726\n1.5    1386\n2.0    3339\n2.5    2925\n3.0    4986\n3.5    4216\n4.0    5109\n4.5    2710\n5.0    2954\nName: movieId, dtype: int64"
     },
     "execution_count": 6,
     "metadata": {},
     "output_type": "execute_result"
    },
    {
     "data": {
      "text/plain": "array([[<AxesSubplot:title={'center':'rating'}>]], dtype=object)"
     },
     "execution_count": 6,
     "metadata": {},
     "output_type": "execute_result"
    },
    {
     "data": {
      "text/plain": "<Figure size 720x720 with 1 Axes>",
      "image/png": "[encoded data removed]"
     },
     "metadata": {
      "needs_background": "light"
     },
     "output_type": "display_data"
    }
   ],
   "source": [
    "ratings.groupby('rating')['movieId'].nunique()\n",
    "\n",
    "ratings.hist(column='rating',figsize=(10,10),bins=5,grid=False)"
   ],
   "metadata": {
    "collapsed": false,
    "pycharm": {
     "name": "#%%\n"
    }
   }
  },
  {
   "cell_type": "markdown",
   "source": [
    "Izbacivanje filmova bez žanra i ispis broja filmova po žanru."
   ],
   "metadata": {
    "collapsed": false
   }
  },
  {
   "cell_type": "code",
   "execution_count": 7,
   "outputs": [
    {
     "data": {
      "text/plain": "{'Adventure': 1263,\n 'Animation': 611,\n 'Children': 664,\n 'Comedy': 3756,\n 'Fantasy': 779,\n 'Romance': 1596,\n 'Drama': 4361,\n 'Action': 1828,\n 'Crime': 1199,\n 'Thriller': 1894,\n 'Horror': 978,\n 'Mystery': 573,\n 'Sci-Fi': 980,\n 'War': 382,\n 'Musical': 334,\n 'Documentary': 440,\n 'IMAX': 158,\n 'Western': 167,\n 'Film-Noir': 87}"
     },
     "execution_count": 7,
     "metadata": {},
     "output_type": "execute_result"
    }
   ],
   "source": [
    "genre_filter = (movies['genres'] == '(no genres listed)')\n",
    "\n",
    "movies_filtre = movies[~genre_filter]\n",
    "movies_filtre=movies_filtre.reset_index(drop=True)\n",
    "\n",
    "genres_count = {}\n",
    "for row in range(movies_filtre['movieId'].count()):\n",
    "    for genre in movies_filtre['genres'][row].split(\"|\"):\n",
    "        if genre!='':\n",
    "            genres_count[genre]=genres_count.get(genre,0)+1\n",
    "\n",
    "genres_count"
   ],
   "metadata": {
    "collapsed": false,
    "pycharm": {
     "name": "#%%\n"
    }
   }
  },
  {
   "cell_type": "markdown",
   "source": [
    "Histogram žanr koji predstavlja broj filmova u pojedinom žanru."
   ],
   "metadata": {
    "collapsed": false
   }
  },
  {
   "cell_type": "code",
   "execution_count": 8,
   "outputs": [
    {
     "data": {
      "text/plain": "<BarContainer object of 19 artists>"
     },
     "execution_count": 8,
     "metadata": {},
     "output_type": "execute_result"
    },
    {
     "data": {
      "text/plain": "([<matplotlib.axis.YTick at 0x13f35fa3280>,\n  <matplotlib.axis.YTick at 0x13f35f9cdf0>,\n  <matplotlib.axis.YTick at 0x13f35f98c40>,\n  <matplotlib.axis.YTick at 0x13f35ff3730>,\n  <matplotlib.axis.YTick at 0x13f35ff3c40>,\n  <matplotlib.axis.YTick at 0x13f36002190>,\n  <matplotlib.axis.YTick at 0x13f360026a0>,\n  <matplotlib.axis.YTick at 0x13f36002bb0>,\n  <matplotlib.axis.YTick at 0x13f36007100>,\n  <matplotlib.axis.YTick at 0x13f36007610>,\n  <matplotlib.axis.YTick at 0x13f36002370>,\n  <matplotlib.axis.YTick at 0x13f35ad08e0>,\n  <matplotlib.axis.YTick at 0x13f36007970>,\n  <matplotlib.axis.YTick at 0x13f36007e80>,\n  <matplotlib.axis.YTick at 0x13f3600e3d0>,\n  <matplotlib.axis.YTick at 0x13f3600e8e0>,\n  <matplotlib.axis.YTick at 0x13f3600edf0>,\n  <matplotlib.axis.YTick at 0x13f36014340>,\n  <matplotlib.axis.YTick at 0x13f36014850>],\n [Text(0, 0, 'Adventure'),\n  Text(0, 1, 'Animation'),\n  Text(0, 2, 'Children'),\n  Text(0, 3, 'Comedy'),\n  Text(0, 4, 'Fantasy'),\n  Text(0, 5, 'Romance'),\n  Text(0, 6, 'Drama'),\n  Text(0, 7, 'Action'),\n  Text(0, 8, 'Crime'),\n  Text(0, 9, 'Thriller'),\n  Text(0, 10, 'Horror'),\n  Text(0, 11, 'Mystery'),\n  Text(0, 12, 'Sci-Fi'),\n  Text(0, 13, 'War'),\n  Text(0, 14, 'Musical'),\n  Text(0, 15, 'Documentary'),\n  Text(0, 16, 'IMAX'),\n  Text(0, 17, 'Western'),\n  Text(0, 18, 'Film-Noir')])"
     },
     "execution_count": 8,
     "metadata": {},
     "output_type": "execute_result"
    },
    {
     "data": {
      "text/plain": "Text(0.5, 0, 'Broj Filmova')"
     },
     "execution_count": 8,
     "metadata": {},
     "output_type": "execute_result"
    },
    {
     "data": {
      "text/plain": "Text(0.5, 1.0, 'Popularnost žanrova')"
     },
     "execution_count": 8,
     "metadata": {},
     "output_type": "execute_result"
    },
    {
     "data": {
      "text/plain": "Text(1283, 0.1, '1263')"
     },
     "execution_count": 8,
     "metadata": {},
     "output_type": "execute_result"
    },
    {
     "data": {
      "text/plain": "Text(631, 1.1, '611')"
     },
     "execution_count": 8,
     "metadata": {},
     "output_type": "execute_result"
    },
    {
     "data": {
      "text/plain": "Text(684, 2.1, '664')"
     },
     "execution_count": 8,
     "metadata": {},
     "output_type": "execute_result"
    },
    {
     "data": {
      "text/plain": "Text(3776, 3.1, '3756')"
     },
     "execution_count": 8,
     "metadata": {},
     "output_type": "execute_result"
    },
    {
     "data": {
      "text/plain": "Text(799, 4.1, '779')"
     },
     "execution_count": 8,
     "metadata": {},
     "output_type": "execute_result"
    },
    {
     "data": {
      "text/plain": "Text(1616, 5.1, '1596')"
     },
     "execution_count": 8,
     "metadata": {},
     "output_type": "execute_result"
    },
    {
     "data": {
      "text/plain": "Text(4381, 6.1, '4361')"
     },
     "execution_count": 8,
     "metadata": {},
     "output_type": "execute_result"
    },
    {
     "data": {
      "text/plain": "Text(1848, 7.1, '1828')"
     },
     "execution_count": 8,
     "metadata": {},
     "output_type": "execute_result"
    },
    {
     "data": {
      "text/plain": "Text(1219, 8.1, '1199')"
     },
     "execution_count": 8,
     "metadata": {},
     "output_type": "execute_result"
    },
    {
     "data": {
      "text/plain": "Text(1914, 9.1, '1894')"
     },
     "execution_count": 8,
     "metadata": {},
     "output_type": "execute_result"
    },
    {
     "data": {
      "text/plain": "Text(998, 10.1, '978')"
     },
     "execution_count": 8,
     "metadata": {},
     "output_type": "execute_result"
    },
    {
     "data": {
      "text/plain": "Text(593, 11.1, '573')"
     },
     "execution_count": 8,
     "metadata": {},
     "output_type": "execute_result"
    },
    {
     "data": {
      "text/plain": "Text(1000, 12.1, '980')"
     },
     "execution_count": 8,
     "metadata": {},
     "output_type": "execute_result"
    },
    {
     "data": {
      "text/plain": "Text(402, 13.1, '382')"
     },
     "execution_count": 8,
     "metadata": {},
     "output_type": "execute_result"
    },
    {
     "data": {
      "text/plain": "Text(354, 14.1, '334')"
     },
     "execution_count": 8,
     "metadata": {},
     "output_type": "execute_result"
    },
    {
     "data": {
      "text/plain": "Text(460, 15.1, '440')"
     },
     "execution_count": 8,
     "metadata": {},
     "output_type": "execute_result"
    },
    {
     "data": {
      "text/plain": "Text(178, 16.1, '158')"
     },
     "execution_count": 8,
     "metadata": {},
     "output_type": "execute_result"
    },
    {
     "data": {
      "text/plain": "Text(187, 17.1, '167')"
     },
     "execution_count": 8,
     "metadata": {},
     "output_type": "execute_result"
    },
    {
     "data": {
      "text/plain": "Text(107, 18.1, '87')"
     },
     "execution_count": 8,
     "metadata": {},
     "output_type": "execute_result"
    },
    {
     "data": {
      "text/plain": "<Figure size 1080x720 with 1 Axes>",
      "image/png": "[encoded data removed]"
     },
     "metadata": {
      "needs_background": "light"
     },
     "output_type": "display_data"
    }
   ],
   "source": [
    "fig, ax = plt.subplots(figsize=(15,10))\n",
    "ax.barh(range(len(genres_count)),genres_count.values())\n",
    "plt.yticks(range(len(genres_count)),list(genres_count.keys()))\n",
    "plt.xlabel('Broj Filmova')\n",
    "plt.title(\"Popularnost žanrova\")\n",
    "for i, v in enumerate(genres_count.values()):\n",
    "    ax.text(v + 20, i + .10, v, color='green', fontweight='bold')\n"
   ],
   "metadata": {
    "collapsed": false,
    "pycharm": {
     "name": "#%%\n"
    }
   }
  },
  {
   "cell_type": "markdown",
   "source": [
    "## Razvoj predikativnog modela preporuke filmova\n",
    "\n",
    "#### 1) _Najgledaniji filmovi_\n",
    "Početna ideja je predlagati korisnicima filmove\n",
    "koji su najviše puta  pregledani.\n",
    "\n",
    "Kako bi dobili te podatke tablice \"_movies_\" i \"_ratings_\" se spajaju s obzirom na\n",
    "atribut \"_movieId_\", koji se nalazi u obe tablice, u jednu talicu imena **movies_rating**.\n",
    "Dobivena tablica je grupirana po naslovu filma i izračunat je broj ponavljanja naslova\n",
    "što predstavlja broj pregleda filma i uzeto je 15 najgledanijih filova kao prijedlog za gledanje."
   ],
   "metadata": {
    "collapsed": false
   }
  },
  {
   "cell_type": "code",
   "execution_count": 9,
   "outputs": [
    {
     "data": {
      "text/plain": "title\nForrest Gump (1994)                                      329\nShawshank Redemption, The (1994)                         317\nPulp Fiction (1994)                                      307\nSilence of the Lambs, The (1991)                         279\nMatrix, The (1999)                                       278\nStar Wars: Episode IV - A New Hope (1977)                251\nJurassic Park (1993)                                     238\nBraveheart (1995)                                        237\nTerminator 2: Judgment Day (1991)                        224\nSchindler's List (1993)                                  220\nFight Club (1999)                                        218\nToy Story (1995)                                         215\nStar Wars: Episode V - The Empire Strikes Back (1980)    211\nUsual Suspects, The (1995)                               204\nAmerican Beauty (1999)                                   204\ndtype: int64"
     },
     "execution_count": 9,
     "metadata": {},
     "output_type": "execute_result"
    }
   ],
   "source": [
    "movies_rating = pd.merge(ratings, movies, on=['movieId'])\n",
    "\n",
    "movies_rating.groupby('title').size().sort_values(ascending=False)[:15]"
   ],
   "metadata": {
    "collapsed": false,
    "pycharm": {
     "name": "#%%\n"
    }
   }
  },
  {
   "cell_type": "markdown",
   "source": [
    "Problem ovog pristupa je što najviše pogledani filmovi ne\n",
    "garantiraju da su i najbolje ocjenjeni.\n",
    "\n",
    "#### 2) _Najbolje ocjenjeni_\n",
    "Novi prijedlog je predložiti filmove s najboljom ocjenom.\n",
    "Tablica **movies_rating** se grupira po naslovu filma i računa se prosječna ocjena.\n",
    "Kao prijedlog uzimaju se filmovi s najvećom ocjenom."
   ],
   "metadata": {
    "collapsed": false
   }
  },
  {
   "cell_type": "code",
   "execution_count": 10,
   "outputs": [
    {
     "data": {
      "text/plain": "title\nKarlson Returns (1970)                           5.0\nWinter in Prostokvashino (1984)                  5.0\nMy Love (2006)                                   5.0\nSorority House Massacre II (1990)                5.0\nWinnie the Pooh and the Day of Concern (1972)    5.0\nSorority House Massacre (1986)                   5.0\nBill Hicks: Revelations (1993)                   5.0\nMy Man Godfrey (1957)                            5.0\nHellbenders (2012)                               5.0\nIn the blue sea, in the white foam. (1984)       5.0\nWon't You Be My Neighbor? (2018)                 5.0\nRed Sorghum (Hong gao liang) (1987)              5.0\nLove Exposure (Ai No Mukidashi) (2008)           5.0\nMy Sassy Girl (Yeopgijeogin geunyeo) (2001)      5.0\nThe Love Bug (1997)                              5.0\nName: rating, dtype: float64"
     },
     "execution_count": 10,
     "metadata": {},
     "output_type": "execute_result"
    }
   ],
   "source": [
    "movies_rating.groupby('title')['rating'].mean().sort_values(ascending=False)[:15]\n",
    "\n"
   ],
   "metadata": {
    "collapsed": false,
    "pycharm": {
     "name": "#%%\n"
    }
   }
  },
  {
   "cell_type": "markdown",
   "source": [
    "Novi problem predstavljaju filmovi koji su pogledani od strane jednog ili\n",
    "malog broja korisnika, a ocijenjeni su visokom ocjenom jer se jednako\n",
    "tretiraju kao i oni koje je veliki broj korisnika visoko ocijenio."
   ],
   "metadata": {
    "collapsed": false
   }
  },
  {
   "cell_type": "markdown",
   "source": [
    "#### 3) _Najbolje ocjenjeni s velikom gledanošću_\n",
    "\n",
    "Nova ideja je predlagati filmove s viskom ocjenom koji su pogledani i\n",
    "dobro ocijenjeni od većeg broja korisnika.\n",
    "\n",
    "\n",
    "Izračun srednje ocjene filma iz svih njegovih ocjena i zbrajanje koliko je puta ocjenjen.\n",
    "Ta dva podataka dodajemo u dataset filma."
   ],
   "metadata": {
    "collapsed": false
   }
  },
  {
   "cell_type": "code",
   "execution_count": 11,
   "outputs": [
    {
     "data": {
      "text/plain": "   movieId                               title  \\\n0        1                    Toy Story (1995)   \n1        2                      Jumanji (1995)   \n2        3             Grumpier Old Men (1995)   \n3        4            Waiting to Exhale (1995)   \n4        5  Father of the Bride Part II (1995)   \n\n                                        genres  ratingCount  avgRating  \n0  Adventure|Animation|Children|Comedy|Fantasy          215   3.920930  \n1                   Adventure|Children|Fantasy          110   3.431818  \n2                               Comedy|Romance           52   3.259615  \n3                         Comedy|Drama|Romance            7   2.357143  \n4                                       Comedy           49   3.071429  ",
      "text/html": "<div>\n<style scoped>\n    .dataframe tbody tr th:only-of-type {\n        vertical-align: middle;\n    }\n\n    .dataframe tbody tr th {\n        vertical-align: top;\n    }\n\n    .dataframe thead th {\n        text-align: right;\n    }\n</style>\n<table border=\"1\" class=\"dataframe\">\n  <thead>\n    <tr style=\"text-align: right;\">\n      <th></th>\n      <th>movieId</th>\n      <th>title</th>\n      <th>genres</th>\n      <th>ratingCount</th>\n      <th>avgRating</th>\n    </tr>\n  </thead>\n  <tbody>\n    <tr>\n      <th>0</th>\n      <td>1</td>\n      <td>Toy Story (1995)</td>\n      <td>Adventure|Animation|Children|Comedy|Fantasy</td>\n      <td>215</td>\n      <td>3.920930</td>\n    </tr>\n    <tr>\n      <th>1</th>\n      <td>2</td>\n      <td>Jumanji (1995)</td>\n      <td>Adventure|Children|Fantasy</td>\n      <td>110</td>\n      <td>3.431818</td>\n    </tr>\n    <tr>\n      <th>2</th>\n      <td>3</td>\n      <td>Grumpier Old Men (1995)</td>\n      <td>Comedy|Romance</td>\n      <td>52</td>\n      <td>3.259615</td>\n    </tr>\n    <tr>\n      <th>3</th>\n      <td>4</td>\n      <td>Waiting to Exhale (1995)</td>\n      <td>Comedy|Drama|Romance</td>\n      <td>7</td>\n      <td>2.357143</td>\n    </tr>\n    <tr>\n      <th>4</th>\n      <td>5</td>\n      <td>Father of the Bride Part II (1995)</td>\n      <td>Comedy</td>\n      <td>49</td>\n      <td>3.071429</td>\n    </tr>\n  </tbody>\n</table>\n</div>"
     },
     "execution_count": 11,
     "metadata": {},
     "output_type": "execute_result"
    }
   ],
   "source": [
    "movies_rating = movies_rating.groupby(['movieId','title','genres']) \\\n",
    "       .agg(ratingCount=('userId', 'size'), avgRating=('rating', 'mean')) \\\n",
    "       .reset_index()\n",
    "movies_rating.head()"
   ],
   "metadata": {
    "collapsed": false,
    "pycharm": {
     "name": "#%%\n"
    }
   }
  },
  {
   "cell_type": "markdown",
   "source": [
    "Ograničimo li se na filmove koji su pogledani barem 100 puta i sortiramo ih po ocjeni\n",
    "dobijemo sljedeće filmove."
   ],
   "metadata": {
    "collapsed": false
   }
  },
  {
   "cell_type": "code",
   "execution_count": 12,
   "outputs": [
    {
     "data": {
      "text/plain": "      movieId                                              title  \\\n277       318                   Shawshank Redemption, The (1994)   \n659       858                              Godfather, The (1972)   \n2224     2959                                  Fight Club (1999)   \n921      1221                     Godfather: Part II, The (1974)   \n6298    48516                               Departed, The (2006)   \n913      1213                                  Goodfellas (1990)   \n694       912                                  Casablanca (1942)   \n6693    58559                            Dark Knight, The (2008)   \n46         50                         Usual Suspects, The (1995)   \n898      1197                         Princess Bride, The (1987)   \n224       260          Star Wars: Episode IV - A New Hope (1977)   \n461       527                            Schindler's List (1993)   \n908      1208                              Apocalypse Now (1979)   \n1733     2329                          American History X (1998)   \n897      1196  Star Wars: Episode V - The Empire Strikes Back...   \n\n                                       genres  ratingCount  avgRating  \n277                               Crime|Drama          317   4.429022  \n659                               Crime|Drama          192   4.289062  \n2224              Action|Crime|Drama|Thriller          218   4.272936  \n921                               Crime|Drama          129   4.259690  \n6298                     Crime|Drama|Thriller          107   4.252336  \n913                               Crime|Drama          126   4.250000  \n694                             Drama|Romance          100   4.240000  \n6693                  Action|Crime|Drama|IMAX          149   4.238255  \n46                     Crime|Mystery|Thriller          204   4.237745  \n898   Action|Adventure|Comedy|Fantasy|Romance          142   4.232394  \n224                   Action|Adventure|Sci-Fi          251   4.231076  \n461                                 Drama|War          220   4.225000  \n908                          Action|Drama|War          107   4.219626  \n1733                              Crime|Drama          129   4.217054  \n897                   Action|Adventure|Sci-Fi          211   4.215640  ",
      "text/html": "<div>\n<style scoped>\n    .dataframe tbody tr th:only-of-type {\n        vertical-align: middle;\n    }\n\n    .dataframe tbody tr th {\n        vertical-align: top;\n    }\n\n    .dataframe thead th {\n        text-align: right;\n    }\n</style>\n<table border=\"1\" class=\"dataframe\">\n  <thead>\n    <tr style=\"text-align: right;\">\n      <th></th>\n      <th>movieId</th>\n      <th>title</th>\n      <th>genres</th>\n      <th>ratingCount</th>\n      <th>avgRating</th>\n    </tr>\n  </thead>\n  <tbody>\n    <tr>\n      <th>277</th>\n      <td>318</td>\n      <td>Shawshank Redemption, The (1994)</td>\n      <td>Crime|Drama</td>\n      <td>317</td>\n      <td>4.429022</td>\n    </tr>\n    <tr>\n      <th>659</th>\n      <td>858</td>\n      <td>Godfather, The (1972)</td>\n      <td>Crime|Drama</td>\n      <td>192</td>\n      <td>4.289062</td>\n    </tr>\n    <tr>\n      <th>2224</th>\n      <td>2959</td>\n      <td>Fight Club (1999)</td>\n      <td>Action|Crime|Drama|Thriller</td>\n      <td>218</td>\n      <td>4.272936</td>\n    </tr>\n    <tr>\n      <th>921</th>\n      <td>1221</td>\n      <td>Godfather: Part II, The (1974)</td>\n      <td>Crime|Drama</td>\n      <td>129</td>\n      <td>4.259690</td>\n    </tr>\n    <tr>\n      <th>6298</th>\n      <td>48516</td>\n      <td>Departed, The (2006)</td>\n      <td>Crime|Drama|Thriller</td>\n      <td>107</td>\n      <td>4.252336</td>\n    </tr>\n    <tr>\n      <th>913</th>\n      <td>1213</td>\n      <td>Goodfellas (1990)</td>\n      <td>Crime|Drama</td>\n      <td>126</td>\n      <td>4.250000</td>\n    </tr>\n    <tr>\n      <th>694</th>\n      <td>912</td>\n      <td>Casablanca (1942)</td>\n      <td>Drama|Romance</td>\n      <td>100</td>\n      <td>4.240000</td>\n    </tr>\n    <tr>\n      <th>6693</th>\n      <td>58559</td>\n      <td>Dark Knight, The (2008)</td>\n      <td>Action|Crime|Drama|IMAX</td>\n      <td>149</td>\n      <td>4.238255</td>\n    </tr>\n    <tr>\n      <th>46</th>\n      <td>50</td>\n      <td>Usual Suspects, The (1995)</td>\n      <td>Crime|Mystery|Thriller</td>\n      <td>204</td>\n      <td>4.237745</td>\n    </tr>\n    <tr>\n      <th>898</th>\n      <td>1197</td>\n      <td>Princess Bride, The (1987)</td>\n      <td>Action|Adventure|Comedy|Fantasy|Romance</td>\n      <td>142</td>\n      <td>4.232394</td>\n    </tr>\n    <tr>\n      <th>224</th>\n      <td>260</td>\n      <td>Star Wars: Episode IV - A New Hope (1977)</td>\n      <td>Action|Adventure|Sci-Fi</td>\n      <td>251</td>\n      <td>4.231076</td>\n    </tr>\n    <tr>\n      <th>461</th>\n      <td>527</td>\n      <td>Schindler's List (1993)</td>\n      <td>Drama|War</td>\n      <td>220</td>\n      <td>4.225000</td>\n    </tr>\n    <tr>\n      <th>908</th>\n      <td>1208</td>\n      <td>Apocalypse Now (1979)</td>\n      <td>Action|Drama|War</td>\n      <td>107</td>\n      <td>4.219626</td>\n    </tr>\n    <tr>\n      <th>1733</th>\n      <td>2329</td>\n      <td>American History X (1998)</td>\n      <td>Crime|Drama</td>\n      <td>129</td>\n      <td>4.217054</td>\n    </tr>\n    <tr>\n      <th>897</th>\n      <td>1196</td>\n      <td>Star Wars: Episode V - The Empire Strikes Back...</td>\n      <td>Action|Adventure|Sci-Fi</td>\n      <td>211</td>\n      <td>4.215640</td>\n    </tr>\n  </tbody>\n</table>\n</div>"
     },
     "execution_count": 12,
     "metadata": {},
     "output_type": "execute_result"
    }
   ],
   "source": [
    "movies_rating_100 = movies_rating.loc[(movies_rating['ratingCount'] >= 100)]\n",
    "movies_rating_100=movies_rating_100.sort_values(by=['avgRating', 'ratingCount'] ,ascending=False)\n",
    "movies_rating_100.head(15)"
   ],
   "metadata": {
    "collapsed": false,
    "pycharm": {
     "name": "#%%\n"
    }
   }
  },
  {
   "cell_type": "markdown",
   "source": [
    "Popis prvih petnaest filmova u tablici je:"
   ],
   "metadata": {
    "collapsed": false
   }
  },
  {
   "cell_type": "code",
   "execution_count": 13,
   "outputs": [
    {
     "data": {
      "text/plain": "277                      Shawshank Redemption, The (1994)\n659                                 Godfather, The (1972)\n2224                                    Fight Club (1999)\n921                        Godfather: Part II, The (1974)\n6298                                 Departed, The (2006)\n913                                     Goodfellas (1990)\n694                                     Casablanca (1942)\n6693                              Dark Knight, The (2008)\n46                             Usual Suspects, The (1995)\n898                            Princess Bride, The (1987)\n224             Star Wars: Episode IV - A New Hope (1977)\n461                               Schindler's List (1993)\n908                                 Apocalypse Now (1979)\n1733                            American History X (1998)\n897     Star Wars: Episode V - The Empire Strikes Back...\nName: title, dtype: object"
     },
     "execution_count": 13,
     "metadata": {},
     "output_type": "execute_result"
    }
   ],
   "source": [
    "movies_rating_100['title'].head(15)\n"
   ],
   "metadata": {
    "collapsed": false,
    "pycharm": {
     "name": "#%%\n"
    }
   }
  },
  {
   "cell_type": "markdown",
   "source": [
    "#### 4) _Težinski prosjek ocjene_\n",
    "\n",
    "\n",
    "Preporuka filmova pomoću liste najpopularnijih svim korisnicima preporuča iste filmove poredane po izračunatom ratingu\n",
    "**IMDb-formule**\n",
    "\n",
    "\\begin{equation}\n",
    "\\text TežinskiRating (\\bf WR) = \\left({{\\bf v} \\over {\\bf v} + {\\bf m}} \\cdot R\\right) + \\left({{\\bf m} \\over {\\bf v} + {\\bf m}} \\cdot C\\right)\n",
    "\\end{equation}\n",
    "\n",
    "gdje je:\n",
    "\n",
    "v = broj ocjena filma ,\n",
    "\n",
    "m = minimalni broj ocjena da bi se prikazao u listi (*izračunat kao 90% kvantil*),\n",
    "\n",
    "R = prosjecna ocjena filma,\n",
    "\n",
    "C = prosječna ocjena svih filmova.\n",
    "\n",
    "\n"
   ],
   "metadata": {
    "collapsed": false
   }
  },
  {
   "cell_type": "markdown",
   "source": [
    "Računanje srednje ocjene svih filmova i računanje granice 90% kvantila kao donje granice top filmova."
   ],
   "metadata": {
    "collapsed": false
   }
  },
  {
   "cell_type": "code",
   "execution_count": 14,
   "outputs": [
    {
     "name": "stdout",
     "output_type": "stream",
     "text": [
      "3.501556983616962\n",
      "27.0\n"
     ]
    }
   ],
   "source": [
    "mean_rating = ratings['rating'].mean()\n",
    "print(mean_rating)\n",
    "\n",
    "low_vote_number = movies_rating['ratingCount'].quantile(0.90)\n",
    "print(low_vote_number)"
   ],
   "metadata": {
    "collapsed": false,
    "pycharm": {
     "name": "#%%\n"
    }
   }
  },
  {
   "cell_type": "markdown",
   "source": [
    "Filtiriraje filmova koji su u top 10% po broju ocjena i njihovo pohranjivanje u novi dataset kvalificiranih filmova."
   ],
   "metadata": {
    "collapsed": false
   }
  },
  {
   "cell_type": "code",
   "execution_count": 15,
   "outputs": [
    {
     "data": {
      "text/plain": "(976, 5)"
     },
     "execution_count": 15,
     "metadata": {},
     "output_type": "execute_result"
    },
    {
     "data": {
      "text/plain": "(9724, 5)"
     },
     "execution_count": 15,
     "metadata": {},
     "output_type": "execute_result"
    }
   ],
   "source": [
    "q_movies = movies_rating.copy().loc[movies_rating['ratingCount']>=low_vote_number]\n",
    "q_movies.shape\n",
    "\n",
    "movies_rating.shape"
   ],
   "metadata": {
    "collapsed": false,
    "pycharm": {
     "name": "#%%\n"
    }
   }
  },
  {
   "cell_type": "markdown",
   "source": [
    "Fukncija za računanje težinskog rating pomoću **IMDb-formule**\n",
    "Upis u dataset kvalificiranih filmova njihov težinski rating."
   ],
   "metadata": {
    "collapsed": false
   }
  },
  {
   "cell_type": "code",
   "execution_count": 16,
   "outputs": [],
   "source": [
    "def weighed_rating(x, m=low_vote_number, C=mean_rating):\n",
    "    v = x['ratingCount']\n",
    "    R = x['avgRating']\n",
    "\n",
    "    return (v/(v+m) * R) + (m/(m+v) * C)\n",
    "\n",
    "q_movies['score'] = q_movies.apply(weighed_rating,axis=1)"
   ],
   "metadata": {
    "collapsed": false,
    "pycharm": {
     "name": "#%%\n"
    }
   }
  },
  {
   "cell_type": "markdown",
   "source": [
    "Sortiranje filmova po izračunatom ratingu i ispis top 15 i najgorih 10."
   ],
   "metadata": {
    "collapsed": false
   }
  },
  {
   "cell_type": "code",
   "execution_count": 17,
   "outputs": [
    {
     "data": {
      "text/plain": "                                                  title  avgRating  \\\n277                    Shawshank Redemption, The (1994)   4.429022   \n659                               Godfather, The (1972)   4.289062   \n2224                                  Fight Club (1999)   4.272936   \n224           Star Wars: Episode IV - A New Hope (1977)   4.231076   \n46                           Usual Suspects, The (1995)   4.237745   \n461                             Schindler's List (1993)   4.225000   \n257                                 Pulp Fiction (1994)   4.197068   \n897   Star Wars: Episode V - The Empire Strikes Back...   4.215640   \n1938                                 Matrix, The (1999)   4.192446   \n921                      Godfather: Part II, The (1974)   4.259690   \n6693                            Dark Knight, The (2008)   4.238255   \n899   Raiders of the Lost Ark (Indiana Jones and the...   4.207500   \n913                                   Goodfellas (1990)   4.250000   \n898                          Princess Bride, The (1987)   4.232394   \n314                                 Forrest Gump (1994)   4.164134   \n\n      ratingCount     score  \n277           317  4.356227  \n659           192  4.191973  \n2224          218  4.187927  \n224           251  4.160223  \n46            204  4.151697  \n461           220  4.145919  \n257           307  4.140844  \n897           211  4.134630  \n1938          278  4.131285  \n921           129  4.128475  \n6693          149  4.125239  \n899           200  4.123533  \n913           126  4.117922  \n898           142  4.115633  \n314           329  4.113882  ",
      "text/html": "<div>\n<style scoped>\n    .dataframe tbody tr th:only-of-type {\n        vertical-align: middle;\n    }\n\n    .dataframe tbody tr th {\n        vertical-align: top;\n    }\n\n    .dataframe thead th {\n        text-align: right;\n    }\n</style>\n<table border=\"1\" class=\"dataframe\">\n  <thead>\n    <tr style=\"text-align: right;\">\n      <th></th>\n      <th>title</th>\n      <th>avgRating</th>\n      <th>ratingCount</th>\n      <th>score</th>\n    </tr>\n  </thead>\n  <tbody>\n    <tr>\n      <th>277</th>\n      <td>Shawshank Redemption, The (1994)</td>\n      <td>4.429022</td>\n      <td>317</td>\n      <td>4.356227</td>\n    </tr>\n    <tr>\n      <th>659</th>\n      <td>Godfather, The (1972)</td>\n      <td>4.289062</td>\n      <td>192</td>\n      <td>4.191973</td>\n    </tr>\n    <tr>\n      <th>2224</th>\n      <td>Fight Club (1999)</td>\n      <td>4.272936</td>\n      <td>218</td>\n      <td>4.187927</td>\n    </tr>\n    <tr>\n      <th>224</th>\n      <td>Star Wars: Episode IV - A New Hope (1977)</td>\n      <td>4.231076</td>\n      <td>251</td>\n      <td>4.160223</td>\n    </tr>\n    <tr>\n      <th>46</th>\n      <td>Usual Suspects, The (1995)</td>\n      <td>4.237745</td>\n      <td>204</td>\n      <td>4.151697</td>\n    </tr>\n    <tr>\n      <th>461</th>\n      <td>Schindler's List (1993)</td>\n      <td>4.225000</td>\n      <td>220</td>\n      <td>4.145919</td>\n    </tr>\n    <tr>\n      <th>257</th>\n      <td>Pulp Fiction (1994)</td>\n      <td>4.197068</td>\n      <td>307</td>\n      <td>4.140844</td>\n    </tr>\n    <tr>\n      <th>897</th>\n      <td>Star Wars: Episode V - The Empire Strikes Back...</td>\n      <td>4.215640</td>\n      <td>211</td>\n      <td>4.134630</td>\n    </tr>\n    <tr>\n      <th>1938</th>\n      <td>Matrix, The (1999)</td>\n      <td>4.192446</td>\n      <td>278</td>\n      <td>4.131285</td>\n    </tr>\n    <tr>\n      <th>921</th>\n      <td>Godfather: Part II, The (1974)</td>\n      <td>4.259690</td>\n      <td>129</td>\n      <td>4.128475</td>\n    </tr>\n    <tr>\n      <th>6693</th>\n      <td>Dark Knight, The (2008)</td>\n      <td>4.238255</td>\n      <td>149</td>\n      <td>4.125239</td>\n    </tr>\n    <tr>\n      <th>899</th>\n      <td>Raiders of the Lost Ark (Indiana Jones and the...</td>\n      <td>4.207500</td>\n      <td>200</td>\n      <td>4.123533</td>\n    </tr>\n    <tr>\n      <th>913</th>\n      <td>Goodfellas (1990)</td>\n      <td>4.250000</td>\n      <td>126</td>\n      <td>4.117922</td>\n    </tr>\n    <tr>\n      <th>898</th>\n      <td>Princess Bride, The (1987)</td>\n      <td>4.232394</td>\n      <td>142</td>\n      <td>4.115633</td>\n    </tr>\n    <tr>\n      <th>314</th>\n      <td>Forrest Gump (1994)</td>\n      <td>4.164134</td>\n      <td>329</td>\n      <td>4.113882</td>\n    </tr>\n  </tbody>\n</table>\n</div>"
     },
     "execution_count": 17,
     "metadata": {},
     "output_type": "execute_result"
    },
    {
     "data": {
      "text/plain": "                                       title  avgRating  ratingCount     score\n396                        Free Willy (1993)   2.391892           37  2.860032\n607                        Striptease (1996)   2.414634           41  2.846206\n313                  Flintstones, The (1994)   2.357143           42  2.804957\n2856                       Hollow Man (2000)   2.294872           39  2.788516\n1234  I Know What You Did Last Summer (1997)   2.109375           32  2.746475\n379                         Coneheads (1993)   2.420635           63  2.744912\n1173                   Batman & Robin (1997)   2.214286           42  2.718001\n1144                         Anaconda (1997)   1.925926           27  2.713741\n1372                         Godzilla (1998)   1.954545           33  2.650701\n2028                   Wild Wild West (1999)   2.207547           53  2.644275",
      "text/html": "<div>\n<style scoped>\n    .dataframe tbody tr th:only-of-type {\n        vertical-align: middle;\n    }\n\n    .dataframe tbody tr th {\n        vertical-align: top;\n    }\n\n    .dataframe thead th {\n        text-align: right;\n    }\n</style>\n<table border=\"1\" class=\"dataframe\">\n  <thead>\n    <tr style=\"text-align: right;\">\n      <th></th>\n      <th>title</th>\n      <th>avgRating</th>\n      <th>ratingCount</th>\n      <th>score</th>\n    </tr>\n  </thead>\n  <tbody>\n    <tr>\n      <th>396</th>\n      <td>Free Willy (1993)</td>\n      <td>2.391892</td>\n      <td>37</td>\n      <td>2.860032</td>\n    </tr>\n    <tr>\n      <th>607</th>\n      <td>Striptease (1996)</td>\n      <td>2.414634</td>\n      <td>41</td>\n      <td>2.846206</td>\n    </tr>\n    <tr>\n      <th>313</th>\n      <td>Flintstones, The (1994)</td>\n      <td>2.357143</td>\n      <td>42</td>\n      <td>2.804957</td>\n    </tr>\n    <tr>\n      <th>2856</th>\n      <td>Hollow Man (2000)</td>\n      <td>2.294872</td>\n      <td>39</td>\n      <td>2.788516</td>\n    </tr>\n    <tr>\n      <th>1234</th>\n      <td>I Know What You Did Last Summer (1997)</td>\n      <td>2.109375</td>\n      <td>32</td>\n      <td>2.746475</td>\n    </tr>\n    <tr>\n      <th>379</th>\n      <td>Coneheads (1993)</td>\n      <td>2.420635</td>\n      <td>63</td>\n      <td>2.744912</td>\n    </tr>\n    <tr>\n      <th>1173</th>\n      <td>Batman &amp; Robin (1997)</td>\n      <td>2.214286</td>\n      <td>42</td>\n      <td>2.718001</td>\n    </tr>\n    <tr>\n      <th>1144</th>\n      <td>Anaconda (1997)</td>\n      <td>1.925926</td>\n      <td>27</td>\n      <td>2.713741</td>\n    </tr>\n    <tr>\n      <th>1372</th>\n      <td>Godzilla (1998)</td>\n      <td>1.954545</td>\n      <td>33</td>\n      <td>2.650701</td>\n    </tr>\n    <tr>\n      <th>2028</th>\n      <td>Wild Wild West (1999)</td>\n      <td>2.207547</td>\n      <td>53</td>\n      <td>2.644275</td>\n    </tr>\n  </tbody>\n</table>\n</div>"
     },
     "execution_count": 17,
     "metadata": {},
     "output_type": "execute_result"
    }
   ],
   "source": [
    "q_movies = q_movies.sort_values(by='score',ascending=False)\n",
    "\n",
    "q_movies[['title', 'avgRating', 'ratingCount', 'score']].head(15)\n",
    "q_movies[['title', 'avgRating', 'ratingCount', 'score']].tail(10)\n",
    "\n",
    "\n",
    "\n",
    "\n"
   ],
   "metadata": {
    "collapsed": false,
    "pycharm": {
     "name": "#%%\n"
    }
   }
  },
  {
   "cell_type": "markdown",
   "source": [
    "Prethodni pristupi svim korisnicima preporučuju iste filmove i ne uzimaju u obzir da\n",
    "korisnici imaju različite preference i različito ocjenjuju filmove.\n"
   ],
   "metadata": {
    "collapsed": false,
    "pycharm": {
     "name": "#%% md\n"
    }
   }
  },
  {
   "cell_type": "markdown",
   "source": [
    "#### 4) Content based preporučvanje\n",
    "\n",
    "Content based algoritam pomoću sličnosti između filmova traži filmove s sličnim atributima i te preporuča korisniku.\n",
    "\n",
    "Algoritam se temelji na vađenju svih korisnih informacija o filmu koje sam sadrži i koje su\n",
    "mu korisnici pridjelili.\n",
    "Nakon što se prikupe sve informacije, za oređenog korisnika odabere se već pogledani film\n",
    "i na osnovu njegove sličnosti u prikupljenim informacijama\n",
    "pokušava se pronaći sličan film i preporučuje se korisniku.\n",
    "\n",
    "\n",
    "\n",
    "Atributi koje ovdje koristimo su žanrovi iz movies.csv i svi tagovi koje su korisnici upisali u tags.csv za film.\n",
    "Što je više atributa dostupno za svaki film ovaj će algoritam bolje raditi i pravilnije preproručavati filmove.\n",
    "\n",
    "Kako bi odredili težinu (_važnost_) atributa koristimo **TF-IDF** score (*term frequency-inverted document frequency score*).\n",
    "\n",
    "\\begin{equation}\n",
    "\\text tfidf_{i,j} = tf_{i,j} \\cdot \\log (\\frac{N}{df_i})\n",
    "\\end{equation}\n",
    "\n",
    "gdje:\n",
    "Kada smo izračunali TF-IDF gradimo **Vector Space Model** uz **Cosine similarity**.\n",
    "\n",
    "Rezultat nam je kvadratna matrica veličine broja filmova gdje na svakom sjecištu leži ocjena njihove sličnosti.\n",
    "\n",
    "\n",
    "Pri analizi korišten je **ml-lates** dataset koji dodatno sadrži _tag_-ove o filmovima."
   ],
   "metadata": {
    "collapsed": false
   }
  },
  {
   "cell_type": "code",
   "execution_count": 18,
   "outputs": [
    {
     "data": {
      "text/plain": "   movieId                               title  \\\n0        1                    Toy Story (1995)   \n1        2                      Jumanji (1995)   \n2        3             Grumpier Old Men (1995)   \n3        4            Waiting to Exhale (1995)   \n4        5  Father of the Bride Part II (1995)   \n\n                                        genres  \n0  Adventure|Animation|Children|Comedy|Fantasy  \n1                   Adventure|Children|Fantasy  \n2                               Comedy|Romance  \n3                         Comedy|Drama|Romance  \n4                                       Comedy  ",
      "text/html": "<div>\n<style scoped>\n    .dataframe tbody tr th:only-of-type {\n        vertical-align: middle;\n    }\n\n    .dataframe tbody tr th {\n        vertical-align: top;\n    }\n\n    .dataframe thead th {\n        text-align: right;\n    }\n</style>\n<table border=\"1\" class=\"dataframe\">\n  <thead>\n    <tr style=\"text-align: right;\">\n      <th></th>\n      <th>movieId</th>\n      <th>title</th>\n      <th>genres</th>\n    </tr>\n  </thead>\n  <tbody>\n    <tr>\n      <th>0</th>\n      <td>1</td>\n      <td>Toy Story (1995)</td>\n      <td>Adventure|Animation|Children|Comedy|Fantasy</td>\n    </tr>\n    <tr>\n      <th>1</th>\n      <td>2</td>\n      <td>Jumanji (1995)</td>\n      <td>Adventure|Children|Fantasy</td>\n    </tr>\n    <tr>\n      <th>2</th>\n      <td>3</td>\n      <td>Grumpier Old Men (1995)</td>\n      <td>Comedy|Romance</td>\n    </tr>\n    <tr>\n      <th>3</th>\n      <td>4</td>\n      <td>Waiting to Exhale (1995)</td>\n      <td>Comedy|Drama|Romance</td>\n    </tr>\n    <tr>\n      <th>4</th>\n      <td>5</td>\n      <td>Father of the Bride Part II (1995)</td>\n      <td>Comedy</td>\n    </tr>\n  </tbody>\n</table>\n</div>"
     },
     "execution_count": 18,
     "metadata": {},
     "output_type": "execute_result"
    },
    {
     "data": {
      "text/plain": "   userId  movieId  rating\n0       1      307     3.5\n1       1      481     3.5\n2       1     1091     1.5\n3       1     1257     4.5\n4       1     1449     4.5",
      "text/html": "<div>\n<style scoped>\n    .dataframe tbody tr th:only-of-type {\n        vertical-align: middle;\n    }\n\n    .dataframe tbody tr th {\n        vertical-align: top;\n    }\n\n    .dataframe thead th {\n        text-align: right;\n    }\n</style>\n<table border=\"1\" class=\"dataframe\">\n  <thead>\n    <tr style=\"text-align: right;\">\n      <th></th>\n      <th>userId</th>\n      <th>movieId</th>\n      <th>rating</th>\n    </tr>\n  </thead>\n  <tbody>\n    <tr>\n      <th>0</th>\n      <td>1</td>\n      <td>307</td>\n      <td>3.5</td>\n    </tr>\n    <tr>\n      <th>1</th>\n      <td>1</td>\n      <td>481</td>\n      <td>3.5</td>\n    </tr>\n    <tr>\n      <th>2</th>\n      <td>1</td>\n      <td>1091</td>\n      <td>1.5</td>\n    </tr>\n    <tr>\n      <th>3</th>\n      <td>1</td>\n      <td>1257</td>\n      <td>4.5</td>\n    </tr>\n    <tr>\n      <th>4</th>\n      <td>1</td>\n      <td>1449</td>\n      <td>4.5</td>\n    </tr>\n  </tbody>\n</table>\n</div>"
     },
     "execution_count": 18,
     "metadata": {},
     "output_type": "execute_result"
    },
    {
     "data": {
      "text/plain": "   movieId           tag\n0      110          epic\n1      110      Medieval\n2      260        sci-fi\n3      260  space action\n4      318  imdb top 250",
      "text/html": "<div>\n<style scoped>\n    .dataframe tbody tr th:only-of-type {\n        vertical-align: middle;\n    }\n\n    .dataframe tbody tr th {\n        vertical-align: top;\n    }\n\n    .dataframe thead th {\n        text-align: right;\n    }\n</style>\n<table border=\"1\" class=\"dataframe\">\n  <thead>\n    <tr style=\"text-align: right;\">\n      <th></th>\n      <th>movieId</th>\n      <th>tag</th>\n    </tr>\n  </thead>\n  <tbody>\n    <tr>\n      <th>0</th>\n      <td>110</td>\n      <td>epic</td>\n    </tr>\n    <tr>\n      <th>1</th>\n      <td>110</td>\n      <td>Medieval</td>\n    </tr>\n    <tr>\n      <th>2</th>\n      <td>260</td>\n      <td>sci-fi</td>\n    </tr>\n    <tr>\n      <th>3</th>\n      <td>260</td>\n      <td>space action</td>\n    </tr>\n    <tr>\n      <th>4</th>\n      <td>318</td>\n      <td>imdb top 250</td>\n    </tr>\n  </tbody>\n</table>\n</div>"
     },
     "execution_count": 18,
     "metadata": {},
     "output_type": "execute_result"
    }
   ],
   "source": [
    "moviesLates = pd.read_csv('ml-latest/movies.csv')\n",
    "moviesLates.head()\n",
    "\n",
    "ratingsLates = pd.read_csv('ml-latest/ratings.csv',usecols=['userId','movieId','rating'])\n",
    "ratingsLates.head()\n",
    "\n",
    "tagsLates = pd.read_csv('ml-latest/tags.csv',usecols=['movieId','tag'])\n",
    "tagsLates.head()"
   ],
   "metadata": {
    "collapsed": false,
    "pycharm": {
     "name": "#%%\n"
    }
   }
  },
  {
   "cell_type": "markdown",
   "source": [
    "Čisti se tag dataset tako da se pretvori sve u mala slova i spoje se riječi s razmacima iz jednog taga.\n",
    "Spajanjem svih tagove jednoga filma od različitih korisnika u dataset movieLates dodaje se\n",
    "novi atribut tag koji sadrži sve riječi u jednoj konkatenaciji."
   ],
   "metadata": {
    "collapsed": false
   }
  },
  {
   "cell_type": "code",
   "execution_count": 19,
   "outputs": [],
   "source": [
    "tagsLates['tag'] = tagsLates['tag'].apply(lambda x: str(x).replace(\" \",\"\").lower())\n",
    "\n",
    "moviestagsLates = pd.merge(tagsLates.groupby(['movieId'], as_index=False)['tag'].apply(lambda x: \" \".join(x)), movies,how='right',on='movieId')\n",
    "\n",
    "moviestagsLates['tag']=moviestagsLates['tag'].fillna('')"
   ],
   "metadata": {
    "collapsed": false,
    "pycharm": {
     "name": "#%%\n"
    }
   }
  },
  {
   "cell_type": "markdown",
   "source": [
    "Sada svaki film sadrži tagove od strane različitih korisnika."
   ],
   "metadata": {
    "collapsed": false
   }
  },
  {
   "cell_type": "code",
   "execution_count": 20,
   "outputs": [
    {
     "data": {
      "text/plain": "   movieId                                                tag  \\\n0        1  animated buddymovie cartoon cgi comedy compute...   \n1        2  fantasy adaptedfrom:book animals badcgi basedo...   \n2        3  moldy old annmargaret burgessmeredith darylhan...   \n3        4  characters girlmovie characters chickflick bas...   \n4        5  stevemartin stevemartin pregnancy remake aging...   \n\n                                title  \\\n0                    Toy Story (1995)   \n1                      Jumanji (1995)   \n2             Grumpier Old Men (1995)   \n3            Waiting to Exhale (1995)   \n4  Father of the Bride Part II (1995)   \n\n                                        genres  \n0  Adventure|Animation|Children|Comedy|Fantasy  \n1                   Adventure|Children|Fantasy  \n2                               Comedy|Romance  \n3                         Comedy|Drama|Romance  \n4                                       Comedy  ",
      "text/html": "<div>\n<style scoped>\n    .dataframe tbody tr th:only-of-type {\n        vertical-align: middle;\n    }\n\n    .dataframe tbody tr th {\n        vertical-align: top;\n    }\n\n    .dataframe thead th {\n        text-align: right;\n    }\n</style>\n<table border=\"1\" class=\"dataframe\">\n  <thead>\n    <tr style=\"text-align: right;\">\n      <th></th>\n      <th>movieId</th>\n      <th>tag</th>\n      <th>title</th>\n      <th>genres</th>\n    </tr>\n  </thead>\n  <tbody>\n    <tr>\n      <th>0</th>\n      <td>1</td>\n      <td>animated buddymovie cartoon cgi comedy compute...</td>\n      <td>Toy Story (1995)</td>\n      <td>Adventure|Animation|Children|Comedy|Fantasy</td>\n    </tr>\n    <tr>\n      <th>1</th>\n      <td>2</td>\n      <td>fantasy adaptedfrom:book animals badcgi basedo...</td>\n      <td>Jumanji (1995)</td>\n      <td>Adventure|Children|Fantasy</td>\n    </tr>\n    <tr>\n      <th>2</th>\n      <td>3</td>\n      <td>moldy old annmargaret burgessmeredith darylhan...</td>\n      <td>Grumpier Old Men (1995)</td>\n      <td>Comedy|Romance</td>\n    </tr>\n    <tr>\n      <th>3</th>\n      <td>4</td>\n      <td>characters girlmovie characters chickflick bas...</td>\n      <td>Waiting to Exhale (1995)</td>\n      <td>Comedy|Drama|Romance</td>\n    </tr>\n    <tr>\n      <th>4</th>\n      <td>5</td>\n      <td>stevemartin stevemartin pregnancy remake aging...</td>\n      <td>Father of the Bride Part II (1995)</td>\n      <td>Comedy</td>\n    </tr>\n  </tbody>\n</table>\n</div>"
     },
     "execution_count": 20,
     "metadata": {},
     "output_type": "execute_result"
    }
   ],
   "source": [
    "moviestagsLates.head()"
   ],
   "metadata": {
    "collapsed": false,
    "pycharm": {
     "name": "#%%\n"
    }
   }
  },
  {
   "cell_type": "markdown",
   "source": [
    "Funkcija **createSoup** izbacuje sve duplikate tagova iz jednoga filma i ubacuje imena žanrova te\n",
    "stvara novi stupac u movie datasetu, _soup_ koji sadži sve te ključne riječi."
   ],
   "metadata": {
    "collapsed": false
   }
  },
  {
   "cell_type": "code",
   "execution_count": 21,
   "outputs": [],
   "source": [
    "def createSoup(x):\n",
    "    infoSet = set(x['tag'].split(' '))\n",
    "\n",
    "    data = ' '.join(infoSet)\n",
    "\n",
    "    for genre in x['genres'].split('|'):\n",
    "        data+=(' ' + genre.lower())\n",
    "    return data"
   ],
   "metadata": {
    "collapsed": false,
    "pycharm": {
     "name": "#%%\n"
    }
   }
  },
  {
   "cell_type": "markdown",
   "source": [
    "Nakon poziva funkcije  **createSoup** moviestagsLates izgleda :"
   ],
   "metadata": {
    "collapsed": false
   }
  },
  {
   "cell_type": "code",
   "execution_count": 22,
   "outputs": [
    {
     "data": {
      "text/plain": "   movieId                                                tag  \\\n0        1  animated buddymovie cartoon cgi comedy compute...   \n1        2  fantasy adaptedfrom:book animals badcgi basedo...   \n2        3  moldy old annmargaret burgessmeredith darylhan...   \n3        4  characters girlmovie characters chickflick bas...   \n4        5  stevemartin stevemartin pregnancy remake aging...   \n\n                                title  \\\n0                    Toy Story (1995)   \n1                      Jumanji (1995)   \n2             Grumpier Old Men (1995)   \n3            Waiting to Exhale (1995)   \n4  Father of the Bride Part II (1995)   \n\n                                        genres  \\\n0  Adventure|Animation|Children|Comedy|Fantasy   \n1                   Adventure|Children|Fantasy   \n2                               Comedy|Romance   \n3                         Comedy|Drama|Romance   \n4                                       Comedy   \n\n                                                soup  \n0  55movieseverykidshouldsee--entertainmentweekly...  \n1  herdsofcgianimals childish forchildren comedy ...  \n2  comedy comedinhadevelhinhosengraãƒâ§ada grunru...  \n3  girlmovie singlemother interracialrelationship...  \n4  comedy childhoodclassics worstmoviesever daugh...  ",
      "text/html": "<div>\n<style scoped>\n    .dataframe tbody tr th:only-of-type {\n        vertical-align: middle;\n    }\n\n    .dataframe tbody tr th {\n        vertical-align: top;\n    }\n\n    .dataframe thead th {\n        text-align: right;\n    }\n</style>\n<table border=\"1\" class=\"dataframe\">\n  <thead>\n    <tr style=\"text-align: right;\">\n      <th></th>\n      <th>movieId</th>\n      <th>tag</th>\n      <th>title</th>\n      <th>genres</th>\n      <th>soup</th>\n    </tr>\n  </thead>\n  <tbody>\n    <tr>\n      <th>0</th>\n      <td>1</td>\n      <td>animated buddymovie cartoon cgi comedy compute...</td>\n      <td>Toy Story (1995)</td>\n      <td>Adventure|Animation|Children|Comedy|Fantasy</td>\n      <td>55movieseverykidshouldsee--entertainmentweekly...</td>\n    </tr>\n    <tr>\n      <th>1</th>\n      <td>2</td>\n      <td>fantasy adaptedfrom:book animals badcgi basedo...</td>\n      <td>Jumanji (1995)</td>\n      <td>Adventure|Children|Fantasy</td>\n      <td>herdsofcgianimals childish forchildren comedy ...</td>\n    </tr>\n    <tr>\n      <th>2</th>\n      <td>3</td>\n      <td>moldy old annmargaret burgessmeredith darylhan...</td>\n      <td>Grumpier Old Men (1995)</td>\n      <td>Comedy|Romance</td>\n      <td>comedy comedinhadevelhinhosengraãƒâ§ada grunru...</td>\n    </tr>\n    <tr>\n      <th>3</th>\n      <td>4</td>\n      <td>characters girlmovie characters chickflick bas...</td>\n      <td>Waiting to Exhale (1995)</td>\n      <td>Comedy|Drama|Romance</td>\n      <td>girlmovie singlemother interracialrelationship...</td>\n    </tr>\n    <tr>\n      <th>4</th>\n      <td>5</td>\n      <td>stevemartin stevemartin pregnancy remake aging...</td>\n      <td>Father of the Bride Part II (1995)</td>\n      <td>Comedy</td>\n      <td>comedy childhoodclassics worstmoviesever daugh...</td>\n    </tr>\n  </tbody>\n</table>\n</div>"
     },
     "execution_count": 22,
     "metadata": {},
     "output_type": "execute_result"
    }
   ],
   "source": [
    "moviestagsLates['soup'] = moviestagsLates.apply(createSoup,axis=1)\n",
    "moviestagsLates.head()"
   ],
   "metadata": {
    "collapsed": false,
    "pycharm": {
     "name": "#%%\n"
    }
   }
  },
  {
   "cell_type": "markdown",
   "source": [
    "\n",
    "\n",
    "\n",
    "Stvara se TF-IDF Vectorizer i šalju mu se sve ključne riječi svih filmova.\n",
    "Stvara se matrica u kojoj redci predstavljaju filmove te se za strupce\n",
    "još dodaju sve ključne riječi koji sadržavaju IDF vrijednosti o ključnoj riječi."
   ],
   "metadata": {
    "collapsed": false
   }
  },
  {
   "cell_type": "code",
   "execution_count": 23,
   "outputs": [
    {
     "data": {
      "text/plain": "(9742, 47413)"
     },
     "execution_count": 23,
     "metadata": {},
     "output_type": "execute_result"
    },
    {
     "data": {
      "text/plain": "['ageism',\n 'ageissues',\n 'agency',\n 'agenda',\n 'agenoreincrocci',\n 'agent',\n 'agentcarter',\n 'agentcoulson',\n 'agentlehandrefriedfor',\n 'agentmariahill',\n 'agentorange',\n 'agentross',\n 'agents',\n 'agentsmith',\n 'agentyellow',\n 'ageofsail',\n 'agephilosophy',\n 'ages',\n 'aggression',\n 'aggressive']"
     },
     "execution_count": 23,
     "metadata": {},
     "output_type": "execute_result"
    }
   ],
   "source": [
    "from sklearn.feature_extraction.text import TfidfVectorizer\n",
    "\n",
    "tfidf = TfidfVectorizer(stop_words='english')\n",
    "\n",
    "moviestagsLates['soup'] = moviestagsLates['soup'].fillna('')\n",
    "\n",
    "tfidf_matrix = tfidf.fit_transform(moviestagsLates['soup'])\n",
    "\n",
    "tfidf_matrix.shape\n",
    "\n",
    "tfidf.get_feature_names()[1000:1020]"
   ],
   "metadata": {
    "collapsed": false,
    "pycharm": {
     "name": "#%%\n"
    }
   }
  },
  {
   "cell_type": "markdown",
   "source": [
    "Stvaranje linear_kernel objekta koji ce pomoću cosine similarity ocjene moći ocjenjivati filmove.\n",
    "Redak _tfidf_ __matrix_ koji predstavlja vektor pojedinog filma množi se sa svim vektorima filmova\n",
    "i dobiva se matrica koja za svaki film sadrži informaiju koliko je on sličan u odnosu na drugi film."
   ],
   "metadata": {
    "collapsed": false
   }
  },
  {
   "cell_type": "code",
   "execution_count": 24,
   "outputs": [
    {
     "data": {
      "text/plain": "(9742, 9742)"
     },
     "execution_count": 24,
     "metadata": {},
     "output_type": "execute_result"
    },
    {
     "data": {
      "text/plain": "array([0.07454594, 1.        , 0.00850871, ..., 0.        , 0.        ,\n       0.03778883])"
     },
     "execution_count": 24,
     "metadata": {},
     "output_type": "execute_result"
    }
   ],
   "source": [
    "from sklearn.metrics.pairwise import linear_kernel\n",
    "\n",
    "cosin_sin = linear_kernel(tfidf_matrix,tfidf_matrix)\n",
    "\n",
    "cosin_sin.shape\n",
    "\n",
    "cosin_sin[1]\n"
   ],
   "metadata": {
    "collapsed": false,
    "pycharm": {
     "name": "#%%\n"
    }
   }
  },
  {
   "cell_type": "code",
   "execution_count": 25,
   "outputs": [
    {
     "data": {
      "text/plain": "movieId\n1     0\n2     1\n3     2\n4     3\n5     4\n6     5\n7     6\n8     7\n9     8\n10    9\ndtype: int64"
     },
     "execution_count": 25,
     "metadata": {},
     "output_type": "execute_result"
    }
   ],
   "source": [
    "indices = pd.Series(movies.index, index = moviestagsLates['movieId']).drop_duplicates()\n",
    "\n",
    "indices[:10]"
   ],
   "metadata": {
    "collapsed": false,
    "pycharm": {
     "name": "#%%\n"
    }
   }
  },
  {
   "cell_type": "markdown",
   "source": [
    "Funkcija koja za dan id filma pomoću sličnosti s drugim filmovima ispisuje slične filmove.\n",
    "\n",
    "Funkcija prolazi kroz svoj vektor i za svaki drugi film gleda sličnost. Najsličnije filmove\n",
    "stavlja u listu i korisniku vraća najsličnijih n."
   ],
   "metadata": {
    "collapsed": false
   }
  },
  {
   "cell_type": "code",
   "execution_count": 26,
   "outputs": [],
   "source": [
    "def get_recommendations_by_id(movieId,n=15, cosine_sim=cosin_sin):\n",
    "\n",
    "    idx = indices[movieId]\n",
    "\n",
    "    sim_scores = list(enumerate(cosine_sim[idx]))\n",
    "\n",
    "    sim_scores = sorted(sim_scores, key = lambda x: x[1], reverse=True)\n",
    "\n",
    "    sim_scores = sim_scores[1:n+1]\n",
    "\n",
    "    movie_indices = [i[0] for i in sim_scores]\n",
    "\n",
    "    return moviestagsLates['movieId'].iloc[movie_indices]"
   ],
   "metadata": {
    "collapsed": false,
    "pycharm": {
     "name": "#%%\n"
    }
   }
  },
  {
   "cell_type": "markdown",
   "source": [
    "Poziv funkcije za korisnika s ID-om 1 vraća njegovih 15 najsličnijih."
   ],
   "metadata": {
    "collapsed": false
   }
  },
  {
   "cell_type": "code",
   "source": [
    "moviestagsLates.loc[moviestagsLates['movieId'].isin(get_recommendations_by_id(1))]"
   ],
   "metadata": {
    "collapsed": false,
    "pycharm": {
     "name": "#%%\n"
    }
   },
   "execution_count": 27,
   "outputs": [
    {
     "data": {
      "text/plain": "      movieId                                                tag  \\\n512       595  disney kids redemption animation disney fairyt...   \n513       596  characters classic cute fun animation cartoon ...   \n1757     2355  animation disney pixar insects kevinspacey opp...   \n2355     3114  pixar sequelbetterthanoriginal abandonment ani...   \n3568     4886  funny pixar comedy funny pixar animated animat...   \n3704     5109  disney animation peterpan avi disneyanimatedfe...   \n4360     6377  pixar funny pixar family father-sonrelationshi...   \n5374     8961  funny stylized super-hero animation powers ani...   \n6212    45517  redemption villainnonexistentornotneededforgoo...   \n7355    78499  boring overrated story pixar children adventur...   \n7550    85261  animation funny touching computeranimation dis...   \n7805    92348                                                      \n7910    95193                                             disney   \n8422   111146                                                      \n8674   121781                                                      \n\n                                               title  \\\n512                      Beauty and the Beast (1991)   \n513                                 Pinocchio (1940)   \n1757                            Bug's Life, A (1998)   \n2355                              Toy Story 2 (1999)   \n3568                           Monsters, Inc. (2001)   \n3704                     Return to Never Land (2002)   \n4360                             Finding Nemo (2003)   \n5374                         Incredibles, The (2004)   \n6212                                     Cars (2006)   \n7355                              Toy Story 3 (2010)   \n7550                          Mars Needs Moms (2011)   \n7805   Puss in Boots (Nagagutsu o haita neko) (1969)   \n7910   Pocahontas II: Journey to a New World (1998)    \n8422  Alpha and Omega 3: The Great Wolf Games (2014)   \n8674        Stuart Little 3: Call of the Wild (2005)   \n\n                                                 genres  \\\n512     Animation|Children|Fantasy|Musical|Romance|IMAX   \n513                  Animation|Children|Fantasy|Musical   \n1757                Adventure|Animation|Children|Comedy   \n2355        Adventure|Animation|Children|Comedy|Fantasy   \n3568        Adventure|Animation|Children|Comedy|Fantasy   \n3704                       Adventure|Animation|Children   \n4360                Adventure|Animation|Children|Comedy   \n5374         Action|Adventure|Animation|Children|Comedy   \n6212                          Animation|Children|Comedy   \n7355   Adventure|Animation|Children|Comedy|Fantasy|IMAX   \n7550  Action|Adventure|Animation|Children|Comedy|Sci...   \n7805  Adventure|Animation|Children|Comedy|Fantasy|Ro...   \n7910                       Adventure|Animation|Children   \n8422         Action|Adventure|Animation|Children|Comedy   \n8674                  Animation|Children|Comedy|Fantasy   \n\n                                                   soup  \n512   fathersanddaughters 55movieseverykidshouldsee-...  \n513   sneezing christianrub reviewed 2danimation dis...  \n1757  insects acting ants disney comedy animation vo...  \n2355  johncusack childish tomhanks daringrescues aba...  \n3568  missing/kidnappedchild disney hijinks cheating...  \n3704  disneyanimatedfeature disney animation peterpa...  \n4360  feelgoodmovie missing/kidnappedchild myfav dis...  \n5374  55movieseverykidshouldsee--entertainmentweekly...  \n6212  losangeles emotionalfiretruck script comedy po...  \n7355  toplist10 toy dolls timallen violence donrickl...  \n7550  script disney animation voiceacting dialogue s...  \n7805   adventure animation children comedy fantasy r...  \n7910                disney adventure animation children  \n8422         action adventure animation children comedy  \n8674                  animation children comedy fantasy  ",
      "text/html": "<div>\n<style scoped>\n    .dataframe tbody tr th:only-of-type {\n        vertical-align: middle;\n    }\n\n    .dataframe tbody tr th {\n        vertical-align: top;\n    }\n\n    .dataframe thead th {\n        text-align: right;\n    }\n</style>\n<table border=\"1\" class=\"dataframe\">\n  <thead>\n    <tr style=\"text-align: right;\">\n      <th></th>\n      <th>movieId</th>\n      <th>tag</th>\n      <th>title</th>\n      <th>genres</th>\n      <th>soup</th>\n    </tr>\n  </thead>\n  <tbody>\n    <tr>\n      <th>512</th>\n      <td>595</td>\n      <td>disney kids redemption animation disney fairyt...</td>\n      <td>Beauty and the Beast (1991)</td>\n      <td>Animation|Children|Fantasy|Musical|Romance|IMAX</td>\n      <td>fathersanddaughters 55movieseverykidshouldsee-...</td>\n    </tr>\n    <tr>\n      <th>513</th>\n      <td>596</td>\n      <td>characters classic cute fun animation cartoon ...</td>\n      <td>Pinocchio (1940)</td>\n      <td>Animation|Children|Fantasy|Musical</td>\n      <td>sneezing christianrub reviewed 2danimation dis...</td>\n    </tr>\n    <tr>\n      <th>1757</th>\n      <td>2355</td>\n      <td>animation disney pixar insects kevinspacey opp...</td>\n      <td>Bug's Life, A (1998)</td>\n      <td>Adventure|Animation|Children|Comedy</td>\n      <td>insects acting ants disney comedy animation vo...</td>\n    </tr>\n    <tr>\n      <th>2355</th>\n      <td>3114</td>\n      <td>pixar sequelbetterthanoriginal abandonment ani...</td>\n      <td>Toy Story 2 (1999)</td>\n      <td>Adventure|Animation|Children|Comedy|Fantasy</td>\n      <td>johncusack childish tomhanks daringrescues aba...</td>\n    </tr>\n    <tr>\n      <th>3568</th>\n      <td>4886</td>\n      <td>funny pixar comedy funny pixar animated animat...</td>\n      <td>Monsters, Inc. (2001)</td>\n      <td>Adventure|Animation|Children|Comedy|Fantasy</td>\n      <td>missing/kidnappedchild disney hijinks cheating...</td>\n    </tr>\n    <tr>\n      <th>3704</th>\n      <td>5109</td>\n      <td>disney animation peterpan avi disneyanimatedfe...</td>\n      <td>Return to Never Land (2002)</td>\n      <td>Adventure|Animation|Children</td>\n      <td>disneyanimatedfeature disney animation peterpa...</td>\n    </tr>\n    <tr>\n      <th>4360</th>\n      <td>6377</td>\n      <td>pixar funny pixar family father-sonrelationshi...</td>\n      <td>Finding Nemo (2003)</td>\n      <td>Adventure|Animation|Children|Comedy</td>\n      <td>feelgoodmovie missing/kidnappedchild myfav dis...</td>\n    </tr>\n    <tr>\n      <th>5374</th>\n      <td>8961</td>\n      <td>funny stylized super-hero animation powers ani...</td>\n      <td>Incredibles, The (2004)</td>\n      <td>Action|Adventure|Animation|Children|Comedy</td>\n      <td>55movieseverykidshouldsee--entertainmentweekly...</td>\n    </tr>\n    <tr>\n      <th>6212</th>\n      <td>45517</td>\n      <td>redemption villainnonexistentornotneededforgoo...</td>\n      <td>Cars (2006)</td>\n      <td>Animation|Children|Comedy</td>\n      <td>losangeles emotionalfiretruck script comedy po...</td>\n    </tr>\n    <tr>\n      <th>7355</th>\n      <td>78499</td>\n      <td>boring overrated story pixar children adventur...</td>\n      <td>Toy Story 3 (2010)</td>\n      <td>Adventure|Animation|Children|Comedy|Fantasy|IMAX</td>\n      <td>toplist10 toy dolls timallen violence donrickl...</td>\n    </tr>\n    <tr>\n      <th>7550</th>\n      <td>85261</td>\n      <td>animation funny touching computeranimation dis...</td>\n      <td>Mars Needs Moms (2011)</td>\n      <td>Action|Adventure|Animation|Children|Comedy|Sci...</td>\n      <td>script disney animation voiceacting dialogue s...</td>\n    </tr>\n    <tr>\n      <th>7805</th>\n      <td>92348</td>\n      <td></td>\n      <td>Puss in Boots (Nagagutsu o haita neko) (1969)</td>\n      <td>Adventure|Animation|Children|Comedy|Fantasy|Ro...</td>\n      <td>adventure animation children comedy fantasy r...</td>\n    </tr>\n    <tr>\n      <th>7910</th>\n      <td>95193</td>\n      <td>disney</td>\n      <td>Pocahontas II: Journey to a New World (1998)</td>\n      <td>Adventure|Animation|Children</td>\n      <td>disney adventure animation children</td>\n    </tr>\n    <tr>\n      <th>8422</th>\n      <td>111146</td>\n      <td></td>\n      <td>Alpha and Omega 3: The Great Wolf Games (2014)</td>\n      <td>Action|Adventure|Animation|Children|Comedy</td>\n      <td>action adventure animation children comedy</td>\n    </tr>\n    <tr>\n      <th>8674</th>\n      <td>121781</td>\n      <td></td>\n      <td>Stuart Little 3: Call of the Wild (2005)</td>\n      <td>Animation|Children|Comedy|Fantasy</td>\n      <td>animation children comedy fantasy</td>\n    </tr>\n  </tbody>\n</table>\n</div>"
     },
     "execution_count": 27,
     "metadata": {},
     "output_type": "execute_result"
    }
   ]
  },
  {
   "cell_type": "markdown",
   "source": [
    "Funkcija koja za dani id usera računa filmove koje bi se tom useru svidjeli.\n",
    "\n",
    "Funkcija prolazi kroz sve filmove koje je korisnik pogledao i ocijenio te za svaki od tih\n",
    "filmova trži njemu najsličnije i množi ih s ocjenom korisnika. Te najsličnije filmove i\n",
    "njihove ocjene sortira i vraća one koje bi preporučio korisniku."
   ],
   "metadata": {
    "collapsed": false
   }
  },
  {
   "cell_type": "code",
   "execution_count": 28,
   "outputs": [],
   "source": [
    "def get_recommendations_by_user(userId, n = 15, cosine_sim = cosin_sin):\n",
    "    userMovies = ratingsLates.loc[ratingsLates['userId']==userId]\n",
    "    watched = pd.Series(userMovies['movieId']).tolist()\n",
    "\n",
    "    scores=list()\n",
    "\n",
    "    for item in userMovies.itertuples():\n",
    "        movieId = item[2]\n",
    "        rating = item[3]\n",
    "\n",
    "        idx = indices[movieId]\n",
    "        sim_scores = list(enumerate(cosine_sim[idx]*rating))\n",
    "        sim_scores = sorted(sim_scores, key = lambda x: x[1], reverse=True)\n",
    "        sim_scores = sim_scores[1:n+1]\n",
    "\n",
    "        scores.extend(sim_scores)\n",
    "\n",
    "    scores = sorted(scores, key = lambda  x: x[1], reverse=True)\n",
    "\n",
    "    movie_recommendations = []\n",
    "\n",
    "    num=n\n",
    "    while True:\n",
    "        val = scores[num]\n",
    "        if not watched.__contains__(val[0]) and not movie_recommendations.__contains__(val[0]):\n",
    "            movie_recommendations.append(val[0])\n",
    "            num-=1\n",
    "        if num==0:\n",
    "            break\n",
    "\n",
    "    return moviestagsLates['movieId'].iloc[movie_recommendations]"
   ],
   "metadata": {
    "collapsed": false,
    "pycharm": {
     "name": "#%%\n"
    }
   }
  },
  {
   "cell_type": "markdown",
   "source": [
    "Poziv funkcije za prvog korisnika ispisuje 15 najsličnijih filmova koje korisnik još nije pogledao.\n"
   ],
   "metadata": {
    "collapsed": false
   }
  },
  {
   "cell_type": "code",
   "execution_count": 29,
   "outputs": [
    {
     "data": {
      "text/plain": "      movieId                                                tag  \\\n266       306  rewatch holes90s krzysztofkieslowski threecolo...   \n268       308  threecolorstrilogy rewatch threecolorstrilogy ...   \n322       364  disney kids disney music animalcharacters anim...   \n454       519  cyborgs franchise franchise badacting surreal ...   \n506       588  wanttoown robinwilliams animation action adven...   \n1602     2144  80'sclassic teenangst johnhughes 1980s 80'scla...   \n2916     3911  absurd funnyashell improvised mockumentary dog...   \n3055     4091  1980s beatles cheerleading highschool 1980s 80...   \n3333     4516      robertdowneyjr. sport robertdowneyjr. betamax   \n3959     5580                                             skiing   \n4308     6296  christopherguest mockumentary mockumentary the...   \n4575     6796  black ghetto socialcommentary angelabassett bl...   \n6709    58554  bullying director:ilmarraag writer:ilmarraag w...   \n7102    70565               duringcreditsstinger comedy underdog   \n9676   183199                                            hip-hop   \n\n                                                 title  \\\n266   Three Colors: Red (Trois couleurs: Rouge) (1994)   \n268    Three Colors: White (Trzy kolory: Bialy) (1994)   \n322                              Lion King, The (1994)   \n454                                   RoboCop 3 (1993)   \n506                                     Aladdin (1992)   \n1602                            Sixteen Candles (1984)   \n2916                               Best in Show (2000)   \n3055                          Can't Buy Me Love (1987)   \n3333                             Johnny Be Good (1988)   \n3959                              Aspen Extreme (1993)   \n4308                             Mighty Wind, A (2003)   \n4575                            Boyz N the Hood (1991)   \n6709                         Class, The (Klass) (2007)   \n7102           Goods: Live Hard, Sell Hard, The (2009)   \n9676                                      Quest (2017)   \n\n                                               genres  \\\n266                                             Drama   \n268                                      Comedy|Drama   \n322   Adventure|Animation|Children|Drama|Musical|IMAX   \n454                Action|Crime|Drama|Sci-Fi|Thriller   \n506       Adventure|Animation|Children|Comedy|Musical   \n1602                                   Comedy|Romance   \n2916                                           Comedy   \n3055                                   Comedy|Romance   \n3333                                           Comedy   \n3959                                           Action   \n4308                                   Comedy|Musical   \n4575                                      Crime|Drama   \n6709                                            Drama   \n7102                                           Comedy   \n9676                                      Documentary   \n\n                                                   soup  \n266   krzysztofkieslowski cinematography reviewed me...  \n268   krzysztofkieslowski memasa'smovies threecolors...  \n322   55movieseverykidshouldsee--entertainmentweekly...  \n454   policeman surreal robocop badacting cyborgs sc...  \n506   disney writer:kevinharkey holes90s disneyclass...  \n1602  johncusack directorialdebut racist farce highs...  \n2916  tuyen comedy farce kimono animal:dog dry nerds...  \n3055  1980s highschool 80's cheerleading pampossible...  \n3333               sport betamax robertdowneyjr. comedy  \n3959                                      skiing action  \n4308  folkmusic fredwillard folksinger musicians the...  \n4575  losangeles directorialdebut crime father-sonre...  \n6709  schoolshooting writer:mikkmägi director:ilmarr...  \n7102        underdog comedy duringcreditsstinger comedy  \n9676                                hip-hop documentary  ",
      "text/html": "<div>\n<style scoped>\n    .dataframe tbody tr th:only-of-type {\n        vertical-align: middle;\n    }\n\n    .dataframe tbody tr th {\n        vertical-align: top;\n    }\n\n    .dataframe thead th {\n        text-align: right;\n    }\n</style>\n<table border=\"1\" class=\"dataframe\">\n  <thead>\n    <tr style=\"text-align: right;\">\n      <th></th>\n      <th>movieId</th>\n      <th>tag</th>\n      <th>title</th>\n      <th>genres</th>\n      <th>soup</th>\n    </tr>\n  </thead>\n  <tbody>\n    <tr>\n      <th>266</th>\n      <td>306</td>\n      <td>rewatch holes90s krzysztofkieslowski threecolo...</td>\n      <td>Three Colors: Red (Trois couleurs: Rouge) (1994)</td>\n      <td>Drama</td>\n      <td>krzysztofkieslowski cinematography reviewed me...</td>\n    </tr>\n    <tr>\n      <th>268</th>\n      <td>308</td>\n      <td>threecolorstrilogy rewatch threecolorstrilogy ...</td>\n      <td>Three Colors: White (Trzy kolory: Bialy) (1994)</td>\n      <td>Comedy|Drama</td>\n      <td>krzysztofkieslowski memasa'smovies threecolors...</td>\n    </tr>\n    <tr>\n      <th>322</th>\n      <td>364</td>\n      <td>disney kids disney music animalcharacters anim...</td>\n      <td>Lion King, The (1994)</td>\n      <td>Adventure|Animation|Children|Drama|Musical|IMAX</td>\n      <td>55movieseverykidshouldsee--entertainmentweekly...</td>\n    </tr>\n    <tr>\n      <th>454</th>\n      <td>519</td>\n      <td>cyborgs franchise franchise badacting surreal ...</td>\n      <td>RoboCop 3 (1993)</td>\n      <td>Action|Crime|Drama|Sci-Fi|Thriller</td>\n      <td>policeman surreal robocop badacting cyborgs sc...</td>\n    </tr>\n    <tr>\n      <th>506</th>\n      <td>588</td>\n      <td>wanttoown robinwilliams animation action adven...</td>\n      <td>Aladdin (1992)</td>\n      <td>Adventure|Animation|Children|Comedy|Musical</td>\n      <td>disney writer:kevinharkey holes90s disneyclass...</td>\n    </tr>\n    <tr>\n      <th>1602</th>\n      <td>2144</td>\n      <td>80'sclassic teenangst johnhughes 1980s 80'scla...</td>\n      <td>Sixteen Candles (1984)</td>\n      <td>Comedy|Romance</td>\n      <td>johncusack directorialdebut racist farce highs...</td>\n    </tr>\n    <tr>\n      <th>2916</th>\n      <td>3911</td>\n      <td>absurd funnyashell improvised mockumentary dog...</td>\n      <td>Best in Show (2000)</td>\n      <td>Comedy</td>\n      <td>tuyen comedy farce kimono animal:dog dry nerds...</td>\n    </tr>\n    <tr>\n      <th>3055</th>\n      <td>4091</td>\n      <td>1980s beatles cheerleading highschool 1980s 80...</td>\n      <td>Can't Buy Me Love (1987)</td>\n      <td>Comedy|Romance</td>\n      <td>1980s highschool 80's cheerleading pampossible...</td>\n    </tr>\n    <tr>\n      <th>3333</th>\n      <td>4516</td>\n      <td>robertdowneyjr. sport robertdowneyjr. betamax</td>\n      <td>Johnny Be Good (1988)</td>\n      <td>Comedy</td>\n      <td>sport betamax robertdowneyjr. comedy</td>\n    </tr>\n    <tr>\n      <th>3959</th>\n      <td>5580</td>\n      <td>skiing</td>\n      <td>Aspen Extreme (1993)</td>\n      <td>Action</td>\n      <td>skiing action</td>\n    </tr>\n    <tr>\n      <th>4308</th>\n      <td>6296</td>\n      <td>christopherguest mockumentary mockumentary the...</td>\n      <td>Mighty Wind, A (2003)</td>\n      <td>Comedy|Musical</td>\n      <td>folkmusic fredwillard folksinger musicians the...</td>\n    </tr>\n    <tr>\n      <th>4575</th>\n      <td>6796</td>\n      <td>black ghetto socialcommentary angelabassett bl...</td>\n      <td>Boyz N the Hood (1991)</td>\n      <td>Crime|Drama</td>\n      <td>losangeles directorialdebut crime father-sonre...</td>\n    </tr>\n    <tr>\n      <th>6709</th>\n      <td>58554</td>\n      <td>bullying director:ilmarraag writer:ilmarraag w...</td>\n      <td>Class, The (Klass) (2007)</td>\n      <td>Drama</td>\n      <td>schoolshooting writer:mikkmägi director:ilmarr...</td>\n    </tr>\n    <tr>\n      <th>7102</th>\n      <td>70565</td>\n      <td>duringcreditsstinger comedy underdog</td>\n      <td>Goods: Live Hard, Sell Hard, The (2009)</td>\n      <td>Comedy</td>\n      <td>underdog comedy duringcreditsstinger comedy</td>\n    </tr>\n    <tr>\n      <th>9676</th>\n      <td>183199</td>\n      <td>hip-hop</td>\n      <td>Quest (2017)</td>\n      <td>Documentary</td>\n      <td>hip-hop documentary</td>\n    </tr>\n  </tbody>\n</table>\n</div>"
     },
     "execution_count": 29,
     "metadata": {},
     "output_type": "execute_result"
    }
   ],
   "source": [
    "moviestagsLates.loc[moviestagsLates['movieId'].isin(get_recommendations_by_user(1))]"
   ],
   "metadata": {
    "collapsed": false,
    "pycharm": {
     "name": "#%%\n"
    }
   }
  },
  {
   "cell_type": "markdown",
   "source": [
    "Testiranje"
   ],
   "metadata": {
    "collapsed": false
   }
  },
  {
   "cell_type": "code",
   "source": [
    "import pandas as pd\n",
    "import numpy as np\n",
    "from typing import List\n",
    "from sklearn.feature_extraction.text import  TfidfVectorizer\n",
    "from sklearn.metrics.pairwise import linear_kernel\n",
    "from sklearn.model_selection import train_test_split\n",
    "import multiprocessing as mp\n",
    "\n",
    "\n",
    "movies = pd.read_csv('ml-latest-small/movies.csv')\n",
    "ratings = pd.read_csv('ml-latest-small/ratings.csv',usecols=['userId','movieId','rating'])\n",
    "tags = pd.read_csv('ml-latest-small/tags.csv',usecols=['movieId','tag'])\n",
    "\n",
    "tags['tag'] = tags['tag'].apply(lambda x: str(x).replace(\" \",\"\").lower())\n",
    "movies = pd.merge(tags.groupby(['movieId'], as_index=False)['tag'].apply(lambda x: \" \".join(x)), movies,how='right',on='movieId')\n",
    "movies['tag']=movies['tag'].fillna('')\n",
    "\n",
    "\n",
    "def createSoup(x):\n",
    "    infoSet = set(x['tag'].split(' '))\n",
    "\n",
    "    data = ' '.join(infoSet)\n",
    "\n",
    "    for genre in x['genres'].split('|'):\n",
    "        data+=(' ' + genre.lower())\n",
    "    return data\n",
    "\n",
    "movies['soup'] = movies.apply(createSoup,axis=1)\n",
    "\n",
    "tfidf = TfidfVectorizer(stop_words='english')\n",
    "\n",
    "movies['soup'] = movies['soup'].fillna('')\n",
    "\n",
    "tfidf_matrix = tfidf.fit_transform(movies['soup'])\n",
    "\n",
    "cosin_sin = linear_kernel(tfidf_matrix, tfidf_matrix)\n",
    "indices = pd.Series(movies.index, index = movies['movieId']).drop_duplicates()\n",
    "\n",
    "def get_recommendations_by_id(movieId,n=5, cosine_sim=cosin_sin):\n",
    "    idx = indices[movieId]\n",
    "    sim_scores = list(enumerate(cosine_sim[idx]))\n",
    "    sim_scores = sorted(sim_scores, key = lambda x: x[1], reverse=True)\n",
    "    sim_scores = sim_scores[1:n+1]\n",
    "    movie_indices = [i[0] for i in sim_scores]\n",
    "    return movies['movieId'].iloc[movie_indices]\n",
    "\n",
    "\n",
    "def testForUser(x):\n",
    "    userSet = set()\n",
    "    userRatings = ratings.loc[ratings['userId'] == x]\n",
    "    userTrain, userTest = train_test_split(userRatings, test_size=0.3, random_state=42)\n",
    "    for index, row in userTrain.iterrows():\n",
    "        bestForThisMovie = get_recommendations_by_id(row['movieId'])\n",
    "        for i in bestForThisMovie:\n",
    "            val = userTrain.loc[userTrain['movieId'] == i]\n",
    "            if(len(val) == 0):\n",
    "                userSet.add(i)\n",
    "\n",
    "    # userSet now contains id of movies to be recommended\n",
    "    # Now we are iterating over test set and we are checking if test movie is in recommended set\n",
    "    precision = 0\n",
    "    for index, row in userTest.iterrows():\n",
    "        if row['movieId'] in userSet:\n",
    "            precision += 1\n",
    "\n",
    "    print(x)\n",
    "    return (precision / len(userSet)), (precision / len(userTest))\n",
    "\n",
    "\n",
    "precision = 0\n",
    "recall = 0\n",
    "\n",
    "for i in range(1, 101):\n",
    "    tmp1, tmp2 = testForUser(i)\n",
    "    precision += tmp1\n",
    "    recall += tmp2\n",
    "\n",
    "precision = precision / 100\n",
    "recall = recall / 100\n",
    "\n",
    "print(\"Precision is {}\".format(precision))\n",
    "print(\"Recall is {}\".format(recall))\n",
    "\n",
    "print(\"F1 metric is {}\".format(2 * (precision * recall) / (precision + recall)))\n",
    "\n"
   ],
   "metadata": {
    "collapsed": false,
    "pycharm": {
     "name": "#%%\n"
    }
   },
   "execution_count": 1,
   "outputs": [
    {
     "name": "stdout",
     "output_type": "stream",
     "text": [
      "1\n",
      "2\n",
      "3\n",
      "4\n",
      "5\n",
      "6\n",
      "7\n",
      "8\n",
      "9\n",
      "10\n",
      "11\n",
      "12\n",
      "13\n",
      "14\n",
      "15\n",
      "16\n",
      "17\n",
      "18\n",
      "19\n",
      "20\n",
      "21\n",
      "22\n",
      "23\n",
      "24\n",
      "25\n",
      "26\n",
      "27\n",
      "28\n",
      "29\n",
      "30\n",
      "31\n",
      "32\n",
      "33\n",
      "34\n",
      "35\n",
      "36\n",
      "37\n",
      "38\n",
      "39\n",
      "40\n",
      "41\n",
      "42\n",
      "43\n",
      "44\n",
      "45\n",
      "46\n",
      "47\n",
      "48\n",
      "49\n",
      "50\n",
      "51\n",
      "52\n",
      "53\n",
      "54\n",
      "55\n",
      "56\n",
      "57\n",
      "58\n",
      "59\n",
      "60\n",
      "61\n",
      "62\n",
      "63\n",
      "64\n",
      "65\n",
      "66\n",
      "67\n",
      "68\n",
      "69\n",
      "70\n",
      "71\n",
      "72\n",
      "73\n",
      "74\n",
      "75\n",
      "76\n",
      "77\n",
      "78\n",
      "79\n",
      "80\n",
      "81\n",
      "82\n",
      "83\n",
      "84\n",
      "85\n",
      "86\n",
      "87\n",
      "88\n",
      "89\n",
      "90\n",
      "91\n",
      "92\n",
      "93\n",
      "94\n",
      "95\n",
      "96\n",
      "97\n",
      "98\n",
      "99\n",
      "100\n",
      "Precision is 0.020824131654559007\n",
      "Recall is 0.14692207413926314\n",
      "F1 metric is 0.03647801868731833\n"
     ]
    }
   ]
  },
  {
   "cell_type": "markdown",
   "source": [
    "Ako se ograničimo na dataset **ml-lates-small** sličnost filmova se može uspoređivati samo na\n",
    "činjenici pripadaju li istim žanrovima.\n",
    "\n",
    "   Za svaki film napravimo vektor(item vector) sa žanrovima(postoji dvadeset žanrova) gdje je vrijednost stupca za neki žanr\n",
    "    jednaka jedan(true) ako film pripada nekom žanru, nula(false) ako ne. Potom za svakog korisnika prosumiramo vektore\n",
    "    filmova koje je on pogledao i podijelimo s brojem pogledanih filmova. Time dobivamo _user vektor_. Potom iteriramo\n",
    "    kroz sve filmove i tražimo najsličnije filmove(cosine similarity) odnosno item vektore našeg user vektora.\n",
    "    Korisniku potom predlažemo petnaes najsličnijh filmova njegovom user vektoru.\n",
    "\n",
    "U ovom dijelu iz csv-a(comma separated values) izvlačimo žanrove jer su oni svi napisani kao jedna vrijednost\n",
    "odvojena znakom \" | \". I pravimo pandas dataframe. Rezultat na kraju je dataframe sa filmovima u obliku item vektora i\n",
    "još se nadoda movieId i title za pojednini film."
   ],
   "metadata": {
    "collapsed": false
   }
  },
  {
   "cell_type": "code",
   "execution_count": 30,
   "outputs": [
    {
     "data": {
      "text/plain": "   Adventure  Animation  Children  Comedy  Fantasy  Romance  Drama  Action  \\\n0          1          1         1       1        1        0      0       0   \n1          1          0         1       0        1        0      0       0   \n2          0          0         0       1        0        1      0       0   \n3          0          0         0       1        0        1      1       0   \n4          0          0         0       1        0        0      0       0   \n\n   Crime  Thriller  ...  Sci-Fi  War  Musical  Documentary  IMAX  Western  \\\n0      0         0  ...       0    0        0            0     0        0   \n1      0         0  ...       0    0        0            0     0        0   \n2      0         0  ...       0    0        0            0     0        0   \n3      0         0  ...       0    0        0            0     0        0   \n4      0         0  ...       0    0        0            0     0        0   \n\n   Film-Noir  (no genres listed)                               title  movieId  \n0          0                   0                    Toy Story (1995)        1  \n1          0                   0                      Jumanji (1995)        2  \n2          0                   0             Grumpier Old Men (1995)        3  \n3          0                   0            Waiting to Exhale (1995)        4  \n4          0                   0  Father of the Bride Part II (1995)        5  \n\n[5 rows x 22 columns]",
      "text/html": "<div>\n<style scoped>\n    .dataframe tbody tr th:only-of-type {\n        vertical-align: middle;\n    }\n\n    .dataframe tbody tr th {\n        vertical-align: top;\n    }\n\n    .dataframe thead th {\n        text-align: right;\n    }\n</style>\n<table border=\"1\" class=\"dataframe\">\n  <thead>\n    <tr style=\"text-align: right;\">\n      <th></th>\n      <th>Adventure</th>\n      <th>Animation</th>\n      <th>Children</th>\n      <th>Comedy</th>\n      <th>Fantasy</th>\n      <th>Romance</th>\n      <th>Drama</th>\n      <th>Action</th>\n      <th>Crime</th>\n      <th>Thriller</th>\n      <th>...</th>\n      <th>Sci-Fi</th>\n      <th>War</th>\n      <th>Musical</th>\n      <th>Documentary</th>\n      <th>IMAX</th>\n      <th>Western</th>\n      <th>Film-Noir</th>\n      <th>(no genres listed)</th>\n      <th>title</th>\n      <th>movieId</th>\n    </tr>\n  </thead>\n  <tbody>\n    <tr>\n      <th>0</th>\n      <td>1</td>\n      <td>1</td>\n      <td>1</td>\n      <td>1</td>\n      <td>1</td>\n      <td>0</td>\n      <td>0</td>\n      <td>0</td>\n      <td>0</td>\n      <td>0</td>\n      <td>...</td>\n      <td>0</td>\n      <td>0</td>\n      <td>0</td>\n      <td>0</td>\n      <td>0</td>\n      <td>0</td>\n      <td>0</td>\n      <td>0</td>\n      <td>Toy Story (1995)</td>\n      <td>1</td>\n    </tr>\n    <tr>\n      <th>1</th>\n      <td>1</td>\n      <td>0</td>\n      <td>1</td>\n      <td>0</td>\n      <td>1</td>\n      <td>0</td>\n      <td>0</td>\n      <td>0</td>\n      <td>0</td>\n      <td>0</td>\n      <td>...</td>\n      <td>0</td>\n      <td>0</td>\n      <td>0</td>\n      <td>0</td>\n      <td>0</td>\n      <td>0</td>\n      <td>0</td>\n      <td>0</td>\n      <td>Jumanji (1995)</td>\n      <td>2</td>\n    </tr>\n    <tr>\n      <th>2</th>\n      <td>0</td>\n      <td>0</td>\n      <td>0</td>\n      <td>1</td>\n      <td>0</td>\n      <td>1</td>\n      <td>0</td>\n      <td>0</td>\n      <td>0</td>\n      <td>0</td>\n      <td>...</td>\n      <td>0</td>\n      <td>0</td>\n      <td>0</td>\n      <td>0</td>\n      <td>0</td>\n      <td>0</td>\n      <td>0</td>\n      <td>0</td>\n      <td>Grumpier Old Men (1995)</td>\n      <td>3</td>\n    </tr>\n    <tr>\n      <th>3</th>\n      <td>0</td>\n      <td>0</td>\n      <td>0</td>\n      <td>1</td>\n      <td>0</td>\n      <td>1</td>\n      <td>1</td>\n      <td>0</td>\n      <td>0</td>\n      <td>0</td>\n      <td>...</td>\n      <td>0</td>\n      <td>0</td>\n      <td>0</td>\n      <td>0</td>\n      <td>0</td>\n      <td>0</td>\n      <td>0</td>\n      <td>0</td>\n      <td>Waiting to Exhale (1995)</td>\n      <td>4</td>\n    </tr>\n    <tr>\n      <th>4</th>\n      <td>0</td>\n      <td>0</td>\n      <td>0</td>\n      <td>1</td>\n      <td>0</td>\n      <td>0</td>\n      <td>0</td>\n      <td>0</td>\n      <td>0</td>\n      <td>0</td>\n      <td>...</td>\n      <td>0</td>\n      <td>0</td>\n      <td>0</td>\n      <td>0</td>\n      <td>0</td>\n      <td>0</td>\n      <td>0</td>\n      <td>0</td>\n      <td>Father of the Bride Part II (1995)</td>\n      <td>5</td>\n    </tr>\n  </tbody>\n</table>\n<p>5 rows × 22 columns</p>\n</div>"
     },
     "execution_count": 30,
     "metadata": {},
     "output_type": "execute_result"
    }
   ],
   "source": [
    "values = movies['genres'].str.split(\"|\")\n",
    "\n",
    "column_names = []\n",
    "column_names_user = []\n",
    "for v in values:\n",
    "    if (len(column_names) == 20):\n",
    "        break;\n",
    "    for i in v:\n",
    "        if i not in column_names:\n",
    "            column_names.append(i)\n",
    "\n",
    "column_names_user = column_names.copy()\n",
    "column_names_user.append('userId')\n",
    "column_names.append('title')\n",
    "column_names.append('movieId')\n",
    "df2 = pd.DataFrame(columns=column_names)\n",
    "\n",
    "for index, row in movies.iterrows():\n",
    "    tmp = row['genres'].split(\"|\")\n",
    "    df2.loc[index, 'title'] = movies.loc[index, 'title']\n",
    "    df2.loc[index, 'movieId'] = movies.loc[index, 'movieId']\n",
    "    for i in tmp:\n",
    "        df2.loc[index, i] = 1\n",
    "df2 = df2.fillna(0)\n",
    "data = pd.merge(ratings, df2, on=['movieId'])\n",
    "df2Helper = df2.drop(columns=['title', 'movieId'])\n",
    "\n",
    "df2.head()"
   ],
   "metadata": {
    "collapsed": false,
    "pycharm": {
     "name": "#%%\n"
    }
   }
  },
  {
   "cell_type": "markdown",
   "source": [
    "Sada definiramo funkciju koja za određenog korisnika određuje 15 preporučenih filmova na temelju cosine similartiy-a."
   ],
   "metadata": {
    "collapsed": false
   }
  },
  {
   "cell_type": "code",
   "execution_count": 31,
   "outputs": [
    {
     "name": "stdout",
     "output_type": "stream",
     "text": [
      "User number: 1\n",
      "     Dragonheart 2: A New Beginning (2000) : 0.8670756622462974\n",
      "     Hunting Party, The (2007) : 0.8455296197390959\n",
      "     Stunt Man, The (1980) : 0.8245322302201941\n",
      "     The Great Train Robbery (1978) : 0.8233372412682535\n",
      "     Flashback (1990) : 0.8233372412682535\n",
      "     Maximum Ride (2016) : 0.810351086211493\n",
      "     Extreme Days (2001) : 0.8088657695442655\n",
      "     Machete (2010) : 0.7944871492561584\n",
      "     Diamond Arm, The (Brilliantovaya ruka) (1968) : 0.7944871492561584\n",
      "     After the Sunset (2004) : 0.7944871492561584\n",
      "     Charlie's Angels: Full Throttle (2003) : 0.7944871492561584\n",
      "     Super Mario Bros. (1993) : 0.7840146759096195\n",
      "     Who Am I? (Wo shi shei) (1998) : 0.7833909600207372\n",
      "     Casanova (2005) : 0.7811717221736529\n",
      "     Chase, The (1994) : 0.7779370427630333\n",
      "User number: 2\n",
      "     Last Boy Scout, The (1991) : 0.9185823775684783\n",
      "     Wasabi (2001) : 0.9185823775684783\n",
      "     Another 48 Hrs. (1990) : 0.9185823775684783\n",
      "     Metro (1997) : 0.9185823775684783\n",
      "     Bad Boys (1995) : 0.9185823775684783\n",
      "     Money Train (1995) : 0.9185823775684783\n",
      "     Death Wish (2018) : 0.8962964243679253\n",
      "     Shot Caller (2017) : 0.8962964243679253\n",
      "     The Fate of the Furious (2017) : 0.8962964243679253\n",
      "     I Am Wrath (2016) : 0.8962964243679253\n",
      "     Kidnapping Mr. Heineken (2015) : 0.8962964243679253\n",
      "     Run All Night (2015) : 0.8962964243679253\n",
      "     Wild Card (2015) : 0.8962964243679253\n",
      "     Taken 2 (2012) : 0.8962964243679253\n",
      "     Get the Gringo (2012) : 0.8962964243679253\n",
      "User number: 3\n",
      "     Jurassic World: Fallen Kingdom (2018) : 0.8475677204353537\n",
      "     Jurassic World (2015) : 0.8475677204353537\n",
      "     The Hunger Games (2012) : 0.8475677204353537\n",
      "     Jumper (2008) : 0.8475677204353537\n",
      "     Children of Men (2006) : 0.8475677204353537\n",
      "     Sound of Thunder, A (2005) : 0.8475677204353537\n",
      "     Day After Tomorrow, The (2004) : 0.8475677204353537\n",
      "     War for the Planet of the Apes (2017) : 0.8423195726346616\n",
      "     Okja (2017) : 0.8423195726346616\n",
      "     Battlestar Galactica: The Plan (2009) : 0.8423195726346616\n",
      "     THX 1138 (1971) : 0.8423195726346616\n",
      "     Planet of the Apes (2001) : 0.8423195726346616\n",
      "     Postman, The (1997) : 0.8423195726346616\n",
      "     Aelita: The Queen of Mars (Aelita) (1924) : 0.8186576743959875\n",
      "     Crazies, The (2010) : 0.807207352795575\n",
      "User number: 4\n",
      "     Elsa & Fred (2005) : 0.8851789209471767\n",
      "     Front Cover (2016) : 0.8851789209471767\n",
      "     La La Land (2016) : 0.8851789209471767\n",
      "     Swiss Army Man (2016) : 0.8851789209471767\n",
      "     Café Society (2016) : 0.8851789209471767\n",
      "     All Yours (2016) : 0.8851789209471767\n",
      "     Dil To Pagal Hai (1997) : 0.8851789209471767\n",
      "     Jump In! (2007) : 0.8851789209471767\n",
      "     Da geht noch was! (2013) : 0.8851789209471767\n",
      "     Aloha (2015) : 0.8851789209471767\n",
      "     Afonya (1975) : 0.8851789209471767\n",
      "     5 to 7 (2014) : 0.8851789209471767\n",
      "     Boy Meets Girl (2015) : 0.8851789209471767\n",
      "     Courier (1987) : 0.8851789209471767\n",
      "     You Are the Apple of My Eye (2011) : 0.8851789209471767\n",
      "User number: 5\n",
      "     Osmosis Jones (2001) : 0.8325454150566611\n",
      "     Confessions of a Dangerous Mind (2002) : 0.8152394645841089\n",
      "     Nurse Betty (2000) : 0.8152394645841089\n",
      "     Out of Sight (1998) : 0.8152394645841089\n",
      "     Beat the Devil (1953) : 0.8039166942426629\n",
      "     Focus (2015) : 0.7975322515783874\n",
      "     Did You Hear About the Morgans? (2009) : 0.7975322515783874\n",
      "     Edukators, The (Die Fetten Jahre sind vorbei) (2004) : 0.7975322515783874\n",
      "     Green Butchers, The (Grønne slagtere, De) (2003) : 0.7975322515783874\n",
      "     Band of Outsiders (Bande à part) (1964) : 0.7975322515783874\n",
      "     Stunt Man, The (1980) : 0.795889546947421\n",
      "     Last Boy Scout, The (1991) : 0.792593923901217\n",
      "     Wasabi (2001) : 0.792593923901217\n",
      "     Another 48 Hrs. (1990) : 0.792593923901217\n",
      "     Metro (1997) : 0.792593923901217\n"
     ]
    }
   ],
   "source": [
    "import itertools\n",
    "\n",
    "def findBestForUser(n):\n",
    "    user = data.query(\"userId == {}\".format(n))\n",
    "    user = user.drop(columns=['title', 'userId', 'movieId', 'rating'])\n",
    "    user = np.array(user.mean())\n",
    "    dictionary = {}\n",
    "    print(\"User number: {}\".format(n))\n",
    "    for index, row in df2.iterrows():\n",
    "        film = np.array(df2Helper.loc[index, :])\n",
    "        result = user.dot(film) / (np.linalg.norm(user) * np.linalg.norm(film))\n",
    "        dictionary[df2.loc[index, 'title']] = result\n",
    "\n",
    "    sorted_dict = {}\n",
    "    sorted_keys = sorted(dictionary, key=dictionary.get)\n",
    "    sorted_keys = reversed(sorted_keys)\n",
    "    for w in sorted_keys:\n",
    "        sorted_dict[w] = dictionary[w]\n",
    "\n",
    "    x = itertools.islice(sorted_dict.items(), 0, 15)\n",
    "    for key, value in x:\n",
    "        print(\"     {} : {}\".format(key, value))\n",
    "\n",
    "for i in range(5):\n",
    "    findBestForUser(i + 1)"
   ],
   "metadata": {
    "collapsed": false,
    "pycharm": {
     "name": "#%%\n"
    }
   }
  },
  {
   "cell_type": "markdown",
   "source": [
    "**Testiranje**\n",
    "\n",
    "Testiramo preciznost algoritma na prvih 100 korisnika. Svakom korisniku prepručamo 10 puta više filmova, nego\n",
    "što ima u test_splitu filmova"
   ],
   "metadata": {
    "collapsed": false
   }
  },
  {
   "cell_type": "code",
   "execution_count": 32,
   "outputs": [
    {
     "name": "stdout",
     "output_type": "stream",
     "text": [
      "0.007693784279758737\n"
     ]
    }
   ],
   "source": [
    "from sklearn.model_selection import train_test_split\n",
    "\n",
    "def findBestForUser(n):\n",
    "    user = data.query(\"userId == {} & rating >= 3.5\".format(n))\n",
    "    if(len(user) < 5): return -1\n",
    "    user_train, user_test = train_test_split(user, train_size=0.7, test_size=0.3, random_state=42)\n",
    "\n",
    "    dictionary_train = {}\n",
    "    for index, row in user_train.iterrows():\n",
    "        dictionary_train[row['title']] = 1\n",
    "\n",
    "    user_train = user_train.drop(columns=['title', 'userId', 'movieId', 'rating'])\n",
    "    user_train = np.array(user_train.mean())\n",
    "\n",
    "    dictionary_test = {}\n",
    "    for index, row in user_test.iterrows():\n",
    "        dictionary_test[row['title']] = 1\n",
    "\n",
    "    dictionary = {}\n",
    "    for index, row in df2.iterrows():\n",
    "\n",
    "        film = np.array(df2Helper.loc[index, :])\n",
    "        result = user_train.dot(film) / (np.linalg.norm(user_train) * np.linalg.norm(film))\n",
    "        if(df2.loc[index, 'title'] not in dictionary_train):\n",
    "            dictionary[df2.loc[index, 'title']] = result\n",
    "\n",
    "    sorted_dict = {}\n",
    "    sorted_keys = sorted(dictionary, key=dictionary.get)\n",
    "    sorted_keys = reversed(sorted_keys)\n",
    "    for w in sorted_keys:\n",
    "        sorted_dict[w] = dictionary[w]\n",
    "\n",
    "    x = itertools.islice(sorted_dict.items(), 0, len(user_test) * 10)\n",
    "    precision = 0\n",
    "    for key, value in x:\n",
    "        if(key in dictionary_test):\n",
    "            precision += 1\n",
    "\n",
    "    return (precision / (len(user_test) * 10))\n",
    "\n",
    "precision = 0\n",
    "counter = 0\n",
    "for i in range(100):\n",
    "    tmp = findBestForUser(i + 1)\n",
    "    if(tmp != -1):\n",
    "        precision += tmp\n",
    "        counter += 1\n",
    "\n",
    "print(precision / counter)"
   ],
   "metadata": {
    "collapsed": false,
    "pycharm": {
     "name": "#%%\n"
    }
   }
  },
  {
   "cell_type": "markdown",
   "source": [
    "Postigli smo preciznost od 0.7%."
   ],
   "metadata": {
    "collapsed": false
   }
  },
  {
   "cell_type": "markdown",
   "source": [
    "#### 5) _User-user Collaburative-filterning_\n",
    "\n",
    "Algoritam se zasniva samo na povijesti gledanja korisnika.\n",
    "\n",
    "User-user oblik temelji se na tome da se za korisnika pokuša pronaći što sličniji korisnik i preporuče mu se\n",
    "njegovi pogledani filmovi. Glavni nedostatak algoritma je njegova sporost te stoga smo se ograničili\n",
    "na **ml-lates-small** dateset.\n",
    "\n",
    "Implementirane je metoda sličnosti korisnika -> Pearson\n",
    "\n",
    "Ovaj algoritam ne gradi matricu, već za svakog korisnika nad kojim se traže preporuke filmova algoritam\n",
    "traži slične korisnike i filmove koje su oni ocijenili te ih sprema u listu filmova uz vrijednost sličnosti koja je jednaka\n",
    "umnošku ocjeni filma od te osobe i njihovoj međusovnoj sličnosti.\n",
    "\n"
   ],
   "metadata": {
    "collapsed": false
   }
  },
  {
   "cell_type": "markdown",
   "source": [
    "Metoda za računanje pearson scorea izmežu dvije osobe.\n",
    "\n",
    "\\begin{equation}\n",
    "\\text r (\\bf x,y) =  \\frac{( \\sum xy) - \\frac{(\\sum x)(\\sum y)}{n}}{\\sqrt{ [ \\sum x^{2} -\n",
    "\\frac{(\\sum x)^{2}}{n} ]\\cdot [ \\sum y^{2} - \\frac{(\\sum y)^{2}}{n}]\n",
    " }}\n",
    "\\end{equation}\n",
    "\n",
    "x,y = vektori\n",
    "\n",
    "r = Pearsonova formula"
   ],
   "metadata": {
    "collapsed": false
   }
  },
  {
   "cell_type": "code",
   "execution_count": 35,
   "outputs": [],
   "source": [
    "def pearson_score(person1,person2):\n",
    "\n",
    "    #Dobivanje detalja za korisnike person1 i person2\n",
    "    df_first= ratings.loc[ratings.userId==person1]\n",
    "    df_second= ratings.loc[ratings.userId==person2]\n",
    "\n",
    "    # Dobivanje filmova koje su oba korisnika ocijenili\n",
    "    df= pd.merge(df_first,df_second,how='inner',on='movieId')\n",
    "\n",
    "    # AKo nema zajedničkih filmova nisu slični korisnici\n",
    "    n=len(df)\n",
    "    if n==0: return 0\n",
    "\n",
    "    # Sumiranje svih ocijenjivanja za pojedinog korsinika\n",
    "    sum1=sum(df['rating_x'])\n",
    "    sum2=sum(df['rating_y'])\n",
    "\n",
    "    ##Sumiranje kvadrata ocjene filma za pojedinog korsinika\n",
    "    sum1_square= sum(pow(df['rating_x'],2))\n",
    "    sum2_square= sum(pow(df['rating_y'],2))\n",
    "\n",
    "    # Suma umnožaka\n",
    "    product_sum= sum(df['rating_x']*df['rating_y'])\n",
    "\n",
    "    ## Računanje Pearson Score-a\n",
    "    numerator= product_sum - (sum1*sum2/n)\n",
    "    denominator=sqrt((sum1_square- pow(sum1,2)/n) * (sum2_square - pow(sum2,2)/n))\n",
    "    if denominator==0: return 0\n",
    "\n",
    "    r=numerator/denominator\n",
    "\n",
    "    return r"
   ],
   "metadata": {
    "collapsed": false,
    "pycharm": {
     "name": "#%%\n"
    }
   }
  },
  {
   "cell_type": "markdown",
   "source": [
    "Očekujemo rezultat 1 za poziv funkcije s istim parametrom, korisnikom 1."
   ],
   "metadata": {
    "collapsed": false
   }
  },
  {
   "cell_type": "code",
   "execution_count": 36,
   "outputs": [
    {
     "data": {
      "text/plain": "1.0"
     },
     "execution_count": 36,
     "metadata": {},
     "output_type": "execute_result"
    }
   ],
   "source": [
    "#Očekujemo 1 jer su iste osobe\n",
    "pearson_score(1,1)"
   ],
   "metadata": {
    "collapsed": false,
    "pycharm": {
     "name": "#%%\n"
    }
   }
  },
  {
   "cell_type": "markdown",
   "source": [
    "Metoda koja će vratiti vratiti n najsličnijih osoba osobe koja se zada u parametru."
   ],
   "metadata": {
    "collapsed": false
   }
  },
  {
   "cell_type": "code",
   "execution_count": 37,
   "outputs": [],
   "source": [
    "#Pomoćna metoda koja pronalazi sve ostale osobe\n",
    "def findOthers(personId):\n",
    "    myset = set()\n",
    "    for otherPerson in ratings.loc[ratings['userId']!=personId]['userId'].unique():\n",
    "        myset.add(otherPerson)\n",
    "\n",
    "    return myset"
   ],
   "metadata": {
    "collapsed": false,
    "pycharm": {
     "name": "#%%\n"
    }
   }
  },
  {
   "cell_type": "code",
   "execution_count": 38,
   "outputs": [
    {
     "data": {
      "text/plain": "     userId  similarity\n548     550         1.0\n596     598         1.0\n144     146         1.0\n104     106         1.0\n331     333         1.0",
      "text/html": "<div>\n<style scoped>\n    .dataframe tbody tr th:only-of-type {\n        vertical-align: middle;\n    }\n\n    .dataframe tbody tr th {\n        vertical-align: top;\n    }\n\n    .dataframe thead th {\n        text-align: right;\n    }\n</style>\n<table border=\"1\" class=\"dataframe\">\n  <thead>\n    <tr style=\"text-align: right;\">\n      <th></th>\n      <th>userId</th>\n      <th>similarity</th>\n    </tr>\n  </thead>\n  <tbody>\n    <tr>\n      <th>548</th>\n      <td>550</td>\n      <td>1.0</td>\n    </tr>\n    <tr>\n      <th>596</th>\n      <td>598</td>\n      <td>1.0</td>\n    </tr>\n    <tr>\n      <th>144</th>\n      <td>146</td>\n      <td>1.0</td>\n    </tr>\n    <tr>\n      <th>104</th>\n      <td>106</td>\n      <td>1.0</td>\n    </tr>\n    <tr>\n      <th>331</th>\n      <td>333</td>\n      <td>1.0</td>\n    </tr>\n  </tbody>\n</table>\n</div>"
     },
     "execution_count": 38,
     "metadata": {},
     "output_type": "execute_result"
    }
   ],
   "source": [
    "def topMatches(personId,n=5,similarity=pearson_score):\n",
    "    # scores = []\n",
    "    # for user in findOthers(personId):\n",
    "    #     scores.append((similarity(personId,user),user))\n",
    "    #\n",
    "    # scores.sort(reverse=True)\n",
    "    # return scores[0:n]\n",
    "\n",
    "    frame = {'userId': ratings.loc[ratings['userId']!=personId]['userId'].unique(), 'similarity': 0}\n",
    "    df = pd.DataFrame(frame)\n",
    "    df['similarity'] = df['userId'].apply(lambda x: similarity(x,personId))\n",
    "    df = df.sort_values(by='similarity',ascending=False)\n",
    "\n",
    "    return df.head(n)\n",
    "\n",
    "\n",
    "topMatches(1)"
   ],
   "metadata": {
    "collapsed": false,
    "pycharm": {
     "name": "#%%\n"
    }
   }
  },
  {
   "cell_type": "markdown",
   "source": [
    "Funkcija koja za zadanu osobu traži i vraća imena preporučenih filmova.\n",
    "\n",
    "Preporuke filmova osobi sa id 1 i osobi s id 500."
   ],
   "metadata": {
    "collapsed": false
   }
  },
  {
   "cell_type": "code",
   "execution_count": 39,
   "outputs": [
    {
     "data": {
      "text/plain": "array(['Belle époque (1992)', 'Come and See (Idi i smotri) (1985)',\n       'Rivers and Tides (2001)', 'Gena the Crocodile (1969)',\n       'On the Trail of the Bremen Town Musicians (1973)',\n       'In the blue sea, in the white foam. (1984)',\n       'Bobik Visiting Barbos (1977)', 'Black Mirror',\n       'Loving Vincent (2017)', \"Won't You Be My Neighbor? (2018)\"],\n      dtype=object)"
     },
     "execution_count": 39,
     "metadata": {},
     "output_type": "execute_result"
    },
    {
     "data": {
      "text/plain": "array(['Fugitives (1986)', 'Empties (2007)',\n       'Black Mirror: White Christmas (2014)', 'Obsession (1965)',\n       'Gena the Crocodile (1969)',\n       'On the Trail of the Bremen Town Musicians (1973)',\n       'In the blue sea, in the white foam. (1984)',\n       'Bobik Visiting Barbos (1977)', 'Loving Vincent (2017)',\n       \"Won't You Be My Neighbor? (2018)\"], dtype=object)"
     },
     "execution_count": 39,
     "metadata": {},
     "output_type": "execute_result"
    }
   ],
   "source": [
    "def getRecomendation(personId,n = 10, similarity=pearson_score):\n",
    "\n",
    "    totals,simSums = {},{}\n",
    "\n",
    "    df_person = ratings.loc[ratings.userId==personId]\n",
    "\n",
    "    for otherId in findOthers(personId):\n",
    "        sim = similarity(personId,otherId)\n",
    "        if sim<=0 : continue\n",
    "\n",
    "        df_other = ratings.loc[ratings.userId == otherId]\n",
    "\n",
    "        # Oni filmovi koje user personId nije pogledao\n",
    "        movie = df_other[~df_other.isin(df_person).all(1)]\n",
    "\n",
    "        for (movieid,rating) in (np.array(movie[['movieId','rating']])):\n",
    "            totals.setdefault(movieid,0)\n",
    "            totals[movieid]+=rating*sim\n",
    "\n",
    "            simSums.setdefault(movieid,0)\n",
    "            simSums[movieid]+=sim\n",
    "\n",
    "    ranking = [(t/simSums[item],item) for item,t in totals.items()]\n",
    "\n",
    "    ranking.sort()\n",
    "    ranking.reverse()\n",
    "\n",
    "    recomendedId = np.array([x[1] for x in ranking])[:n]\n",
    "\n",
    "    return np.array(movies[movies['movieId'].isin(recomendedId)]['title'])\n",
    "\n",
    "getRecomendation(1)\n",
    "\n",
    "getRecomendation(500)"
   ],
   "metadata": {
    "collapsed": false,
    "pycharm": {
     "name": "#%%\n"
    }
   }
  },
  {
   "cell_type": "markdown",
   "source": [
    "Collaborative Filtering v_1\n",
    "\n",
    "U ovom pristupu, radimo prema user-user collaborative filteringu. Pronalazimo najsličnijeg korisnika\n",
    "i predlažemo filmove koje je taj korisnik najbolje ocijenio, a da prvi korisnik još nije pogledao.\n"
   ],
   "metadata": {
    "collapsed": false
   }
  },
  {
   "cell_type": "code",
   "execution_count": 2,
   "outputs": [
    {
     "data": {
      "text/plain": "Empty DataFrame\nColumns: [1, 2, 3, 4, 5, 6, 7, 8, 9, 10, 11, 12, 13, 14, 15, 16, 17, 18, 19, 20, 21, 22, 23, 24, 25, 26, 27, 28, 29, 30, 31, 32, 34, 36, 38, 39, 40, 41, 42, 43, 44, 45, 46, 47, 48, 49, 50, 52, 53, 54, 55, 57, 58, 60, 61, 62, 63, 64, 65, 66, 68, 69, 70, 71, 72, 73, 74, 75, 76, 77, 78, 79, 80, 81, 82, 83, 85, 86, 87, 88, 89, 92, 93, 94, 95, 96, 97, 99, 100, 101, 102, 103, 104, 105, 106, 107, 108, 110, 111, 112, ...]\nIndex: []\n\n[0 rows x 9742 columns]",
      "text/html": "<div>\n<style scoped>\n    .dataframe tbody tr th:only-of-type {\n        vertical-align: middle;\n    }\n\n    .dataframe tbody tr th {\n        vertical-align: top;\n    }\n\n    .dataframe thead th {\n        text-align: right;\n    }\n</style>\n<table border=\"1\" class=\"dataframe\">\n  <thead>\n    <tr style=\"text-align: right;\">\n      <th>movieId</th>\n      <th>1</th>\n      <th>2</th>\n      <th>3</th>\n      <th>4</th>\n      <th>5</th>\n      <th>6</th>\n      <th>7</th>\n      <th>8</th>\n      <th>9</th>\n      <th>10</th>\n      <th>...</th>\n      <th>193565</th>\n      <th>193567</th>\n      <th>193571</th>\n      <th>193573</th>\n      <th>193579</th>\n      <th>193581</th>\n      <th>193583</th>\n      <th>193585</th>\n      <th>193587</th>\n      <th>193609</th>\n    </tr>\n  </thead>\n  <tbody>\n  </tbody>\n</table>\n<p>0 rows × 9742 columns</p>\n</div>"
     },
     "execution_count": 2,
     "metadata": {},
     "output_type": "execute_result"
    }
   ],
   "source": [
    "import pandas as pd\n",
    "import numpy as np\n",
    "\n",
    "ratings = pd.read_csv(\"ml-latest-small/ratings.csv\")\n",
    "movies = pd.read_csv(\"ml-latest-small/movies.csv\")\n",
    "\n",
    "df = pd.DataFrame(columns=movies.loc[:, 'movieId'])\n",
    "df"
   ],
   "metadata": {
    "collapsed": false,
    "pycharm": {
     "name": "#%%\n"
    }
   }
  },
  {
   "cell_type": "markdown",
   "source": [
    "Df će nam na kraju postupka biti user-item matrica. Uvidom u csv file vidimo da ima 600 korisnika pa hardkodiramo\n",
    "tu vrijednost."
   ],
   "metadata": {
    "collapsed": false
   }
  },
  {
   "cell_type": "code",
   "execution_count": 3,
   "outputs": [
    {
     "data": {
      "text/plain": "movieId 1      2      3      4      5      6      7      8      9      10      \\\n1            4    NaN      4    NaN    NaN      4    NaN    NaN    NaN    NaN   \n2          NaN    NaN    NaN    NaN    NaN    NaN    NaN    NaN    NaN    NaN   \n3          NaN    NaN    NaN    NaN    NaN    NaN    NaN    NaN    NaN    NaN   \n4          NaN    NaN    NaN    NaN    NaN    NaN    NaN    NaN    NaN    NaN   \n5            4    NaN    NaN    NaN    NaN    NaN    NaN    NaN    NaN    NaN   \n..         ...    ...    ...    ...    ...    ...    ...    ...    ...    ...   \n596          4    NaN    NaN    NaN    NaN    NaN    NaN    NaN    NaN    NaN   \n597          4    NaN    NaN    NaN    NaN      3      1    NaN    NaN      3   \n598        NaN    NaN    NaN    NaN    NaN    NaN    NaN    NaN    NaN    NaN   \n599          3    2.5    1.5    NaN    NaN    4.5    2.5    NaN    1.5    3.5   \n600        2.5      4    NaN    1.5    2.5    NaN    3.5    NaN    NaN    NaN   \n\nmovieId  ... 193565 193567 193571 193573 193579 193581 193583 193585 193587  \\\n1        ...    NaN    NaN    NaN    NaN    NaN    NaN    NaN    NaN    NaN   \n2        ...    NaN    NaN    NaN    NaN    NaN    NaN    NaN    NaN    NaN   \n3        ...    NaN    NaN    NaN    NaN    NaN    NaN    NaN    NaN    NaN   \n4        ...    NaN    NaN    NaN    NaN    NaN    NaN    NaN    NaN    NaN   \n5        ...    NaN    NaN    NaN    NaN    NaN    NaN    NaN    NaN    NaN   \n..       ...    ...    ...    ...    ...    ...    ...    ...    ...    ...   \n596      ...    NaN    NaN    NaN    NaN    NaN    NaN    NaN    NaN    NaN   \n597      ...    NaN    NaN    NaN    NaN    NaN    NaN    NaN    NaN    NaN   \n598      ...    NaN    NaN    NaN    NaN    NaN    NaN    NaN    NaN    NaN   \n599      ...    NaN    NaN    NaN    NaN    NaN    NaN    NaN    NaN    NaN   \n600      ...    NaN    NaN    NaN    NaN    NaN    NaN    NaN    NaN    NaN   \n\nmovieId 193609  \n1          NaN  \n2          NaN  \n3          NaN  \n4          NaN  \n5          NaN  \n..         ...  \n596        NaN  \n597        NaN  \n598        NaN  \n599        NaN  \n600        NaN  \n\n[600 rows x 9742 columns]",
      "text/html": "<div>\n<style scoped>\n    .dataframe tbody tr th:only-of-type {\n        vertical-align: middle;\n    }\n\n    .dataframe tbody tr th {\n        vertical-align: top;\n    }\n\n    .dataframe thead th {\n        text-align: right;\n    }\n</style>\n<table border=\"1\" class=\"dataframe\">\n  <thead>\n    <tr style=\"text-align: right;\">\n      <th>movieId</th>\n      <th>1</th>\n      <th>2</th>\n      <th>3</th>\n      <th>4</th>\n      <th>5</th>\n      <th>6</th>\n      <th>7</th>\n      <th>8</th>\n      <th>9</th>\n      <th>10</th>\n      <th>...</th>\n      <th>193565</th>\n      <th>193567</th>\n      <th>193571</th>\n      <th>193573</th>\n      <th>193579</th>\n      <th>193581</th>\n      <th>193583</th>\n      <th>193585</th>\n      <th>193587</th>\n      <th>193609</th>\n    </tr>\n  </thead>\n  <tbody>\n    <tr>\n      <th>1</th>\n      <td>4</td>\n      <td>NaN</td>\n      <td>4</td>\n      <td>NaN</td>\n      <td>NaN</td>\n      <td>4</td>\n      <td>NaN</td>\n      <td>NaN</td>\n      <td>NaN</td>\n      <td>NaN</td>\n      <td>...</td>\n      <td>NaN</td>\n      <td>NaN</td>\n      <td>NaN</td>\n      <td>NaN</td>\n      <td>NaN</td>\n      <td>NaN</td>\n      <td>NaN</td>\n      <td>NaN</td>\n      <td>NaN</td>\n      <td>NaN</td>\n    </tr>\n    <tr>\n      <th>2</th>\n      <td>NaN</td>\n      <td>NaN</td>\n      <td>NaN</td>\n      <td>NaN</td>\n      <td>NaN</td>\n      <td>NaN</td>\n      <td>NaN</td>\n      <td>NaN</td>\n      <td>NaN</td>\n      <td>NaN</td>\n      <td>...</td>\n      <td>NaN</td>\n      <td>NaN</td>\n      <td>NaN</td>\n      <td>NaN</td>\n      <td>NaN</td>\n      <td>NaN</td>\n      <td>NaN</td>\n      <td>NaN</td>\n      <td>NaN</td>\n      <td>NaN</td>\n    </tr>\n    <tr>\n      <th>3</th>\n      <td>NaN</td>\n      <td>NaN</td>\n      <td>NaN</td>\n      <td>NaN</td>\n      <td>NaN</td>\n      <td>NaN</td>\n      <td>NaN</td>\n      <td>NaN</td>\n      <td>NaN</td>\n      <td>NaN</td>\n      <td>...</td>\n      <td>NaN</td>\n      <td>NaN</td>\n      <td>NaN</td>\n      <td>NaN</td>\n      <td>NaN</td>\n      <td>NaN</td>\n      <td>NaN</td>\n      <td>NaN</td>\n      <td>NaN</td>\n      <td>NaN</td>\n    </tr>\n    <tr>\n      <th>4</th>\n      <td>NaN</td>\n      <td>NaN</td>\n      <td>NaN</td>\n      <td>NaN</td>\n      <td>NaN</td>\n      <td>NaN</td>\n      <td>NaN</td>\n      <td>NaN</td>\n      <td>NaN</td>\n      <td>NaN</td>\n      <td>...</td>\n      <td>NaN</td>\n      <td>NaN</td>\n      <td>NaN</td>\n      <td>NaN</td>\n      <td>NaN</td>\n      <td>NaN</td>\n      <td>NaN</td>\n      <td>NaN</td>\n      <td>NaN</td>\n      <td>NaN</td>\n    </tr>\n    <tr>\n      <th>5</th>\n      <td>4</td>\n      <td>NaN</td>\n      <td>NaN</td>\n      <td>NaN</td>\n      <td>NaN</td>\n      <td>NaN</td>\n      <td>NaN</td>\n      <td>NaN</td>\n      <td>NaN</td>\n      <td>NaN</td>\n      <td>...</td>\n      <td>NaN</td>\n      <td>NaN</td>\n      <td>NaN</td>\n      <td>NaN</td>\n      <td>NaN</td>\n      <td>NaN</td>\n      <td>NaN</td>\n      <td>NaN</td>\n      <td>NaN</td>\n      <td>NaN</td>\n    </tr>\n    <tr>\n      <th>...</th>\n      <td>...</td>\n      <td>...</td>\n      <td>...</td>\n      <td>...</td>\n      <td>...</td>\n      <td>...</td>\n      <td>...</td>\n      <td>...</td>\n      <td>...</td>\n      <td>...</td>\n      <td>...</td>\n      <td>...</td>\n      <td>...</td>\n      <td>...</td>\n      <td>...</td>\n      <td>...</td>\n      <td>...</td>\n      <td>...</td>\n      <td>...</td>\n      <td>...</td>\n      <td>...</td>\n    </tr>\n    <tr>\n      <th>596</th>\n      <td>4</td>\n      <td>NaN</td>\n      <td>NaN</td>\n      <td>NaN</td>\n      <td>NaN</td>\n      <td>NaN</td>\n      <td>NaN</td>\n      <td>NaN</td>\n      <td>NaN</td>\n      <td>NaN</td>\n      <td>...</td>\n      <td>NaN</td>\n      <td>NaN</td>\n      <td>NaN</td>\n      <td>NaN</td>\n      <td>NaN</td>\n      <td>NaN</td>\n      <td>NaN</td>\n      <td>NaN</td>\n      <td>NaN</td>\n      <td>NaN</td>\n    </tr>\n    <tr>\n      <th>597</th>\n      <td>4</td>\n      <td>NaN</td>\n      <td>NaN</td>\n      <td>NaN</td>\n      <td>NaN</td>\n      <td>3</td>\n      <td>1</td>\n      <td>NaN</td>\n      <td>NaN</td>\n      <td>3</td>\n      <td>...</td>\n      <td>NaN</td>\n      <td>NaN</td>\n      <td>NaN</td>\n      <td>NaN</td>\n      <td>NaN</td>\n      <td>NaN</td>\n      <td>NaN</td>\n      <td>NaN</td>\n      <td>NaN</td>\n      <td>NaN</td>\n    </tr>\n    <tr>\n      <th>598</th>\n      <td>NaN</td>\n      <td>NaN</td>\n      <td>NaN</td>\n      <td>NaN</td>\n      <td>NaN</td>\n      <td>NaN</td>\n      <td>NaN</td>\n      <td>NaN</td>\n      <td>NaN</td>\n      <td>NaN</td>\n      <td>...</td>\n      <td>NaN</td>\n      <td>NaN</td>\n      <td>NaN</td>\n      <td>NaN</td>\n      <td>NaN</td>\n      <td>NaN</td>\n      <td>NaN</td>\n      <td>NaN</td>\n      <td>NaN</td>\n      <td>NaN</td>\n    </tr>\n    <tr>\n      <th>599</th>\n      <td>3</td>\n      <td>2.5</td>\n      <td>1.5</td>\n      <td>NaN</td>\n      <td>NaN</td>\n      <td>4.5</td>\n      <td>2.5</td>\n      <td>NaN</td>\n      <td>1.5</td>\n      <td>3.5</td>\n      <td>...</td>\n      <td>NaN</td>\n      <td>NaN</td>\n      <td>NaN</td>\n      <td>NaN</td>\n      <td>NaN</td>\n      <td>NaN</td>\n      <td>NaN</td>\n      <td>NaN</td>\n      <td>NaN</td>\n      <td>NaN</td>\n    </tr>\n    <tr>\n      <th>600</th>\n      <td>2.5</td>\n      <td>4</td>\n      <td>NaN</td>\n      <td>1.5</td>\n      <td>2.5</td>\n      <td>NaN</td>\n      <td>3.5</td>\n      <td>NaN</td>\n      <td>NaN</td>\n      <td>NaN</td>\n      <td>...</td>\n      <td>NaN</td>\n      <td>NaN</td>\n      <td>NaN</td>\n      <td>NaN</td>\n      <td>NaN</td>\n      <td>NaN</td>\n      <td>NaN</td>\n      <td>NaN</td>\n      <td>NaN</td>\n      <td>NaN</td>\n    </tr>\n  </tbody>\n</table>\n<p>600 rows × 9742 columns</p>\n</div>"
     },
     "execution_count": 3,
     "metadata": {},
     "output_type": "execute_result"
    }
   ],
   "source": [
    "#Making user-item matrix\n",
    "for index in range(600):\n",
    "    userRating = ratings.query(\"userId == {}\".format(index + 1))\n",
    "    for ind, r in userRating.iterrows():\n",
    "        df.loc[index + 1, r['movieId']] = r['rating']\n",
    "\n",
    "df"
   ],
   "metadata": {
    "collapsed": false,
    "pycharm": {
     "name": "#%%\n"
    }
   }
  },
  {
   "cell_type": "markdown",
   "source": [
    "Problem u ovom pristupu je što imamo veliki broj NaN vrijednosti.\n",
    "Zato ćemo centrirati ocjene filmova koje je jedan korisnik dao tako da srednja vrijednost ocjene uvijek bude 0.\n",
    "Tako možemo neutralno za NaN vrijednosti postaviti nule i nećemo povećati 'bias effect'."
   ],
   "metadata": {
    "collapsed": false
   }
  },
  {
   "cell_type": "code",
   "execution_count": 4,
   "outputs": [
    {
     "data": {
      "text/plain": "movieId    1         2         3         4         5         6         7       \\\n1       -0.366379  0.000000 -0.366379  0.000000  0.000000 -0.366379  0.000000   \n2        0.000000  0.000000  0.000000  0.000000  0.000000  0.000000  0.000000   \n3        0.000000  0.000000  0.000000  0.000000  0.000000  0.000000  0.000000   \n4        0.000000  0.000000  0.000000  0.000000  0.000000  0.000000  0.000000   \n5        0.363636  0.000000  0.000000  0.000000  0.000000  0.000000  0.000000   \n..            ...       ...       ...       ...       ...       ...       ...   \n596      0.504866  0.000000  0.000000  0.000000  0.000000  0.000000  0.000000   \n597      0.022573  0.000000  0.000000  0.000000  0.000000 -0.977427 -2.977427   \n598      0.000000  0.000000  0.000000  0.000000  0.000000  0.000000  0.000000   \n599      0.357950 -0.142050 -1.142050  0.000000  0.000000  1.857950 -0.142050   \n600     -0.491481  1.008519  0.000000 -1.491481 -0.491481  0.000000  0.508519   \n\nmovieId  8        9         10      ...  193565  193567  193571  193573  \\\n1           0.0  0.00000  0.000000  ...     0.0     0.0     0.0     0.0   \n2           0.0  0.00000  0.000000  ...     0.0     0.0     0.0     0.0   \n3           0.0  0.00000  0.000000  ...     0.0     0.0     0.0     0.0   \n4           0.0  0.00000  0.000000  ...     0.0     0.0     0.0     0.0   \n5           0.0  0.00000  0.000000  ...     0.0     0.0     0.0     0.0   \n..          ...      ...       ...  ...     ...     ...     ...     ...   \n596         0.0  0.00000  0.000000  ...     0.0     0.0     0.0     0.0   \n597         0.0  0.00000 -0.977427  ...     0.0     0.0     0.0     0.0   \n598         0.0  0.00000  0.000000  ...     0.0     0.0     0.0     0.0   \n599         0.0 -1.14205  0.857950  ...     0.0     0.0     0.0     0.0   \n600         0.0  0.00000  0.000000  ...     0.0     0.0     0.0     0.0   \n\nmovieId  193579  193581  193583  193585  193587  193609  \n1           0.0     0.0     0.0     0.0     0.0     0.0  \n2           0.0     0.0     0.0     0.0     0.0     0.0  \n3           0.0     0.0     0.0     0.0     0.0     0.0  \n4           0.0     0.0     0.0     0.0     0.0     0.0  \n5           0.0     0.0     0.0     0.0     0.0     0.0  \n..          ...     ...     ...     ...     ...     ...  \n596         0.0     0.0     0.0     0.0     0.0     0.0  \n597         0.0     0.0     0.0     0.0     0.0     0.0  \n598         0.0     0.0     0.0     0.0     0.0     0.0  \n599         0.0     0.0     0.0     0.0     0.0     0.0  \n600         0.0     0.0     0.0     0.0     0.0     0.0  \n\n[600 rows x 9742 columns]",
      "text/html": "<div>\n<style scoped>\n    .dataframe tbody tr th:only-of-type {\n        vertical-align: middle;\n    }\n\n    .dataframe tbody tr th {\n        vertical-align: top;\n    }\n\n    .dataframe thead th {\n        text-align: right;\n    }\n</style>\n<table border=\"1\" class=\"dataframe\">\n  <thead>\n    <tr style=\"text-align: right;\">\n      <th>movieId</th>\n      <th>1</th>\n      <th>2</th>\n      <th>3</th>\n      <th>4</th>\n      <th>5</th>\n      <th>6</th>\n      <th>7</th>\n      <th>8</th>\n      <th>9</th>\n      <th>10</th>\n      <th>...</th>\n      <th>193565</th>\n      <th>193567</th>\n      <th>193571</th>\n      <th>193573</th>\n      <th>193579</th>\n      <th>193581</th>\n      <th>193583</th>\n      <th>193585</th>\n      <th>193587</th>\n      <th>193609</th>\n    </tr>\n  </thead>\n  <tbody>\n    <tr>\n      <th>1</th>\n      <td>-0.366379</td>\n      <td>0.000000</td>\n      <td>-0.366379</td>\n      <td>0.000000</td>\n      <td>0.000000</td>\n      <td>-0.366379</td>\n      <td>0.000000</td>\n      <td>0.0</td>\n      <td>0.00000</td>\n      <td>0.000000</td>\n      <td>...</td>\n      <td>0.0</td>\n      <td>0.0</td>\n      <td>0.0</td>\n      <td>0.0</td>\n      <td>0.0</td>\n      <td>0.0</td>\n      <td>0.0</td>\n      <td>0.0</td>\n      <td>0.0</td>\n      <td>0.0</td>\n    </tr>\n    <tr>\n      <th>2</th>\n      <td>0.000000</td>\n      <td>0.000000</td>\n      <td>0.000000</td>\n      <td>0.000000</td>\n      <td>0.000000</td>\n      <td>0.000000</td>\n      <td>0.000000</td>\n      <td>0.0</td>\n      <td>0.00000</td>\n      <td>0.000000</td>\n      <td>...</td>\n      <td>0.0</td>\n      <td>0.0</td>\n      <td>0.0</td>\n      <td>0.0</td>\n      <td>0.0</td>\n      <td>0.0</td>\n      <td>0.0</td>\n      <td>0.0</td>\n      <td>0.0</td>\n      <td>0.0</td>\n    </tr>\n    <tr>\n      <th>3</th>\n      <td>0.000000</td>\n      <td>0.000000</td>\n      <td>0.000000</td>\n      <td>0.000000</td>\n      <td>0.000000</td>\n      <td>0.000000</td>\n      <td>0.000000</td>\n      <td>0.0</td>\n      <td>0.00000</td>\n      <td>0.000000</td>\n      <td>...</td>\n      <td>0.0</td>\n      <td>0.0</td>\n      <td>0.0</td>\n      <td>0.0</td>\n      <td>0.0</td>\n      <td>0.0</td>\n      <td>0.0</td>\n      <td>0.0</td>\n      <td>0.0</td>\n      <td>0.0</td>\n    </tr>\n    <tr>\n      <th>4</th>\n      <td>0.000000</td>\n      <td>0.000000</td>\n      <td>0.000000</td>\n      <td>0.000000</td>\n      <td>0.000000</td>\n      <td>0.000000</td>\n      <td>0.000000</td>\n      <td>0.0</td>\n      <td>0.00000</td>\n      <td>0.000000</td>\n      <td>...</td>\n      <td>0.0</td>\n      <td>0.0</td>\n      <td>0.0</td>\n      <td>0.0</td>\n      <td>0.0</td>\n      <td>0.0</td>\n      <td>0.0</td>\n      <td>0.0</td>\n      <td>0.0</td>\n      <td>0.0</td>\n    </tr>\n    <tr>\n      <th>5</th>\n      <td>0.363636</td>\n      <td>0.000000</td>\n      <td>0.000000</td>\n      <td>0.000000</td>\n      <td>0.000000</td>\n      <td>0.000000</td>\n      <td>0.000000</td>\n      <td>0.0</td>\n      <td>0.00000</td>\n      <td>0.000000</td>\n      <td>...</td>\n      <td>0.0</td>\n      <td>0.0</td>\n      <td>0.0</td>\n      <td>0.0</td>\n      <td>0.0</td>\n      <td>0.0</td>\n      <td>0.0</td>\n      <td>0.0</td>\n      <td>0.0</td>\n      <td>0.0</td>\n    </tr>\n    <tr>\n      <th>...</th>\n      <td>...</td>\n      <td>...</td>\n      <td>...</td>\n      <td>...</td>\n      <td>...</td>\n      <td>...</td>\n      <td>...</td>\n      <td>...</td>\n      <td>...</td>\n      <td>...</td>\n      <td>...</td>\n      <td>...</td>\n      <td>...</td>\n      <td>...</td>\n      <td>...</td>\n      <td>...</td>\n      <td>...</td>\n      <td>...</td>\n      <td>...</td>\n      <td>...</td>\n      <td>...</td>\n    </tr>\n    <tr>\n      <th>596</th>\n      <td>0.504866</td>\n      <td>0.000000</td>\n      <td>0.000000</td>\n      <td>0.000000</td>\n      <td>0.000000</td>\n      <td>0.000000</td>\n      <td>0.000000</td>\n      <td>0.0</td>\n      <td>0.00000</td>\n      <td>0.000000</td>\n      <td>...</td>\n      <td>0.0</td>\n      <td>0.0</td>\n      <td>0.0</td>\n      <td>0.0</td>\n      <td>0.0</td>\n      <td>0.0</td>\n      <td>0.0</td>\n      <td>0.0</td>\n      <td>0.0</td>\n      <td>0.0</td>\n    </tr>\n    <tr>\n      <th>597</th>\n      <td>0.022573</td>\n      <td>0.000000</td>\n      <td>0.000000</td>\n      <td>0.000000</td>\n      <td>0.000000</td>\n      <td>-0.977427</td>\n      <td>-2.977427</td>\n      <td>0.0</td>\n      <td>0.00000</td>\n      <td>-0.977427</td>\n      <td>...</td>\n      <td>0.0</td>\n      <td>0.0</td>\n      <td>0.0</td>\n      <td>0.0</td>\n      <td>0.0</td>\n      <td>0.0</td>\n      <td>0.0</td>\n      <td>0.0</td>\n      <td>0.0</td>\n      <td>0.0</td>\n    </tr>\n    <tr>\n      <th>598</th>\n      <td>0.000000</td>\n      <td>0.000000</td>\n      <td>0.000000</td>\n      <td>0.000000</td>\n      <td>0.000000</td>\n      <td>0.000000</td>\n      <td>0.000000</td>\n      <td>0.0</td>\n      <td>0.00000</td>\n      <td>0.000000</td>\n      <td>...</td>\n      <td>0.0</td>\n      <td>0.0</td>\n      <td>0.0</td>\n      <td>0.0</td>\n      <td>0.0</td>\n      <td>0.0</td>\n      <td>0.0</td>\n      <td>0.0</td>\n      <td>0.0</td>\n      <td>0.0</td>\n    </tr>\n    <tr>\n      <th>599</th>\n      <td>0.357950</td>\n      <td>-0.142050</td>\n      <td>-1.142050</td>\n      <td>0.000000</td>\n      <td>0.000000</td>\n      <td>1.857950</td>\n      <td>-0.142050</td>\n      <td>0.0</td>\n      <td>-1.14205</td>\n      <td>0.857950</td>\n      <td>...</td>\n      <td>0.0</td>\n      <td>0.0</td>\n      <td>0.0</td>\n      <td>0.0</td>\n      <td>0.0</td>\n      <td>0.0</td>\n      <td>0.0</td>\n      <td>0.0</td>\n      <td>0.0</td>\n      <td>0.0</td>\n    </tr>\n    <tr>\n      <th>600</th>\n      <td>-0.491481</td>\n      <td>1.008519</td>\n      <td>0.000000</td>\n      <td>-1.491481</td>\n      <td>-0.491481</td>\n      <td>0.000000</td>\n      <td>0.508519</td>\n      <td>0.0</td>\n      <td>0.00000</td>\n      <td>0.000000</td>\n      <td>...</td>\n      <td>0.0</td>\n      <td>0.0</td>\n      <td>0.0</td>\n      <td>0.0</td>\n      <td>0.0</td>\n      <td>0.0</td>\n      <td>0.0</td>\n      <td>0.0</td>\n      <td>0.0</td>\n      <td>0.0</td>\n    </tr>\n  </tbody>\n</table>\n<p>600 rows × 9742 columns</p>\n</div>"
     },
     "execution_count": 4,
     "metadata": {},
     "output_type": "execute_result"
    }
   ],
   "source": [
    "df = pd.DataFrame(columns=movies.loc[:, 'movieId'])\n",
    "# Making user-item matrix\n",
    "for index in range(600):\n",
    "    userRating = ratings.query(\"userId == {}\".format(index + 1))\n",
    "    mean = userRating['rating'].mean()\n",
    "    for ind, r in userRating.iterrows():\n",
    "        df.loc[index + 1, r['movieId']] = r['rating'] - mean\n",
    "\n",
    "df = df.fillna(0)\n",
    "df"
   ],
   "metadata": {
    "collapsed": false,
    "pycharm": {
     "name": "#%%\n"
    }
   }
  },
  {
   "cell_type": "code",
   "execution_count": 5,
   "outputs": [
    {
     "name": "stdout",
     "output_type": "stream",
     "text": [
      "694    Casablanca (1942)\n",
      "Name: title, dtype: object\n",
      "602    Dr. Strangelove or: How I Learned to Stop Worr...\n",
      "Name: title, dtype: object\n",
      "913    Third Man, The (1949)\n",
      "Name: title, dtype: object\n",
      "5695    Old Boy (2003)\n",
      "Name: title, dtype: object\n",
      "685    Vertigo (1958)\n",
      "Name: title, dtype: object\n",
      "951    Chinatown (1974)\n",
      "Name: title, dtype: object\n",
      "4769    Nausicaä of the Valley of the Wind (Kaze no ta...\n",
      "Name: title, dtype: object\n",
      "3544    Mulholland Drive (2001)\n",
      "Name: title, dtype: object\n",
      "2789    Conversation, The (1974)\n",
      "Name: title, dtype: object\n",
      "930    Annie Hall (1977)\n",
      "Name: title, dtype: object\n",
      "937    Seventh Seal, The (Sjunde inseglet, Det) (1957)\n",
      "Name: title, dtype: object\n",
      "706    2001: A Space Odyssey (1968)\n",
      "Name: title, dtype: object\n",
      "962    Deer Hunter, The (1978)\n",
      "Name: title, dtype: object\n",
      "3167    Scarface (1983)\n",
      "Name: title, dtype: object\n",
      "1422    On the Waterfront (1954)\n",
      "Name: title, dtype: object\n",
      "596    Ghost in the Shell (Kôkaku kidôtai) (1995)\n",
      "Name: title, dtype: object\n",
      "2619    Network (1976)\n",
      "Name: title, dtype: object\n"
     ]
    }
   ],
   "source": [
    "from sklearn.metrics.pairwise import cosine_similarity\n",
    "\n",
    "def findBestFitUserAndRecommend(n):\n",
    "    user = np.array(df.loc[n, :])\n",
    "    user = np.array([user])\n",
    "    max = 0\n",
    "    userBestId = 0\n",
    "    for i in range(600):\n",
    "        if((i + 1) == n):\n",
    "            continue\n",
    "        secondUser = np.array(df.loc[i + 1, :])\n",
    "        secondUser = np.array([secondUser])\n",
    "        result = cosine_similarity(user, secondUser)\n",
    "        if(result > max):\n",
    "            max = result\n",
    "            userBestId = i + 1\n",
    "\n",
    "    bestFit = ratings.query(\"userId == {}\".format(userBestId))\n",
    "\n",
    "    bestFit = bestFit.sort_values('rating', ascending=False)\n",
    "\n",
    "    for index, row in bestFit.head(20).iterrows():\n",
    "        movie = ratings.query(\"userId == 1 & movieId == {}\".format(row['movieId']))\n",
    "        # Ako korisnik nije pogledao film\n",
    "        if (len(movie) == 0):\n",
    "            print(movies.query(\"movieId == {}\".format(row['movieId'])).loc[:, 'title'])\n",
    "\n",
    "\n",
    "findBestFitUserAndRecommend(50)"
   ],
   "metadata": {
    "collapsed": false,
    "pycharm": {
     "name": "#%%\n"
    }
   }
  },
  {
   "cell_type": "markdown",
   "source": [
    "Testiramo user-user collaborative filtering algoritam. Testiramo tako da za korisnika, odvojimo dio filmova koje je\n",
    "pogledao(test split) i probamo pretpostaviti koju je ocjenu dao filmu. U user-item matrici, za svaki film iz\n",
    "test splita, tražimo korisnike iz user-item matrice koji su pogledali film i koji su najsličniji našem korisniku\n",
    "po cosine similarityu. Uzimamo prosjek ocjena od 4 najsličnija korisnika koji smo dobili ovim postupkom. Potom\n",
    "računamo grešku pomoću RMSEa. Algoritam troši puno procerskog vremena i jako je spor pa smo računali grešku samo\n",
    "za prvih 20 korisnika."
   ],
   "metadata": {
    "collapsed": false
   }
  },
  {
   "cell_type": "code",
   "source": [
    "import pandas as pd\n",
    "import numpy as np\n",
    "from sklearn.metrics.pairwise import cosine_similarity\n",
    "from sklearn.model_selection import train_test_split\n",
    "from sklearn.metrics import mean_squared_error\n",
    "import itertools\n",
    "\n",
    "ratings = pd.read_csv(\"ml-latest-small/ratings.csv\")\n",
    "movies = pd.read_csv(\"ml-latest-small/movies.csv\")\n",
    "\n",
    "\n",
    "def testingForUser(n):\n",
    "    # Makes dataframe, train test splits\n",
    "    df = pd.DataFrame(columns=movies.loc[:, 'movieId'])\n",
    "    userRating = ratings.query(\"userId == {}\".format(n))\n",
    "    user_train, user_test = train_test_split(userRating, test_size=0.3, random_state=42)\n",
    "    mean_train = user_train['rating'].mean()\n",
    "\n",
    "    # Defines user vector\n",
    "    for ind, r in user_train.iterrows():\n",
    "        df.loc[n, r['movieId']] = r['rating'] - mean_train\n",
    "\n",
    "    # Defines user vector\n",
    "    for index in range(600):\n",
    "        if((index + 1) == n): continue\n",
    "        otherRating = ratings.query(\"userId == {}\".format(index + 1))\n",
    "        mean = otherRating['rating'].mean()\n",
    "        for ind, r in otherRating.iterrows():\n",
    "            df.loc[index + 1, r['movieId']] = r['rating'] - mean\n",
    "    data = df.fillna(0)\n",
    "\n",
    "    user_train = np.array(data.loc[n, :])\n",
    "    user_train = np.array([user_train])\n",
    "\n",
    "    # Array for final user ratings for RMSE\n",
    "    user_test_ratings = []\n",
    "    # Array for final user ratings for RMSE\n",
    "    other_user_ratings = []\n",
    "    # Dictionary for defining movies that other users and our searching user watched\n",
    "    dictionary_other_user_watched = {}\n",
    "    for ind, r in user_test.iterrows():\n",
    "        dictionary = {}\n",
    "        # If user watched movie, calculates cosine similarity and puts in dictionary\n",
    "        for index in range(600):\n",
    "             if(data.loc[index + 1, r['movieId']] == 0): continue\n",
    "             otherRating = np.array(data.loc[index + 1, :])\n",
    "             otherRating = np.array([otherRating])\n",
    "\n",
    "             result = cosine_similarity(user_train, otherRating)\n",
    "             dictionary[index + 1] = result\n",
    "\n",
    "        # Sorted dictionary to find user with best cosinesimilarity score\n",
    "        sorted_dict = {}\n",
    "        sorted_keys = sorted(dictionary, key=dictionary.get)\n",
    "        sorted_keys = reversed(sorted_keys)\n",
    "        for w in sorted_keys:\n",
    "            sorted_dict[w] = dictionary[w]\n",
    "\n",
    "        # Takes user with best cosine similarity score and takes his rating of movie\n",
    "        x = itertools.islice(sorted_dict.items(), 0, 4)\n",
    "        combine_score = 0\n",
    "        for key, value in x:\n",
    "            tmp = []\n",
    "            tmp.append(ratings.query(\"userId == {} & movieId == {}\".format(key, r['movieId'])))\n",
    "            combine_score += tmp[0].values[0, 2]\n",
    "\n",
    "        dictionary_other_user_watched[r['movieId']] = combine_score / 4\n",
    "\n",
    "\n",
    "    #Fills test arrays with values\n",
    "    for key, value in dictionary_other_user_watched.items():\n",
    "        # index 0 user ID, index 1 movieId, index 3 rating\n",
    "        other_user_ratings.append(value)\n",
    "        user_test_ratings.append(user_test.query(\"movieId == {}\".format(key))['rating'])\n",
    "\n",
    "    return (mean_squared_error(user_test_ratings, other_user_ratings) ** 0.5)\n",
    "\n",
    "\n",
    "average = 0\n",
    "for i in range(20):\n",
    "    tmp = testingForUser(i + 1)\n",
    "    average += tmp\n",
    "    print(tmp)\n",
    "\n",
    "print(average / 20)\n"
   ],
   "metadata": {
    "collapsed": false,
    "pycharm": {
     "name": "#%%\n"
    }
   },
   "execution_count": 6,
   "outputs": [
    {
     "name": "stdout",
     "output_type": "stream",
     "text": [
      "1.3442171115028787\n",
      "1.1539485353438526\n",
      "3.1932138330110833\n",
      "1.4367263804593038\n",
      "0.9437293044088437\n",
      "1.2810614431215357\n",
      "1.2943228882819136\n",
      "1.1236102527122116\n",
      "1.1436938901147082\n",
      "1.7962634828999893\n",
      "1.2051322541530451\n",
      "0.9690523721657153\n",
      "0.6543126164151201\n",
      "0.8684276980075352\n",
      "1.2355876453203523\n",
      "0.7977833874764085\n",
      "0.6778441238588707\n",
      "1.0726410279466458\n",
      "1.0767702827001502\n",
      "1.159202311936963\n",
      "1.2213770420918562\n"
     ]
    }
   ]
  },
  {
   "cell_type": "markdown",
   "source": [
    "Zadnji redak pokazuje prosječnu pogrešku od 1.22.\n"
   ],
   "metadata": {
    "collapsed": false
   }
  },
  {
   "cell_type": "markdown",
   "source": [
    "#### 6) _Item-item Collaburative-filterning_\n",
    "\n",
    "Collaborative filtering, ali koristeći item-user matricu. Za svakog korisnika\n",
    "se određuje 20% top filmova po njegovim ocjenama i preporučuju se filmovi\n",
    "najsličniji tom filmu koje korisnik još nije pogledao.\n",
    "\n",
    "Uzima se prvih\n",
    "1000 filmova zbog vremena izvođenja."
   ],
   "metadata": {
    "collapsed": false
   }
  },
  {
   "cell_type": "code",
   "execution_count": 40,
   "outputs": [
    {
     "data": {
      "text/plain": "           1    2    3    4        5         6        7         8    9    10   \\\n1     0.079070  0.0  0.0  0.0  0.07907  0.000000  0.57907  0.000000  0.0  0.0   \n2     0.000000  0.0  0.0  0.0  0.00000  0.568182  0.00000  0.568182  0.0  0.0   \n3     0.740385  0.0  0.0  0.0  0.00000  1.740385  0.00000  0.000000  0.0  0.0   \n4     0.000000  0.0  0.0  0.0  0.00000  0.642857  0.00000  0.000000  0.0  0.0   \n5     0.000000  0.0  0.0  0.0  0.00000  1.928571  0.00000  0.000000  0.0  0.0   \n...        ...  ...  ...  ...      ...       ...      ...       ...  ...  ...   \n1297  0.000000  0.0  0.0  0.0  0.00000  0.000000  0.00000  0.000000  0.0  0.0   \n1298  1.239130  0.0  0.0  0.0  0.00000  0.000000  0.00000  0.000000  0.0  0.0   \n1299  0.000000  0.0  0.0  0.0  0.00000  0.000000  0.00000  0.000000  0.0  0.0   \n1300  0.000000  0.0  0.0  0.0  0.00000  0.000000  0.00000  0.000000  0.0  0.0   \n1301  0.000000  0.0  0.0  0.0  0.00000  0.000000  0.00000  0.000000  0.0  0.0   \n\n      ...      601       602       603       604       605       606      607  \\\n1     ...  0.07907  0.000000  0.079070 -0.920930  0.079070 -1.420930  0.07907   \n2     ...  0.00000  0.568182  0.000000  1.568182  0.068182  0.000000  0.00000   \n3     ...  0.00000  0.000000  0.000000  0.000000  0.000000  0.000000  0.00000   \n4     ...  0.00000  0.000000  0.000000  0.000000  0.000000  0.000000  0.00000   \n5     ...  0.00000  0.000000  0.000000 -0.071429  0.000000  0.000000  0.00000   \n...   ...      ...       ...       ...       ...       ...       ...      ...   \n1297  ...  0.00000  0.000000  0.000000  0.000000  0.000000  0.000000  0.00000   \n1298  ...  0.00000  0.000000 -2.760870  0.000000  0.000000  0.000000  0.00000   \n1299  ...  0.00000  0.000000 -0.017857  0.000000  0.000000 -0.517857  0.00000   \n1300  ...  0.00000  0.000000 -1.166667  0.000000  0.000000 -0.666667  0.00000   \n1301  ...  0.00000  0.000000  0.000000  0.000000  0.000000  0.000000  0.00000   \n\n           608      609       610  \n1    -1.420930 -0.92093  1.079070  \n2    -1.431818  0.00000  0.000000  \n3    -1.259615  0.00000  0.000000  \n4     0.000000  0.00000  0.000000  \n5     0.000000  0.00000  0.000000  \n...        ...      ...       ...  \n1297  0.000000  0.00000  0.000000  \n1298  0.000000  0.00000  0.000000  \n1299  0.000000  0.00000  0.000000  \n1300  0.000000  0.00000  0.333333  \n1301  0.000000  0.00000  0.000000  \n\n[999 rows x 610 columns]",
      "text/html": "<div>\n<style scoped>\n    .dataframe tbody tr th:only-of-type {\n        vertical-align: middle;\n    }\n\n    .dataframe tbody tr th {\n        vertical-align: top;\n    }\n\n    .dataframe thead th {\n        text-align: right;\n    }\n</style>\n<table border=\"1\" class=\"dataframe\">\n  <thead>\n    <tr style=\"text-align: right;\">\n      <th></th>\n      <th>1</th>\n      <th>2</th>\n      <th>3</th>\n      <th>4</th>\n      <th>5</th>\n      <th>6</th>\n      <th>7</th>\n      <th>8</th>\n      <th>9</th>\n      <th>10</th>\n      <th>...</th>\n      <th>601</th>\n      <th>602</th>\n      <th>603</th>\n      <th>604</th>\n      <th>605</th>\n      <th>606</th>\n      <th>607</th>\n      <th>608</th>\n      <th>609</th>\n      <th>610</th>\n    </tr>\n  </thead>\n  <tbody>\n    <tr>\n      <th>1</th>\n      <td>0.079070</td>\n      <td>0.0</td>\n      <td>0.0</td>\n      <td>0.0</td>\n      <td>0.07907</td>\n      <td>0.000000</td>\n      <td>0.57907</td>\n      <td>0.000000</td>\n      <td>0.0</td>\n      <td>0.0</td>\n      <td>...</td>\n      <td>0.07907</td>\n      <td>0.000000</td>\n      <td>0.079070</td>\n      <td>-0.920930</td>\n      <td>0.079070</td>\n      <td>-1.420930</td>\n      <td>0.07907</td>\n      <td>-1.420930</td>\n      <td>-0.92093</td>\n      <td>1.079070</td>\n    </tr>\n    <tr>\n      <th>2</th>\n      <td>0.000000</td>\n      <td>0.0</td>\n      <td>0.0</td>\n      <td>0.0</td>\n      <td>0.00000</td>\n      <td>0.568182</td>\n      <td>0.00000</td>\n      <td>0.568182</td>\n      <td>0.0</td>\n      <td>0.0</td>\n      <td>...</td>\n      <td>0.00000</td>\n      <td>0.568182</td>\n      <td>0.000000</td>\n      <td>1.568182</td>\n      <td>0.068182</td>\n      <td>0.000000</td>\n      <td>0.00000</td>\n      <td>-1.431818</td>\n      <td>0.00000</td>\n      <td>0.000000</td>\n    </tr>\n    <tr>\n      <th>3</th>\n      <td>0.740385</td>\n      <td>0.0</td>\n      <td>0.0</td>\n      <td>0.0</td>\n      <td>0.00000</td>\n      <td>1.740385</td>\n      <td>0.00000</td>\n      <td>0.000000</td>\n      <td>0.0</td>\n      <td>0.0</td>\n      <td>...</td>\n      <td>0.00000</td>\n      <td>0.000000</td>\n      <td>0.000000</td>\n      <td>0.000000</td>\n      <td>0.000000</td>\n      <td>0.000000</td>\n      <td>0.00000</td>\n      <td>-1.259615</td>\n      <td>0.00000</td>\n      <td>0.000000</td>\n    </tr>\n    <tr>\n      <th>4</th>\n      <td>0.000000</td>\n      <td>0.0</td>\n      <td>0.0</td>\n      <td>0.0</td>\n      <td>0.00000</td>\n      <td>0.642857</td>\n      <td>0.00000</td>\n      <td>0.000000</td>\n      <td>0.0</td>\n      <td>0.0</td>\n      <td>...</td>\n      <td>0.00000</td>\n      <td>0.000000</td>\n      <td>0.000000</td>\n      <td>0.000000</td>\n      <td>0.000000</td>\n      <td>0.000000</td>\n      <td>0.00000</td>\n      <td>0.000000</td>\n      <td>0.00000</td>\n      <td>0.000000</td>\n    </tr>\n    <tr>\n      <th>5</th>\n      <td>0.000000</td>\n      <td>0.0</td>\n      <td>0.0</td>\n      <td>0.0</td>\n      <td>0.00000</td>\n      <td>1.928571</td>\n      <td>0.00000</td>\n      <td>0.000000</td>\n      <td>0.0</td>\n      <td>0.0</td>\n      <td>...</td>\n      <td>0.00000</td>\n      <td>0.000000</td>\n      <td>0.000000</td>\n      <td>-0.071429</td>\n      <td>0.000000</td>\n      <td>0.000000</td>\n      <td>0.00000</td>\n      <td>0.000000</td>\n      <td>0.00000</td>\n      <td>0.000000</td>\n    </tr>\n    <tr>\n      <th>...</th>\n      <td>...</td>\n      <td>...</td>\n      <td>...</td>\n      <td>...</td>\n      <td>...</td>\n      <td>...</td>\n      <td>...</td>\n      <td>...</td>\n      <td>...</td>\n      <td>...</td>\n      <td>...</td>\n      <td>...</td>\n      <td>...</td>\n      <td>...</td>\n      <td>...</td>\n      <td>...</td>\n      <td>...</td>\n      <td>...</td>\n      <td>...</td>\n      <td>...</td>\n      <td>...</td>\n    </tr>\n    <tr>\n      <th>1297</th>\n      <td>0.000000</td>\n      <td>0.0</td>\n      <td>0.0</td>\n      <td>0.0</td>\n      <td>0.00000</td>\n      <td>0.000000</td>\n      <td>0.00000</td>\n      <td>0.000000</td>\n      <td>0.0</td>\n      <td>0.0</td>\n      <td>...</td>\n      <td>0.00000</td>\n      <td>0.000000</td>\n      <td>0.000000</td>\n      <td>0.000000</td>\n      <td>0.000000</td>\n      <td>0.000000</td>\n      <td>0.00000</td>\n      <td>0.000000</td>\n      <td>0.00000</td>\n      <td>0.000000</td>\n    </tr>\n    <tr>\n      <th>1298</th>\n      <td>1.239130</td>\n      <td>0.0</td>\n      <td>0.0</td>\n      <td>0.0</td>\n      <td>0.00000</td>\n      <td>0.000000</td>\n      <td>0.00000</td>\n      <td>0.000000</td>\n      <td>0.0</td>\n      <td>0.0</td>\n      <td>...</td>\n      <td>0.00000</td>\n      <td>0.000000</td>\n      <td>-2.760870</td>\n      <td>0.000000</td>\n      <td>0.000000</td>\n      <td>0.000000</td>\n      <td>0.00000</td>\n      <td>0.000000</td>\n      <td>0.00000</td>\n      <td>0.000000</td>\n    </tr>\n    <tr>\n      <th>1299</th>\n      <td>0.000000</td>\n      <td>0.0</td>\n      <td>0.0</td>\n      <td>0.0</td>\n      <td>0.00000</td>\n      <td>0.000000</td>\n      <td>0.00000</td>\n      <td>0.000000</td>\n      <td>0.0</td>\n      <td>0.0</td>\n      <td>...</td>\n      <td>0.00000</td>\n      <td>0.000000</td>\n      <td>-0.017857</td>\n      <td>0.000000</td>\n      <td>0.000000</td>\n      <td>-0.517857</td>\n      <td>0.00000</td>\n      <td>0.000000</td>\n      <td>0.00000</td>\n      <td>0.000000</td>\n    </tr>\n    <tr>\n      <th>1300</th>\n      <td>0.000000</td>\n      <td>0.0</td>\n      <td>0.0</td>\n      <td>0.0</td>\n      <td>0.00000</td>\n      <td>0.000000</td>\n      <td>0.00000</td>\n      <td>0.000000</td>\n      <td>0.0</td>\n      <td>0.0</td>\n      <td>...</td>\n      <td>0.00000</td>\n      <td>0.000000</td>\n      <td>-1.166667</td>\n      <td>0.000000</td>\n      <td>0.000000</td>\n      <td>-0.666667</td>\n      <td>0.00000</td>\n      <td>0.000000</td>\n      <td>0.00000</td>\n      <td>0.333333</td>\n    </tr>\n    <tr>\n      <th>1301</th>\n      <td>0.000000</td>\n      <td>0.0</td>\n      <td>0.0</td>\n      <td>0.0</td>\n      <td>0.00000</td>\n      <td>0.000000</td>\n      <td>0.00000</td>\n      <td>0.000000</td>\n      <td>0.0</td>\n      <td>0.0</td>\n      <td>...</td>\n      <td>0.00000</td>\n      <td>0.000000</td>\n      <td>0.000000</td>\n      <td>0.000000</td>\n      <td>0.000000</td>\n      <td>0.000000</td>\n      <td>0.00000</td>\n      <td>0.000000</td>\n      <td>0.00000</td>\n      <td>0.000000</td>\n    </tr>\n  </tbody>\n</table>\n<p>999 rows × 610 columns</p>\n</div>"
     },
     "execution_count": 40,
     "metadata": {},
     "output_type": "execute_result"
    }
   ],
   "source": [
    "import numpy as np\n",
    "import pandas as pd\n",
    "from sklearn.metrics.pairwise import cosine_similarity\n",
    "\n",
    "\n",
    "df = pd.DataFrame(columns=ratings.userId.unique())\n",
    "\n",
    "# Izgradnja item-user matrice\n",
    "for index, row in movies.head(1000).groupby(\"movieId\").count().iterrows():\n",
    "    tmp = ratings.query(\"movieId == {}\".format(index))\n",
    "    mean = tmp['rating'].mean()\n",
    "    for i, r in tmp.iterrows():\n",
    "        df.loc[index, r['userId']] = r['rating'] - mean\n",
    "df = df.fillna(0)\n",
    "df"
   ],
   "metadata": {
    "collapsed": false,
    "pycharm": {
     "name": "#%%\n"
    }
   }
  },
  {
   "cell_type": "code",
   "execution_count": 41,
   "outputs": [
    {
     "name": "stdout",
     "output_type": "stream",
     "text": [
      "302    Ace Ventura: Pet Detective (1994)\n",
      "Name: title, dtype: object because of 197    Dumb & Dumber (Dumb and Dumber) (1994)\n",
      "Name: title, dtype: object\n",
      "435    Mr. Wonderful (1993)\n",
      "Name: title, dtype: object because of 291    Tommy Boy (1995)\n",
      "Name: title, dtype: object\n",
      "412    In the Line of Fire (1993)\n",
      "Name: title, dtype: object because of 398    Fugitive, The (1993)\n",
      "Name: title, dtype: object\n",
      "828    Reservoir Dogs (1992)\n",
      "Name: title, dtype: object because of 43    Seven (a.k.a. Se7en) (1995)\n",
      "Name: title, dtype: object\n",
      "277    Shawshank Redemption, The (1994)\n",
      "Name: title, dtype: object because of 46    Usual Suspects, The (1995)\n",
      "Name: title, dtype: object\n"
     ]
    }
   ],
   "source": [
    "def findClosestMovie(n):\n",
    "        movie = np.array(df.loc[n, :])\n",
    "        movie = np.array([movie])\n",
    "        max = 0\n",
    "        movieBestId = 0\n",
    "        for index, row in df.iterrows():\n",
    "            if(index == n): continue\n",
    "            secondMovie = np.array(row)\n",
    "            secondMovie = np.array([secondMovie])\n",
    "            result = cosine_similarity(movie, secondMovie)\n",
    "            if(result > max):\n",
    "                max = result\n",
    "                movieBestId = index\n",
    "        return movieBestId\n",
    "\n",
    "def findRecommendationForUser(n):\n",
    "    userRatings = ratings.query(\"userId == {} & movieId < {}\".format(n, 500))\n",
    "\n",
    "    userRatings = userRatings.sort_values('rating', ascending=False)\n",
    "    topUserRatings = userRatings.head(int(0.2 * len(userRatings)))\n",
    "    for index, row in topUserRatings.iterrows():\n",
    "        if(len(userRatings.query(\"movieId == {}\".format(row['movieId']))) != 0):\n",
    "            indexOfClosest = findClosestMovie(row['movieId'])\n",
    "            print(\"{} because of {}\".format(movies.query(\"movieId == {}\".format(indexOfClosest)).title,\n",
    "                                            movies.query(\"movieId == {}\".format(row['movieId'])).loc[:, 'title']))\n",
    "\n",
    "findRecommendationForUser(1)"
   ],
   "metadata": {
    "collapsed": false,
    "pycharm": {
     "name": "#%%\n"
    }
   }
  },
  {
   "cell_type": "markdown",
   "source": [
    "Testiramo item-item collaborative filtering algoritam.\n",
    "\n",
    "Za svakog korisnika odvajamo 30% pogledanih filmova u test split. Za train i test split\n",
    " napravimo item-user matricu(item retci, user stupci) gdje su vrijednosti na križanju\n",
    "filma i korisnika njegova ocjena.\n",
    "\n",
    "Svaki item vektor odnosno film vektor centriramo\n",
    "tako da nepoznate vrijednosti možemo staviti na nulu. U iteraciji po test filmovima,\n",
    "za svaki film tražimo 25% najsličnijih filmova iz train splita(oni filmovi koje je\n",
    "korisnik pogledao).\n",
    "\n",
    "Sličnost se određuje sa cosine similarity. Za pronađenih 25%\n",
    "najsličnijih filmova, računamo prosječnu ocjenu kojom ih je korisnik ocijenio(predviđena\n",
    " ocjena). Potom računamo pogrešku između predviđene ocjene filmova i stvarne ocjene\n",
    " koje je korisnik dao filmovima(RMSE). Zbog složenosti algoritma, ispisati ćemo prosjek\n",
    "  greške po korisnicima za prvih 100 korisnika."
   ],
   "metadata": {
    "collapsed": false,
    "pycharm": {
     "name": "#%% md\n"
    }
   }
  },
  {
   "cell_type": "code",
   "execution_count": 42,
   "outputs": [
    {
     "data": {
      "text/plain": "             1    2    3    4        5         6        7         8    9    \\\n1       0.079070  0.0  0.0  0.0  0.07907  0.000000  0.57907  0.000000  0.0   \n2       0.000000  0.0  0.0  0.0  0.00000  0.568182  0.00000  0.568182  0.0   \n3       0.740385  0.0  0.0  0.0  0.00000  1.740385  0.00000  0.000000  0.0   \n4       0.000000  0.0  0.0  0.0  0.00000  0.642857  0.00000  0.000000  0.0   \n5       0.000000  0.0  0.0  0.0  0.00000  1.928571  0.00000  0.000000  0.0   \n...          ...  ...  ...  ...      ...       ...      ...       ...  ...   \n193581  0.000000  0.0  0.0  0.0  0.00000  0.000000  0.00000  0.000000  0.0   \n193583  0.000000  0.0  0.0  0.0  0.00000  0.000000  0.00000  0.000000  0.0   \n193585  0.000000  0.0  0.0  0.0  0.00000  0.000000  0.00000  0.000000  0.0   \n193587  0.000000  0.0  0.0  0.0  0.00000  0.000000  0.00000  0.000000  0.0   \n193609  0.000000  0.0  0.0  0.0  0.00000  0.000000  0.00000  0.000000  0.0   \n\n        10   ...      601       602      603       604       605      606  \\\n1       0.0  ...  0.07907  0.000000  0.07907 -0.920930  0.079070 -1.42093   \n2       0.0  ...  0.00000  0.568182  0.00000  1.568182  0.068182  0.00000   \n3       0.0  ...  0.00000  0.000000  0.00000  0.000000  0.000000  0.00000   \n4       0.0  ...  0.00000  0.000000  0.00000  0.000000  0.000000  0.00000   \n5       0.0  ...  0.00000  0.000000  0.00000 -0.071429  0.000000  0.00000   \n...     ...  ...      ...       ...      ...       ...       ...      ...   \n193581  0.0  ...  0.00000  0.000000  0.00000  0.000000  0.000000  0.00000   \n193583  0.0  ...  0.00000  0.000000  0.00000  0.000000  0.000000  0.00000   \n193585  0.0  ...  0.00000  0.000000  0.00000  0.000000  0.000000  0.00000   \n193587  0.0  ...  0.00000  0.000000  0.00000  0.000000  0.000000  0.00000   \n193609  0.0  ...  0.00000  0.000000  0.00000  0.000000  0.000000  0.00000   \n\n            607       608      609      610  \n1       0.07907 -1.420930 -0.92093  1.07907  \n2       0.00000 -1.431818  0.00000  0.00000  \n3       0.00000 -1.259615  0.00000  0.00000  \n4       0.00000  0.000000  0.00000  0.00000  \n5       0.00000  0.000000  0.00000  0.00000  \n...         ...       ...      ...      ...  \n193581  0.00000  0.000000  0.00000  0.00000  \n193583  0.00000  0.000000  0.00000  0.00000  \n193585  0.00000  0.000000  0.00000  0.00000  \n193587  0.00000  0.000000  0.00000  0.00000  \n193609  0.00000  0.000000  0.00000  0.00000  \n\n[9724 rows x 610 columns]",
      "text/html": "<div>\n<style scoped>\n    .dataframe tbody tr th:only-of-type {\n        vertical-align: middle;\n    }\n\n    .dataframe tbody tr th {\n        vertical-align: top;\n    }\n\n    .dataframe thead th {\n        text-align: right;\n    }\n</style>\n<table border=\"1\" class=\"dataframe\">\n  <thead>\n    <tr style=\"text-align: right;\">\n      <th></th>\n      <th>1</th>\n      <th>2</th>\n      <th>3</th>\n      <th>4</th>\n      <th>5</th>\n      <th>6</th>\n      <th>7</th>\n      <th>8</th>\n      <th>9</th>\n      <th>10</th>\n      <th>...</th>\n      <th>601</th>\n      <th>602</th>\n      <th>603</th>\n      <th>604</th>\n      <th>605</th>\n      <th>606</th>\n      <th>607</th>\n      <th>608</th>\n      <th>609</th>\n      <th>610</th>\n    </tr>\n  </thead>\n  <tbody>\n    <tr>\n      <th>1</th>\n      <td>0.079070</td>\n      <td>0.0</td>\n      <td>0.0</td>\n      <td>0.0</td>\n      <td>0.07907</td>\n      <td>0.000000</td>\n      <td>0.57907</td>\n      <td>0.000000</td>\n      <td>0.0</td>\n      <td>0.0</td>\n      <td>...</td>\n      <td>0.07907</td>\n      <td>0.000000</td>\n      <td>0.07907</td>\n      <td>-0.920930</td>\n      <td>0.079070</td>\n      <td>-1.42093</td>\n      <td>0.07907</td>\n      <td>-1.420930</td>\n      <td>-0.92093</td>\n      <td>1.07907</td>\n    </tr>\n    <tr>\n      <th>2</th>\n      <td>0.000000</td>\n      <td>0.0</td>\n      <td>0.0</td>\n      <td>0.0</td>\n      <td>0.00000</td>\n      <td>0.568182</td>\n      <td>0.00000</td>\n      <td>0.568182</td>\n      <td>0.0</td>\n      <td>0.0</td>\n      <td>...</td>\n      <td>0.00000</td>\n      <td>0.568182</td>\n      <td>0.00000</td>\n      <td>1.568182</td>\n      <td>0.068182</td>\n      <td>0.00000</td>\n      <td>0.00000</td>\n      <td>-1.431818</td>\n      <td>0.00000</td>\n      <td>0.00000</td>\n    </tr>\n    <tr>\n      <th>3</th>\n      <td>0.740385</td>\n      <td>0.0</td>\n      <td>0.0</td>\n      <td>0.0</td>\n      <td>0.00000</td>\n      <td>1.740385</td>\n      <td>0.00000</td>\n      <td>0.000000</td>\n      <td>0.0</td>\n      <td>0.0</td>\n      <td>...</td>\n      <td>0.00000</td>\n      <td>0.000000</td>\n      <td>0.00000</td>\n      <td>0.000000</td>\n      <td>0.000000</td>\n      <td>0.00000</td>\n      <td>0.00000</td>\n      <td>-1.259615</td>\n      <td>0.00000</td>\n      <td>0.00000</td>\n    </tr>\n    <tr>\n      <th>4</th>\n      <td>0.000000</td>\n      <td>0.0</td>\n      <td>0.0</td>\n      <td>0.0</td>\n      <td>0.00000</td>\n      <td>0.642857</td>\n      <td>0.00000</td>\n      <td>0.000000</td>\n      <td>0.0</td>\n      <td>0.0</td>\n      <td>...</td>\n      <td>0.00000</td>\n      <td>0.000000</td>\n      <td>0.00000</td>\n      <td>0.000000</td>\n      <td>0.000000</td>\n      <td>0.00000</td>\n      <td>0.00000</td>\n      <td>0.000000</td>\n      <td>0.00000</td>\n      <td>0.00000</td>\n    </tr>\n    <tr>\n      <th>5</th>\n      <td>0.000000</td>\n      <td>0.0</td>\n      <td>0.0</td>\n      <td>0.0</td>\n      <td>0.00000</td>\n      <td>1.928571</td>\n      <td>0.00000</td>\n      <td>0.000000</td>\n      <td>0.0</td>\n      <td>0.0</td>\n      <td>...</td>\n      <td>0.00000</td>\n      <td>0.000000</td>\n      <td>0.00000</td>\n      <td>-0.071429</td>\n      <td>0.000000</td>\n      <td>0.00000</td>\n      <td>0.00000</td>\n      <td>0.000000</td>\n      <td>0.00000</td>\n      <td>0.00000</td>\n    </tr>\n    <tr>\n      <th>...</th>\n      <td>...</td>\n      <td>...</td>\n      <td>...</td>\n      <td>...</td>\n      <td>...</td>\n      <td>...</td>\n      <td>...</td>\n      <td>...</td>\n      <td>...</td>\n      <td>...</td>\n      <td>...</td>\n      <td>...</td>\n      <td>...</td>\n      <td>...</td>\n      <td>...</td>\n      <td>...</td>\n      <td>...</td>\n      <td>...</td>\n      <td>...</td>\n      <td>...</td>\n      <td>...</td>\n    </tr>\n    <tr>\n      <th>193581</th>\n      <td>0.000000</td>\n      <td>0.0</td>\n      <td>0.0</td>\n      <td>0.0</td>\n      <td>0.00000</td>\n      <td>0.000000</td>\n      <td>0.00000</td>\n      <td>0.000000</td>\n      <td>0.0</td>\n      <td>0.0</td>\n      <td>...</td>\n      <td>0.00000</td>\n      <td>0.000000</td>\n      <td>0.00000</td>\n      <td>0.000000</td>\n      <td>0.000000</td>\n      <td>0.00000</td>\n      <td>0.00000</td>\n      <td>0.000000</td>\n      <td>0.00000</td>\n      <td>0.00000</td>\n    </tr>\n    <tr>\n      <th>193583</th>\n      <td>0.000000</td>\n      <td>0.0</td>\n      <td>0.0</td>\n      <td>0.0</td>\n      <td>0.00000</td>\n      <td>0.000000</td>\n      <td>0.00000</td>\n      <td>0.000000</td>\n      <td>0.0</td>\n      <td>0.0</td>\n      <td>...</td>\n      <td>0.00000</td>\n      <td>0.000000</td>\n      <td>0.00000</td>\n      <td>0.000000</td>\n      <td>0.000000</td>\n      <td>0.00000</td>\n      <td>0.00000</td>\n      <td>0.000000</td>\n      <td>0.00000</td>\n      <td>0.00000</td>\n    </tr>\n    <tr>\n      <th>193585</th>\n      <td>0.000000</td>\n      <td>0.0</td>\n      <td>0.0</td>\n      <td>0.0</td>\n      <td>0.00000</td>\n      <td>0.000000</td>\n      <td>0.00000</td>\n      <td>0.000000</td>\n      <td>0.0</td>\n      <td>0.0</td>\n      <td>...</td>\n      <td>0.00000</td>\n      <td>0.000000</td>\n      <td>0.00000</td>\n      <td>0.000000</td>\n      <td>0.000000</td>\n      <td>0.00000</td>\n      <td>0.00000</td>\n      <td>0.000000</td>\n      <td>0.00000</td>\n      <td>0.00000</td>\n    </tr>\n    <tr>\n      <th>193587</th>\n      <td>0.000000</td>\n      <td>0.0</td>\n      <td>0.0</td>\n      <td>0.0</td>\n      <td>0.00000</td>\n      <td>0.000000</td>\n      <td>0.00000</td>\n      <td>0.000000</td>\n      <td>0.0</td>\n      <td>0.0</td>\n      <td>...</td>\n      <td>0.00000</td>\n      <td>0.000000</td>\n      <td>0.00000</td>\n      <td>0.000000</td>\n      <td>0.000000</td>\n      <td>0.00000</td>\n      <td>0.00000</td>\n      <td>0.000000</td>\n      <td>0.00000</td>\n      <td>0.00000</td>\n    </tr>\n    <tr>\n      <th>193609</th>\n      <td>0.000000</td>\n      <td>0.0</td>\n      <td>0.0</td>\n      <td>0.0</td>\n      <td>0.00000</td>\n      <td>0.000000</td>\n      <td>0.00000</td>\n      <td>0.000000</td>\n      <td>0.0</td>\n      <td>0.0</td>\n      <td>...</td>\n      <td>0.00000</td>\n      <td>0.000000</td>\n      <td>0.00000</td>\n      <td>0.000000</td>\n      <td>0.000000</td>\n      <td>0.00000</td>\n      <td>0.00000</td>\n      <td>0.000000</td>\n      <td>0.00000</td>\n      <td>0.00000</td>\n    </tr>\n  </tbody>\n</table>\n<p>9724 rows × 610 columns</p>\n</div>"
     },
     "execution_count": 42,
     "metadata": {},
     "output_type": "execute_result"
    }
   ],
   "source": [
    "import numpy as np\n",
    "import pandas as pd\n",
    "from sklearn.metrics.pairwise import cosine_similarity\n",
    "from sklearn.model_selection import train_test_split\n",
    "from sklearn.metrics import mean_squared_error\n",
    "import itertools\n",
    "import multiprocessing as mp\n",
    "\n",
    "\n",
    "# Učitavanje dataseta\n",
    "\n",
    "ratings = pd.read_csv(\"ml-latest-small/ratings.csv\")\n",
    "movies = pd.read_csv(\"ml-latest-small/movies.csv\")\n",
    "\n",
    "# Globalna item-user tablica tako da ju imamo \"cacheanu\"\n",
    "\n",
    "df_global = pd.DataFrame(columns=ratings.userId.unique())\n",
    "\n",
    "# Svaki film sprema kao item vektor s distribucijom ocjena po korisnicima\n",
    "for index, row in ratings.groupby(\"movieId\").count().iterrows():\n",
    "    tmp = ratings.query(\"movieId == {}\".format(index))\n",
    "    mean = tmp['rating'].mean()\n",
    "    for i, r in tmp.iterrows():\n",
    "        df_global.loc[index, r['userId']] = r['rating'] - mean\n",
    "\n",
    "df_global = df_global.fillna(0)\n",
    "df_global"
   ],
   "metadata": {
    "collapsed": false,
    "pycharm": {
     "name": "#%%\n"
    }
   }
  },
  {
   "cell_type": "code",
   "execution_count": 43,
   "outputs": [
    {
     "ename": "KeyboardInterrupt",
     "evalue": "",
     "output_type": "error",
     "traceback": [
      "\u001B[1;31m---------------------------------------------------------------------------\u001B[0m",
      "\u001B[1;31mKeyboardInterrupt\u001B[0m                         Traceback (most recent call last)",
      "\u001B[1;32m<ipython-input-43-4f65287766c0>\u001B[0m in \u001B[0;36m<module>\u001B[1;34m\u001B[0m\n\u001B[0;32m     60\u001B[0m \u001B[0msum_errors\u001B[0m \u001B[1;33m=\u001B[0m \u001B[1;36m0\u001B[0m\u001B[1;33m\u001B[0m\u001B[1;33m\u001B[0m\u001B[0m\n\u001B[0;32m     61\u001B[0m \u001B[1;32mfor\u001B[0m \u001B[0mi\u001B[0m \u001B[1;32min\u001B[0m \u001B[0mrange\u001B[0m\u001B[1;33m(\u001B[0m\u001B[1;36m1\u001B[0m\u001B[1;33m,\u001B[0m \u001B[1;36m101\u001B[0m\u001B[1;33m)\u001B[0m\u001B[1;33m:\u001B[0m\u001B[1;33m\u001B[0m\u001B[1;33m\u001B[0m\u001B[0m\n\u001B[1;32m---> 62\u001B[1;33m     \u001B[0msum_errors\u001B[0m \u001B[1;33m+=\u001B[0m \u001B[0mscoreForUser\u001B[0m\u001B[1;33m(\u001B[0m\u001B[0mi\u001B[0m\u001B[1;33m)\u001B[0m\u001B[1;33m\u001B[0m\u001B[1;33m\u001B[0m\u001B[0m\n\u001B[0m\u001B[0;32m     63\u001B[0m \u001B[1;33m\u001B[0m\u001B[0m\n\u001B[0;32m     64\u001B[0m \u001B[0mprint\u001B[0m\u001B[1;33m(\u001B[0m\u001B[0msum_errors\u001B[0m \u001B[1;33m/\u001B[0m \u001B[1;36m100\u001B[0m\u001B[1;33m)\u001B[0m\u001B[1;33m\u001B[0m\u001B[1;33m\u001B[0m\u001B[0m\n",
      "\u001B[1;32m<ipython-input-43-4f65287766c0>\u001B[0m in \u001B[0;36mscoreForUser\u001B[1;34m(n)\u001B[0m\n\u001B[0;32m     35\u001B[0m \u001B[1;33m\u001B[0m\u001B[0m\n\u001B[0;32m     36\u001B[0m             \u001B[1;31m#Računa se sličnost između filma filmova\u001B[0m\u001B[1;33m\u001B[0m\u001B[1;33m\u001B[0m\u001B[1;33m\u001B[0m\u001B[0m\n\u001B[1;32m---> 37\u001B[1;33m             \u001B[0mresult\u001B[0m \u001B[1;33m=\u001B[0m \u001B[0mcosine_similarity\u001B[0m\u001B[1;33m(\u001B[0m\u001B[0mrow_test\u001B[0m\u001B[1;33m,\u001B[0m \u001B[0mr_train\u001B[0m\u001B[1;33m)\u001B[0m\u001B[1;33m\u001B[0m\u001B[1;33m\u001B[0m\u001B[0m\n\u001B[0m\u001B[0;32m     38\u001B[0m \u001B[1;33m\u001B[0m\u001B[0m\n\u001B[0;32m     39\u001B[0m             \u001B[0mdictionary_similarity\u001B[0m\u001B[1;33m[\u001B[0m\u001B[0mi\u001B[0m\u001B[1;33m]\u001B[0m \u001B[1;33m=\u001B[0m \u001B[0mresult\u001B[0m\u001B[1;33m\u001B[0m\u001B[1;33m\u001B[0m\u001B[0m\n",
      "\u001B[1;32m~\\anaconda3\\lib\\site-packages\\sklearn\\metrics\\pairwise.py\u001B[0m in \u001B[0;36mcosine_similarity\u001B[1;34m(X, Y, dense_output)\u001B[0m\n\u001B[0;32m   1179\u001B[0m     \u001B[0mX\u001B[0m\u001B[1;33m,\u001B[0m \u001B[0mY\u001B[0m \u001B[1;33m=\u001B[0m \u001B[0mcheck_pairwise_arrays\u001B[0m\u001B[1;33m(\u001B[0m\u001B[0mX\u001B[0m\u001B[1;33m,\u001B[0m \u001B[0mY\u001B[0m\u001B[1;33m)\u001B[0m\u001B[1;33m\u001B[0m\u001B[1;33m\u001B[0m\u001B[0m\n\u001B[0;32m   1180\u001B[0m \u001B[1;33m\u001B[0m\u001B[0m\n\u001B[1;32m-> 1181\u001B[1;33m     \u001B[0mX_normalized\u001B[0m \u001B[1;33m=\u001B[0m \u001B[0mnormalize\u001B[0m\u001B[1;33m(\u001B[0m\u001B[0mX\u001B[0m\u001B[1;33m,\u001B[0m \u001B[0mcopy\u001B[0m\u001B[1;33m=\u001B[0m\u001B[1;32mTrue\u001B[0m\u001B[1;33m)\u001B[0m\u001B[1;33m\u001B[0m\u001B[1;33m\u001B[0m\u001B[0m\n\u001B[0m\u001B[0;32m   1182\u001B[0m     \u001B[1;32mif\u001B[0m \u001B[0mX\u001B[0m \u001B[1;32mis\u001B[0m \u001B[0mY\u001B[0m\u001B[1;33m:\u001B[0m\u001B[1;33m\u001B[0m\u001B[1;33m\u001B[0m\u001B[0m\n\u001B[0;32m   1183\u001B[0m         \u001B[0mY_normalized\u001B[0m \u001B[1;33m=\u001B[0m \u001B[0mX_normalized\u001B[0m\u001B[1;33m\u001B[0m\u001B[1;33m\u001B[0m\u001B[0m\n",
      "\u001B[1;32m~\\anaconda3\\lib\\site-packages\\sklearn\\utils\\validation.py\u001B[0m in \u001B[0;36minner_f\u001B[1;34m(*args, **kwargs)\u001B[0m\n\u001B[0;32m     70\u001B[0m                           FutureWarning)\n\u001B[0;32m     71\u001B[0m         \u001B[0mkwargs\u001B[0m\u001B[1;33m.\u001B[0m\u001B[0mupdate\u001B[0m\u001B[1;33m(\u001B[0m\u001B[1;33m{\u001B[0m\u001B[0mk\u001B[0m\u001B[1;33m:\u001B[0m \u001B[0marg\u001B[0m \u001B[1;32mfor\u001B[0m \u001B[0mk\u001B[0m\u001B[1;33m,\u001B[0m \u001B[0marg\u001B[0m \u001B[1;32min\u001B[0m \u001B[0mzip\u001B[0m\u001B[1;33m(\u001B[0m\u001B[0msig\u001B[0m\u001B[1;33m.\u001B[0m\u001B[0mparameters\u001B[0m\u001B[1;33m,\u001B[0m \u001B[0margs\u001B[0m\u001B[1;33m)\u001B[0m\u001B[1;33m}\u001B[0m\u001B[1;33m)\u001B[0m\u001B[1;33m\u001B[0m\u001B[1;33m\u001B[0m\u001B[0m\n\u001B[1;32m---> 72\u001B[1;33m         \u001B[1;32mreturn\u001B[0m \u001B[0mf\u001B[0m\u001B[1;33m(\u001B[0m\u001B[1;33m**\u001B[0m\u001B[0mkwargs\u001B[0m\u001B[1;33m)\u001B[0m\u001B[1;33m\u001B[0m\u001B[1;33m\u001B[0m\u001B[0m\n\u001B[0m\u001B[0;32m     73\u001B[0m     \u001B[1;32mreturn\u001B[0m \u001B[0minner_f\u001B[0m\u001B[1;33m\u001B[0m\u001B[1;33m\u001B[0m\u001B[0m\n\u001B[0;32m     74\u001B[0m \u001B[1;33m\u001B[0m\u001B[0m\n",
      "\u001B[1;32m~\\anaconda3\\lib\\site-packages\\sklearn\\preprocessing\\_data.py\u001B[0m in \u001B[0;36mnormalize\u001B[1;34m(X, norm, axis, copy, return_norm)\u001B[0m\n\u001B[0;32m   1708\u001B[0m         \u001B[1;32mraise\u001B[0m \u001B[0mValueError\u001B[0m\u001B[1;33m(\u001B[0m\u001B[1;34m\"'%d' is not a supported axis\"\u001B[0m \u001B[1;33m%\u001B[0m \u001B[0maxis\u001B[0m\u001B[1;33m)\u001B[0m\u001B[1;33m\u001B[0m\u001B[1;33m\u001B[0m\u001B[0m\n\u001B[0;32m   1709\u001B[0m \u001B[1;33m\u001B[0m\u001B[0m\n\u001B[1;32m-> 1710\u001B[1;33m     X = check_array(X, accept_sparse=sparse_format, copy=copy,\n\u001B[0m\u001B[0;32m   1711\u001B[0m                     estimator='the normalize function', dtype=FLOAT_DTYPES)\n\u001B[0;32m   1712\u001B[0m     \u001B[1;32mif\u001B[0m \u001B[0maxis\u001B[0m \u001B[1;33m==\u001B[0m \u001B[1;36m0\u001B[0m\u001B[1;33m:\u001B[0m\u001B[1;33m\u001B[0m\u001B[1;33m\u001B[0m\u001B[0m\n",
      "\u001B[1;32m~\\anaconda3\\lib\\site-packages\\sklearn\\utils\\validation.py\u001B[0m in \u001B[0;36minner_f\u001B[1;34m(*args, **kwargs)\u001B[0m\n\u001B[0;32m     70\u001B[0m                           FutureWarning)\n\u001B[0;32m     71\u001B[0m         \u001B[0mkwargs\u001B[0m\u001B[1;33m.\u001B[0m\u001B[0mupdate\u001B[0m\u001B[1;33m(\u001B[0m\u001B[1;33m{\u001B[0m\u001B[0mk\u001B[0m\u001B[1;33m:\u001B[0m \u001B[0marg\u001B[0m \u001B[1;32mfor\u001B[0m \u001B[0mk\u001B[0m\u001B[1;33m,\u001B[0m \u001B[0marg\u001B[0m \u001B[1;32min\u001B[0m \u001B[0mzip\u001B[0m\u001B[1;33m(\u001B[0m\u001B[0msig\u001B[0m\u001B[1;33m.\u001B[0m\u001B[0mparameters\u001B[0m\u001B[1;33m,\u001B[0m \u001B[0margs\u001B[0m\u001B[1;33m)\u001B[0m\u001B[1;33m}\u001B[0m\u001B[1;33m)\u001B[0m\u001B[1;33m\u001B[0m\u001B[1;33m\u001B[0m\u001B[0m\n\u001B[1;32m---> 72\u001B[1;33m         \u001B[1;32mreturn\u001B[0m \u001B[0mf\u001B[0m\u001B[1;33m(\u001B[0m\u001B[1;33m**\u001B[0m\u001B[0mkwargs\u001B[0m\u001B[1;33m)\u001B[0m\u001B[1;33m\u001B[0m\u001B[1;33m\u001B[0m\u001B[0m\n\u001B[0m\u001B[0;32m     73\u001B[0m     \u001B[1;32mreturn\u001B[0m \u001B[0minner_f\u001B[0m\u001B[1;33m\u001B[0m\u001B[1;33m\u001B[0m\u001B[0m\n\u001B[0;32m     74\u001B[0m \u001B[1;33m\u001B[0m\u001B[0m\n",
      "\u001B[1;32m~\\anaconda3\\lib\\site-packages\\sklearn\\utils\\validation.py\u001B[0m in \u001B[0;36mcheck_array\u001B[1;34m(array, accept_sparse, accept_large_sparse, dtype, order, copy, force_all_finite, ensure_2d, allow_nd, ensure_min_samples, ensure_min_features, estimator)\u001B[0m\n\u001B[0;32m    662\u001B[0m \u001B[1;33m\u001B[0m\u001B[0m\n\u001B[0;32m    663\u001B[0m     \u001B[1;32mif\u001B[0m \u001B[0mcopy\u001B[0m \u001B[1;32mand\u001B[0m \u001B[0mnp\u001B[0m\u001B[1;33m.\u001B[0m\u001B[0mmay_share_memory\u001B[0m\u001B[1;33m(\u001B[0m\u001B[0marray\u001B[0m\u001B[1;33m,\u001B[0m \u001B[0marray_orig\u001B[0m\u001B[1;33m)\u001B[0m\u001B[1;33m:\u001B[0m\u001B[1;33m\u001B[0m\u001B[1;33m\u001B[0m\u001B[0m\n\u001B[1;32m--> 664\u001B[1;33m         \u001B[0marray\u001B[0m \u001B[1;33m=\u001B[0m \u001B[0mnp\u001B[0m\u001B[1;33m.\u001B[0m\u001B[0marray\u001B[0m\u001B[1;33m(\u001B[0m\u001B[0marray\u001B[0m\u001B[1;33m,\u001B[0m \u001B[0mdtype\u001B[0m\u001B[1;33m=\u001B[0m\u001B[0mdtype\u001B[0m\u001B[1;33m,\u001B[0m \u001B[0morder\u001B[0m\u001B[1;33m=\u001B[0m\u001B[0morder\u001B[0m\u001B[1;33m)\u001B[0m\u001B[1;33m\u001B[0m\u001B[1;33m\u001B[0m\u001B[0m\n\u001B[0m\u001B[0;32m    665\u001B[0m \u001B[1;33m\u001B[0m\u001B[0m\n\u001B[0;32m    666\u001B[0m     \u001B[1;32mreturn\u001B[0m \u001B[0marray\u001B[0m\u001B[1;33m\u001B[0m\u001B[1;33m\u001B[0m\u001B[0m\n",
      "\u001B[1;31mKeyboardInterrupt\u001B[0m: "
     ]
    }
   ],
   "source": [
    "#Funkcija koja pravi item-user matricu, ali definiranu za određenog korisnika\n",
    "def makeItemMatrix(user_ratings):\n",
    "    df = pd.DataFrame(columns=ratings.userId.unique())\n",
    "\n",
    "    for index, row in user_ratings.iterrows():\n",
    "        df.loc[row['movieId']] = df_global.loc[row['movieId']]\n",
    "\n",
    "    return df.fillna(0)\n",
    "\n",
    "#Funkcija za testiranje. Rezultat je RMSE za korisnika n između stvarne ocjene filma i predviđene.\n",
    "\n",
    "def scoreForUser(n):\n",
    "    # Učitavanje podataka o korisniku, razdvajanje u train test split i pravljenje specifične item-user matrice.\n",
    "    user_ratings = ratings.query(\"userId == {}\".format(n))\n",
    "    user_train, user_test = train_test_split(user_ratings, test_size=0.3, random_state=42)\n",
    "    df_train = makeItemMatrix(user_train)\n",
    "    df_test = makeItemMatrix(user_test)\n",
    "\n",
    "    # Polja za upisivanje stvarne ocjene filma i za predviđene\n",
    "    user_actual_scores = []\n",
    "    user_predict_scores = []\n",
    "\n",
    "    for index, row in df_test.iterrows():\n",
    "        # Stores cosine_similarity values between test movie and train_split movies\n",
    "        dictionary_similarity = {}\n",
    "\n",
    "        # Manipulacija tako da dobijem vektor stupac zbog funkcije cosine_similarity\n",
    "        row_test = np.array(row)\n",
    "        row_test = np.array([row])\n",
    "\n",
    "        for i, r in df_train.iterrows():\n",
    "            # Ista manipulacija i u prethodnom retku\n",
    "            r_train = np.array(r)\n",
    "            r_train = np.array([r_train])\n",
    "\n",
    "            #Računa se sličnost između filma filmova\n",
    "            result = cosine_similarity(row_test, r_train)\n",
    "\n",
    "            dictionary_similarity[i] = result\n",
    "\n",
    "        # Sortiranje da se dobiju najsličniji filmovi\n",
    "        sorted_dictionary_similarity = {}\n",
    "        sorted_keys = sorted(dictionary_similarity, key=dictionary_similarity.get)\n",
    "        sorted_keys = reversed(sorted_keys)\n",
    "\n",
    "        for w in sorted_keys:\n",
    "            sorted_dictionary_similarity[w] = dictionary_similarity[w]\n",
    "\n",
    "        # Odabir 25% najsličnijih filmova filmu na lokaciji index iz train skupa\n",
    "        x = itertools.islice(sorted_dictionary_similarity, 0, int(len(df_train) * 0.25))\n",
    "        count_scores = 0\n",
    "        for key in x:\n",
    "            count_scores += np.float_(ratings.query(\"userId == {} & movieId == {}\".format(n, key)).loc[:, 'rating'])\n",
    "\n",
    "        user_predict_scores.append((count_scores / (int(len(df_train) * 0.25))))\n",
    "        user_actual_scores.append(np.float_(ratings.query(\"userId == {} & movieId == {}\".format(n, index)).loc[:, 'rating']))\n",
    "    return (mean_squared_error(user_actual_scores, user_predict_scores) ** 0.5)\n",
    "\n",
    "\n",
    "sum_errors = 0\n",
    "for i in range(1, 101):\n",
    "    sum_errors += scoreForUser(i)\n",
    "\n",
    "print(sum_errors / 100)"
   ],
   "metadata": {
    "collapsed": false,
    "pycharm": {
     "name": "#%%\n"
    }
   }
  }
 ],
 "metadata": {
  "kernelspec": {
   "name": "python3",
   "language": "python",
   "display_name": "Python 3"
  },
  "language_info": {
   "codemirror_mode": {
    "name": "ipython",
    "version": 2
   },
   "file_extension": ".py",
   "mimetype": "text/x-python",
   "name": "python",
   "nbconvert_exporter": "python",
   "pygments_lexer": "ipython2",
   "version": "2.7.6"
  }
 },
 "nbformat": 4,
 "nbformat_minor": 0
}