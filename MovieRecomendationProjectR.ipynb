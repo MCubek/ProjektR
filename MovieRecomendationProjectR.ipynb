{
 "cells": [
  {
   "cell_type": "markdown",
   "metadata": {},
   "source": [
    "Movie Recommender System\n",
    "\n",
    "Inicijalna ideja je predlagati svim korisnicima iste filmove\n",
    "koji su najviše puta ocjenjeni.(Time i pogledani)"
   ]
  },
  {
   "cell_type": "code",
   "execution_count": 4,
   "metadata": {},
   "outputs": [
    {
     "data": {
      "text/html": [
       "<div>\n",
       "<style scoped>\n",
       "    .dataframe tbody tr th:only-of-type {\n",
       "        vertical-align: middle;\n",
       "    }\n",
       "\n",
       "    .dataframe tbody tr th {\n",
       "        vertical-align: top;\n",
       "    }\n",
       "\n",
       "    .dataframe thead th {\n",
       "        text-align: right;\n",
       "    }\n",
       "</style>\n",
       "<table border=\"1\" class=\"dataframe\">\n",
       "  <thead>\n",
       "    <tr style=\"text-align: right;\">\n",
       "      <th></th>\n",
       "      <th>userId</th>\n",
       "      <th>movieId</th>\n",
       "      <th>rating</th>\n",
       "      <th>timestamp</th>\n",
       "    </tr>\n",
       "  </thead>\n",
       "  <tbody>\n",
       "    <tr>\n",
       "      <th>0</th>\n",
       "      <td>1</td>\n",
       "      <td>1</td>\n",
       "      <td>4.0</td>\n",
       "      <td>964982703</td>\n",
       "    </tr>\n",
       "    <tr>\n",
       "      <th>1</th>\n",
       "      <td>1</td>\n",
       "      <td>3</td>\n",
       "      <td>4.0</td>\n",
       "      <td>964981247</td>\n",
       "    </tr>\n",
       "    <tr>\n",
       "      <th>2</th>\n",
       "      <td>1</td>\n",
       "      <td>6</td>\n",
       "      <td>4.0</td>\n",
       "      <td>964982224</td>\n",
       "    </tr>\n",
       "    <tr>\n",
       "      <th>3</th>\n",
       "      <td>1</td>\n",
       "      <td>47</td>\n",
       "      <td>5.0</td>\n",
       "      <td>964983815</td>\n",
       "    </tr>\n",
       "    <tr>\n",
       "      <th>4</th>\n",
       "      <td>1</td>\n",
       "      <td>50</td>\n",
       "      <td>5.0</td>\n",
       "      <td>964982931</td>\n",
       "    </tr>\n",
       "  </tbody>\n",
       "</table>\n",
       "</div>"
      ],
      "text/plain": [
       "   userId  movieId  rating  timestamp\n",
       "0       1        1     4.0  964982703\n",
       "1       1        3     4.0  964981247\n",
       "2       1        6     4.0  964982224\n",
       "3       1       47     5.0  964983815\n",
       "4       1       50     5.0  964982931"
      ]
     },
     "execution_count": 4,
     "metadata": {},
     "output_type": "execute_result"
    }
   ],
   "source": [
    "import pandas as pd\n",
    "\n",
    "ratings = pd.read_csv('ml-latest-small/ratings.csv')\n",
    "movies = pd.read_csv('ml-latest-small/movies.csv')\n",
    "\n",
    "ratings.head()"
   ]
  },
  {
   "cell_type": "code",
   "execution_count": 5,
   "metadata": {},
   "outputs": [
    {
     "data": {
      "text/plain": [
       "title\n",
       "Forrest Gump (1994)                                      329\n",
       "Shawshank Redemption, The (1994)                         317\n",
       "Pulp Fiction (1994)                                      307\n",
       "Silence of the Lambs, The (1991)                         279\n",
       "Matrix, The (1999)                                       278\n",
       "Star Wars: Episode IV - A New Hope (1977)                251\n",
       "Jurassic Park (1993)                                     238\n",
       "Braveheart (1995)                                        237\n",
       "Terminator 2: Judgment Day (1991)                        224\n",
       "Schindler's List (1993)                                  220\n",
       "Fight Club (1999)                                        218\n",
       "Toy Story (1995)                                         215\n",
       "Star Wars: Episode V - The Empire Strikes Back (1980)    211\n",
       "Usual Suspects, The (1995)                               204\n",
       "American Beauty (1999)                                   204\n",
       "dtype: int64"
      ]
     },
     "execution_count": 5,
     "metadata": {},
     "output_type": "execute_result"
    }
   ],
   "source": [
    "df1 = pd.merge(ratings, movies, on=['movieId'])\n",
    "\n",
    "df1.groupby('title').size().sort_values(ascending=False)[:15]"
   ]
  },
  {
   "cell_type": "markdown",
   "metadata": {},
   "source": [
    " Problem kod ovog pristupa je upravo taj što svima predlažemo\n",
    " iste filmove, iako je za očekivati da različiti korisnici\n",
    " imaju različite preference.\n",
    " \n",
    " Sljedeća ideja je regresijom pronaći parametre\n",
    " s kojima možemo pretpostaviti s kojom ocjenom bi korisnik\n",
    " ocjenio neki film koji još nije pogledao. Parametar X filma\n",
    " će biti vektor koji ima jedinice za onu kategoriju filma\n",
    " u kojoj pripada, a nulu na svim ostalim mjestima."
   ]
  },
  {
   "cell_type": "code",
   "execution_count": null,
   "metadata": {},
   "outputs": [],
   "source": [
    "from sklearn.linear_model import LinearRegression\n",
    "from sklearn.model_selection import train_test_split\n",
    "\n",
    "data = pd.merge(ratings, movies, on=['movieId'])\n",
    "\n",
    "data = data.query('userId == 1')\n",
    "\n",
    "#Pravljenje dataframea s parametrima\n",
    "values = movies['genres'].str.split(\"|\")\n",
    "column_names1 = []\n",
    "for v in values:\n",
    "    for i in v:\n",
    "        if i not in column_names1:\n",
    "            column_names1.append(i)\n",
    "\n",
    "#Drugi dataframe za izračunavanje ocjena\n",
    "column_names2 = column_names1.copy()\n",
    "column_names2.append('movieId')\n",
    "column_names2.append('title')\n",
    "\n",
    "column_names1.append('rating')\n",
    "df2 = pd.DataFrame(columns=column_names1)\n",
    "\n",
    "for index, row in data.iterrows():\n",
    "    tmp = row['genres'].split(\"|\")\n",
    "    df2.loc[index, 'rating'] = data.loc[index, 'rating']\n",
    "    \n",
    "    for i in tmp:\n",
    "        df2.loc[index, i] = 1\n",
    "\n",
    "df2 = df2.fillna(0)\n",
    "\n",
    "X = df2.iloc[:, :20]\n",
    "y = df2.iloc[:, 20:21]\n",
    "\n",
    "#Razdvajanje train i test skupa\n",
    "X_train, X_test, y_train, y_test = train_test_split(X, y, random_state = 0, test_size=0.20)\n",
    "\n",
    "lin = LinearRegression()\n",
    "lin.fit(X_train, y_train)\n",
    "\n",
    "lin.score(X_train, y_train)\n"
   ]
  },
  {
   "cell_type": "code",
   "execution_count": null,
   "metadata": {},
   "outputs": [],
   "source": [
    "lin.score(X_test, y_test)"
   ]
  },
  {
   "cell_type": "markdown",
   "metadata": {},
   "source": [
    "Rezultati nisu nikako dobro ispali. Štoviše, train skup\n",
    "ima lošiji score nego test skup."
   ]
  },
  {
   "cell_type": "code",
   "execution_count": 14,
   "metadata": {},
   "outputs": [
    {
     "name": "stdout",
     "output_type": "stream",
     "text": [
      "                                         title    scores\n",
      "1483     This World, Then the Fireworks (1997)  0.843567\n",
      "5184                           Suddenly (1954)  0.843567\n",
      "5207                         White Heat (1949)  0.843567\n",
      "4471                     Double Life, A (1947)  0.843567\n",
      "6275                       Born to Kill (1947)  0.843567\n",
      "884                       Grifters, The (1990)  0.843567\n",
      "5837                 Call Northside 777 (1948)  0.843567\n",
      "2568                   Double Indemnity (1944)  0.843567\n",
      "2745                       Blood Simple (1984)  0.843567\n",
      "5096  I Am a Fugitive from a Chain Gang (1932)  0.843567\n",
      "1203                            Hoodlum (1997)  0.843567\n",
      "7062             Limits of Control, The (2009)  0.843567\n",
      "6176                              Brick (2005)  0.783897\n",
      "1967                     Mildred Pierce (1945)  0.770527\n",
      "3273             Sweet Smell of Success (1957)  0.770527\n"
     ]
    }
   ],
   "source": [
    "df3 = pd.DataFrame(columns=column_names2)\n",
    "\n",
    "for index, row in movies.iterrows():\n",
    "    tmp = row['genres'].split(\"|\")\n",
    "    df3.loc[index, 'movieId'] = movies.loc[index, 'movieId']\n",
    "    df3.loc[index, 'title'] = movies.loc[index, 'title']\n",
    "    \n",
    "    for i in tmp:\n",
    "        df3.loc[index, i] = 1\n",
    "\n",
    "df3 = df3.fillna(0)\n",
    "\n",
    "scores = df3.iloc[:, :20].dot(lin.coef_.T)\n",
    "df3 = df3.assign(scores = scores)\n",
    "print(df3.sort_values(ascending=False, by='scores').iloc[:15, 21:23])"
   ]
  },
  {
   "cell_type": "markdown",
   "metadata": {},
   "source": [
    "Kao što vidimo, rezultati nisu baš zadovoljavajući.\n",
    "Moguće je da bi korisnik ovim redom ocjenjivao filmove(sortirano),\n",
    "ali definitivno ne s ovim ocjenama.\n",
    "\n",
    "PLANOVI ZA DALJE:\n",
    "Drugim metodama izračunati regresiju (NN, RandomForrest, SVR)\n",
    "\n",
    "Formulirati problem tako da se koriste klasifikacije tako da\n",
    "se mogu isprobati i ML metode klasifikacije."
   ]
  }
 ],
 "metadata": {
  "kernelspec": {
   "display_name": "Python 3",
   "language": "python",
   "name": "python3"
  },
  "language_info": {
   "codemirror_mode": {
    "name": "ipython",
    "version": 3
   },
   "file_extension": ".py",
   "mimetype": "text/x-python",
   "name": "python",
   "nbconvert_exporter": "python",
   "pygments_lexer": "ipython3",
   "version": "3.8.3"
  }
 },
 "nbformat": 4,
 "nbformat_minor": 4
}
