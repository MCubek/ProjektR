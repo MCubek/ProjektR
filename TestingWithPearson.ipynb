{
 "cells": [
  {
   "cell_type": "markdown",
   "source": [
    "## Deskriptivna analiza dataseta i preporuke filmova pomoću user-user Collaburative-filterninga\n",
    "### Implementirane dvije metode sličnosti korisnika -> Euklidean-Distance i Pearson"
   ],
   "metadata": {
    "collapsed": false,
    "pycharm": {
     "name": "#%% md\n"
    }
   }
  },
  {
   "cell_type": "code",
   "execution_count": 1,
   "metadata": {
    "collapsed": true
   },
   "outputs": [
    {
     "data": {
      "text/plain": "   userId  movieId  rating\n0       1      307     3.5\n1       1      481     3.5\n2       1     1091     1.5\n3       1     1257     4.5\n4       1     1449     4.5",
      "text/html": "<div>\n<style scoped>\n    .dataframe tbody tr th:only-of-type {\n        vertical-align: middle;\n    }\n\n    .dataframe tbody tr th {\n        vertical-align: top;\n    }\n\n    .dataframe thead th {\n        text-align: right;\n    }\n</style>\n<table border=\"1\" class=\"dataframe\">\n  <thead>\n    <tr style=\"text-align: right;\">\n      <th></th>\n      <th>userId</th>\n      <th>movieId</th>\n      <th>rating</th>\n    </tr>\n  </thead>\n  <tbody>\n    <tr>\n      <th>0</th>\n      <td>1</td>\n      <td>307</td>\n      <td>3.5</td>\n    </tr>\n    <tr>\n      <th>1</th>\n      <td>1</td>\n      <td>481</td>\n      <td>3.5</td>\n    </tr>\n    <tr>\n      <th>2</th>\n      <td>1</td>\n      <td>1091</td>\n      <td>1.5</td>\n    </tr>\n    <tr>\n      <th>3</th>\n      <td>1</td>\n      <td>1257</td>\n      <td>4.5</td>\n    </tr>\n    <tr>\n      <th>4</th>\n      <td>1</td>\n      <td>1449</td>\n      <td>4.5</td>\n    </tr>\n  </tbody>\n</table>\n</div>"
     },
     "execution_count": 1,
     "metadata": {},
     "output_type": "execute_result"
    }
   ],
   "source": [
    "from math import sqrt\n",
    "import pandas as pd\n",
    "import numpy as np\n",
    "from matplotlib import pyplot as plt\n",
    "\n",
    "# Više izlaznih linija\n",
    "from IPython.core.interactiveshell import InteractiveShell\n",
    "InteractiveShell.ast_node_interactivity = \"all\"\n",
    "\n",
    "movies = pd.read_csv('ml-latest/movies.csv')\n",
    "movies.head()\n",
    "\n",
    "ratings = pd.read_csv('ml-latest/ratings.csv',usecols=['userId','movieId','rating'])\n",
    "ratings.head()"
   ]
  },
  {
   "cell_type": "markdown",
   "source": [
    "Broj filmova u datasetu."
   ],
   "metadata": {
    "collapsed": false,
    "pycharm": {
     "name": "#%% md\n"
    }
   }
  },
  {
   "cell_type": "code",
   "execution_count": 2,
   "outputs": [
    {
     "data": {
      "text/plain": "58098"
     },
     "execution_count": 2,
     "metadata": {},
     "output_type": "execute_result"
    }
   ],
   "source": [
    "movies['movieId'].count()"
   ],
   "metadata": {
    "collapsed": false,
    "pycharm": {
     "name": "#%%\n"
    }
   }
  },
  {
   "cell_type": "markdown",
   "source": [
    "Statistika o ocjenama filmova."
   ],
   "metadata": {
    "collapsed": false,
    "pycharm": {
     "name": "#%% md\n"
    }
   }
  },
  {
   "cell_type": "code",
   "execution_count": 3,
   "outputs": [
    {
     "data": {
      "text/plain": "count    2.775344e+07\nmean     3.530445e+00\nstd      1.066353e+00\nmin      5.000000e-01\n25%      3.000000e+00\n50%      3.500000e+00\n75%      4.000000e+00\nmax      5.000000e+00\nName: rating, dtype: float64"
     },
     "execution_count": 3,
     "metadata": {},
     "output_type": "execute_result"
    }
   ],
   "source": [
    "ratings['rating'].describe(include='all')"
   ],
   "metadata": {
    "collapsed": false,
    "pycharm": {
     "name": "#%%\n"
    }
   }
  },
  {
   "cell_type": "markdown",
   "source": [
    "Histogram ocjena i njihovog broja u datasetu."
   ],
   "metadata": {
    "collapsed": false
   }
  },
  {
   "cell_type": "code",
   "execution_count": 4,
   "outputs": [
    {
     "data": {
      "text/plain": "rating\n0.5    23000\n1.0    20676\n1.5    19659\n2.0    26739\n2.5    30299\n3.0    37109\n3.5    34753\n4.0    32255\n4.5    23587\n5.0    24209\nName: movieId, dtype: int64"
     },
     "execution_count": 4,
     "metadata": {},
     "output_type": "execute_result"
    },
    {
     "data": {
      "text/plain": "array([[<AxesSubplot:title={'center':'rating'}>]], dtype=object)"
     },
     "execution_count": 4,
     "metadata": {},
     "output_type": "execute_result"
    },
    {
     "data": {
      "text/plain": "<Figure size 720x720 with 1 Axes>",
      "image/png": "[encoded data removed]"
     },
     "metadata": {
      "needs_background": "light"
     },
     "output_type": "display_data"
    }
   ],
   "source": [
    "ratings.groupby('rating')['movieId'].nunique()\n",
    "\n",
    "ratings.hist(column='rating',figsize=(10,10),bins=5,grid=False)"
   ],
   "metadata": {
    "collapsed": false,
    "pycharm": {
     "name": "#%%\n"
    }
   }
  },
  {
   "cell_type": "markdown",
   "source": [
    "Izbacivanje filmova bez žanra i ispis broja filmova po žanru."
   ],
   "metadata": {
    "collapsed": false
   }
  },
  {
   "cell_type": "code",
   "execution_count": 5,
   "outputs": [
    {
     "data": {
      "text/plain": "{'Adventure': 4067,\n 'Animation': 2663,\n 'Children': 2749,\n 'Comedy': 15956,\n 'Fantasy': 2637,\n 'Romance': 7412,\n 'Drama': 24144,\n 'Action': 7130,\n 'Crime': 5105,\n 'Thriller': 8216,\n 'Horror': 5555,\n 'Mystery': 2773,\n 'Sci-Fi': 3444,\n 'IMAX': 197,\n 'Documentary': 5118,\n 'War': 1820,\n 'Musical': 1113,\n 'Western': 1378,\n 'Film-Noir': 364}"
     },
     "execution_count": 5,
     "metadata": {},
     "output_type": "execute_result"
    }
   ],
   "source": [
    "genre_filter = (movies['genres'] == '(no genres listed)')\n",
    "\n",
    "movies = movies[~genre_filter]\n",
    "movies=movies.reset_index(drop=True)\n",
    "\n",
    "genres_count = {}\n",
    "for row in range(movies['movieId'].count()):\n",
    "    for genre in movies['genres'][row].split(\"|\"):\n",
    "        if genre!='':\n",
    "            genres_count[genre]=genres_count.get(genre,0)+1\n",
    "\n",
    "genres_count"
   ],
   "metadata": {
    "collapsed": false,
    "pycharm": {
     "name": "#%%\n"
    }
   }
  },
  {
   "cell_type": "markdown",
   "source": [
    "Histogram žanr, broj filmova u žanru."
   ],
   "metadata": {
    "collapsed": false
   }
  },
  {
   "cell_type": "code",
   "execution_count": 6,
   "outputs": [
    {
     "data": {
      "text/plain": "<BarContainer object of 19 artists>"
     },
     "execution_count": 6,
     "metadata": {},
     "output_type": "execute_result"
    },
    {
     "data": {
      "text/plain": "([<matplotlib.axis.YTick at 0x1e88838bac0>,\n  <matplotlib.axis.YTick at 0x1e88838b6a0>,\n  <matplotlib.axis.YTick at 0x1e8883884c0>,\n  <matplotlib.axis.YTick at 0x1e887eaef40>,\n  <matplotlib.axis.YTick at 0x1e887ebb490>,\n  <matplotlib.axis.YTick at 0x1e887ebb9a0>,\n  <matplotlib.axis.YTick at 0x1e887ebbeb0>,\n  <matplotlib.axis.YTick at 0x1e887ec0400>,\n  <matplotlib.axis.YTick at 0x1e887ec0910>,\n  <matplotlib.axis.YTick at 0x1e887ec0e20>,\n  <matplotlib.axis.YTick at 0x1e887ec6280>,\n  <matplotlib.axis.YTick at 0x1e887ec05e0>,\n  <matplotlib.axis.YTick at 0x1e887ebb670>,\n  <matplotlib.axis.YTick at 0x1e887ec6580>,\n  <matplotlib.axis.YTick at 0x1e887ec6910>,\n  <matplotlib.axis.YTick at 0x1e887ec6e20>,\n  <matplotlib.axis.YTick at 0x1e887ecb370>,\n  <matplotlib.axis.YTick at 0x1e887ecb880>,\n  <matplotlib.axis.YTick at 0x1e887ecbd90>],\n [Text(0, 0, 'Adventure'),\n  Text(0, 1, 'Animation'),\n  Text(0, 2, 'Children'),\n  Text(0, 3, 'Comedy'),\n  Text(0, 4, 'Fantasy'),\n  Text(0, 5, 'Romance'),\n  Text(0, 6, 'Drama'),\n  Text(0, 7, 'Action'),\n  Text(0, 8, 'Crime'),\n  Text(0, 9, 'Thriller'),\n  Text(0, 10, 'Horror'),\n  Text(0, 11, 'Mystery'),\n  Text(0, 12, 'Sci-Fi'),\n  Text(0, 13, 'IMAX'),\n  Text(0, 14, 'Documentary'),\n  Text(0, 15, 'War'),\n  Text(0, 16, 'Musical'),\n  Text(0, 17, 'Western'),\n  Text(0, 18, 'Film-Noir')])"
     },
     "execution_count": 6,
     "metadata": {},
     "output_type": "execute_result"
    },
    {
     "data": {
      "text/plain": "Text(0.5, 0, 'Broj Filmova')"
     },
     "execution_count": 6,
     "metadata": {},
     "output_type": "execute_result"
    },
    {
     "data": {
      "text/plain": "Text(0.5, 1.0, 'Popularnost žanrova')"
     },
     "execution_count": 6,
     "metadata": {},
     "output_type": "execute_result"
    },
    {
     "data": {
      "text/plain": "Text(4087, 0.1, '4067')"
     },
     "execution_count": 6,
     "metadata": {},
     "output_type": "execute_result"
    },
    {
     "data": {
      "text/plain": "Text(2683, 1.1, '2663')"
     },
     "execution_count": 6,
     "metadata": {},
     "output_type": "execute_result"
    },
    {
     "data": {
      "text/plain": "Text(2769, 2.1, '2749')"
     },
     "execution_count": 6,
     "metadata": {},
     "output_type": "execute_result"
    },
    {
     "data": {
      "text/plain": "Text(15976, 3.1, '15956')"
     },
     "execution_count": 6,
     "metadata": {},
     "output_type": "execute_result"
    },
    {
     "data": {
      "text/plain": "Text(2657, 4.1, '2637')"
     },
     "execution_count": 6,
     "metadata": {},
     "output_type": "execute_result"
    },
    {
     "data": {
      "text/plain": "Text(7432, 5.1, '7412')"
     },
     "execution_count": 6,
     "metadata": {},
     "output_type": "execute_result"
    },
    {
     "data": {
      "text/plain": "Text(24164, 6.1, '24144')"
     },
     "execution_count": 6,
     "metadata": {},
     "output_type": "execute_result"
    },
    {
     "data": {
      "text/plain": "Text(7150, 7.1, '7130')"
     },
     "execution_count": 6,
     "metadata": {},
     "output_type": "execute_result"
    },
    {
     "data": {
      "text/plain": "Text(5125, 8.1, '5105')"
     },
     "execution_count": 6,
     "metadata": {},
     "output_type": "execute_result"
    },
    {
     "data": {
      "text/plain": "Text(8236, 9.1, '8216')"
     },
     "execution_count": 6,
     "metadata": {},
     "output_type": "execute_result"
    },
    {
     "data": {
      "text/plain": "Text(5575, 10.1, '5555')"
     },
     "execution_count": 6,
     "metadata": {},
     "output_type": "execute_result"
    },
    {
     "data": {
      "text/plain": "Text(2793, 11.1, '2773')"
     },
     "execution_count": 6,
     "metadata": {},
     "output_type": "execute_result"
    },
    {
     "data": {
      "text/plain": "Text(3464, 12.1, '3444')"
     },
     "execution_count": 6,
     "metadata": {},
     "output_type": "execute_result"
    },
    {
     "data": {
      "text/plain": "Text(217, 13.1, '197')"
     },
     "execution_count": 6,
     "metadata": {},
     "output_type": "execute_result"
    },
    {
     "data": {
      "text/plain": "Text(5138, 14.1, '5118')"
     },
     "execution_count": 6,
     "metadata": {},
     "output_type": "execute_result"
    },
    {
     "data": {
      "text/plain": "Text(1840, 15.1, '1820')"
     },
     "execution_count": 6,
     "metadata": {},
     "output_type": "execute_result"
    },
    {
     "data": {
      "text/plain": "Text(1133, 16.1, '1113')"
     },
     "execution_count": 6,
     "metadata": {},
     "output_type": "execute_result"
    },
    {
     "data": {
      "text/plain": "Text(1398, 17.1, '1378')"
     },
     "execution_count": 6,
     "metadata": {},
     "output_type": "execute_result"
    },
    {
     "data": {
      "text/plain": "Text(384, 18.1, '364')"
     },
     "execution_count": 6,
     "metadata": {},
     "output_type": "execute_result"
    },
    {
     "data": {
      "text/plain": "<Figure size 1080x720 with 1 Axes>",
      "image/png": "[encoded data removed]"
     },
     "metadata": {
      "needs_background": "light"
     },
     "output_type": "display_data"
    }
   ],
   "source": [
    "fig, ax = plt.subplots(figsize=(15,10))\n",
    "ax.barh(range(len(genres_count)),genres_count.values())\n",
    "plt.yticks(range(len(genres_count)),list(genres_count.keys()))\n",
    "plt.xlabel('Broj Filmova')\n",
    "plt.title(\"Popularnost žanrova\")\n",
    "for i, v in enumerate(genres_count.values()):\n",
    "    ax.text(v + 20, i + .10, v, color='green', fontweight='bold')"
   ],
   "metadata": {
    "collapsed": false,
    "pycharm": {
     "name": "#%%\n"
    }
   }
  },
  {
   "cell_type": "markdown",
   "source": [
    "Metoda za računanje euclidian-distance između dvije osobe.\n",
    "\n",
    "TODO FORMULA U LATEX"
   ],
   "metadata": {
    "collapsed": false
   }
  },
  {
   "cell_type": "code",
   "execution_count": 7,
   "outputs": [
    {
     "data": {
      "text/plain": "1.0"
     },
     "execution_count": 7,
     "metadata": {},
     "output_type": "execute_result"
    }
   ],
   "source": [
    "def euclidean_distance(person1,person2):\n",
    "    df_first = ratings.loc[ratings['userId']==person1]\n",
    "    df_second = ratings.loc[ratings['userId']==person2]\n",
    "\n",
    "    df = pd.merge(df_first,df_second,how='inner',on='movieId')\n",
    "\n",
    "    if len(df)==0:return 0\n",
    "\n",
    "    sum_of_squares = sum(pow((df['rating_x']-df['rating_y']),2))\n",
    "    return 1/(1+sum_of_squares)\n",
    "\n",
    "euclidean_distance(1,1)"
   ],
   "metadata": {
    "collapsed": false,
    "pycharm": {
     "name": "#%%\n"
    }
   }
  },
  {
   "cell_type": "markdown",
   "source": [
    "Metoda za računanje pearson scorea izmežu dvije osobe.\n",
    "\n",
    "LATEX FORMULA TODO"
   ],
   "metadata": {
    "collapsed": false
   }
  },
  {
   "cell_type": "code",
   "execution_count": 8,
   "outputs": [
    {
     "data": {
      "text/plain": "1.0"
     },
     "execution_count": 8,
     "metadata": {},
     "output_type": "execute_result"
    }
   ],
   "source": [
    "def pearson_score(person1,person2):\n",
    "\n",
    "    #Get detail for Person1 and Person2\n",
    "    df_first= ratings.loc[ratings.userId==person1]\n",
    "    df_second= ratings.loc[ratings.userId==person2]\n",
    "\n",
    "    # Getting mutually rated items\n",
    "    df= pd.merge(df_first,df_second,how='inner',on='movieId')\n",
    "\n",
    "    # If no rating in common\n",
    "    n=len(df)\n",
    "    if n==0: return 0\n",
    "\n",
    "    #Adding up all the ratings\n",
    "    sum1=sum(df['rating_x'])\n",
    "    sum2=sum(df['rating_y'])\n",
    "\n",
    "    ##Summing up squares of ratings\n",
    "    sum1_square= sum(pow(df['rating_x'],2))\n",
    "    sum2_square= sum(pow(df['rating_y'],2))\n",
    "\n",
    "    # sum of products\n",
    "    product_sum= sum(df['rating_x']*df['rating_y'])\n",
    "\n",
    "    ## Calculating Pearson Score\n",
    "    numerator= product_sum - (sum1*sum2/n)\n",
    "    denominator=sqrt((sum1_square- pow(sum1,2)/n) * (sum2_square - pow(sum2,2)/n))\n",
    "    if denominator==0: return 0\n",
    "\n",
    "    r=numerator/denominator\n",
    "\n",
    "    return r\n",
    "#Očekujemo 1 jer su iste osobe\n",
    "pearson_score(1,1)"
   ],
   "metadata": {
    "collapsed": false,
    "pycharm": {
     "name": "#%%\n"
    }
   }
  },
  {
   "cell_type": "markdown",
   "source": [
    "Metoda koja će vratiti vratiti n najsličnijih osoba osobe koja se zada u parametru."
   ],
   "metadata": {
    "collapsed": false
   }
  },
  {
   "cell_type": "code",
   "execution_count": 10,
   "outputs": [],
   "source": [
    "#Pomoćna metoda koja pronalazi sve ostale osobe\n",
    "def findOthers(personId):\n",
    "    myset = set()\n",
    "    for otherPerson in ratings.loc[ratings['userId']!=personId]['userId'].unique():\n",
    "        myset.add(otherPerson)\n",
    "\n",
    "    return myset"
   ],
   "metadata": {
    "collapsed": false,
    "pycharm": {
     "name": "#%%\n"
    }
   }
  },
  {
   "cell_type": "code",
   "execution_count": null,
   "outputs": [],
   "source": [
    "def topMatches(personId,n=5,similarity=pearson_score):\n",
    "    # scores = []\n",
    "    # for user in findOthers(personId):\n",
    "    #     scores.append((similarity(personId,user),user))\n",
    "    #\n",
    "    # scores.sort(reverse=True)\n",
    "    # return scores[0:n]\n",
    "\n",
    "    frame = {'userId': ratings.loc[ratings['userId']!=personId]['userId'].unique(), 'similarity': 0}\n",
    "    df = pd.DataFrame(frame)\n",
    "    df['similarity'] = df['userId'].apply(lambda x: similarity(x,personId))\n",
    "    df = df.sort_values(by='similarity',ascending=False)\n",
    "\n",
    "    return df.head(n)\n",
    "\n",
    "\n",
    "topMatches(1)"
   ],
   "metadata": {
    "collapsed": false,
    "pycharm": {
     "name": "#%%\n"
    }
   }
  },
  {
   "cell_type": "markdown",
   "source": [
    "Metoda koja za zadanu osobu traži i vraća imena preporučenih filmova."
   ],
   "metadata": {
    "collapsed": false
   }
  },
  {
   "cell_type": "code",
   "execution_count": 11,
   "outputs": [],
   "source": [
    "def getRecomendation(personId, similarity=pearson_score):\n",
    "\n",
    "    totals,simSums = {},{}\n",
    "\n",
    "    df_person = ratings.loc[ratings.userId==personId]\n",
    "\n",
    "    for otherId in findOthers(personId):\n",
    "        sim = similarity(personId,otherId)\n",
    "        if sim<=0 : continue\n",
    "\n",
    "        df_other = ratings.loc[ratings.userId == otherId]\n",
    "\n",
    "        # Oni filmovi koje user personId nije pogledao\n",
    "        movie = df_other[~df_other.isin(df_person).all(1)]\n",
    "\n",
    "        for (movieid,rating) in (np.array(movie[['movieId','rating']])):\n",
    "            totals.setdefault(movieid,0)\n",
    "            totals[movieid]+=rating*sim\n",
    "\n",
    "            simSums.setdefault(movieid,0)\n",
    "            simSums[movieid]+=sim\n",
    "\n",
    "        ranking = [(t/simSums[item],item) for item,t in totals.items()]\n",
    "\n",
    "        ranking.sort()\n",
    "        ranking.reverse()\n",
    "\n",
    "        recomendedId = np.array([x[1] for x in ranking])\n",
    "\n",
    "        return np.array(movies[movies['movieId'].isin(recomendedId)]['title'])[:20]"
   ],
   "metadata": {
    "collapsed": false,
    "pycharm": {
     "name": "#%%\n"
    }
   }
  },
  {
   "cell_type": "markdown",
   "source": [
    "Preporuke filmova osobi sa id 1 i osobi s id 500."
   ],
   "metadata": {
    "collapsed": false
   }
  },
  {
   "cell_type": "code",
   "execution_count": 12,
   "outputs": [
    {
     "data": {
      "text/plain": "array(['Toy Story (1995)', 'Jumanji (1995)',\n       'Father of the Bride Part II (1995)', 'Heat (1995)',\n       'GoldenEye (1995)', 'American President, The (1995)',\n       'Casino (1995)', 'Ace Ventura: When Nature Calls (1995)',\n       'Money Train (1995)', 'Assassins (1995)',\n       'Leaving Las Vegas (1995)', 'Dangerous Minds (1995)',\n       'Twelve Monkeys (a.k.a. 12 Monkeys) (1995)', 'Babe (1995)',\n       'Dead Man Walking (1995)', 'Clueless (1995)', 'Richard III (1995)',\n       'Mortal Kombat (1995)', 'To Die For (1995)',\n       'Seven (a.k.a. Se7en) (1995)'], dtype=object)"
     },
     "execution_count": 12,
     "metadata": {},
     "output_type": "execute_result"
    },
    {
     "data": {
      "text/plain": "array(['Toy Story (1995)', 'Jumanji (1995)',\n       'Father of the Bride Part II (1995)', 'Heat (1995)',\n       'GoldenEye (1995)', 'American President, The (1995)',\n       'Casino (1995)', 'Ace Ventura: When Nature Calls (1995)',\n       'Money Train (1995)', 'Assassins (1995)',\n       'Leaving Las Vegas (1995)', 'Dangerous Minds (1995)',\n       'Twelve Monkeys (a.k.a. 12 Monkeys) (1995)', 'Babe (1995)',\n       'Dead Man Walking (1995)', 'Clueless (1995)', 'Richard III (1995)',\n       'Mortal Kombat (1995)', 'To Die For (1995)',\n       'Seven (a.k.a. Se7en) (1995)'], dtype=object)"
     },
     "execution_count": 12,
     "metadata": {},
     "output_type": "execute_result"
    }
   ],
   "source": [
    "getRecomendation(1)\n",
    "\n",
    "getRecomendation(500)\n"
   ],
   "metadata": {
    "collapsed": false,
    "pycharm": {
     "name": "#%%\n"
    }
   }
  }
 ],
 "metadata": {
  "kernelspec": {
   "name": "projektr",
   "language": "python",
   "display_name": "Python (ProjektR)"
  },
  "language_info": {
   "codemirror_mode": {
    "name": "ipython",
    "version": 2
   },
   "file_extension": ".py",
   "mimetype": "text/x-python",
   "name": "python",
   "nbconvert_exporter": "python",
   "pygments_lexer": "ipython2",
   "version": "2.7.6"
  }
 },
 "nbformat": 4,
 "nbformat_minor": 0
}