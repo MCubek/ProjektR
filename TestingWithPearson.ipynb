{
 "cells": [
  {
   "cell_type": "markdown",
   "source": [
    "https://github.com/Tushar987/RecommenderSystem/blob/master/Recommender-System-Python.ipynb\n"
   ],
   "metadata": {
    "collapsed": false,
    "pycharm": {
     "name": "#%% md\n"
    }
   }
  },
  {
   "cell_type": "code",
   "execution_count": 62,
   "metadata": {
    "collapsed": true
   },
   "outputs": [
    {
     "data": {
      "text/plain": "   movieId                               title  \\\n0        1                    Toy Story (1995)   \n1        2                      Jumanji (1995)   \n2        3             Grumpier Old Men (1995)   \n3        4            Waiting to Exhale (1995)   \n4        5  Father of the Bride Part II (1995)   \n\n                                        genres  \n0  Adventure|Animation|Children|Comedy|Fantasy  \n1                   Adventure|Children|Fantasy  \n2                               Comedy|Romance  \n3                         Comedy|Drama|Romance  \n4                                       Comedy  ",
      "text/html": "<div>\n<style scoped>\n    .dataframe tbody tr th:only-of-type {\n        vertical-align: middle;\n    }\n\n    .dataframe tbody tr th {\n        vertical-align: top;\n    }\n\n    .dataframe thead th {\n        text-align: right;\n    }\n</style>\n<table border=\"1\" class=\"dataframe\">\n  <thead>\n    <tr style=\"text-align: right;\">\n      <th></th>\n      <th>movieId</th>\n      <th>title</th>\n      <th>genres</th>\n    </tr>\n  </thead>\n  <tbody>\n    <tr>\n      <th>0</th>\n      <td>1</td>\n      <td>Toy Story (1995)</td>\n      <td>Adventure|Animation|Children|Comedy|Fantasy</td>\n    </tr>\n    <tr>\n      <th>1</th>\n      <td>2</td>\n      <td>Jumanji (1995)</td>\n      <td>Adventure|Children|Fantasy</td>\n    </tr>\n    <tr>\n      <th>2</th>\n      <td>3</td>\n      <td>Grumpier Old Men (1995)</td>\n      <td>Comedy|Romance</td>\n    </tr>\n    <tr>\n      <th>3</th>\n      <td>4</td>\n      <td>Waiting to Exhale (1995)</td>\n      <td>Comedy|Drama|Romance</td>\n    </tr>\n    <tr>\n      <th>4</th>\n      <td>5</td>\n      <td>Father of the Bride Part II (1995)</td>\n      <td>Comedy</td>\n    </tr>\n  </tbody>\n</table>\n</div>"
     },
     "execution_count": 62,
     "metadata": {},
     "output_type": "execute_result"
    },
    {
     "data": {
      "text/plain": "   userId  movieId  rating\n0       1        1     4.0\n1       1        3     4.0\n2       1        6     4.0\n3       1       47     5.0\n4       1       50     5.0",
      "text/html": "<div>\n<style scoped>\n    .dataframe tbody tr th:only-of-type {\n        vertical-align: middle;\n    }\n\n    .dataframe tbody tr th {\n        vertical-align: top;\n    }\n\n    .dataframe thead th {\n        text-align: right;\n    }\n</style>\n<table border=\"1\" class=\"dataframe\">\n  <thead>\n    <tr style=\"text-align: right;\">\n      <th></th>\n      <th>userId</th>\n      <th>movieId</th>\n      <th>rating</th>\n    </tr>\n  </thead>\n  <tbody>\n    <tr>\n      <th>0</th>\n      <td>1</td>\n      <td>1</td>\n      <td>4.0</td>\n    </tr>\n    <tr>\n      <th>1</th>\n      <td>1</td>\n      <td>3</td>\n      <td>4.0</td>\n    </tr>\n    <tr>\n      <th>2</th>\n      <td>1</td>\n      <td>6</td>\n      <td>4.0</td>\n    </tr>\n    <tr>\n      <th>3</th>\n      <td>1</td>\n      <td>47</td>\n      <td>5.0</td>\n    </tr>\n    <tr>\n      <th>4</th>\n      <td>1</td>\n      <td>50</td>\n      <td>5.0</td>\n    </tr>\n  </tbody>\n</table>\n</div>"
     },
     "execution_count": 62,
     "metadata": {},
     "output_type": "execute_result"
    }
   ],
   "source": [
    "from math import sqrt\n",
    "import pandas as pd\n",
    "import numpy as np\n",
    "from matplotlib import pyplot as plt\n",
    "\n",
    "# Više izlaznih linija\n",
    "from IPython.core.interactiveshell import InteractiveShell\n",
    "InteractiveShell.ast_node_interactivity = \"all\"\n",
    "\n",
    "movies = pd.read_csv('ml-latest-small/movies.csv')\n",
    "movies.head()\n",
    "\n",
    "ratings = pd.read_csv('ml-latest-small/ratings.csv',usecols=['userId','movieId','rating'])\n",
    "ratings.head()"
   ]
  },
  {
   "cell_type": "code",
   "execution_count": 63,
   "outputs": [
    {
     "name": "stdout",
     "output_type": "stream",
     "text": [
      "<class 'pandas.core.frame.DataFrame'>\n",
      "RangeIndex: 9742 entries, 0 to 9741\n",
      "Data columns (total 3 columns):\n",
      " #   Column   Non-Null Count  Dtype \n",
      "---  ------   --------------  ----- \n",
      " 0   movieId  9742 non-null   int64 \n",
      " 1   title    9742 non-null   object\n",
      " 2   genres   9742 non-null   object\n",
      "dtypes: int64(1), object(2)\n",
      "memory usage: 228.5+ KB\n"
     ]
    }
   ],
   "source": [
    "movies.info()"
   ],
   "metadata": {
    "collapsed": false,
    "pycharm": {
     "name": "#%%\n"
    }
   }
  },
  {
   "cell_type": "code",
   "execution_count": 64,
   "outputs": [
    {
     "data": {
      "text/plain": "count    100836.000000\nmean          3.501557\nstd           1.042529\nmin           0.500000\n25%           3.000000\n50%           3.500000\n75%           4.000000\nmax           5.000000\nName: rating, dtype: float64"
     },
     "execution_count": 64,
     "metadata": {},
     "output_type": "execute_result"
    }
   ],
   "source": [
    "ratings['rating'].describe(include='all')"
   ],
   "metadata": {
    "collapsed": false,
    "pycharm": {
     "name": "#%%\n"
    }
   }
  },
  {
   "cell_type": "code",
   "execution_count": 65,
   "outputs": [
    {
     "data": {
      "text/plain": "rating\n0.5    1066\n1.0    1726\n1.5    1386\n2.0    3339\n2.5    2925\n3.0    4986\n3.5    4216\n4.0    5109\n4.5    2710\n5.0    2954\nName: movieId, dtype: int64"
     },
     "execution_count": 65,
     "metadata": {},
     "output_type": "execute_result"
    },
    {
     "data": {
      "text/plain": "array([[<AxesSubplot:title={'center':'rating'}>]], dtype=object)"
     },
     "execution_count": 65,
     "metadata": {},
     "output_type": "execute_result"
    },
    {
     "data": {
      "text/plain": "<Figure size 720x720 with 1 Axes>",
      "image/png": "[encoded data removed]"
     },
     "metadata": {
      "needs_background": "light"
     },
     "output_type": "display_data"
    }
   ],
   "source": [
    "ratings.groupby('rating')['movieId'].nunique()\n",
    "\n",
    "ratings.hist(column='rating',figsize=(10,10),bins=5,grid=False)"
   ],
   "metadata": {
    "collapsed": false,
    "pycharm": {
     "name": "#%%\n"
    }
   }
  },
  {
   "cell_type": "code",
   "execution_count": 66,
   "outputs": [
    {
     "data": {
      "text/plain": "9742"
     },
     "execution_count": 66,
     "metadata": {},
     "output_type": "execute_result"
    }
   ],
   "source": [
    "movies['movieId'].count()"
   ],
   "metadata": {
    "collapsed": false,
    "pycharm": {
     "name": "#%%\n"
    }
   }
  },
  {
   "cell_type": "code",
   "execution_count": 67,
   "outputs": [],
   "source": [
    "genre_filter = (movies['genres'] == '(no genres listed)')\n",
    "\n",
    "movies = movies[~genre_filter]\n",
    "movies=movies.reset_index(drop=True)"
   ],
   "metadata": {
    "collapsed": false,
    "pycharm": {
     "name": "#%%\n"
    }
   }
  },
  {
   "cell_type": "code",
   "execution_count": 68,
   "outputs": [
    {
     "data": {
      "text/plain": "{'Adventure': 1263,\n 'Animation': 611,\n 'Children': 664,\n 'Comedy': 3756,\n 'Fantasy': 779,\n 'Romance': 1596,\n 'Drama': 4361,\n 'Action': 1828,\n 'Crime': 1199,\n 'Thriller': 1894,\n 'Horror': 978,\n 'Mystery': 573,\n 'Sci-Fi': 980,\n 'War': 382,\n 'Musical': 334,\n 'Documentary': 440,\n 'IMAX': 158,\n 'Western': 167,\n 'Film-Noir': 87}"
     },
     "execution_count": 68,
     "metadata": {},
     "output_type": "execute_result"
    }
   ],
   "source": [
    "genres_count = {}\n",
    "for row in range(movies['movieId'].count()):\n",
    "    for genre in movies['genres'][row].split(\"|\"):\n",
    "        if genre!='':\n",
    "            genres_count[genre]=genres_count.get(genre,0)+1\n",
    "\n",
    "genres_count"
   ],
   "metadata": {
    "collapsed": false,
    "pycharm": {
     "name": "#%%\n"
    }
   }
  },
  {
   "cell_type": "code",
   "execution_count": 69,
   "outputs": [
    {
     "data": {
      "text/plain": "<BarContainer object of 19 artists>"
     },
     "execution_count": 69,
     "metadata": {},
     "output_type": "execute_result"
    },
    {
     "data": {
      "text/plain": "([<matplotlib.axis.YTick at 0x1b7a47ad220>,\n  <matplotlib.axis.YTick at 0x1b7a47b4d90>,\n  <matplotlib.axis.YTick at 0x1b7a47cbf10>,\n  <matplotlib.axis.YTick at 0x1b7a80240d0>,\n  <matplotlib.axis.YTick at 0x1b7a80245e0>,\n  <matplotlib.axis.YTick at 0x1b7a8024220>,\n  <matplotlib.axis.YTick at 0x1b7a8024ca0>,\n  <matplotlib.axis.YTick at 0x1b7a80261f0>,\n  <matplotlib.axis.YTick at 0x1b7a8026700>,\n  <matplotlib.axis.YTick at 0x1b7a8026c10>,\n  <matplotlib.axis.YTick at 0x1b7a8049160>,\n  <matplotlib.axis.YTick at 0x1b7a8049670>,\n  <matplotlib.axis.YTick at 0x1b7a8049b80>,\n  <matplotlib.axis.YTick at 0x1b7a803e0d0>,\n  <matplotlib.axis.YTick at 0x1b7a80498b0>,\n  <matplotlib.axis.YTick at 0x1b7a8026820>,\n  <matplotlib.axis.YTick at 0x1b7a80248b0>,\n  <matplotlib.axis.YTick at 0x1b7a803e7c0>,\n  <matplotlib.axis.YTick at 0x1b7a803ecd0>],\n [Text(0, 0, 'Adventure'),\n  Text(0, 1, 'Animation'),\n  Text(0, 2, 'Children'),\n  Text(0, 3, 'Comedy'),\n  Text(0, 4, 'Fantasy'),\n  Text(0, 5, 'Romance'),\n  Text(0, 6, 'Drama'),\n  Text(0, 7, 'Action'),\n  Text(0, 8, 'Crime'),\n  Text(0, 9, 'Thriller'),\n  Text(0, 10, 'Horror'),\n  Text(0, 11, 'Mystery'),\n  Text(0, 12, 'Sci-Fi'),\n  Text(0, 13, 'War'),\n  Text(0, 14, 'Musical'),\n  Text(0, 15, 'Documentary'),\n  Text(0, 16, 'IMAX'),\n  Text(0, 17, 'Western'),\n  Text(0, 18, 'Film-Noir')])"
     },
     "execution_count": 69,
     "metadata": {},
     "output_type": "execute_result"
    },
    {
     "data": {
      "text/plain": "Text(0.5, 0, 'Movie Count')"
     },
     "execution_count": 69,
     "metadata": {},
     "output_type": "execute_result"
    },
    {
     "data": {
      "text/plain": "Text(0.5, 1.0, 'Genre Popularty')"
     },
     "execution_count": 69,
     "metadata": {},
     "output_type": "execute_result"
    },
    {
     "data": {
      "text/plain": "Text(1283, 0.1, '1263')"
     },
     "execution_count": 69,
     "metadata": {},
     "output_type": "execute_result"
    },
    {
     "data": {
      "text/plain": "Text(631, 1.1, '611')"
     },
     "execution_count": 69,
     "metadata": {},
     "output_type": "execute_result"
    },
    {
     "data": {
      "text/plain": "Text(684, 2.1, '664')"
     },
     "execution_count": 69,
     "metadata": {},
     "output_type": "execute_result"
    },
    {
     "data": {
      "text/plain": "Text(3776, 3.1, '3756')"
     },
     "execution_count": 69,
     "metadata": {},
     "output_type": "execute_result"
    },
    {
     "data": {
      "text/plain": "Text(799, 4.1, '779')"
     },
     "execution_count": 69,
     "metadata": {},
     "output_type": "execute_result"
    },
    {
     "data": {
      "text/plain": "Text(1616, 5.1, '1596')"
     },
     "execution_count": 69,
     "metadata": {},
     "output_type": "execute_result"
    },
    {
     "data": {
      "text/plain": "Text(4381, 6.1, '4361')"
     },
     "execution_count": 69,
     "metadata": {},
     "output_type": "execute_result"
    },
    {
     "data": {
      "text/plain": "Text(1848, 7.1, '1828')"
     },
     "execution_count": 69,
     "metadata": {},
     "output_type": "execute_result"
    },
    {
     "data": {
      "text/plain": "Text(1219, 8.1, '1199')"
     },
     "execution_count": 69,
     "metadata": {},
     "output_type": "execute_result"
    },
    {
     "data": {
      "text/plain": "Text(1914, 9.1, '1894')"
     },
     "execution_count": 69,
     "metadata": {},
     "output_type": "execute_result"
    },
    {
     "data": {
      "text/plain": "Text(998, 10.1, '978')"
     },
     "execution_count": 69,
     "metadata": {},
     "output_type": "execute_result"
    },
    {
     "data": {
      "text/plain": "Text(593, 11.1, '573')"
     },
     "execution_count": 69,
     "metadata": {},
     "output_type": "execute_result"
    },
    {
     "data": {
      "text/plain": "Text(1000, 12.1, '980')"
     },
     "execution_count": 69,
     "metadata": {},
     "output_type": "execute_result"
    },
    {
     "data": {
      "text/plain": "Text(402, 13.1, '382')"
     },
     "execution_count": 69,
     "metadata": {},
     "output_type": "execute_result"
    },
    {
     "data": {
      "text/plain": "Text(354, 14.1, '334')"
     },
     "execution_count": 69,
     "metadata": {},
     "output_type": "execute_result"
    },
    {
     "data": {
      "text/plain": "Text(460, 15.1, '440')"
     },
     "execution_count": 69,
     "metadata": {},
     "output_type": "execute_result"
    },
    {
     "data": {
      "text/plain": "Text(178, 16.1, '158')"
     },
     "execution_count": 69,
     "metadata": {},
     "output_type": "execute_result"
    },
    {
     "data": {
      "text/plain": "Text(187, 17.1, '167')"
     },
     "execution_count": 69,
     "metadata": {},
     "output_type": "execute_result"
    },
    {
     "data": {
      "text/plain": "Text(107, 18.1, '87')"
     },
     "execution_count": 69,
     "metadata": {},
     "output_type": "execute_result"
    },
    {
     "data": {
      "text/plain": "<Figure size 1080x720 with 1 Axes>",
      "image/png": "[encoded data removed]"
     },
     "metadata": {
      "needs_background": "light"
     },
     "output_type": "display_data"
    }
   ],
   "source": [
    "fig, ax = plt.subplots(figsize=(15,10))\n",
    "ax.barh(range(len(genres_count)),genres_count.values())\n",
    "plt.yticks(range(len(genres_count)),list(genres_count.keys()))\n",
    "plt.xlabel('Movie Count')\n",
    "plt.title(\"Genre Popularty\")\n",
    "for i, v in enumerate(genres_count.values()):\n",
    "    ax.text(v + 20, i + .10, v, color='blue', fontweight='bold')"
   ],
   "metadata": {
    "collapsed": false,
    "pycharm": {
     "name": "#%%\n"
    }
   }
  },
  {
   "cell_type": "code",
   "execution_count": 70,
   "outputs": [
    {
     "data": {
      "text/plain": "1.0"
     },
     "execution_count": 70,
     "metadata": {},
     "output_type": "execute_result"
    }
   ],
   "source": [
    "def euclidean_distance(person1,person2):\n",
    "    df_first = ratings.loc[ratings['userId']==person1]\n",
    "    df_second = ratings.loc[ratings['userId']==person2]\n",
    "\n",
    "    df = pd.merge(df_first,df_second,how='inner',on='movieId')\n",
    "\n",
    "    if len(df)==0:return 0\n",
    "\n",
    "    sum_of_squares = sum(pow((df['rating_x']-df['rating_y']),2))\n",
    "    return 1/(1+sum_of_squares)\n",
    "\n",
    "euclidean_distance(1,1)"
   ],
   "metadata": {
    "collapsed": false,
    "pycharm": {
     "name": "#%%\n"
    }
   }
  },
  {
   "cell_type": "code",
   "execution_count": 71,
   "outputs": [
    {
     "data": {
      "text/plain": "1.000000000000016"
     },
     "execution_count": 71,
     "metadata": {},
     "output_type": "execute_result"
    }
   ],
   "source": [
    "def pearson_score(person1,person2):\n",
    "\n",
    "    #Get detail for Person1 and Person2\n",
    "    df_first= ratings.loc[ratings.userId==person1]\n",
    "    df_second= ratings.loc[ratings.userId==person2]\n",
    "\n",
    "    # Getting mutually rated items\n",
    "    df= pd.merge(df_first,df_second,how='inner',on='movieId')\n",
    "\n",
    "    # If no rating in common\n",
    "    n=len(df)\n",
    "    if n==0: return 0\n",
    "\n",
    "    #Adding up all the ratings\n",
    "    sum1=sum(df['rating_x'])\n",
    "    sum2=sum(df['rating_y'])\n",
    "\n",
    "    ##Summing up squares of ratings\n",
    "    sum1_square= sum(pow(df['rating_x'],2))\n",
    "    sum2_square= sum(pow(df['rating_y'],2))\n",
    "\n",
    "    # sum of products\n",
    "    product_sum= sum(df['rating_x']*df['rating_y'])\n",
    "\n",
    "    ## Calculating Pearson Score\n",
    "    numerator= product_sum - (sum1*sum2/n)\n",
    "    denominator=sqrt((sum1_square- pow(sum1,2)/n) * (sum2_square - pow(sum2,2)/n))\n",
    "    if denominator==0: return 0\n",
    "\n",
    "    r=numerator/denominator\n",
    "\n",
    "    return r\n",
    "\n",
    "pearson_score(1,550)"
   ],
   "metadata": {
    "collapsed": false,
    "pycharm": {
     "name": "#%%\n"
    }
   }
  },
  {
   "cell_type": "code",
   "execution_count": 72,
   "outputs": [],
   "source": [
    "def findOthers(personId):\n",
    "    myset = set()\n",
    "    for otherPerson in ratings.loc[ratings['userId']!=personId]['userId']:\n",
    "        myset.add(otherPerson)\n",
    "\n",
    "    return myset"
   ],
   "metadata": {
    "collapsed": false,
    "pycharm": {
     "name": "#%%\n"
    }
   }
  },
  {
   "cell_type": "code",
   "execution_count": 73,
   "outputs": [
    {
     "data": {
      "text/plain": "[(1.000000000000016, 550), (1.0, 598), (1.0, 333), (1.0, 146), (1.0, 106)]"
     },
     "execution_count": 73,
     "metadata": {},
     "output_type": "execute_result"
    }
   ],
   "source": [
    "def topMatches(personId,n=5,similarity=pearson_score):\n",
    "    scores=[(similarity(personId,other),other) for other in findOthers(personId)]\n",
    "    # Sort the list so the highest scores appear at the top\n",
    "    scores.sort( )\n",
    "    scores.reverse( )\n",
    "    return scores[0:n]\n",
    "\n",
    "topMatches(1)"
   ],
   "metadata": {
    "collapsed": false,
    "pycharm": {
     "name": "#%%\n"
    }
   }
  },
  {
   "cell_type": "code",
   "execution_count": 74,
   "outputs": [],
   "source": [
    "def getRecomendation(personId, similarity=pearson_score):\n",
    "\n",
    "    \"\"\"\n",
    "    totals: Dictionary containing sum of product of Movie Ratings by other user multiplied by weight(similarity)\n",
    "    simSums: Dictionary containung sum of weights for all the users who have rated that particular movie.\n",
    "    \"\"\"\n",
    "\n",
    "    totals,simSums = {},{}\n",
    "\n",
    "    df_person = ratings.loc[ratings.userId==personId]\n",
    "\n",
    "    for otherId in findOthers(personId):\n",
    "        sim = similarity(personId,otherId)\n",
    "        if sim<=0 : continue\n",
    "\n",
    "        df_other = ratings.loc[ratings.userId == otherId]\n",
    "\n",
    "        # Oni filmovi koje user nije personId nije pogledao\n",
    "        movie = df_other[~df_other.isin(df_person).all(1)]\n",
    "\n",
    "        for (movieid,rating) in (np.array(movie[['movieId','rating']])):\n",
    "            totals.setdefault(movieid,0)\n",
    "            totals[movieid]+=rating*sim\n",
    "\n",
    "            simSums.setdefault(movieid,0)\n",
    "            simSums[movieid]+=sim\n",
    "\n",
    "        ranking = [(t/simSums[item],item) for item,t in totals.items()]\n",
    "\n",
    "        ranking.sort()\n",
    "        ranking.reverse()\n",
    "\n",
    "        recomendedId = np.array([x[1] for x in ranking])\n",
    "\n",
    "        return np.array(movies[movies['movieId'].isin(recomendedId)]['title'])[:20]"
   ],
   "metadata": {
    "collapsed": false,
    "pycharm": {
     "name": "#%%\n"
    }
   }
  },
  {
   "cell_type": "code",
   "execution_count": 75,
   "outputs": [
    {
     "data": {
      "text/plain": "array(['Dangerous Minds (1995)', \"Schindler's List (1993)\",\n       'Courage Under Fire (1996)', 'Operation Dumbo Drop (1995)',\n       'Wallace & Gromit: The Best of Aardman Animation (1996)',\n       'Escape from L.A. (1996)', 'My Fair Lady (1964)',\n       'Doors, The (1991)', 'On Golden Pond (1981)',\n       'Deer Hunter, The (1978)', 'Patton (1970)', 'Highlander (1986)',\n       'Field of Dreams (1989)', 'Star Trek: The Motion Picture (1979)',\n       'Conan the Barbarian (1982)', 'Bambi (1942)',\n       'Lady and the Tramp (1955)', 'Rescuers, The (1977)', 'Tron (1982)',\n       'Thing, The (1982)'], dtype=object)"
     },
     "execution_count": 75,
     "metadata": {},
     "output_type": "execute_result"
    }
   ],
   "source": [
    "getRecomendation(1)\n"
   ],
   "metadata": {
    "collapsed": false,
    "pycharm": {
     "name": "#%%\n"
    }
   }
  },
  {
   "cell_type": "code",
   "execution_count": 76,
   "outputs": [
    {
     "data": {
      "text/plain": "array(['Toy Story (1995)', 'Grumpier Old Men (1995)', 'Heat (1995)',\n       'Seven (a.k.a. Se7en) (1995)', 'Usual Suspects, The (1995)',\n       'From Dusk Till Dawn (1996)', 'Bottle Rocket (1996)',\n       'Braveheart (1995)', 'Rob Roy (1995)', 'Canadian Bacon (1995)',\n       'Desperado (1995)', 'Billy Madison (1995)', 'Clerks (1994)',\n       'Dumb & Dumber (Dumb and Dumber) (1994)', 'Ed Wood (1994)',\n       'Star Wars: Episode IV - A New Hope (1977)', 'Pulp Fiction (1994)',\n       'Stargate (1994)', 'Tommy Boy (1995)',\n       'Clear and Present Danger (1994)'], dtype=object)"
     },
     "execution_count": 76,
     "metadata": {},
     "output_type": "execute_result"
    }
   ],
   "source": [
    "getRecomendation(100)\n"
   ],
   "metadata": {
    "collapsed": false,
    "pycharm": {
     "name": "#%%\n"
    }
   }
  }
 ],
 "metadata": {
  "kernelspec": {
   "name": "projektr",
   "language": "python",
   "display_name": "Python (ProjektR)"
  },
  "language_info": {
   "codemirror_mode": {
    "name": "ipython",
    "version": 2
   },
   "file_extension": ".py",
   "mimetype": "text/x-python",
   "name": "python",
   "nbconvert_exporter": "python",
   "pygments_lexer": "ipython2",
   "version": "2.7.6"
  }
 },
 "nbformat": 4,
 "nbformat_minor": 0
}