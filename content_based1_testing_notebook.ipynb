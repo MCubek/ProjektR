{
 "cells": [
  {
   "cell_type": "markdown",
   "metadata": {},
   "source": [
    "ContentBased v1_testing\n",
    "\n",
    "Testiramo preciznost algoritma na prvih 100 korisnika. Svakom korisniku preprućamo 10 puta više filmova, nego\n",
    "što ima u test_splitu filmova"
   ]
  },
  {
   "cell_type": "code",
   "execution_count": 1,
   "metadata": {},
   "outputs": [],
   "source": [
    "import pandas as pd\n",
    "import numpy as np\n",
    "import itertools\n",
    "from sklearn.model_selection import train_test_split\n",
    "\n",
    "ratings = pd.read_csv(\"ml-latest-small/ratings.csv\")\n",
    "movies = pd.read_csv(\"ml-latest-small/movies.csv\")\n",
    "\n",
    "values = movies['genres'].str.split(\"|\")\n",
    "\n",
    "column_names = []\n",
    "for v in values:\n",
    "    if (len(column_names) == 20):\n",
    "        break;\n",
    "    for i in v:\n",
    "        if i not in column_names:\n",
    "            column_names.append(i)\n",
    "\n",
    "column_names.append('title')\n",
    "column_names.append('movieId')\n",
    "df2 = pd.DataFrame(columns=column_names)\n",
    "\n",
    "for index, row in movies.iterrows():\n",
    "    tmp = row['genres'].split(\"|\")\n",
    "    df2.loc[index, 'title'] = movies.loc[index, 'title']\n",
    "    df2.loc[index, 'movieId'] = movies.loc[index, 'movieId']\n",
    "    for i in tmp:\n",
    "        df2.loc[index, i] = 1\n",
    "df2 = df2.fillna(0)\n",
    "data = pd.merge(ratings, df2, on=['movieId'])\n",
    "df2Helper = df2.drop(columns=['title', 'movieId'])"
   ]
  },
  {
   "cell_type": "code",
   "execution_count": 4,
   "metadata": {},
   "outputs": [
    {
     "name": "stdout",
     "output_type": "stream",
     "text": [
      "0.007581550834191959\n"
     ]
    }
   ],
   "source": [
    "def findBestForUser(n):\n",
    "    user = data.query(\"userId == {} & rating >= 3.5\".format(n))\n",
    "    if(len(user) < 5): return -1\n",
    "    user_train, user_test = train_test_split(user, train_size=0.7, test_size=0.3, random_state=42)\n",
    "\n",
    "    dictionary_train = {}\n",
    "    for index, row in user_train.iterrows():\n",
    "        dictionary_train[row['title']] = 1\n",
    "\n",
    "    user_train = user_train.drop(columns=['title', 'userId', 'movieId', 'rating', 'timestamp'])\n",
    "    user_train = np.array(user_train.mean())\n",
    "\n",
    "    dictionary_test = {}\n",
    "    for index, row in user_test.iterrows():\n",
    "        dictionary_test[row['title']] = 1\n",
    "\n",
    "    dictionary = {}\n",
    "    for index, row in df2.iterrows():\n",
    "\n",
    "        film = np.array(df2Helper.loc[index, :])\n",
    "        result = user_train.dot(film) / (np.linalg.norm(user_train) * np.linalg.norm(film))\n",
    "        if(df2.loc[index, 'title'] not in dictionary_train):\n",
    "            dictionary[df2.loc[index, 'title']] = result\n",
    "\n",
    "    sorted_dict = {}\n",
    "    sorted_keys = sorted(dictionary, key=dictionary.get)\n",
    "    sorted_keys = reversed(sorted_keys)\n",
    "    for w in sorted_keys:\n",
    "        sorted_dict[w] = dictionary[w]\n",
    "\n",
    "    x = itertools.islice(sorted_dict.items(), 0, len(user_test) * 10)\n",
    "    precision = 0\n",
    "    for key, value in x:\n",
    "        if(key in dictionary_test):\n",
    "            precision += 1\n",
    "\n",
    "    return (precision / (len(user_test) * 10))\n",
    "\n",
    "precision = 0\n",
    "counter = 0\n",
    "for i in range(100):\n",
    "    tmp = findBestForUser(i + 1)\n",
    "    if(tmp != -1):\n",
    "        precision += tmp\n",
    "        counter += 1\n",
    "\n",
    "print(precision / counter)"
   ]
  },
  {
   "cell_type": "markdown",
   "metadata": {},
   "source": [
    "Postigli smo preciznost od 0.7%."
   ]
  }
 ],
 "metadata": {
  "kernelspec": {
   "display_name": "Python 3",
   "language": "python",
   "name": "python3"
  },
  "language_info": {
   "codemirror_mode": {
    "name": "ipython",
    "version": 3
   },
   "file_extension": ".py",
   "mimetype": "text/x-python",
   "name": "python",
   "nbconvert_exporter": "python",
   "pygments_lexer": "ipython3",
   "version": "3.8.3"
  }
 },
 "nbformat": 4,
 "nbformat_minor": 4
}
